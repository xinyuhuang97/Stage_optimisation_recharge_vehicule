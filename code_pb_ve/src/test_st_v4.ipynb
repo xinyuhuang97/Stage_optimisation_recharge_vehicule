{
 "cells": [
  {
   "cell_type": "code",
   "execution_count": null,
   "metadata": {},
   "outputs": [],
   "source": [
    "import time\n",
    "import numpy as np\n",
    "import matplotlib.pyplot as plt\n",
    "import sys\n",
    "import json\n",
    "sys.path.append('/Applications/CPLEX_Studio221/cplex/python/3.7/x86-64_osx/cplex/_internal')\n",
    "sys.path.append('/Users/xinyuhuangmac/Google Drive/Stage/code_pb_ve/src')\n",
    "sys.path.append('/Users/xinyuhuangmac/Google Drive/Stage/code_pb_ve/data')\n",
    "import py37_cplex2210 as cplex\n",
    "from generator import *"
   ]
  },
  {
   "cell_type": "code",
   "execution_count": null,
   "metadata": {},
   "outputs": [],
   "source": [
    "%reload_ext autoreload\n",
    "%autoreload 2\n",
    "from frontal_algo_no_beta import *\n",
    "#from Frank_Wolfe_st_v2 import *\n",
    "from Frank_Wolfe_st_v3 import *\n",
    "from Frank_Wolfe_st_v4 import *\n",
    "from tools import *"
   ]
  },
  {
   "cell_type": "code",
   "execution_count": null,
   "metadata": {},
   "outputs": [],
   "source": [
    "N=200\n",
    "actual_time=0\n",
    "#instance_json(N)\n",
    "my_instance = \"../data/instance_\" + str(N) + \".json\"\n",
    "np.random.seed(0)\n",
    "frontal = Frontal(my_instance,actual_time)\n",
    "result,s_t_min,soc_max,optimal_value = frontal.Frontal_solve(actual_time)"
   ]
  },
  {
   "cell_type": "code",
   "execution_count": null,
   "metadata": {},
   "outputs": [],
   "source": [
    "nb_test=1\n",
    "nk=20\n",
    "n_pre=50\n",
    "K=1000\n",
    "global_result_v3=[]\n",
    "global_time_v3=[]\n",
    "global_result_v4=[]\n",
    "global_time_v4=[]\n",
    "N=200\n",
    "actual_time=0\n",
    "max_time=60\n",
    "\n",
    "for i in range(nb_test):\n",
    "\n",
    "    np.random.seed(i)\n",
    "    instance_json(N)\n",
    "    my_instance = \"../data/instance_\" + str(N) + \".json\"\n",
    "    frontal = Frontal(my_instance,actual_time)\n",
    "    result,s_t_min,soc_max,optimal_value = frontal.Frontal_solve(actual_time)\n",
    "    \n",
    "    np.random.seed(0)\n",
    "    standard_v3_t = Frank_Wolfe_Standard_v3(my_instance)\n",
    "    x_bar_k_v3_t,df_v3_t=standard_v3_t.FW_st_solve(actual_time, analyse=True, K=K, nk=nk,n_pre=n_pre,active_criterion=\"time\",max_time=max_time)\n",
    "    global_result_v3.append(optimal_value-df_v3_t['best_score'].values)\n",
    "    global_time_v3.append(df_v3_t['time_elapsed'].values)\n",
    "    np.random.seed(0)\n",
    "    standard_v4_t = Frank_Wolfe_Standard_v4(my_instance)\n",
    "    x_bar_k_v4_t,df_v4_t=standard_v4_t.FW_st_solve(actual_time, analyse=True, K=K, nk=nk,n_pre=n_pre,active_criterion=\"time\",max_time=max_time)\n",
    "    global_result_v4.append(optimal_value-df_v4_t['best_score'].values)\n",
    "    global_time_v4.append(df_v4_t['time_elapsed'].values)"
   ]
  },
  {
   "cell_type": "code",
   "execution_count": null,
   "metadata": {},
   "outputs": [],
   "source": [
    "for i in range(nb_test):\n",
    "    plt.scatter(global_time_v3[i],global_result_v3[i],label=\"v3\")\n",
    "    plt.scatter(global_time_v4[i],global_result_v4[i],label=\"v4\")\n",
    "    plt.legend()\n",
    "    plt.show()\n",
    "    "
   ]
  },
  {
   "cell_type": "code",
   "execution_count": 1,
   "metadata": {},
   "outputs": [
    {
     "ename": "NameError",
     "evalue": "name 'plt' is not defined",
     "output_type": "error",
     "traceback": [
      "\u001b[0;31m---------------------------------------------------------------------------\u001b[0m",
      "\u001b[0;31mNameError\u001b[0m                                 Traceback (most recent call last)",
      "\u001b[0;32m<ipython-input-1-25919b8ee0e4>\u001b[0m in \u001b[0;36m<module>\u001b[0;34m\u001b[0m\n\u001b[0;32m----> 1\u001b[0;31m \u001b[0mfig\u001b[0m\u001b[0;34m,\u001b[0m \u001b[0maxes\u001b[0m \u001b[0;34m=\u001b[0m \u001b[0mplt\u001b[0m\u001b[0;34m.\u001b[0m\u001b[0msubplots\u001b[0m\u001b[0;34m(\u001b[0m\u001b[0;36m1\u001b[0m\u001b[0;34m,\u001b[0m\u001b[0;36m1\u001b[0m\u001b[0;34m,\u001b[0m \u001b[0mfigsize\u001b[0m\u001b[0;34m=\u001b[0m\u001b[0;34m(\u001b[0m\u001b[0;36m16\u001b[0m\u001b[0;34m,\u001b[0m \u001b[0;36m8\u001b[0m \u001b[0;34m)\u001b[0m\u001b[0;34m)\u001b[0m\u001b[0;34m\u001b[0m\u001b[0;34m\u001b[0m\u001b[0m\n\u001b[0m\u001b[1;32m      2\u001b[0m \u001b[0;34m\u001b[0m\u001b[0m\n\u001b[1;32m      3\u001b[0m \u001b[0mcpt\u001b[0m\u001b[0;34m=\u001b[0m\u001b[0;36m0\u001b[0m\u001b[0;34m\u001b[0m\u001b[0;34m\u001b[0m\u001b[0m\n\u001b[1;32m      4\u001b[0m \u001b[0;31m# Plot on each subplot\u001b[0m\u001b[0;34m\u001b[0m\u001b[0;34m\u001b[0m\u001b[0;34m\u001b[0m\u001b[0m\n\u001b[1;32m      5\u001b[0m \u001b[0maxes_y\u001b[0m\u001b[0;34m=\u001b[0m\u001b[0;36m0\u001b[0m\u001b[0;34m\u001b[0m\u001b[0;34m\u001b[0m\u001b[0m\n",
      "\u001b[0;31mNameError\u001b[0m: name 'plt' is not defined"
     ]
    }
   ],
   "source": [
    "fig, axes = plt.subplots(1,1, figsize=(16, 8 ))\n",
    "\n",
    "cpt=0\n",
    "# Plot on each subplot\n",
    "axes_y=0\n",
    "for i in range(nb_test):\n",
    "    #np.random.seed(0)\n",
    "    #frontal = Frontal(my_instance,actual_time, nb_ev=nb, nb_before=N)\n",
    "    #result,s_t_min,soc_max = frontal.Frontal_solve(actual_time)\n",
    "    #axes[cpt][axes_y].set_title(\"Evolution of the objective function value with \"+str(nb)+\" vehicles\")\n",
    "    #axes[i][axes_y].set_xlabel(\"Iteration\")\n",
    "    #axes[i][axes_y].set_ylabel(\"Objective function value\")\n",
    "    #axes[i][axes_y].scatter(global_time_v3[i],global_result_v3[i],label=\"v3\")\n",
    "    #axes[i][axes_y].scatter(global_time_v4[i],global_result_v4[i],label=\"v4\")\n",
    "    #axes[i][axes_y].legend()\n",
    "    axes.scatter(global_time_v3[i],-global_result_v3[i],label=\"v3\")\n",
    "    axes.scatter(global_time_v4[i],-global_result_v4[i],label=\"v4\")\n",
    "    axes.set_title(\"Evolution of the objective function value with \"+str(N)+\" vehicles according to the time\")\n",
    "    axes.set_xlabel(\"Time (s)\")\n",
    "    axes.set_ylabel(\"Gap between the best value found and the optimal value\")\n",
    "    \"\"\"if (cpt-1)%3==0:\n",
    "        axes_y+=1\n",
    "        cpt=0\n",
    "    else:\n",
    "        cpt+=1\"\"\"\n",
    "\n",
    "# Adjust spacing between subplots\n",
    "plt.tight_layout()\n",
    "\n",
    "# Display the figure\n",
    "plt.show()"
   ]
  },
  {
   "cell_type": "code",
   "execution_count": null,
   "metadata": {},
   "outputs": [],
   "source": []
  }
 ],
 "metadata": {
  "kernelspec": {
   "display_name": "base",
   "language": "python",
   "name": "python3"
  },
  "language_info": {
   "codemirror_mode": {
    "name": "ipython",
    "version": 3
   },
   "file_extension": ".py",
   "mimetype": "text/x-python",
   "name": "python",
   "nbconvert_exporter": "python",
   "pygments_lexer": "ipython3",
   "version": "3.7.4 (default, Aug 13 2019, 15:17:50) \n[Clang 4.0.1 (tags/RELEASE_401/final)]"
  },
  "orig_nbformat": 4,
  "vscode": {
   "interpreter": {
    "hash": "61b7b18d34c3fa69719dbff512ad23fff8bc59ee7052faf1d64f93f10792958b"
   }
  }
 },
 "nbformat": 4,
 "nbformat_minor": 2
}
