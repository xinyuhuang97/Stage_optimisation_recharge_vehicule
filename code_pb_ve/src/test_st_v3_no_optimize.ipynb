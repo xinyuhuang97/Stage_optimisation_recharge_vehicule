{
 "cells": [
  {
   "cell_type": "code",
   "execution_count": 1,
   "metadata": {},
   "outputs": [],
   "source": [
    "import time\n",
    "import numpy as np\n",
    "import matplotlib.pyplot as plt\n",
    "import sys\n",
    "import json\n",
    "sys.path.append('/Applications/CPLEX_Studio221/cplex/python/3.7/x86-64_osx/cplex/_internal')\n",
    "sys.path.append('/Users/xinyuhuangmac/Google Drive/Stage/code_pb_ve/src')\n",
    "sys.path.append('/Users/xinyuhuangmac/Google Drive/Stage/code_pb_ve/data')\n",
    "import py37_cplex2210 as cplex\n",
    "from generator import *"
   ]
  },
  {
   "cell_type": "code",
   "execution_count": 2,
   "metadata": {},
   "outputs": [],
   "source": [
    "%reload_ext autoreload\n",
    "%autoreload 2\n",
    "from frontal_algo_no_beta import *\n",
    "from Frank_Wolfe_st_v2 import *\n",
    "from Frank_Wolfe_st_v3 import *\n",
    "from tools import *"
   ]
  },
  {
   "cell_type": "code",
   "execution_count": 3,
   "metadata": {},
   "outputs": [
    {
     "name": "stdout",
     "output_type": "stream",
     "text": [
      "valeur optimal par function objective: 2099.343932194931\n"
     ]
    }
   ],
   "source": [
    "N=200\n",
    "actual_time=0\n",
    "#instance_json(N)\n",
    "my_instance = \"../data/instance_200.json\"\n",
    "np.random.seed(0)\n",
    "frontal = Frontal(my_instance,actual_time)\n",
    "result,s_t_min,soc_max,optimal_value = frontal.Frontal_solve(actual_time)"
   ]
  },
  {
   "cell_type": "code",
   "execution_count": 4,
   "metadata": {},
   "outputs": [],
   "source": [
    "standard_v3_t = Frank_Wolfe_Standard_v3(my_instance)"
   ]
  },
  {
   "cell_type": "code",
   "execution_count": 5,
   "metadata": {},
   "outputs": [
    {
     "name": "stderr",
     "output_type": "stream",
     "text": [
      "  0%|          | 0/100 [00:00<?, ?iteration/s]"
     ]
    },
    {
     "name": "stdout",
     "output_type": "stream",
     "text": [
      "Iteration :  0\n",
      "after 1967879.6274162505\n",
      "Iteration :  1\n",
      "after 1967879.6274162505\n",
      "Iteration :  2\n",
      "after 914007.2216720756\n",
      "Iteration :  3\n",
      "after 47718.09393219449\n",
      "Iteration :  4\n",
      "after 47718.09393219449\n",
      "Iteration :  5\n",
      "after 47718.09393219449\n",
      "Iteration :  6\n",
      "after 47718.09393219449\n",
      "Iteration :  7\n",
      "after 47718.09393219449\n",
      "Iteration :  8\n",
      "after 47718.09393219449\n",
      "Iteration :  9\n"
     ]
    },
    {
     "name": "stderr",
     "output_type": "stream",
     "text": [
      " 10%|█         | 10/100 [00:51<07:44,  5.16s/iteration]"
     ]
    },
    {
     "name": "stdout",
     "output_type": "stream",
     "text": [
      "after 47718.09393219449\n",
      "Iteration :  10\n",
      "after 43124.34393219493\n",
      "Iteration :  11\n",
      "after 30229.547655604994\n",
      "Iteration :  12\n",
      "after 30229.547655604994\n",
      "Iteration :  13\n",
      "after 30229.547655604994\n",
      "Iteration :  14\n",
      "after 30229.547655604994\n",
      "Iteration :  15\n",
      "after 30229.547655604994\n",
      "Iteration :  16\n",
      "after 28518.77134744873\n",
      "Iteration :  17\n",
      "after 19082.239190774726\n",
      "Iteration :  18\n",
      "after 19082.239190774726\n",
      "Iteration :  19\n"
     ]
    },
    {
     "name": "stderr",
     "output_type": "stream",
     "text": [
      " 20%|██        | 20/100 [01:27<05:41,  4.27s/iteration]"
     ]
    },
    {
     "name": "stdout",
     "output_type": "stream",
     "text": [
      "after 19082.239190774726\n",
      "Iteration :  20\n",
      "after 19082.239190774726\n",
      "Iteration :  21\n",
      "after 19082.239190774726\n",
      "Iteration :  22\n",
      "after 19082.239190774726\n",
      "Iteration :  23\n",
      "after 19082.239190774726\n",
      "Iteration :  24\n",
      "after 14694.652810911284\n",
      "Iteration :  25\n",
      "after 10403.265206715309\n",
      "Iteration :  26\n",
      "after 10403.265206715309\n",
      "Iteration :  27\n",
      "after 10271.654320672696\n",
      "Iteration :  28\n",
      "after 10271.654320672696\n",
      "Iteration :  29\n"
     ]
    },
    {
     "name": "stderr",
     "output_type": "stream",
     "text": [
      " 30%|███       | 30/100 [01:59<04:21,  3.74s/iteration]"
     ]
    },
    {
     "name": "stdout",
     "output_type": "stream",
     "text": [
      "after 9768.594809668326\n",
      "Iteration :  30\n",
      "after 3619.6271377142994\n",
      "Iteration :  31\n",
      "after 3619.6271377142994\n",
      "Iteration :  32\n",
      "after 3619.6271377142994\n",
      "Iteration :  33\n",
      "after 3619.6271377142994\n",
      "Iteration :  34\n",
      "after 3619.6271377142994\n",
      "Iteration :  35\n",
      "after 3619.6271377142994\n",
      "Iteration :  36\n",
      "after 3619.6271377142994\n",
      "Iteration :  37\n",
      "after 3150.877137714321\n",
      "Iteration :  38\n",
      "after 3150.877137714321\n",
      "Iteration :  39\n"
     ]
    },
    {
     "name": "stderr",
     "output_type": "stream",
     "text": [
      " 40%|████      | 40/100 [02:28<03:25,  3.43s/iteration]"
     ]
    },
    {
     "name": "stdout",
     "output_type": "stream",
     "text": [
      "after 3150.877137714321\n",
      "Iteration :  40\n",
      "after 3150.877137714321\n",
      "Iteration :  41\n",
      "after 3150.877137714321\n",
      "Iteration :  42\n",
      "after 3150.877137714321\n",
      "Iteration :  43\n",
      "after 3150.877137714321\n",
      "Iteration :  44\n",
      "after 3150.877137714321\n",
      "Iteration :  45\n",
      "after 3150.877137714321\n",
      "Iteration :  46\n",
      "after 3150.877137714321\n",
      "Iteration :  47\n",
      "after 3150.877137714321\n",
      "Iteration :  48\n",
      "after 3150.877137714321\n",
      "Iteration :  49\n"
     ]
    },
    {
     "name": "stderr",
     "output_type": "stream",
     "text": [
      " 50%|█████     | 50/100 [02:52<02:32,  3.05s/iteration]"
     ]
    },
    {
     "name": "stdout",
     "output_type": "stream",
     "text": [
      "after 3150.877137714321\n",
      "before combinaison 3150.877137714321\n",
      "-------------booster-------------\n",
      "before 3141.9679672536886\n",
      "after 3141.9679672536886\n",
      "Gap primal dual : 50 19632.780657024035 0.0\n",
      "Objective value is :  3141.9679672536886\n",
      "delta 0.0009067583290799832\n",
      "before combinaison 3141.9679672536886\n",
      "-------------booster-------------\n",
      "before 3078.891344867372\n",
      "after 3078.891344867372\n",
      "Gap primal dual : 51 21895.55157720819 4.547473508864641e-13\n",
      "Objective value is :  3078.891344867372\n",
      "delta 0.005728586849515644\n",
      "before combinaison 3078.891344867372\n",
      "-------------booster-------------\n",
      "before 3048.6673264577194\n",
      "after 3048.6673264577194\n",
      "Gap primal dual : 52 35577.06307961344 4.547473508864641e-13\n",
      "Objective value is :  3048.6673264577194\n",
      "delta 0.001696191396612143\n",
      "before combinaison 3048.6673264577194\n",
      "-------------booster-------------\n",
      "before 3023.698664190786\n",
      "after 3023.698664190786\n",
      "Gap primal dual : 53 26003.875593225504 0.0\n",
      "Objective value is :  3023.698664190786\n",
      "delta 0.0019166994042556164\n",
      "before combinaison 3023.698664190786\n",
      "-------------booster-------------\n",
      "before 2831.917037323613\n",
      "after 2831.917037323613\n",
      "Gap primal dual : 54 21800.67540593647 0.0\n",
      "Objective value is :  2831.917037323613\n",
      "delta 0.017289899442331273\n",
      "before combinaison 2831.917037323613\n",
      "-------------booster-------------\n",
      "before 2757.4333472955514\n",
      "after 2757.4333472955514\n",
      "Gap primal dual : 55 58071.05961144137 0.0\n",
      "Objective value is :  2757.4333472955514\n",
      "delta 0.002558696543090325\n",
      "before combinaison 2757.4333472955514\n",
      "-------------booster-------------\n",
      "before 2642.3490904211176\n",
      "after 2642.3490904211176\n",
      "Gap primal dual : 56 26304.998915927492 0.0\n",
      "Objective value is :  2642.3490904211176\n",
      "delta 0.00867409321174947\n",
      "before combinaison 2642.3490904211176\n",
      "-------------booster-------------\n",
      "before 2618.231750556906\n",
      "after 2618.231750556906\n",
      "Gap primal dual : 57 24316.092826025768 0.0\n",
      "Objective value is :  2618.231750556906\n",
      "delta 0.001979725536544111\n",
      "before combinaison 2618.231750556906\n",
      "-------------booster-------------\n",
      "before 2522.7903095613265\n",
      "after 2522.7903095613265\n",
      "Gap primal dual : 58 19392.552935185406 0.0\n",
      "Objective value is :  2522.7903095613265\n",
      "delta 0.009747160040736691\n"
     ]
    },
    {
     "name": "stderr",
     "output_type": "stream",
     "text": [
      " 60%|██████    | 60/100 [03:11<01:46,  2.66s/iteration]"
     ]
    },
    {
     "name": "stdout",
     "output_type": "stream",
     "text": [
      "before combinaison 2522.7903095613265\n",
      "-------------booster-------------\n",
      "before 2500.8230442594972\n",
      "after 2500.8230442594972\n",
      "Gap primal dual : 59 26840.179779084185 0.0\n",
      "Objective value is :  2500.8230442594972\n",
      "delta 0.0016342190655095146\n",
      "before combinaison 2500.8230442594972\n",
      "-------------booster-------------\n",
      "before 2450.543168882315\n",
      "after 2450.543168882315\n",
      "Gap primal dual : 60 18753.776721450264 -3.6375240597408265e-09\n",
      "Objective value is :  2450.543168882315\n",
      "delta 0.005333507859903653\n",
      "before combinaison 2450.543168882315\n",
      "-------------booster-------------\n",
      "before 2431.4101378697364\n",
      "after 2431.4101378697364\n",
      "Gap primal dual : 61 19193.494839460694 -7.275048119481653e-09\n",
      "Objective value is :  2431.4101378697364\n",
      "delta 0.0019897326659988127\n",
      "before combinaison 2431.4101378697364\n",
      "-------------booster-------------\n",
      "before 2348.4253439280387\n",
      "after 2348.4253439280387\n",
      "Gap primal dual : 62 18001.381230173676 -7.2755028668325394e-09\n",
      "Objective value is :  2348.4253439280387\n",
      "delta 0.009135596633890092\n",
      "before combinaison 2348.4253439280387\n",
      "-------------booster-------------\n",
      "before 2331.4588719329577\n",
      "after 2331.4588719329577\n",
      "Gap primal dual : 63 18157.37676778846 -1.0913026926573366e-08\n",
      "Objective value is :  2331.4588719329577\n",
      "delta 0.0018653381974731856\n",
      "before combinaison 2331.4588719329577\n",
      "-------------booster-------------\n",
      "before 2275.866796983981\n",
      "after 2275.866796983981\n",
      "Gap primal dual : 64 14182.416668346905 -7.2755028668325394e-09\n",
      "Objective value is :  2275.866796983981\n",
      "delta 0.007778596305434064\n",
      "before combinaison 2275.866796983981\n",
      "-------------booster-------------\n",
      "before 2264.777231815482\n",
      "after 2264.777231815482\n",
      "Gap primal dual : 65 15572.873030226834 -7.275048119481653e-09\n",
      "Objective value is :  2264.777231815482\n",
      "delta 0.001422190228373357\n",
      "before combinaison 2264.777231815482\n",
      "-------------booster-------------\n",
      "before 2246.602433510391\n",
      "after 2246.602433510391\n",
      "Gap primal dual : 66 10112.842932408217 -7.275048119481653e-09\n",
      "Objective value is :  2246.602433510391\n",
      "delta 0.0035815260353051644\n",
      "before combinaison 2246.602433510391\n",
      "-------------booster-------------\n",
      "before 2208.6664956423083\n",
      "after 2208.6664956423083\n",
      "Gap primal dual : 67 11100.136340324856 -7.275048119481653e-09\n",
      "Objective value is :  2208.6664956423083\n",
      "delta 0.006788817135832609\n",
      "before combinaison 2208.6664956423083\n",
      "-------------booster-------------\n",
      "before 2194.542586387259\n",
      "after 2194.542586387259\n",
      "Gap primal dual : 68 10341.893549247075 -7.275048119481653e-09\n",
      "Objective value is :  2194.542586387259\n",
      "delta 0.002723956966222495\n"
     ]
    },
    {
     "name": "stderr",
     "output_type": "stream",
     "text": [
      " 70%|███████   | 70/100 [03:33<01:15,  2.50s/iteration]"
     ]
    },
    {
     "name": "stdout",
     "output_type": "stream",
     "text": [
      "before combinaison 2194.542586387259\n",
      "-------------booster-------------\n",
      "before 2165.2480486484883\n",
      "after 2165.2480486484883\n",
      "Gap primal dual : 69 9047.96842722082 -3.6375240597408265e-09\n",
      "Objective value is :  2165.2480486484883\n",
      "delta 0.006433723794025039\n",
      "before combinaison 2165.2480486484883\n",
      "-------------booster-------------\n",
      "before 2151.0205003199762\n",
      "after 2151.0205003199762\n",
      "Gap primal dual : 70 7868.604565611315 -3.63706931238994e-09\n",
      "Objective value is :  2151.0205003199762\n",
      "delta 0.0036032521057542486\n",
      "before combinaison 2151.0205003199762\n",
      "-------------booster-------------\n",
      "before 2142.549868140128\n",
      "after 2142.549868140128\n",
      "Gap primal dual : 71 6563.78571374395 -3.6375240597408265e-09\n",
      "Objective value is :  2142.549868140128\n",
      "delta 0.0025743758436997024\n",
      "before combinaison 2142.549868140128\n",
      "-------------booster-------------\n",
      "before 2137.6698966311446\n",
      "after 2137.6698966311446\n",
      "Gap primal dual : 72 4902.122251240066 -3.6375240597408265e-09\n",
      "Objective value is :  2137.6698966311446\n",
      "delta 0.001987006761940714\n",
      "before combinaison 2137.6698966311446\n",
      "-------------booster-------------\n",
      "before 2128.1583930597258\n",
      "after 2128.1583930597258\n",
      "Gap primal dual : 73 4685.100502158395 -3.6375240597408265e-09\n",
      "Objective value is :  2128.1583930597258\n",
      "delta 0.004043900459708938\n",
      "before combinaison 2128.1583930597258\n",
      "-------------booster-------------\n",
      "before 2122.8918173899983\n",
      "after 2122.8918173899983\n",
      "Gap primal dual : 74 5896.325577164488 0.0\n",
      "Objective value is :  2122.8918173899983\n",
      "delta 0.0017832069343351477\n",
      "before combinaison 2122.8918173899983\n",
      "-------------booster-------------\n",
      "before 2119.7899647986223\n",
      "after 2119.7899647986223\n",
      "Gap primal dual : 75 4318.8260318237935 0.0\n",
      "Objective value is :  2119.7899647986223\n",
      "delta 0.00143437285176811\n",
      "before combinaison 2119.7899647986223\n",
      "-------------booster-------------\n",
      "before 2117.5386944983316\n",
      "after 2117.5386944983316\n",
      "Gap primal dual : 76 3046.7668665530528 4.547473508864641e-13\n",
      "Objective value is :  2117.5386944983316\n",
      "delta 0.0014756286874375768\n",
      "before combinaison 2117.5386944983316\n",
      "-------------booster-------------\n",
      "before 2114.183607744351\n",
      "after 2114.183607744351\n",
      "Gap primal dual : 77 3804.277396075796 3.637978807091713e-09\n",
      "Objective value is :  2114.183607744351\n",
      "delta 0.0017607440219418987\n",
      "before combinaison 2114.183607744351\n",
      "-------------booster-------------\n",
      "before 2110.012563254706\n",
      "after 2110.012563254706\n",
      "Gap primal dual : 78 3528.984239379059 4.547473508864641e-13\n",
      "Objective value is :  2110.012563254706\n",
      "delta 0.0023583034861483438\n"
     ]
    },
    {
     "name": "stderr",
     "output_type": "stream",
     "text": [
      " 80%|████████  | 80/100 [03:51<00:46,  2.30s/iteration]"
     ]
    },
    {
     "name": "stdout",
     "output_type": "stream",
     "text": [
      "before combinaison 2110.012563254706\n",
      "-------------booster-------------\n",
      "before 2107.858784802852\n",
      "after 2107.858784802852\n",
      "Gap primal dual : 79 3101.7102124330368 4.547473508864641e-13\n",
      "Objective value is :  2107.858784802852\n",
      "delta 0.001386842335422907\n",
      "before combinaison 2107.858784802852\n",
      "-------------booster-------------\n",
      "before 2106.586805906389\n",
      "after 2106.586805906389\n",
      "Gap primal dual : 80 2533.311002114424 4.547473508864641e-13\n",
      "Objective value is :  2106.586805906389\n",
      "delta 0.0010031953186894677\n",
      "before combinaison 2106.586805906389\n",
      "-------------booster-------------\n",
      "before 2105.6476516656603\n",
      "after 2105.6476516656603\n",
      "Gap primal dual : 81 1871.4287654567088 3.637978807091713e-09\n",
      "Objective value is :  2105.6476516656603\n",
      "delta 0.001002669841724909\n",
      "before combinaison 2105.6476516656603\n",
      "-------------booster-------------\n",
      "before 2104.5112204244588\n",
      "after 2104.5112204244588\n",
      "Gap primal dual : 82 2223.891273583554 3.637978807091713e-09\n",
      "Objective value is :  2104.5112204244588\n",
      "delta 0.0010209770531999134\n",
      "before combinaison 2104.5112204244588\n",
      "-------------booster-------------\n",
      "before 2103.6276938940327\n",
      "after 2103.6276938940327\n",
      "Gap primal dual : 83 1986.0313162947346 3.637978807091713e-09\n",
      "Objective value is :  2103.6276938940327\n",
      "delta 0.0008889498577532921\n",
      "before combinaison 2103.6276938940327\n",
      "-------------booster-------------\n",
      "before 2103.2155284840296\n",
      "after 2103.2155284840296\n",
      "Gap primal dual : 84 1246.5537175985405 3.637978807091713e-09\n",
      "Objective value is :  2103.2155284840296\n",
      "delta 0.0006608508450495444\n",
      "before combinaison 2103.2155284840296\n",
      "-------------booster-------------\n",
      "before 2102.5142736595985\n",
      "after 2102.5142736595985\n",
      "Gap primal dual : 85 1721.1317443203013 3.637978807091713e-09\n",
      "Objective value is :  2102.5142736595985\n",
      "delta 0.0008142129323359234\n",
      "before combinaison 2102.5142736595985\n",
      "-------------booster-------------\n",
      "before 2101.915321092478\n",
      "after 2101.915321092478\n",
      "Gap primal dual : 86 1547.9673912977319 3.637978807091713e-09\n",
      "Objective value is :  2101.915321092478\n",
      "delta 0.0007732584472592589\n",
      "before combinaison 2101.915321092478\n",
      "-------------booster-------------\n",
      "before 2101.6012900371625\n",
      "after 2101.6012900371625\n",
      "Gap primal dual : 87 1148.374134936132 3.637978807091713e-09\n",
      "Objective value is :  2101.6012900371625\n",
      "delta 0.0005466152529313565\n",
      "before combinaison 2101.6012900371625\n",
      "-------------booster-------------\n",
      "before 2101.0787471036724\n",
      "after 2101.0787471036724\n",
      "Gap primal dual : 88 1382.8924105189415 3.637978807091713e-09\n",
      "Objective value is :  2101.0787471036724\n",
      "delta 0.0007551539565638207\n"
     ]
    },
    {
     "name": "stderr",
     "output_type": "stream",
     "text": [
      " 90%|█████████ | 90/100 [04:11<00:21,  2.19s/iteration]"
     ]
    },
    {
     "name": "stdout",
     "output_type": "stream",
     "text": [
      "before combinaison 2101.0787471036724\n",
      "-------------booster-------------\n",
      "before 2100.807758467473\n",
      "after 2100.807758467473\n",
      "Gap primal dual : 89 1147.1548785200866 3.637978807091713e-09\n",
      "Objective value is :  2100.807758467473\n",
      "delta 0.0004722303428201153\n",
      "before combinaison 2100.807758467473\n",
      "-------------booster-------------\n",
      "before 2100.5263008289735\n",
      "after 2100.5263008289735\n",
      "Gap primal dual : 90 941.5120817417945 4.547473508864641e-13\n",
      "Objective value is :  2100.5263008289735\n",
      "delta 0.0005975270341204589\n",
      "before combinaison 2100.5263008289735\n",
      "-------------booster-------------\n",
      "before 2100.3252541637007\n",
      "after 2100.3252541637007\n",
      "Gap primal dual : 91 991.7285817866001 4.547473508864641e-13\n",
      "Objective value is :  2100.3252541637007\n",
      "delta 0.0004052826382535553\n",
      "before combinaison 2100.3252541637007\n",
      "-------------booster-------------\n",
      "before 2100.15204240948\n",
      "after 2100.15204240948\n",
      "Gap primal dual : 92 807.958337612708 4.547473508864641e-13\n",
      "Objective value is :  2100.15204240948\n",
      "delta 0.00042858032377637964\n",
      "before combinaison 2100.15204240948\n",
      "-------------booster-------------\n",
      "before 2100.0603038612517\n",
      "after 2100.0603038612517\n",
      "Gap primal dual : 93 642.4690083312533 0.0\n",
      "Objective value is :  2100.0603038612517\n",
      "delta 0.0002854997172688494\n",
      "before combinaison 2100.0603038612517\n",
      "-------------booster-------------\n",
      "before 2099.9336146596493\n",
      "after 2099.9336146596493\n",
      "Gap primal dual : 94 745.0950652894953 0.0\n",
      "Objective value is :  2099.9336146596493\n",
      "delta 0.0003399462522943932\n",
      "before combinaison 2099.9336146596493\n",
      "-------------booster-------------\n",
      "before 2099.8187359308304\n",
      "after 2099.8187359308304\n",
      "Gap primal dual : 95 677.4826102063244 0.0\n",
      "Objective value is :  2099.8187359308304\n",
      "delta 0.0003390191409797708\n",
      "before combinaison 2099.8187359308304\n",
      "-------------booster-------------\n",
      "before 2099.7754814629766\n",
      "after 2099.7754814629766\n",
      "Gap primal dual : 96 466.88139058675506 4.547473508864641e-13\n",
      "Objective value is :  2099.7754814629766\n",
      "delta 0.00018525671928056742\n",
      "before combinaison 2099.7754814629766\n",
      "-------------booster-------------\n",
      "before 2099.687203037325\n",
      "after 2099.687203037325\n",
      "Gap primal dual : 97 460.61212726932513 0.0\n",
      "Objective value is :  2099.687203037325\n",
      "delta 0.00038316230816732726\n",
      "before combinaison 2099.687203037325\n",
      "-------------booster-------------\n",
      "before 2099.61775605256\n",
      "after 2099.61775605256\n",
      "Gap primal dual : 98 616.8532403269766 0.0\n",
      "Objective value is :  2099.61775605256\n",
      "delta 0.00022511466094706723\n"
     ]
    },
    {
     "name": "stderr",
     "output_type": "stream",
     "text": [
      "100%|██████████| 100/100 [04:30<00:00,  2.70s/iteration]"
     ]
    },
    {
     "name": "stdout",
     "output_type": "stream",
     "text": [
      "before combinaison 2099.61775605256\n",
      "-------------booster-------------\n",
      "before 2099.5891782598305\n",
      "after 2099.5891782598305\n",
      "Gap primal dual : 99 379.72052643575444 -3.637978807091713e-09\n",
      "Objective value is :  2099.5891782598305\n",
      "delta 0.00015049747748268374\n",
      "Gap primal dual :  379.72052643211646\n",
      "Objective value is :  2099.5891782598305\n"
     ]
    },
    {
     "name": "stderr",
     "output_type": "stream",
     "text": [
      "\n"
     ]
    }
   ],
   "source": [
    "nk=20\n",
    "n_pre=50\n",
    "K=100\n",
    "np.random.seed(0)\n",
    "x_bar_k_v3_t,df_v3_t=standard_v3_t.FW_st_solve(actual_time, analyse=True, K=K, nk=nk,n_pre=n_pre)"
   ]
  },
  {
   "cell_type": "code",
   "execution_count": 6,
   "metadata": {},
   "outputs": [],
   "source": [
    "standard_v2_t = Frank_Wolfe_Standard_v2(my_instance)"
   ]
  },
  {
   "cell_type": "code",
   "execution_count": 8,
   "metadata": {},
   "outputs": [
    {
     "name": "stderr",
     "output_type": "stream",
     "text": []
    },
    {
     "name": "stdout",
     "output_type": "stream",
     "text": [
      "Iteration :  0\n",
      "Iteration :  1\n",
      "Iteration :  2\n",
      "Iteration :  3\n",
      "Iteration :  4\n",
      "Iteration :  5\n",
      "Iteration :  6\n",
      "Iteration :  7\n",
      "Iteration :  8\n",
      "Iteration :  9\n"
     ]
    },
    {
     "name": "stderr",
     "output_type": "stream",
     "text": []
    },
    {
     "name": "stdout",
     "output_type": "stream",
     "text": [
      "Iteration :  10\n",
      "Iteration :  11\n",
      "Iteration :  12\n",
      "Iteration :  13\n",
      "Iteration :  14\n",
      "Iteration :  15\n",
      "Iteration :  16\n",
      "Iteration :  17\n",
      "Iteration :  18\n",
      "Iteration :  19\n"
     ]
    },
    {
     "name": "stderr",
     "output_type": "stream",
     "text": []
    },
    {
     "name": "stdout",
     "output_type": "stream",
     "text": [
      "Iteration :  20\n",
      "Iteration :  21\n",
      "Iteration :  22\n",
      "Iteration :  23\n",
      "Iteration :  24\n",
      "Iteration :  25\n",
      "Iteration :  26\n",
      "Iteration :  27\n",
      "Iteration :  28\n",
      "Iteration :  29\n"
     ]
    },
    {
     "name": "stderr",
     "output_type": "stream",
     "text": []
    },
    {
     "name": "stdout",
     "output_type": "stream",
     "text": [
      "Iteration :  30\n",
      "Iteration :  31\n",
      "Iteration :  32\n",
      "Iteration :  33\n",
      "Iteration :  34\n",
      "Iteration :  35\n",
      "Iteration :  36\n",
      "Iteration :  37\n",
      "Iteration :  38\n",
      "Iteration :  39\n"
     ]
    },
    {
     "name": "stderr",
     "output_type": "stream",
     "text": []
    },
    {
     "name": "stdout",
     "output_type": "stream",
     "text": [
      "Iteration :  40\n",
      "Iteration :  41\n",
      "Iteration :  42\n",
      "Iteration :  43\n",
      "Iteration :  44\n",
      "Iteration :  45\n",
      "Iteration :  46\n",
      "Iteration :  47\n",
      "Iteration :  48\n",
      "Iteration :  49\n"
     ]
    },
    {
     "name": "stderr",
     "output_type": "stream",
     "text": []
    },
    {
     "name": "stdout",
     "output_type": "stream",
     "text": [
      "begin 3150.877137714321\n",
      "-------------booster-------------\n",
      "before 4768.292038544168\n",
      "after 4768.292038544168\n",
      "begin 3150.877137714321\n",
      "begin 3150.877137714321\n",
      "begin 3150.877137714321\n",
      "begin 3150.877137714321\n",
      "begin 3150.877137714321\n",
      "begin 3150.877137714321\n",
      "begin 3150.877137714321\n"
     ]
    },
    {
     "name": "stderr",
     "output_type": "stream",
     "text": []
    },
    {
     "name": "stdout",
     "output_type": "stream",
     "text": [
      "begin 3150.877137714321\n",
      "begin 3150.877137714321\n",
      "begin 3150.877137714321\n",
      "begin 3150.877137714321\n",
      "begin 3150.877137714321\n",
      "begin 3150.877137714321\n",
      "begin 3150.877137714321\n",
      "begin 3150.877137714321\n",
      "begin 3150.877137714321\n",
      "begin 3150.877137714321\n",
      "begin 3150.877137714321\n"
     ]
    },
    {
     "name": "stderr",
     "output_type": "stream",
     "text": []
    },
    {
     "name": "stdout",
     "output_type": "stream",
     "text": [
      "begin 3150.877137714321\n",
      "begin 3150.877137714321\n",
      "begin 3150.877137714321\n",
      "begin 3150.877137714321\n",
      "begin 3150.877137714321\n",
      "begin 3150.877137714321\n",
      "begin 3150.877137714321\n",
      "begin 3150.877137714321\n",
      "begin 3150.877137714321\n",
      "begin 3150.877137714321\n",
      "begin 3150.877137714321\n"
     ]
    },
    {
     "name": "stderr",
     "output_type": "stream",
     "text": []
    },
    {
     "name": "stdout",
     "output_type": "stream",
     "text": [
      "begin 3150.877137714321\n",
      "begin 3150.877137714321\n",
      "begin 3150.877137714321\n",
      "begin 3150.877137714321\n",
      "begin 3150.877137714321\n",
      "begin 3150.877137714321\n",
      "begin 3150.877137714321\n",
      "begin 3150.877137714321\n"
     ]
    },
    {
     "name": "stderr",
     "output_type": "stream",
     "text": []
    },
    {
     "name": "stdout",
     "output_type": "stream",
     "text": [
      "begin 3150.877137714321\n",
      "begin 3150.877137714321\n",
      "begin 3150.877137714321\n",
      "begin 3150.877137714321\n",
      "begin 3150.877137714321\n",
      "begin 3150.877137714321\n",
      "begin 3150.877137714321\n",
      "begin 3150.877137714321\n",
      "begin 3150.877137714321\n",
      "begin 3150.877137714321\n",
      "begin 3150.877137714321\n"
     ]
    },
    {
     "name": "stderr",
     "output_type": "stream",
     "text": [
      "100%|██████████| 100/100 [02:33<00:00,  1.54s/iteration]"
     ]
    },
    {
     "name": "stdout",
     "output_type": "stream",
     "text": [
      "begin 3150.877137714321\n",
      "Gap primal dual :  19650.599001339993\n",
      "Objective value is :  3150.877137714321\n"
     ]
    },
    {
     "name": "stderr",
     "output_type": "stream",
     "text": [
      "\n"
     ]
    }
   ],
   "source": [
    "nk=20\n",
    "n_pre=50\n",
    "K=100\n",
    "np.random.seed(0)\n",
    "x_bar_k_v2_t,df_v2_t=standard_v2_t.FW_st_solve(actual_time, analyse=True, K=K, nk=nk,n_pre=n_pre)"
   ]
  },
  {
   "cell_type": "code",
   "execution_count": null,
   "metadata": {},
   "outputs": [],
   "source": []
  }
 ],
 "metadata": {
  "kernelspec": {
   "display_name": "base",
   "language": "python",
   "name": "python3"
  },
  "language_info": {
   "codemirror_mode": {
    "name": "ipython",
    "version": 3
   },
   "file_extension": ".py",
   "mimetype": "text/x-python",
   "name": "python",
   "nbconvert_exporter": "python",
   "pygments_lexer": "ipython3",
   "version": "3.7.4"
  },
  "orig_nbformat": 4,
  "vscode": {
   "interpreter": {
    "hash": "61b7b18d34c3fa69719dbff512ad23fff8bc59ee7052faf1d64f93f10792958b"
   }
  }
 },
 "nbformat": 4,
 "nbformat_minor": 2
}
