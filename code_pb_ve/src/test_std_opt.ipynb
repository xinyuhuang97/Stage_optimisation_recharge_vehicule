{
 "cells": [
  {
   "cell_type": "code",
   "execution_count": 45,
   "metadata": {},
   "outputs": [
    {
     "name": "stderr",
     "output_type": "stream",
     "text": [
      "[autoreload of Frank_Wolfe_st_v2 failed: Traceback (most recent call last):\n",
      "  File \"/Users/xinyuhuangmac/opt/anaconda3/lib/python3.7/site-packages/IPython/extensions/autoreload.py\", line 245, in check\n",
      "    superreload(m, reload, self.old_objects)\n",
      "  File \"/Users/xinyuhuangmac/opt/anaconda3/lib/python3.7/site-packages/IPython/extensions/autoreload.py\", line 450, in superreload\n",
      "    update_generic(old_obj, new_obj)\n",
      "  File \"/Users/xinyuhuangmac/opt/anaconda3/lib/python3.7/site-packages/IPython/extensions/autoreload.py\", line 387, in update_generic\n",
      "    update(a, b)\n",
      "  File \"/Users/xinyuhuangmac/opt/anaconda3/lib/python3.7/site-packages/IPython/extensions/autoreload.py\", line 357, in update_class\n",
      "    update_instances(old, new)\n",
      "  File \"/Users/xinyuhuangmac/opt/anaconda3/lib/python3.7/site-packages/IPython/extensions/autoreload.py\", line 317, in update_instances\n",
      "    update_instances(old, new, obj, visited)\n",
      "  File \"/Users/xinyuhuangmac/opt/anaconda3/lib/python3.7/site-packages/IPython/extensions/autoreload.py\", line 317, in update_instances\n",
      "    update_instances(old, new, obj, visited)\n",
      "  File \"/Users/xinyuhuangmac/opt/anaconda3/lib/python3.7/site-packages/IPython/extensions/autoreload.py\", line 317, in update_instances\n",
      "    update_instances(old, new, obj, visited)\n",
      "  [Previous line repeated 1 more time]\n",
      "  File \"/Users/xinyuhuangmac/opt/anaconda3/lib/python3.7/site-packages/IPython/extensions/autoreload.py\", line 315, in update_instances\n",
      "    if hasattr(obj, 'items') or (hasattr(obj, '__contains__')\n",
      "KeyboardInterrupt\n",
      "]\n"
     ]
    }
   ],
   "source": [
    "import time\n",
    "import numpy as np\n",
    "import matplotlib.pyplot as plt\n",
    "import sys\n",
    "import json\n",
    "sys.path.append('/Applications/CPLEX_Studio221/cplex/python/3.7/x86-64_osx/cplex/_internal')\n",
    "sys.path.append('/Users/xinyuhuangmac/Google Drive/Stage/code_pb_ve/src')\n",
    "sys.path.append('/Users/xinyuhuangmac/Google Drive/Stage/code_pb_ve/data')\n",
    "import py37_cplex2210 as cplex\n",
    "from generator import *"
   ]
  },
  {
   "cell_type": "code",
   "execution_count": 2,
   "metadata": {},
   "outputs": [],
   "source": [
    "%reload_ext autoreload\n",
    "%autoreload 2\n",
    "from frontal_algo_no_beta import *\n",
    "#from Frank_Wolfe_ev_v2 import *\n",
    "from Frank_Wolfe_st_v2 import *\n",
    "from tools import *"
   ]
  },
  {
   "cell_type": "code",
   "execution_count": 20,
   "metadata": {},
   "outputs": [
    {
     "name": "stdout",
     "output_type": "stream",
     "text": [
      "valeur optimal par function objective: 2094.101738966771\n"
     ]
    }
   ],
   "source": [
    "N=200\n",
    "actual_time=0\n",
    "instance_json(N)\n",
    "my_instance = \"../data/instance_\" + str(N) + \".json\"\n",
    "np.random.seed(0)\n",
    "frontal = Frontal(my_instance,actual_time)\n",
    "result,s_t_min,soc_max = frontal.Frontal_solve(actual_time)"
   ]
  },
  {
   "cell_type": "code",
   "execution_count": 21,
   "metadata": {},
   "outputs": [],
   "source": [
    "standard = Frank_Wolfe_Standard_v2(my_instance)"
   ]
  },
  {
   "cell_type": "code",
   "execution_count": 5,
   "metadata": {},
   "outputs": [
    {
     "name": "stderr",
     "output_type": "stream",
     "text": [
      "  0%|          | 50/10000 [02:09<7:02:01,  2.54s/iteration]"
     ]
    },
    {
     "name": "stdout",
     "output_type": "stream",
     "text": [
      "Gap primal dual : 50 465312.4757741536 0.0\n",
      "Objective value is :  13824.373378751814\n",
      "Gap primal dual : 51 188325.39989961695 0.0\n",
      "Objective value is :  11913.099811438498\n",
      "Gap primal dual : 52 184901.35036511358 0.0\n",
      "Objective value is :  10011.06664423321\n",
      "Gap primal dual : 53 164584.6265838065 0.0\n",
      "Objective value is :  8437.841157738643\n",
      "Gap primal dual : 54 135518.54455733672 0.0\n",
      "Objective value is :  7200.550136669133\n",
      "Gap primal dual : 55 130473.75494280599 0.0\n",
      "Objective value is :  6088.856092618515\n",
      "Gap primal dual : 56 109589.44842563833 4.547473508864641e-13\n",
      "Objective value is :  5211.359713712271\n",
      "Gap primal dual : 57 104252.10737467177 4.547473508864641e-13\n",
      "Objective value is :  4385.308023079956\n"
     ]
    },
    {
     "name": "stderr",
     "output_type": "stream",
     "text": [
      "  1%|          | 60/10000 [02:20<5:41:05,  2.06s/iteration]"
     ]
    },
    {
     "name": "stdout",
     "output_type": "stream",
     "text": [
      "Gap primal dual : 59 102109.20957782563 3.6384335544425994e-09\n",
      "Objective value is :  4382.923402566278\n",
      "Gap primal dual : 61 100540.25163031624 7.275957614183426e-09\n",
      "Objective value is :  4376.3971066219165\n"
     ]
    },
    {
     "name": "stderr",
     "output_type": "stream",
     "text": [
      "  1%|▏         | 140/10000 [02:25<23:24,  7.02iteration/s]  "
     ]
    },
    {
     "name": "stdout",
     "output_type": "stream",
     "text": [
      "Gap primal dual : 140 142068.56292529975 7.275957614183426e-09\n",
      "Objective value is :  4376.348865256609\n",
      "Gap primal dual : 141 128771.7722502874 7.275957614183426e-09\n",
      "Objective value is :  3913.2159420219614\n",
      "Gap primal dual : 142 74680.01641056596 7.276412361534312e-09\n",
      "Objective value is :  3543.0963749023863\n",
      "Gap primal dual : 143 72493.1447435008 7.275957614183426e-09\n",
      "Objective value is :  3141.496940721316\n",
      "Gap primal dual : 144 53020.28371775358 7.275957614183426e-09\n",
      "Objective value is :  2954.5720127315503\n",
      "Gap primal dual : 145 45348.028351141475 3.637978807091713e-09\n",
      "Objective value is :  2779.132082913111\n",
      "Gap primal dual : 146 54844.67072356791 3.637978807091713e-09\n",
      "Objective value is :  2530.8456080372143\n",
      "Gap primal dual : 147 43007.84894644591 3.637978807091713e-09\n",
      "Objective value is :  2419.7083575412403\n",
      "Gap primal dual : 148 32817.13257769188 3.637978807091713e-09\n",
      "Objective value is :  2361.604986403797\n"
     ]
    },
    {
     "name": "stderr",
     "output_type": "stream",
     "text": [
      "  3%|▎         | 290/10000 [02:43<06:08, 26.36iteration/s]  "
     ]
    },
    {
     "name": "stdout",
     "output_type": "stream",
     "text": [
      "Gap primal dual : 294 39679.37076340291 3.637978807091713e-09\n",
      "Objective value is :  2361.423627660126\n"
     ]
    },
    {
     "name": "stderr",
     "output_type": "stream",
     "text": [
      "  5%|▌         | 500/10000 [02:52<05:12, 30.41iteration/s]"
     ]
    },
    {
     "name": "stdout",
     "output_type": "stream",
     "text": [
      "Gap primal dual : 506 43154.82679379654 3.637978807091713e-09\n",
      "Objective value is :  2361.3805123525062\n",
      "Gap primal dual : 507 34395.817388030795 3.637978807091713e-09\n",
      "Objective value is :  2285.8422978290323\n",
      "Gap primal dual : 508 31760.764233329257 4.547473508864641e-13\n",
      "Objective value is :  2213.350206963334\n"
     ]
    },
    {
     "name": "stderr",
     "output_type": "stream",
     "text": [
      "  5%|▌         | 510/10000 [02:55<21:59,  7.19iteration/s]"
     ]
    },
    {
     "name": "stdout",
     "output_type": "stream",
     "text": [
      "Gap primal dual : 509 20654.34630448249 3.637978807091713e-09\n",
      "Objective value is :  2181.872219353355\n",
      "Gap primal dual : 510 17169.15803801361 4.547473508864641e-13\n",
      "Objective value is :  2156.563683805301\n",
      "Gap primal dual : 511 15675.109045766065 0.0\n",
      "Objective value is :  2141.1533172530876\n",
      "Gap primal dual : 512 15132.645222246036 4.547473508864641e-13\n",
      "Objective value is :  2127.3953917370195\n",
      "Gap primal dual : 513 12736.957420489485 3.637978807091713e-09\n",
      "Objective value is :  2116.990087906715\n"
     ]
    },
    {
     "name": "stderr",
     "output_type": "stream",
     "text": [
      " 16%|█▌        | 1600/10000 [03:41<05:02, 27.78iteration/s]"
     ]
    },
    {
     "name": "stdout",
     "output_type": "stream",
     "text": [
      "Gap primal dual : 1606 20951.19798841802 3.637978807091713e-09\n",
      "Objective value is :  2116.98391077165\n",
      "Gap primal dual : 1607 10004.76055045259 4.547473508864641e-13\n",
      "Objective value is :  2109.8707788528177\n",
      "Gap primal dual : 1608 6263.624466751308 4.547473508864641e-13\n",
      "Objective value is :  2107.3746386052553\n"
     ]
    },
    {
     "name": "stderr",
     "output_type": "stream",
     "text": [
      " 16%|█▌        | 1610/10000 [03:45<20:13,  6.91iteration/s]"
     ]
    },
    {
     "name": "stdout",
     "output_type": "stream",
     "text": [
      "Gap primal dual : 1609 6159.054287874656 4.547473508864641e-13\n",
      "Objective value is :  2104.6296499542577\n",
      "Gap primal dual : 1610 6630.441716340954 -3.6375240597408265e-09\n",
      "Objective value is :  2100.849370846566\n",
      "Gap primal dual : 1611 5159.174401953465 -3.63706931238994e-09\n",
      "Objective value is :  2099.5670122382235\n"
     ]
    },
    {
     "name": "stderr",
     "output_type": "stream",
     "text": [
      " 35%|███▌      | 3530/10000 [04:54<03:34, 30.11iteration/s]"
     ]
    },
    {
     "name": "stdout",
     "output_type": "stream",
     "text": [
      "Gap primal dual : 3529 4445.104409557609 -3.63706931238994e-09\n",
      "Objective value is :  2099.566493661717\n",
      "Gap primal dual : 3530 4430.332198344183 -3.6375240597408265e-09\n",
      "Objective value is :  2098.0048165140347\n",
      "Gap primal dual : 3531 3444.069729002208 9.094947017729282e-13\n",
      "Objective value is :  2097.294224043643\n"
     ]
    },
    {
     "name": "stderr",
     "output_type": "stream",
     "text": [
      " 58%|█████▊    | 5800/10000 [06:13<02:34, 27.17iteration/s]"
     ]
    },
    {
     "name": "stdout",
     "output_type": "stream",
     "text": [
      "Gap primal dual : 5806 2851.7226008046996 4.547473508864641e-13\n",
      "Objective value is :  2097.2941199910715\n",
      "Gap primal dual : 5807 2671.7804210824806 -3.63706931238994e-09\n",
      "Objective value is :  2097.273685569731\n",
      "Gap primal dual : 5808 2394.3427415653277 -7.275048119481653e-09\n",
      "Objective value is :  2096.876562872314\n"
     ]
    },
    {
     "name": "stderr",
     "output_type": "stream",
     "text": [
      " 58%|█████▊    | 5810/10000 [06:17<10:00,  6.97iteration/s]"
     ]
    },
    {
     "name": "stdout",
     "output_type": "stream",
     "text": [
      "Gap primal dual : 5809 2166.0064192683426 -7.275048119481653e-09\n",
      "Objective value is :  2096.505062766489\n"
     ]
    },
    {
     "name": "stderr",
     "output_type": "stream",
     "text": [
      " 82%|████████▏ | 8160/10000 [07:38<01:01, 29.70iteration/s]"
     ]
    },
    {
     "name": "stdout",
     "output_type": "stream",
     "text": [
      "Gap primal dual : 8164 2051.1767960935863 -3.63706931238994e-09\n",
      "Objective value is :  2096.505021253732\n",
      "Gap primal dual : 8165 1384.7276512012124 -7.275048119481653e-09\n",
      "Objective value is :  2096.3644213962334\n"
     ]
    },
    {
     "name": "stderr",
     "output_type": "stream",
     "text": [
      "100%|██████████| 10000/10000 [08:43<00:00, 19.11iteration/s]"
     ]
    },
    {
     "name": "stdout",
     "output_type": "stream",
     "text": [
      "Gap primal dual :  1412.283452583451\n",
      "Objective value is :  2096.3644213962334\n"
     ]
    },
    {
     "name": "stderr",
     "output_type": "stream",
     "text": [
      "\n"
     ]
    }
   ],
   "source": [
    "K=10000\n",
    "nk=20\n",
    "n_pre=50\n",
    "np.random.seed(0)\n",
    "x_bar_k_1,df_1=standard.FW_st_solve(actual_time, analyse=True, K=K, nk=nk,n_pre=n_pre)"
   ]
  },
  {
   "cell_type": "code",
   "execution_count": 9,
   "metadata": {},
   "outputs": [
    {
     "name": "stderr",
     "output_type": "stream",
     "text": [
      "  0%|          | 50/10000 [02:05<6:47:19,  2.46s/iteration]"
     ]
    },
    {
     "name": "stdout",
     "output_type": "stream",
     "text": [
      "Gap primal dual : 50 355264.4147437471 0.0\n",
      "Objective value is :  14131.586615790782\n",
      "Gap primal dual : 51 231265.95255274363 0.0\n",
      "Objective value is :  11592.976027406477\n",
      "Gap primal dual : 52 174600.97672671237 0.0\n",
      "Objective value is :  9938.726857370893\n",
      "Gap primal dual : 53 158431.9012733458 4.547473508864641e-13\n",
      "Objective value is :  8414.843715180385\n",
      "Gap primal dual : 54 143624.49388731702 0.0\n",
      "Objective value is :  7141.782332198118\n",
      "Gap primal dual : 55 124557.05558284982 4.547473508864641e-13\n",
      "Objective value is :  6053.916401521196\n",
      "Gap primal dual : 56 115854.32669122053 4.547473508864641e-13\n",
      "Objective value is :  5129.53830942788\n",
      "Gap primal dual : 57 109016.29702189786 4.547473508864641e-13\n",
      "Objective value is :  4276.135527983759\n",
      "Gap primal dual : 58 88780.51872024502 4.547473508864641e-13\n",
      "Objective value is :  3681.2347121967705\n"
     ]
    },
    {
     "name": "stderr",
     "output_type": "stream",
     "text": [
      "  1%|          | 60/10000 [02:17<5:36:04,  2.03s/iteration]"
     ]
    },
    {
     "name": "stdout",
     "output_type": "stream",
     "text": [
      "Gap primal dual : 59 87364.98434332393 3.6384335544425994e-09\n",
      "Objective value is :  3669.9503462244415\n"
     ]
    },
    {
     "name": "stderr",
     "output_type": "stream",
     "text": [
      "  1%|▏         | 130/10000 [02:22<32:22,  5.08iteration/s]  "
     ]
    },
    {
     "name": "stdout",
     "output_type": "stream",
     "text": [
      "Gap primal dual : 130 104296.14692718301 4.547473508864641e-13\n",
      "Objective value is :  3667.0084387180805\n"
     ]
    },
    {
     "name": "stderr",
     "output_type": "stream",
     "text": [
      "  2%|▏         | 160/10000 [02:24<17:48,  9.21iteration/s]"
     ]
    },
    {
     "name": "stdout",
     "output_type": "stream",
     "text": [
      "Gap primal dual : 159 101624.07982149611 9.094947017729282e-13\n",
      "Objective value is :  3666.6090131489277\n",
      "Gap primal dual : 160 105224.74544276588 4.547473508864641e-13\n",
      "Objective value is :  3076.934456110518\n",
      "Gap primal dual : 161 65216.6646841296 -3.6375240597408265e-09\n",
      "Objective value is :  2780.8981071197277\n",
      "Gap primal dual : 162 48329.00548733919 -3.63706931238994e-09\n",
      "Objective value is :  2579.528456730838\n",
      "Gap primal dual : 163 34415.096343053265 -3.63706931238994e-09\n",
      "Objective value is :  2504.548355739237\n",
      "Gap primal dual : 164 39657.841774276014 4.547473508864641e-13\n",
      "Objective value is :  2409.038797577576\n",
      "Gap primal dual : 165 42446.467684359595 4.547473508864641e-13\n",
      "Objective value is :  2287.0153363356485\n"
     ]
    },
    {
     "name": "stderr",
     "output_type": "stream",
     "text": [
      "  7%|▋         | 720/10000 [02:57<07:59, 19.34iteration/s]"
     ]
    },
    {
     "name": "stdout",
     "output_type": "stream",
     "text": [
      "Gap primal dual : 727 37332.77220359467 4.547473508864641e-13\n",
      "Objective value is :  2287.000070011948\n",
      "Gap primal dual : 728 29774.738045107522 4.547473508864641e-13\n",
      "Objective value is :  2234.2807901215424\n"
     ]
    },
    {
     "name": "stderr",
     "output_type": "stream",
     "text": [
      "  7%|▋         | 730/10000 [03:01<20:07,  7.68iteration/s]"
     ]
    },
    {
     "name": "stdout",
     "output_type": "stream",
     "text": [
      "Gap primal dual : 729 14894.566560157396 4.547473508864641e-13\n",
      "Objective value is :  2215.718964951127\n",
      "Gap primal dual : 730 18516.369384957296 4.547473508864641e-13\n",
      "Objective value is :  2190.788441068468\n",
      "Gap primal dual : 731 17512.203781353805 4.547473508864641e-13\n",
      "Objective value is :  2170.400384845006\n",
      "Gap primal dual : 732 14702.924053739534 4.547473508864641e-13\n",
      "Objective value is :  2152.9981294052595\n",
      "Gap primal dual : 733 13914.145501136276 -3.63706931238994e-09\n",
      "Objective value is :  2139.467486372998\n",
      "Gap primal dual : 734 13758.437131959856 -7.275048119481653e-09\n",
      "Objective value is :  2125.716796995617\n",
      "Gap primal dual : 735 11065.164613718416 -7.275048119481653e-09\n",
      "Objective value is :  2117.9433130959455\n"
     ]
    },
    {
     "name": "stderr",
     "output_type": "stream",
     "text": [
      "  7%|▋         | 730/10000 [03:12<20:07,  7.68iteration/s]"
     ]
    },
    {
     "name": "stdout",
     "output_type": "stream",
     "text": [
      "Gap primal dual : 736 11370.872546055225 -7.2755028668325394e-09\n",
      "Objective value is :  2110.9441567661697\n"
     ]
    },
    {
     "name": "stderr",
     "output_type": "stream",
     "text": [
      " 20%|██        | 2050/10000 [04:02<04:25, 30.00iteration/s] "
     ]
    },
    {
     "name": "stdout",
     "output_type": "stream",
     "text": [
      "Gap primal dual : 2056 11335.874257628 -3.63706931238994e-09\n",
      "Objective value is :  2110.942436264222\n",
      "Gap primal dual : 2057 8575.841629854061 -3.63706931238994e-09\n",
      "Objective value is :  2106.0975562970925\n",
      "Gap primal dual : 2058 7106.473585937301 -3.63706931238994e-09\n",
      "Objective value is :  2102.285708659524\n"
     ]
    },
    {
     "name": "stderr",
     "output_type": "stream",
     "text": [
      " 21%|██        | 2060/10000 [04:06<19:11,  6.90iteration/s]"
     ]
    },
    {
     "name": "stdout",
     "output_type": "stream",
     "text": [
      "Gap primal dual : 2059 5187.559523368033 -3.63706931238994e-09\n",
      "Objective value is :  2100.013084003939\n",
      "Gap primal dual : 2060 4735.238389090385 -3.6375240597408265e-09\n",
      "Objective value is :  2098.6057706510287\n"
     ]
    },
    {
     "name": "stderr",
     "output_type": "stream",
     "text": [
      " 41%|████      | 4110/10000 [05:26<03:22, 29.06iteration/s]"
     ]
    },
    {
     "name": "stdout",
     "output_type": "stream",
     "text": [
      "Gap primal dual : 4112 3981.8588440456015 -3.6375240597408265e-09\n",
      "Objective value is :  2098.6056490904657\n",
      "Gap primal dual : 4113 3168.855968813688 -3.63706931238994e-09\n",
      "Objective value is :  2097.779024236\n",
      "Gap primal dual : 4114 3170.568717849618 -3.63706931238994e-09\n",
      "Objective value is :  2097.1589991642786\n"
     ]
    },
    {
     "name": "stderr",
     "output_type": "stream",
     "text": [
      " 64%|██████▍   | 6380/10000 [06:54<02:15, 26.62iteration/s]"
     ]
    },
    {
     "name": "stdout",
     "output_type": "stream",
     "text": [
      "Gap primal dual : 6385 2484.237281634773 -7.275048119481653e-09\n",
      "Objective value is :  2097.1589005323917\n",
      "Gap primal dual : 6386 2225.0179014046134 -7.275048119481653e-09\n",
      "Objective value is :  2096.7752569667828\n"
     ]
    },
    {
     "name": "stderr",
     "output_type": "stream",
     "text": [
      " 72%|███████▏  | 7220/10000 [07:30<02:58, 15.59iteration/s]"
     ]
    },
    {
     "name": "stdout",
     "output_type": "stream",
     "text": [
      "Gap primal dual : 7219 2253.683190068231 -7.275048119481653e-09\n",
      "Objective value is :  2096.775212541443\n",
      "Gap primal dual : 7220 1855.8554609948499 -7.275048119481653e-09\n",
      "Objective value is :  2096.5203809295763\n"
     ]
    },
    {
     "name": "stderr",
     "output_type": "stream",
     "text": [
      " 94%|█████████▍| 9410/10000 [08:55<00:23, 25.33iteration/s]"
     ]
    },
    {
     "name": "stdout",
     "output_type": "stream",
     "text": [
      "Gap primal dual : 9418 1777.9639823903522 -1.0913026926573366e-08\n",
      "Objective value is :  2096.520367703313\n"
     ]
    },
    {
     "name": "stderr",
     "output_type": "stream",
     "text": [
      " 94%|█████████▍| 9420/10000 [08:57<00:47, 12.25iteration/s]"
     ]
    },
    {
     "name": "stdout",
     "output_type": "stream",
     "text": [
      "Gap primal dual : 9419 1557.4394813660483 -1.0913026926573366e-08\n",
      "Objective value is :  2096.3411500865254\n",
      "Gap primal dual : 9420 1257.1547887000138 -1.091257217922248e-08\n",
      "Objective value is :  2096.2223373166444\n",
      "Gap primal dual : 9421 1039.676156901849 -7.2745933721307665e-09\n",
      "Objective value is :  2096.1600604016116\n"
     ]
    },
    {
     "name": "stderr",
     "output_type": "stream",
     "text": [
      "100%|██████████| 10000/10000 [09:26<00:00, 17.67iteration/s]"
     ]
    },
    {
     "name": "stdout",
     "output_type": "stream",
     "text": [
      "Gap primal dual :  1137.8742535133106\n",
      "Objective value is :  2096.1600604016116\n"
     ]
    },
    {
     "name": "stderr",
     "output_type": "stream",
     "text": [
      "\n"
     ]
    }
   ],
   "source": [
    "K=10000\n",
    "nk=20\n",
    "n_pre=50\n",
    "np.random.seed(0)\n",
    "x_bar_k_1_no,df_1_no=standard.FW_st_solve(actual_time, analyse=True, K=K, nk=nk,n_pre=n_pre,optimize=False)"
   ]
  },
  {
   "cell_type": "code",
   "execution_count": 37,
   "metadata": {},
   "outputs": [
    {
     "data": {
      "image/png": "[encoded data removed]",
      "text/plain": [
       "<Figure size 432x288 with 1 Axes>"
      ]
     },
     "metadata": {
      "needs_background": "light"
     },
     "output_type": "display_data"
    }
   ],
   "source": [
    "plt.plot([x for x in range(50,10000)],df_1_no['best_score'].values[50:], label=\"FWstd 200 vehicles, not optimized\")\n",
    "plt.plot([x for x in range(50,10000)],df_1['best_score'].values[50:], label=\"FWstd 200 vehicles, optimized\")\n",
    "plt.yscale('log')\n",
    "plt.xscale('log')\n",
    "plt.legend()\n",
    "plt.title(\"Best score evolution of FW std with 200 vehicles\")\n",
    "plt.xlabel(\"Iteration\")\n",
    "plt.ylabel(\"Best score\")\n",
    "plt.show()"
   ]
  },
  {
   "cell_type": "code",
   "execution_count": 38,
   "metadata": {},
   "outputs": [
    {
     "data": {
      "image/png": "[encoded data removed]",
      "text/plain": [
       "<Figure size 432x288 with 1 Axes>"
      ]
     },
     "metadata": {
      "needs_background": "light"
     },
     "output_type": "display_data"
    }
   ],
   "source": [
    "plt.plot([x for x in range(50,10000)],df_1_no['gap_primal_dual'][50:].values, label=\"FWstd 200 vehicles, not optimized\")\n",
    "plt.plot([x for x in range(50,10000)],df_1['gap_primal_dual'][50:].values, label=\"FWstd 200 vehicles optimized\")\n",
    "plt.yscale('log')\n",
    "plt.xscale('log')\n",
    "plt.legend()\n",
    "plt.title(\"Gap primal-dual evolution of FW std with 200 vehicles\")\n",
    "plt.xlabel(\"Iteration\")\n",
    "plt.ylabel(\"Gap primal-dual\")\n",
    "plt.show()"
   ]
  },
  {
   "cell_type": "code",
   "execution_count": 22,
   "metadata": {},
   "outputs": [
    {
     "name": "stderr",
     "output_type": "stream",
     "text": [
      "  1%|          | 150/20000 [07:30<18:44:36,  3.40s/iteration]"
     ]
    },
    {
     "name": "stdout",
     "output_type": "stream",
     "text": [
      "Gap primal dual : 150 210860.89031339026 -4.547473508864641e-13\n",
      "Objective value is :  2766.722919867313\n",
      "Gap primal dual : 151 68357.9447139472 0.0\n",
      "Objective value is :  2728.017257177842\n",
      "Gap primal dual : 152 60332.57847512817 0.0\n",
      "Objective value is :  2482.7327917460007\n"
     ]
    },
    {
     "name": "stderr",
     "output_type": "stream",
     "text": [
      "  1%|          | 210/20000 [07:37<2:31:37,  2.18iteration/s] "
     ]
    },
    {
     "name": "stdout",
     "output_type": "stream",
     "text": [
      "Gap primal dual : 212 54216.05128457665 0.0\n",
      "Objective value is :  2482.0249990236434\n",
      "Gap primal dual : 213 46331.92150711132 0.0\n",
      "Objective value is :  2339.116256065715\n",
      "Gap primal dual : 214 39895.59594195961 4.547473508864641e-13\n",
      "Objective value is :  2236.8750179487947\n"
     ]
    },
    {
     "name": "stderr",
     "output_type": "stream",
     "text": [
      "  3%|▎         | 510/20000 [07:57<15:58, 20.32iteration/s]  "
     ]
    },
    {
     "name": "stdout",
     "output_type": "stream",
     "text": [
      "Gap primal dual : 512 31317.792659178143 4.547473508864641e-13\n",
      "Objective value is :  2236.8470109539344\n",
      "Gap primal dual : 513 31130.03529207793 3.637978807091713e-09\n",
      "Objective value is :  2204.669889400703\n",
      "Gap primal dual : 514 23931.625663929546 3.6375240597408265e-09\n",
      "Objective value is :  2165.7601319508885\n",
      "Gap primal dual : 515 21743.64109318854 3.6375240597408265e-09\n",
      "Objective value is :  2135.019946638452\n",
      "Gap primal dual : 516 15808.646082872785 3.637978807091713e-09\n",
      "Objective value is :  2125.274769037209\n"
     ]
    },
    {
     "name": "stderr",
     "output_type": "stream",
     "text": [
      "  3%|▎         | 680/20000 [08:12<12:22, 26.02iteration/s]  "
     ]
    },
    {
     "name": "stdout",
     "output_type": "stream",
     "text": [
      "Gap primal dual : 679 16470.456256016623 3.637978807091713e-09\n",
      "Objective value is :  2125.2278427970905\n"
     ]
    },
    {
     "name": "stderr",
     "output_type": "stream",
     "text": [
      "  8%|▊         | 1510/20000 [08:48<12:38, 24.37iteration/s]"
     ]
    },
    {
     "name": "stdout",
     "output_type": "stream",
     "text": [
      "Gap primal dual : 1509 17045.799348121534 3.6384335544425994e-09\n",
      "Objective value is :  2125.221053918008\n",
      "Gap primal dual : 1510 16762.465916797904 4.547473508864641e-13\n",
      "Objective value is :  2125.0824621130027\n",
      "Gap primal dual : 1511 14698.156042830458 4.547473508864641e-13\n",
      "Objective value is :  2113.75476395414\n",
      "Gap primal dual : 1512 10492.915811250805 0.0\n",
      "Objective value is :  2105.972927025437\n",
      "Gap primal dual : 1513 6061.555891768208 0.0\n",
      "Objective value is :  2104.37360679128\n",
      "Gap primal dual : 1514 7382.607541446705 0.0\n",
      "Objective value is :  2100.7139166796246\n",
      "Gap primal dual : 1515 6629.479125343023 0.0\n",
      "Objective value is :  2098.768332848401\n"
     ]
    },
    {
     "name": "stderr",
     "output_type": "stream",
     "text": [
      " 14%|█▎        | 2730/20000 [10:06<10:28, 27.49iteration/s]  "
     ]
    },
    {
     "name": "stdout",
     "output_type": "stream",
     "text": [
      "Gap primal dual : 2736 7694.975256173524 0.0\n",
      "Objective value is :  2098.766539994702\n",
      "Gap primal dual : 2737 5368.986164385592 0.0\n",
      "Objective value is :  2097.00575068391\n",
      "Gap primal dual : 2738 5739.658021824713 0.0\n",
      "Objective value is :  2096.9817733165128\n"
     ]
    },
    {
     "name": "stderr",
     "output_type": "stream",
     "text": [
      " 14%|█▎        | 2740/20000 [10:11<50:53,  5.65iteration/s]"
     ]
    },
    {
     "name": "stdout",
     "output_type": "stream",
     "text": [
      "Gap primal dual : 2739 4149.100731934044 4.547473508864641e-13\n",
      "Objective value is :  2096.080946492012\n"
     ]
    },
    {
     "name": "stderr",
     "output_type": "stream",
     "text": [
      " 38%|███▊      | 7650/20000 [13:59<07:37, 26.97iteration/s]"
     ]
    },
    {
     "name": "stdout",
     "output_type": "stream",
     "text": [
      "Gap primal dual : 7657 4594.400978187424 0.0\n",
      "Objective value is :  2096.080935725615\n",
      "Gap primal dual : 7658 3809.96819621345 4.547473508864641e-13\n",
      "Objective value is :  2095.681181358613\n"
     ]
    },
    {
     "name": "stderr",
     "output_type": "stream",
     "text": [
      " 38%|███▊      | 7660/20000 [14:02<24:48,  8.29iteration/s]"
     ]
    },
    {
     "name": "stdout",
     "output_type": "stream",
     "text": [
      "Gap primal dual : 7659 1922.9167324118212 -3.6375240597408265e-09\n",
      "Objective value is :  2095.4284199201206\n",
      "Gap primal dual : 7660 1995.1685905748186 0.0\n",
      "Objective value is :  2095.140662884839\n",
      "Gap primal dual : 7661 1991.046883449362 4.547473508864641e-13\n",
      "Objective value is :  2094.9180957273547\n",
      "Gap primal dual : 7662 1770.2353321002604 3.637978807091713e-09\n",
      "Objective value is :  2094.6777635957937\n",
      "Gap primal dual : 7663 1620.221398546041 3.637978807091713e-09\n",
      "Objective value is :  2094.4944453358685\n",
      "Gap primal dual : 7664 1308.7482146773411 3.6384335544425994e-09\n",
      "Objective value is :  2094.3804884172628\n",
      "Gap primal dual : 7665 1336.5094348227738 3.6384335544425994e-09\n",
      "Objective value is :  2094.3355723790064\n"
     ]
    },
    {
     "name": "stderr",
     "output_type": "stream",
     "text": [
      " 75%|███████▌  | 15060/20000 [19:28<03:06, 26.42iteration/s] "
     ]
    },
    {
     "name": "stdout",
     "output_type": "stream",
     "text": [
      "Gap primal dual : 15067 1683.4519848574537 3.637978807091713e-09\n",
      "Objective value is :  2094.3355608613965\n",
      "Gap primal dual : 15068 1186.263217916202 3.637978807091713e-09\n",
      "Objective value is :  2094.239383339377\n"
     ]
    },
    {
     "name": "stderr",
     "output_type": "stream",
     "text": [
      " 80%|███████▉  | 15940/20000 [20:05<02:36, 25.93iteration/s]"
     ]
    },
    {
     "name": "stdout",
     "output_type": "stream",
     "text": [
      "Gap primal dual : 15947 1081.2359283282235 3.637978807091713e-09\n",
      "Objective value is :  2094.2393757754994\n",
      "Gap primal dual : 15948 789.552215519668 3.6384335544425994e-09\n",
      "Objective value is :  2094.184228960672\n"
     ]
    },
    {
     "name": "stderr",
     "output_type": "stream",
     "text": [
      "100%|██████████| 20000/20000 [23:04<00:00, 14.44iteration/s]"
     ]
    },
    {
     "name": "stdout",
     "output_type": "stream",
     "text": [
      "Gap primal dual :  799.445530935126\n",
      "Objective value is :  2094.184228960672\n"
     ]
    },
    {
     "name": "stderr",
     "output_type": "stream",
     "text": [
      "\n"
     ]
    }
   ],
   "source": [
    "K=20000\n",
    "nk=20\n",
    "n_pre=150\n",
    "np.random.seed(0)\n",
    "x_bar_k_2,df_2=standard.FW_st_solve(actual_time, analyse=True, K=K, nk=nk,n_pre=n_pre)"
   ]
  },
  {
   "cell_type": "code",
   "execution_count": 23,
   "metadata": {},
   "outputs": [
    {
     "name": "stderr",
     "output_type": "stream",
     "text": [
      "  1%|          | 150/20000 [08:08<15:06:43,  2.74s/iteration]"
     ]
    },
    {
     "name": "stdout",
     "output_type": "stream",
     "text": [
      "Gap primal dual : 150 210860.89031339026 -4.547473508864641e-13\n",
      "Objective value is :  2766.722919867313\n",
      "Gap primal dual : 151 68356.47762497685 0.0\n",
      "Objective value is :  2727.101924163974\n",
      "Gap primal dual : 152 60261.61382270276 0.0\n",
      "Objective value is :  2481.9969752133043\n"
     ]
    },
    {
     "name": "stderr",
     "output_type": "stream",
     "text": [
      "  1%|          | 210/20000 [08:16<2:05:47,  2.62iteration/s] "
     ]
    },
    {
     "name": "stdout",
     "output_type": "stream",
     "text": [
      "Gap primal dual : 212 54179.0517654826 0.0\n",
      "Objective value is :  2481.5248780694396\n",
      "Gap primal dual : 213 46431.05485040145 0.0\n",
      "Objective value is :  2337.0389800011885\n",
      "Gap primal dual : 214 39647.24011528407 4.547473508864641e-13\n",
      "Objective value is :  2236.23962222958\n"
     ]
    },
    {
     "name": "stderr",
     "output_type": "stream",
     "text": [
      "  3%|▎         | 510/20000 [08:37<17:47, 18.26iteration/s]  "
     ]
    },
    {
     "name": "stdout",
     "output_type": "stream",
     "text": [
      "Gap primal dual : 513 31277.63969875396 3.637978807091713e-09\n",
      "Objective value is :  2236.1766876639626\n",
      "Gap primal dual : 514 31297.881831016628 3.6375240597408265e-09\n",
      "Objective value is :  2203.1449235402506\n",
      "Gap primal dual : 515 23651.457920465124 3.6375240597408265e-09\n",
      "Objective value is :  2165.1085135698536\n",
      "Gap primal dual : 516 22194.139186577 3.6375240597408265e-09\n",
      "Objective value is :  2132.725146476548\n",
      "Gap primal dual : 517 15354.663172427161 3.6375240597408265e-09\n",
      "Objective value is :  2124.314997138654\n"
     ]
    },
    {
     "name": "stderr",
     "output_type": "stream",
     "text": [
      "  4%|▎         | 730/20000 [08:53<11:55, 26.93iteration/s]  "
     ]
    },
    {
     "name": "stdout",
     "output_type": "stream",
     "text": [
      "Gap primal dual : 729 16110.224547826918 3.637978807091713e-09\n",
      "Objective value is :  2124.2916747718928\n"
     ]
    },
    {
     "name": "stderr",
     "output_type": "stream",
     "text": [
      " 10%|█         | 2010/20000 [09:40<10:29, 28.59iteration/s]"
     ]
    },
    {
     "name": "stdout",
     "output_type": "stream",
     "text": [
      "Gap primal dual : 2017 16162.090597694672 3.6375240597408265e-09\n",
      "Objective value is :  2124.2882830918306\n",
      "Gap primal dual : 2018 17012.872020372346 7.2755028668325394e-09\n",
      "Objective value is :  2119.2191158171922\n"
     ]
    },
    {
     "name": "stderr",
     "output_type": "stream",
     "text": [
      " 10%|█         | 2020/20000 [09:43<34:40,  8.64iteration/s]"
     ]
    },
    {
     "name": "stdout",
     "output_type": "stream",
     "text": [
      "Gap primal dual : 2019 10567.483093545572 7.275048119481653e-09\n",
      "Objective value is :  2113.0222159193277\n",
      "Gap primal dual : 2020 8063.95136765607 7.2755028668325394e-09\n",
      "Objective value is :  2109.053264205675\n",
      "Gap primal dual : 2021 7208.165965023085 1.0913481673924252e-08\n",
      "Objective value is :  2105.3008948545216\n",
      "Gap primal dual : 2022 6370.183270311805 1.0913026926573366e-08\n",
      "Objective value is :  2102.5225273342257\n",
      "Gap primal dual : 2023 5954.374650287311 1.0913481673924252e-08\n",
      "Objective value is :  2100.218249869857\n",
      "Gap primal dual : 2024 5490.631891972905 7.2755028668325394e-09\n",
      "Objective value is :  2098.672088836297\n",
      "Gap primal dual : 2025 5479.192337248748 7.275957614183426e-09\n",
      "Objective value is :  2096.2315943510976\n"
     ]
    },
    {
     "name": "stderr",
     "output_type": "stream",
     "text": [
      " 10%|█         | 2060/20000 [09:54<45:46,  6.53iteration/s]  "
     ]
    },
    {
     "name": "stdout",
     "output_type": "stream",
     "text": [
      "Gap primal dual : 2066 3690.3367085864893 7.275957614183426e-09\n",
      "Objective value is :  2096.230265557208\n"
     ]
    },
    {
     "name": "stderr",
     "output_type": "stream",
     "text": [
      " 22%|██▎       | 4500/20000 [11:32<10:20, 24.99iteration/s]"
     ]
    },
    {
     "name": "stdout",
     "output_type": "stream",
     "text": [
      "Gap primal dual : 4507 4508.58655378549 7.2755028668325394e-09\n",
      "Objective value is :  2096.2301471556902\n"
     ]
    },
    {
     "name": "stderr",
     "output_type": "stream",
     "text": [
      " 29%|██▉       | 5860/20000 [12:29<12:52, 18.29iteration/s]"
     ]
    },
    {
     "name": "stdout",
     "output_type": "stream",
     "text": [
      "Gap primal dual : 5865 5877.627593490566 7.275957614183426e-09\n",
      "Objective value is :  2096.2300374367696\n",
      "Gap primal dual : 5866 4187.447328580613 1.0913481673924252e-08\n",
      "Objective value is :  2095.8302876173348\n",
      "Gap primal dual : 5867 2473.8273184001355 1.4551005733665079e-08\n",
      "Objective value is :  2095.380261415775\n",
      "Gap primal dual : 5868 2387.7285025009332 1.4551005733665079e-08\n",
      "Objective value is :  2094.997879565297\n"
     ]
    },
    {
     "name": "stderr",
     "output_type": "stream",
     "text": [
      " 29%|██▉       | 5870/20000 [12:38<1:10:44,  3.33iteration/s]"
     ]
    },
    {
     "name": "stdout",
     "output_type": "stream",
     "text": [
      "Gap primal dual : 5869 2035.1871956518303 1.4551005733665079e-08\n",
      "Objective value is :  2094.743824646943\n"
     ]
    },
    {
     "name": "stderr",
     "output_type": "stream",
     "text": [
      " 37%|███▋      | 7340/20000 [13:46<15:15, 13.83iteration/s]  "
     ]
    },
    {
     "name": "stdout",
     "output_type": "stream",
     "text": [
      "Gap primal dual : 7345 1897.8352833639067 1.4551005733665079e-08\n",
      "Objective value is :  2094.743800377333\n",
      "Gap primal dual : 7346 1986.0004582546096 1.4551460481015965e-08\n",
      "Objective value is :  2094.4818948725547\n"
     ]
    },
    {
     "name": "stderr",
     "output_type": "stream",
     "text": [
      " 48%|████▊     | 9700/20000 [15:28<10:21, 16.56iteration/s]"
     ]
    },
    {
     "name": "stdout",
     "output_type": "stream",
     "text": [
      "Gap primal dual : 9700 1620.359806003739 1.4551005733665079e-08\n",
      "Objective value is :  2094.4818780874475\n",
      "Gap primal dual : 9701 1480.1430271981549 1.4551005733665079e-08\n",
      "Objective value is :  2094.355537886732\n",
      "Gap primal dual : 9702 1294.149571146498 1.4551460481015965e-08\n",
      "Objective value is :  2094.237867224128\n"
     ]
    },
    {
     "name": "stderr",
     "output_type": "stream",
     "text": [
      " 85%|████████▌ | 17010/20000 [20:52<02:00, 24.82iteration/s]"
     ]
    },
    {
     "name": "stdout",
     "output_type": "stream",
     "text": [
      "Gap primal dual : 17014 1074.3492286428452 1.4551460481015965e-08\n",
      "Objective value is :  2094.237865951041\n",
      "Gap primal dual : 17015 792.887548385531 1.4551005733665079e-08\n",
      "Objective value is :  2094.186970292324\n",
      "Gap primal dual : 17016 763.5117584352172 1.4551460481015965e-08\n",
      "Objective value is :  2094.150882547912\n",
      "Gap primal dual : 17017 546.0624457110787 1.4551460481015965e-08\n",
      "Objective value is :  2094.1348687043865\n"
     ]
    },
    {
     "name": "stderr",
     "output_type": "stream",
     "text": [
      "100%|██████████| 20000/20000 [22:58<00:00, 14.51iteration/s]"
     ]
    },
    {
     "name": "stdout",
     "output_type": "stream",
     "text": [
      "Gap primal dual :  675.9874426200513\n",
      "Objective value is :  2094.1348687043865\n"
     ]
    },
    {
     "name": "stderr",
     "output_type": "stream",
     "text": [
      "\n"
     ]
    }
   ],
   "source": [
    "K=20000\n",
    "nk=20\n",
    "n_pre=150\n",
    "np.random.seed(0)\n",
    "x_bar_k_2_no,df_2_no=standard.FW_st_solve(actual_time, analyse=True, K=K, nk=nk,n_pre=n_pre,optimize=False)"
   ]
  },
  {
   "cell_type": "code",
   "execution_count": 39,
   "metadata": {},
   "outputs": [
    {
     "data": {
      "image/png": "[encoded data removed]",
      "text/plain": [
       "<Figure size 432x288 with 1 Axes>"
      ]
     },
     "metadata": {
      "needs_background": "light"
     },
     "output_type": "display_data"
    }
   ],
   "source": [
    "plt.plot([x for x in range(150,20000)],df_2_no['best_score'].values[150:], label=\"FWstd 1000 vehicles, not optimized\")\n",
    "plt.plot([x for x in range(150,20000)],df_2['best_score'].values[150:], label=\"FWstd 1000 vehicles, optimized\")\n",
    "plt.yscale('log')\n",
    "plt.xscale('log')\n",
    "plt.legend()\n",
    "plt.title(\"Best score evolution of FW std with 200 vehicles(150 iterations of FWS)\")\n",
    "plt.xlabel(\"Iteration\")\n",
    "plt.ylabel(\"Best score\")\n",
    "plt.show()"
   ]
  },
  {
   "cell_type": "code",
   "execution_count": 40,
   "metadata": {},
   "outputs": [
    {
     "data": {
      "image/png": "[encoded data removed]",
      "text/plain": [
       "<Figure size 432x288 with 1 Axes>"
      ]
     },
     "metadata": {
      "needs_background": "light"
     },
     "output_type": "display_data"
    }
   ],
   "source": [
    "plt.plot([x for x in range(150,20000)],df_2_no['best_score'][150:].values, label=\"FWstd 1000 vehicles, not optimized\")\n",
    "plt.plot([x for x in range(150,20000)],df_2['best_score'][150:].values, label=\"FWstd 1000 vehicles, optimized\")\n",
    "plt.ylim(2090,2100)\n",
    "plt.xlim(5000,20000)\n",
    "plt.legend()\n",
    "plt.title(\"Best score evolution of FW std with 200 vehicles(150 iterations of FWS)\")\n",
    "plt.xlabel(\"Iteration\")\n",
    "plt.ylabel(\"Best score\")\n",
    "plt.show()"
   ]
  },
  {
   "cell_type": "code",
   "execution_count": 41,
   "metadata": {},
   "outputs": [
    {
     "data": {
      "image/png": "[encoded data removed]",
      "text/plain": [
       "<Figure size 432x288 with 1 Axes>"
      ]
     },
     "metadata": {
      "needs_background": "light"
     },
     "output_type": "display_data"
    }
   ],
   "source": [
    "plt.plot([x for x in range(150,20000)],df_2_no['best_score'][150:].values, label=\"FWstd 1000 vehicles, not optimized\")\n",
    "plt.plot([x for x in range(150,20000)],df_2['best_score'][150:].values, label=\"FWstd 1000 vehicles, optimized\")\n",
    "plt.yscale('log')\n",
    "plt.xscale('log')\n",
    "plt.legend()\n",
    "plt.title(\"Gap primal-dual evolution of FW std with 1000 vehicles\")\n",
    "plt.xlabel(\"Iteration\")\n",
    "plt.ylabel(\"Gap primal-dual\")\n",
    "plt.show()"
   ]
  },
  {
   "cell_type": "code",
   "execution_count": 12,
   "metadata": {},
   "outputs": [
    {
     "name": "stdout",
     "output_type": "stream",
     "text": [
      "valeur optimal par function objective: 2102.307489408024\n"
     ]
    }
   ],
   "source": [
    "N=1000\n",
    "actual_time=0\n",
    "instance_json(N)\n",
    "my_instance = \"../data/instance_\" + str(N) + \".json\"\n",
    "np.random.seed(0)\n",
    "frontal = Frontal(my_instance,actual_time)\n",
    "result,s_t_min,soc_max = frontal.Frontal_solve(actual_time)"
   ]
  },
  {
   "cell_type": "code",
   "execution_count": 13,
   "metadata": {},
   "outputs": [],
   "source": [
    "standard_1000 = Frank_Wolfe_Standard_v2(my_instance)"
   ]
  },
  {
   "cell_type": "code",
   "execution_count": 14,
   "metadata": {},
   "outputs": [
    {
     "name": "stderr",
     "output_type": "stream",
     "text": [
      "  0%|          | 50/10000 [11:36<39:30:57, 14.30s/iteration]"
     ]
    },
    {
     "name": "stdout",
     "output_type": "stream",
     "text": [
      "Gap primal dual : 50 394111.2730806778 0.0\n",
      "Objective value is :  11706.924483108103\n",
      "Gap primal dual : 51 243302.13664291153 0.0\n",
      "Objective value is :  9049.33543528549\n",
      "Gap primal dual : 52 188014.25788334172 0.0\n",
      "Objective value is :  7083.955070594147\n",
      "Gap primal dual : 53 151637.13453340915 0.0\n",
      "Objective value is :  5622.765333478122\n",
      "Gap primal dual : 54 113859.2813968093 4.547473508864641e-13\n",
      "Objective value is :  4638.945690276098\n",
      "Gap primal dual : 55 81628.05484314017 0.0\n",
      "Objective value is :  4138.910692996886\n",
      "Gap primal dual : 56 81759.12920578475 4.547473508864641e-13\n",
      "Objective value is :  3605.065174022506\n",
      "Gap primal dual : 57 77476.06535719956 4.547473508864641e-13\n",
      "Objective value is :  3050.633784443407\n",
      "Gap primal dual : 58 71874.97543650864 4.547473508864641e-13\n",
      "Objective value is :  2625.2577814069286\n"
     ]
    },
    {
     "name": "stderr",
     "output_type": "stream",
     "text": [
      "  1%|          | 60/10000 [12:56<33:34:26, 12.16s/iteration]"
     ]
    },
    {
     "name": "stdout",
     "output_type": "stream",
     "text": [
      "Gap primal dual : 59 44660.75002732692 3.637978807091713e-09\n",
      "Objective value is :  2558.476183316162\n"
     ]
    },
    {
     "name": "stderr",
     "output_type": "stream",
     "text": [
      "  3%|▎         | 340/10000 [13:42<24:38,  6.54iteration/s]  "
     ]
    },
    {
     "name": "stdout",
     "output_type": "stream",
     "text": [
      "Gap primal dual : 348 53980.16088305404 7.275957614183426e-09\n",
      "Objective value is :  2557.9640465826237\n"
     ]
    },
    {
     "name": "stderr",
     "output_type": "stream",
     "text": [
      "  4%|▎         | 350/10000 [13:54<1:18:30,  2.05iteration/s]"
     ]
    },
    {
     "name": "stdout",
     "output_type": "stream",
     "text": [
      "Gap primal dual : 349 55194.79171699208 7.275957614183426e-09\n",
      "Objective value is :  2484.022569382406\n"
     ]
    },
    {
     "name": "stderr",
     "output_type": "stream",
     "text": [
      "  4%|▎         | 360/10000 [14:06<1:51:41,  1.44iteration/s]"
     ]
    },
    {
     "name": "stdout",
     "output_type": "stream",
     "text": [
      "Gap primal dual : 367 50860.12524828776 7.275957614183426e-09\n",
      "Objective value is :  2483.9661356326046\n",
      "Gap primal dual : 368 46052.24971508806 7.275957614183426e-09\n",
      "Objective value is :  2343.577561165404\n"
     ]
    },
    {
     "name": "stderr",
     "output_type": "stream",
     "text": [
      "  4%|▎         | 370/10000 [14:20<2:26:00,  1.10iteration/s]"
     ]
    },
    {
     "name": "stdout",
     "output_type": "stream",
     "text": [
      "Gap primal dual : 369 30854.645183150355 7.275957614183426e-09\n",
      "Objective value is :  2265.3145487823026\n",
      "Gap primal dual : 370 21854.89317054493 7.275957614183426e-09\n",
      "Objective value is :  2230.242319957412\n",
      "Gap primal dual : 371 21961.194216525822 1.0913936421275139e-08\n",
      "Objective value is :  2191.946972973201\n",
      "Gap primal dual : 372 21377.597676451576 1.0913936421275139e-08\n",
      "Objective value is :  2151.3085017063627\n"
     ]
    },
    {
     "name": "stderr",
     "output_type": "stream",
     "text": [
      "  8%|▊         | 770/10000 [15:58<23:10,  6.64iteration/s]  "
     ]
    },
    {
     "name": "stdout",
     "output_type": "stream",
     "text": [
      "Gap primal dual : 769 18926.314599346355 7.275957614183426e-09\n",
      "Objective value is :  2151.2804498325727\n",
      "Gap primal dual : 770 14605.269097492112 1.0914391168626025e-08\n",
      "Objective value is :  2131.178853349913\n"
     ]
    },
    {
     "name": "stderr",
     "output_type": "stream",
     "text": [
      " 13%|█▎        | 1280/10000 [17:34<22:13,  6.54iteration/s] "
     ]
    },
    {
     "name": "stdout",
     "output_type": "stream",
     "text": [
      "Gap primal dual : 1286 12057.650863626859 1.4551915228366852e-08\n",
      "Objective value is :  2131.1683175826292\n",
      "Gap primal dual : 1287 10334.954750618685 1.4551915228366852e-08\n",
      "Objective value is :  2121.8581986766076\n",
      "Gap primal dual : 1288 9959.204543348262 1.4551915228366852e-08\n",
      "Objective value is :  2114.1750318852455\n"
     ]
    },
    {
     "name": "stderr",
     "output_type": "stream",
     "text": [
      " 26%|██▋       | 2650/10000 [21:37<18:40,  6.56iteration/s]  "
     ]
    },
    {
     "name": "stdout",
     "output_type": "stream",
     "text": [
      "Gap primal dual : 2650 9325.881521411791 1.0913936421275139e-08\n",
      "Objective value is :  2114.1742424899767\n",
      "Gap primal dual : 2651 8110.322799405375 1.0913936421275139e-08\n",
      "Objective value is :  2109.7924672712998\n",
      "Gap primal dual : 2652 6408.691475214256 1.0914391168626025e-08\n",
      "Objective value is :  2109.150438246405\n",
      "Gap primal dual : 2653 5378.222174755704 1.4551915228366852e-08\n",
      "Objective value is :  2106.7880047079816\n",
      "Gap primal dual : 2654 4037.77072138912 1.0913936421275139e-08\n",
      "Objective value is :  2105.4481039006473\n",
      "Gap primal dual : 2655 3809.0863477914513 1.0913936421275139e-08\n",
      "Objective value is :  2104.4019534051727\n",
      "Gap primal dual : 2656 3207.5044216061447 7.276412361534312e-09\n",
      "Objective value is :  2103.6746892160227\n"
     ]
    },
    {
     "name": "stderr",
     "output_type": "stream",
     "text": [
      " 66%|██████▌   | 6580/10000 [33:34<12:15,  4.65iteration/s]  "
     ]
    },
    {
     "name": "stdout",
     "output_type": "stream",
     "text": [
      "Gap primal dual : 6583 3533.2378647983505 7.276412361534312e-09\n",
      "Objective value is :  2103.674578627596\n",
      "Gap primal dual : 6584 3133.932116079749 7.276412361534312e-09\n",
      "Objective value is :  2103.482800945488\n",
      "Gap primal dual : 6585 2793.4109772001834 7.276412361534312e-09\n",
      "Objective value is :  2103.408917984376\n",
      "Gap primal dual : 6586 1990.9565951928698 7.276412361534312e-09\n",
      "Objective value is :  2103.098105959905\n",
      "Gap primal dual : 6587 1831.376043981498 7.276412361534312e-09\n",
      "Objective value is :  2102.7912569535865\n"
     ]
    },
    {
     "name": "stderr",
     "output_type": "stream",
     "text": [
      "100%|██████████| 10000/10000 [43:53<00:00,  3.80iteration/s] "
     ]
    },
    {
     "name": "stdout",
     "output_type": "stream",
     "text": [
      "Gap primal dual :  1823.2773027636786\n",
      "Objective value is :  2102.7912569535865\n"
     ]
    },
    {
     "name": "stderr",
     "output_type": "stream",
     "text": [
      "\n"
     ]
    }
   ],
   "source": [
    "K=10000\n",
    "nk=20\n",
    "n_pre=50\n",
    "np.random.seed(0)\n",
    "x_bar_k_1_1000,df_1_1000=standard_1000.FW_st_solve(actual_time, analyse=True, K=K, nk=nk,n_pre=n_pre)"
   ]
  },
  {
   "cell_type": "code",
   "execution_count": 15,
   "metadata": {},
   "outputs": [
    {
     "name": "stderr",
     "output_type": "stream",
     "text": [
      "  0%|          | 50/10000 [10:30<34:53:08, 12.62s/iteration]"
     ]
    },
    {
     "name": "stdout",
     "output_type": "stream",
     "text": [
      "Gap primal dual : 50 393211.6290375891 0.0\n",
      "Objective value is :  11699.280941298257\n",
      "Gap primal dual : 51 246110.62845980958 0.0\n",
      "Objective value is :  9009.646191164971\n",
      "Gap primal dual : 52 186922.87048129216 4.547473508864641e-13\n",
      "Objective value is :  7058.079084212812\n",
      "Gap primal dual : 53 152946.64656180172 0.0\n",
      "Objective value is :  5594.25240276562\n",
      "Gap primal dual : 54 115020.36525006508 0.0\n",
      "Objective value is :  4572.535931436269\n",
      "Gap primal dual : 55 81049.35244900377 0.0\n",
      "Objective value is :  4095.6019937560213\n",
      "Gap primal dual : 56 81052.49575222467 4.547473508864641e-13\n",
      "Objective value is :  3570.0776484851476\n",
      "Gap primal dual : 57 77325.11191491512 0.0\n",
      "Objective value is :  3018.5427353981922\n",
      "Gap primal dual : 58 71496.21988924632 4.547473508864641e-13\n",
      "Objective value is :  2617.481803083147\n"
     ]
    },
    {
     "name": "stderr",
     "output_type": "stream",
     "text": [
      "  1%|          | 60/10000 [11:39<29:28:14, 10.67s/iteration]"
     ]
    },
    {
     "name": "stdout",
     "output_type": "stream",
     "text": [
      "Gap primal dual : 59 44770.22796027869 3.637978807091713e-09\n",
      "Objective value is :  2534.314700664708\n"
     ]
    },
    {
     "name": "stderr",
     "output_type": "stream",
     "text": [
      "  4%|▍         | 410/10000 [12:41<27:21,  5.84iteration/s]  "
     ]
    },
    {
     "name": "stdout",
     "output_type": "stream",
     "text": [
      "Gap primal dual : 410 47230.927230453344 3.637978807091713e-09\n",
      "Objective value is :  2534.1730760105356\n",
      "Gap primal dual : 411 62195.45142044511 3.637978807091713e-09\n",
      "Objective value is :  2479.420527630189\n",
      "Gap primal dual : 412 49082.08872274648 3.6384335544425994e-09\n",
      "Objective value is :  2336.2579094613443\n",
      "Gap primal dual : 413 28881.81316060516 4.547473508864641e-13\n",
      "Objective value is :  2272.5242811649505\n",
      "Gap primal dual : 414 23374.59468581745 9.094947017729282e-13\n",
      "Objective value is :  2222.632721777349\n",
      "Gap primal dual : 415 22449.65317986914 4.547473508864641e-13\n",
      "Objective value is :  2180.8637651209947\n",
      "Gap primal dual : 416 18920.854604802247 4.547473508864641e-13\n",
      "Objective value is :  2156.526707659943\n",
      "Gap primal dual : 417 15061.51348451173 4.547473508864641e-13\n",
      "Objective value is :  2140.7308272451864\n"
     ]
    },
    {
     "name": "stderr",
     "output_type": "stream",
     "text": [
      " 14%|█▎        | 1360/10000 [16:02<23:01,  6.25iteration/s] "
     ]
    },
    {
     "name": "stdout",
     "output_type": "stream",
     "text": [
      "Gap primal dual : 1363 17930.462045796932 3.6384335544425994e-09\n",
      "Objective value is :  2140.7234987266584\n"
     ]
    },
    {
     "name": "stderr",
     "output_type": "stream",
     "text": [
      " 15%|█▍        | 1490/10000 [16:29<21:43,  6.53iteration/s]"
     ]
    },
    {
     "name": "stdout",
     "output_type": "stream",
     "text": [
      "Gap primal dual : 1493 18038.270852289097 3.637978807091713e-09\n",
      "Objective value is :  2140.7169450993756\n",
      "Gap primal dual : 1494 15032.388271528178 3.6384335544425994e-09\n",
      "Objective value is :  2132.077131074785\n",
      "Gap primal dual : 1495 8294.302359527319 3.6384335544425994e-09\n",
      "Objective value is :  2126.578929083511\n",
      "Gap primal dual : 1496 7879.801541384115 7.275957614183426e-09\n",
      "Objective value is :  2121.575817603733\n",
      "Gap primal dual : 1497 8412.613511366133 7.275957614183426e-09\n",
      "Objective value is :  2115.456039138661\n",
      "Gap primal dual : 1498 7642.592095570099 7.275957614183426e-09\n",
      "Objective value is :  2110.4683189951384\n"
     ]
    },
    {
     "name": "stderr",
     "output_type": "stream",
     "text": [
      " 15%|█▌        | 1500/10000 [17:25<4:15:12,  1.80s/iteration]"
     ]
    },
    {
     "name": "stdout",
     "output_type": "stream",
     "text": [
      "Gap primal dual : 1499 5496.503997333904 7.276412361534312e-09\n",
      "Objective value is :  2108.711070302159\n",
      "Gap primal dual : 1500 5319.217402364725 7.275957614183426e-09\n",
      "Objective value is :  2106.478775373338\n"
     ]
    },
    {
     "name": "stderr",
     "output_type": "stream",
     "text": [
      " 45%|████▍     | 4470/10000 [25:52<15:17,  6.03iteration/s]  "
     ]
    },
    {
     "name": "stdout",
     "output_type": "stream",
     "text": [
      "Gap primal dual : 4475 5537.997392888329 7.275957614183426e-09\n",
      "Objective value is :  2106.4784606749968\n"
     ]
    },
    {
     "name": "stderr",
     "output_type": "stream",
     "text": [
      " 51%|█████▏    | 5130/10000 [27:54<14:05,  5.76iteration/s]"
     ]
    },
    {
     "name": "stdout",
     "output_type": "stream",
     "text": [
      "Gap primal dual : 5134 5626.241438930041 7.275957614183426e-09\n",
      "Objective value is :  2106.4781485929143\n",
      "Gap primal dual : 5135 4779.208386742046 3.6384335544425994e-09\n",
      "Objective value is :  2105.8556759748217\n",
      "Gap primal dual : 5136 2889.7350945162543 3.6384335544425994e-09\n",
      "Objective value is :  2105.139652022302\n",
      "Gap primal dual : 5137 2593.6372497787224 7.275957614183426e-09\n",
      "Objective value is :  2104.611752797355\n",
      "Gap primal dual : 5138 2636.928905224171 1.0913936421275139e-08\n",
      "Objective value is :  2104.065259397892\n"
     ]
    },
    {
     "name": "stderr",
     "output_type": "stream",
     "text": [
      " 51%|█████▏    | 5140/10000 [28:35<1:50:28,  1.36s/iteration]"
     ]
    },
    {
     "name": "stdout",
     "output_type": "stream",
     "text": [
      "Gap primal dual : 5139 2304.755017779914 1.0914391168626025e-08\n",
      "Objective value is :  2103.630714313355\n",
      "Gap primal dual : 5140 2364.3926840927375 1.0913936421275139e-08\n",
      "Objective value is :  2103.1401869880992\n",
      "Gap primal dual : 5141 1805.6637257129369 1.0914391168626025e-08\n",
      "Objective value is :  2102.8894250450185\n",
      "Gap primal dual : 5142 1677.0951724625972 1.0913936421275139e-08\n",
      "Objective value is :  2102.713607102805\n"
     ]
    },
    {
     "name": "stderr",
     "output_type": "stream",
     "text": [
      " 87%|████████▋ | 8670/10000 [39:32<04:01,  5.51iteration/s]  "
     ]
    },
    {
     "name": "stdout",
     "output_type": "stream",
     "text": [
      "Gap primal dual : 8678 1806.009678540034 1.0913481673924252e-08\n",
      "Objective value is :  2102.713586819808\n"
     ]
    },
    {
     "name": "stderr",
     "output_type": "stream",
     "text": [
      "100%|██████████| 10000/10000 [43:32<00:00,  3.83iteration/s]"
     ]
    },
    {
     "name": "stdout",
     "output_type": "stream",
     "text": [
      "Gap primal dual :  1822.8363834457123\n",
      "Objective value is :  2102.713586819808\n"
     ]
    },
    {
     "name": "stderr",
     "output_type": "stream",
     "text": [
      "\n"
     ]
    }
   ],
   "source": [
    "K=10000\n",
    "nk=20\n",
    "n_pre=50\n",
    "np.random.seed(0)\n",
    "x_bar_k_1_1000_no,df_1_1000_no=standard_1000.FW_st_solve(actual_time, analyse=True, K=K, nk=nk,n_pre=n_pre, optimize=False)"
   ]
  },
  {
   "cell_type": "code",
   "execution_count": 42,
   "metadata": {},
   "outputs": [
    {
     "data": {
      "image/png": "[encoded data removed]",
      "text/plain": [
       "<Figure size 432x288 with 1 Axes>"
      ]
     },
     "metadata": {
      "needs_background": "light"
     },
     "output_type": "display_data"
    }
   ],
   "source": [
    "plt.plot([x for x in range(50, 10000)],df_1_1000_no['best_score'].values[50:], label=\"FWstd 1000 vehicles, not optimized\")\n",
    "plt.plot([x for x in range(50, 10000)],df_1_1000['best_score'].values[50:], label=\"FWstd 1000 vehicles, optimized\")\n",
    "plt.yscale('log')\n",
    "plt.xscale('log')\n",
    "plt.legend()\n",
    "plt.title(\"Best score evolution of FW std with 1000 vehicles\")\n",
    "plt.xlabel(\"Iteration\")\n",
    "plt.ylabel(\"Best score\")\n",
    "plt.show()"
   ]
  },
  {
   "cell_type": "code",
   "execution_count": 43,
   "metadata": {},
   "outputs": [
    {
     "data": {
      "image/png": "[encoded data removed]",
      "text/plain": [
       "<Figure size 432x288 with 1 Axes>"
      ]
     },
     "metadata": {
      "needs_background": "light"
     },
     "output_type": "display_data"
    }
   ],
   "source": [
    "plt.plot([x for x in range(50,10000)],df_1_1000_no['gap_primal_dual'][50:].values, label=\"FWstd 1000 vehicles, not optimized\")\n",
    "plt.plot([x for x in range(50,10000)],df_1_1000['gap_primal_dual'][50:].values, label=\"FWstd 1000 vehicles optimized\")\n",
    "plt.yscale('log')\n",
    "plt.xscale('log')\n",
    "plt.legend()\n",
    "plt.title(\"Gap primal-dual evolution of FW std with 1000 vehicles\")\n",
    "plt.xlabel(\"Iteration\")\n",
    "plt.ylabel(\"Gap primal-dual\")\n",
    "plt.show()"
   ]
  },
  {
   "cell_type": "code",
   "execution_count": null,
   "metadata": {},
   "outputs": [],
   "source": []
  },
  {
   "cell_type": "code",
   "execution_count": null,
   "metadata": {},
   "outputs": [],
   "source": [
    "from Frank_Wolfe_st import *\n"
   ]
  },
  {
   "cell_type": "code",
   "execution_count": null,
   "metadata": {},
   "outputs": [],
   "source": [
    "N=200\n",
    "actual_time=0\n",
    "my_instance = \"../data/instance_\" + str(N) + \".json\"\n",
    "np.random.seed(0)\n",
    "standard_v1 = Frank_Wolfe_Standard(my_instance)"
   ]
  },
  {
   "cell_type": "code",
   "execution_count": null,
   "metadata": {},
   "outputs": [],
   "source": [
    "K=2000\n",
    "nk=20\n",
    "n_pre=50\n",
    "np.random.seed(0)\n",
    "x_bar_k_1_bis, df_1_bis=standard_v1.FW_st_solve(actual_time, analyse=True, K=K, nk=nk,n_pre=n_pre)"
   ]
  },
  {
   "cell_type": "code",
   "execution_count": null,
   "metadata": {},
   "outputs": [],
   "source": [
    "plt.plot([x for x in range(2000)],df_1['best_score'].values, label=\"FWstd v2 200 vehicles\")\n",
    "plt.plot([x for x in range(2000)],df_1_bis['best_score'].values, label=\"FWstd 200 vehicles\")\n",
    "plt.yscale('log')\n",
    "plt.legend()\n",
    "plt.title(\"Best score evolution of FW std with 200 vehicles\")\n",
    "plt.xlabel(\"Iteration\")\n",
    "plt.ylabel(\"Best score\")\n",
    "plt.show()"
   ]
  },
  {
   "cell_type": "code",
   "execution_count": null,
   "metadata": {},
   "outputs": [],
   "source": [
    "K=5000\n",
    "nk=20\n",
    "n_pre=50\n",
    "np.random.seed(0)\n",
    "x_bar_k_2,df_2=standard.FW_st_solve(actual_time, analyse=True, K=K+1, nk=nk,n_pre=n_pre)"
   ]
  },
  {
   "cell_type": "code",
   "execution_count": null,
   "metadata": {},
   "outputs": [],
   "source": [
    "plt.plot([x for x in range(5001)],df_1['best_score'].values, label=\"FWstd 200 vehicles\")\n",
    "plt.yscale('log')\n",
    "plt.legend()\n",
    "plt.title(\"Best score evolution of FW std with 200 vehicles\")\n",
    "plt.xlabel(\"Iteration\")\n",
    "plt.ylabel(\"Best score\")\n",
    "plt.show()"
   ]
  },
  {
   "cell_type": "code",
   "execution_count": null,
   "metadata": {},
   "outputs": [],
   "source": [
    "plt.plot([x for x in range(1,5001)],df_1['gap_primal_dual'][1:].values, label=\"FWstd 200 vehicles\")\n",
    "plt.yscale('log')\n",
    "plt.xscale('log')\n",
    "plt.legend()\n",
    "plt.title(\"Gap primal-dual evolution of FW std with 200 vehicles\")\n",
    "plt.xlabel(\"Iteration\")\n",
    "plt.ylabel(\"Gap primal-dual\")\n",
    "plt.show()"
   ]
  },
  {
   "cell_type": "code",
   "execution_count": null,
   "metadata": {},
   "outputs": [],
   "source": [
    "standard2 = Frank_Wolfe_Standard_v2(my_instance)"
   ]
  },
  {
   "cell_type": "code",
   "execution_count": null,
   "metadata": {},
   "outputs": [],
   "source": [
    "K=2000\n",
    "nk=20\n",
    "n_pre=50\n",
    "np.random.seed(0)\n",
    "x_bar_k_1,df_1=standard2.FW_st_solve(actual_time, analyse=True, K=K, nk=nk,n_pre=n_pre)"
   ]
  },
  {
   "cell_type": "code",
   "execution_count": 44,
   "metadata": {},
   "outputs": [
    {
     "name": "stderr",
     "output_type": "stream",
     "text": [
      "[autoreload of Frank_Wolfe_st_v2 failed: Traceback (most recent call last):\n",
      "  File \"/Users/xinyuhuangmac/opt/anaconda3/lib/python3.7/site-packages/IPython/extensions/autoreload.py\", line 245, in check\n",
      "    superreload(m, reload, self.old_objects)\n",
      "  File \"/Users/xinyuhuangmac/opt/anaconda3/lib/python3.7/site-packages/IPython/extensions/autoreload.py\", line 450, in superreload\n",
      "    update_generic(old_obj, new_obj)\n",
      "  File \"/Users/xinyuhuangmac/opt/anaconda3/lib/python3.7/site-packages/IPython/extensions/autoreload.py\", line 387, in update_generic\n",
      "    update(a, b)\n",
      "  File \"/Users/xinyuhuangmac/opt/anaconda3/lib/python3.7/site-packages/IPython/extensions/autoreload.py\", line 357, in update_class\n",
      "    update_instances(old, new)\n",
      "  File \"/Users/xinyuhuangmac/opt/anaconda3/lib/python3.7/site-packages/IPython/extensions/autoreload.py\", line 317, in update_instances\n",
      "    update_instances(old, new, obj, visited)\n",
      "  File \"/Users/xinyuhuangmac/opt/anaconda3/lib/python3.7/site-packages/IPython/extensions/autoreload.py\", line 317, in update_instances\n",
      "    update_instances(old, new, obj, visited)\n",
      "  File \"/Users/xinyuhuangmac/opt/anaconda3/lib/python3.7/site-packages/IPython/extensions/autoreload.py\", line 317, in update_instances\n",
      "    update_instances(old, new, obj, visited)\n",
      "  [Previous line repeated 1 more time]\n",
      "  File \"/Users/xinyuhuangmac/opt/anaconda3/lib/python3.7/site-packages/IPython/extensions/autoreload.py\", line 300, in update_instances\n",
      "    for obj in (obj for obj in objects if id(obj) not in visited):\n",
      "  File \"/Users/xinyuhuangmac/opt/anaconda3/lib/python3.7/site-packages/IPython/extensions/autoreload.py\", line 300, in <genexpr>\n",
      "    for obj in (obj for obj in objects if id(obj) not in visited):\n",
      "KeyboardInterrupt\n",
      "]\n"
     ]
    },
    {
     "ename": "ModuleNotFoundError",
     "evalue": "No module named 'Frontal'",
     "output_type": "error",
     "traceback": [
      "\u001b[0;31m---------------------------------------------------------------------------\u001b[0m",
      "\u001b[0;31mModuleNotFoundError\u001b[0m                       Traceback (most recent call last)",
      "\u001b[0;32m<ipython-input-44-bebaa869ba03>\u001b[0m in \u001b[0;36m<module>\u001b[0;34m\u001b[0m\n\u001b[0;32m----> 1\u001b[0;31m \u001b[0;32mfrom\u001b[0m \u001b[0mFrontal\u001b[0m \u001b[0;32mimport\u001b[0m \u001b[0;34m*\u001b[0m\u001b[0;34m\u001b[0m\u001b[0;34m\u001b[0m\u001b[0m\n\u001b[0m",
      "\u001b[0;31mModuleNotFoundError\u001b[0m: No module named 'Frontal'"
     ]
    }
   ],
   "source": [
    "N=200\n",
    "actual_time=0\n",
    "instance_json(N)\n",
    "my_instance = \"../data/instance_\" + str(N) + \".json\"\n",
    "np.random.seed(0)\n",
    "frontal = Frontal(my_instance,actual_time)\n",
    "result,s_t_min,soc_max = frontal.Frontal_solve(actual_time)"
   ]
  },
  {
   "cell_type": "code",
   "execution_count": null,
   "metadata": {},
   "outputs": [],
   "source": []
  }
 ],
 "metadata": {
  "kernelspec": {
   "display_name": "base",
   "language": "python",
   "name": "python3"
  },
  "language_info": {
   "codemirror_mode": {
    "name": "ipython",
    "version": 3
   },
   "file_extension": ".py",
   "mimetype": "text/x-python",
   "name": "python",
   "nbconvert_exporter": "python",
   "pygments_lexer": "ipython3",
   "version": "3.7.4 (default, Aug 13 2019, 15:17:50) \n[Clang 4.0.1 (tags/RELEASE_401/final)]"
  },
  "orig_nbformat": 4,
  "vscode": {
   "interpreter": {
    "hash": "61b7b18d34c3fa69719dbff512ad23fff8bc59ee7052faf1d64f93f10792958b"
   }
  }
 },
 "nbformat": 4,
 "nbformat_minor": 2
}
