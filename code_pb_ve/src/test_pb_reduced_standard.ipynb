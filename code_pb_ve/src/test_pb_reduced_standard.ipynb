{
 "cells": [
  {
   "cell_type": "code",
   "execution_count": 1,
   "metadata": {},
   "outputs": [],
   "source": [
    "import time\n",
    "import numpy as np\n",
    "import matplotlib.pyplot as plt\n",
    "import sys\n",
    "import json\n",
    "sys.path.append('/Applications/CPLEX_Studio221/cplex/python/3.7/x86-64_osx/cplex/_internal')\n",
    "sys.path.append('/Users/xinyuhuangmac/Google Drive/Stage/code_pb_ve/src')\n",
    "sys.path.append('/Users/xinyuhuangmac/Google Drive/Stage/code_pb_ve/data')\n",
    "import py37_cplex2210 as cplex\n",
    "from generator import *"
   ]
  },
  {
   "cell_type": "code",
   "execution_count": 123,
   "metadata": {},
   "outputs": [],
   "source": [
    "%reload_ext autoreload\n",
    "%autoreload 2\n",
    "from frontal_algo_no_beta import *\n",
    "#from pr_Frank_Wolfe_stochastique import *\n",
    "from pr_Frank_Wolfe_standard import *\n",
    "from pr_Frank_Wolfe_standard_v2 import *\n",
    "from pr_Frank_Wolfe_standard_v3 import *\n",
    "from tools import *"
   ]
  },
  {
   "cell_type": "code",
   "execution_count": 124,
   "metadata": {},
   "outputs": [
    {
     "name": "stdout",
     "output_type": "stream",
     "text": [
      "valeur optimal par function objective: 2105.6028323480323\n"
     ]
    }
   ],
   "source": [
    "N=200\n",
    "actual_time=0\n",
    "#instance_json(N)\n",
    "my_instance = \"../data/instance_200_tested.json\"\n",
    "#my_instance = \"../data/instance_200.json\"\n",
    "np.random.seed(0)\n",
    "frontal = Frontal(my_instance,actual_time)\n",
    "result,s_t_min,soc_max,optimal_value = frontal.Frontal_solve(actual_time)"
   ]
  },
  {
   "cell_type": "code",
   "execution_count": 125,
   "metadata": {},
   "outputs": [],
   "source": [
    "reduced_FW_standard = Frank_Wolfe_Reduced_standard(my_instance)"
   ]
  },
  {
   "cell_type": "code",
   "execution_count": 126,
   "metadata": {},
   "outputs": [
    {
     "name": "stderr",
     "output_type": "stream",
     "text": [
      "\n",
      "\u001b[A"
     ]
    },
    {
     "name": "stdout",
     "output_type": "stream",
     "text": [
      "Iteration :  0\n"
     ]
    },
    {
     "name": "stderr",
     "output_type": "stream",
     "text": [
      "Exception ignored in: <function Cplex.__del__ at 0x7fce93382830>\n",
      "Traceback (most recent call last):\n",
      "  File \"/Applications/CPLEX_Studio221/cplex/python/3.7/x86-64_osx/cplex/__init__.py\", line 925, in __del__\n",
      "    self.end()\n",
      "  File \"/Applications/CPLEX_Studio221/cplex/python/3.7/x86-64_osx/cplex/__init__.py\", line 921, in end\n",
      "    self._env._end()\n",
      "  File \"/Applications/CPLEX_Studio221/cplex/python/3.7/x86-64_osx/cplex/_internal/__init__.py\", line 153, in _end\n",
      "    self._delete_stream(chnl_idx)\n",
      "  File \"/Applications/CPLEX_Studio221/cplex/python/3.7/x86-64_osx/cplex/_internal/__init__.py\", line 247, in _delete_stream\n",
      "    self._streams[which_channel])\n",
      "  File \"/Applications/CPLEX_Studio221/cplex/python/3.7/x86-64_osx/cplex/_internal/_procedural.py\", line 306, in delfuncdest\n",
      "    check_status(env, status)\n",
      "  File \"/Applications/CPLEX_Studio221/cplex/python/3.7/x86-64_osx/cplex/_internal/_procedural.py\", line 249, in __call__\n",
      "    raise CplexSolverError(error_string, env, status)\n",
      "cplex.exceptions.errors.CplexSolverError: CPLEX Error  1053: No function pointer found for message routine.\n",
      "\n",
      " 30%|███       | 30/100 [14:26:53<33:42:44, 1733.78s/iteration]\n"
     ]
    },
    {
     "name": "stdout",
     "output_type": "stream",
     "text": [
      "after 517624.352832348\n",
      "Iteration :  1\n",
      "after 517624.352832348\n",
      "Iteration :  2\n",
      "after 517624.352832348\n",
      "Iteration :  3\n",
      "after 260708.42735120156\n",
      "Iteration :  4\n",
      "after 260708.42735120156\n",
      "Iteration :  5\n",
      "after 260708.42735120156\n",
      "Iteration :  6\n",
      "after 188747.81630492437\n",
      "Iteration :  7\n",
      "after 188747.81630492437\n",
      "Iteration :  8\n",
      "after 188747.81630492437\n",
      "Iteration :  9\n"
     ]
    },
    {
     "name": "stderr",
     "output_type": "stream",
     "text": [
      "\n",
      "\u001b[A"
     ]
    },
    {
     "name": "stdout",
     "output_type": "stream",
     "text": [
      "after 188747.81630492437\n",
      "Iteration :  10\n",
      "after 188747.81630492437\n",
      "Iteration :  11\n",
      "after 188747.81630492437\n",
      "Iteration :  12\n",
      "after 188747.81630492437\n",
      "Iteration :  13\n",
      "after 188747.81630492437\n",
      "Iteration :  14\n",
      "after 188747.81630492437\n",
      "Iteration :  15\n",
      "after 188747.81630492437\n",
      "Iteration :  16\n",
      "after 188747.81630492437\n",
      "Iteration :  17\n",
      "after 188747.81630492437\n",
      "Iteration :  18\n",
      "after 174067.75486981525\n",
      "Iteration :  19\n"
     ]
    },
    {
     "name": "stderr",
     "output_type": "stream",
     "text": [
      "\n",
      "\u001b[A"
     ]
    },
    {
     "name": "stdout",
     "output_type": "stream",
     "text": [
      "after 174067.75486981525\n",
      "Iteration :  20\n",
      "after 174067.75486981525\n",
      "Iteration :  21\n",
      "after 174067.75486981525\n",
      "Iteration :  22\n",
      "after 174067.75486981525\n",
      "Iteration :  23\n",
      "after 174067.75486981525\n",
      "Iteration :  24\n",
      "after 174067.75486981525\n",
      "Iteration :  25\n",
      "after 174067.75486981525\n",
      "Iteration :  26\n",
      "after 174067.75486981525\n",
      "Iteration :  27\n",
      "after 174067.75486981525\n",
      "Iteration :  28\n",
      "after 174067.75486981525\n",
      "Iteration :  29\n"
     ]
    },
    {
     "name": "stderr",
     "output_type": "stream",
     "text": [
      "\n",
      "\u001b[A"
     ]
    },
    {
     "name": "stdout",
     "output_type": "stream",
     "text": [
      "after 174067.75486981525\n",
      "Iteration :  30\n",
      "after 174067.75486981525\n",
      "Iteration :  31\n",
      "after 174067.75486981525\n",
      "Iteration :  32\n",
      "after 174067.75486981525\n",
      "Iteration :  33\n",
      "after 174067.75486981525\n",
      "Iteration :  34\n",
      "after 174067.75486981525\n",
      "Iteration :  35\n",
      "after 174067.75486981525\n",
      "Iteration :  36\n",
      "after 174067.75486981525\n",
      "Iteration :  37\n",
      "after 174067.75486981525\n",
      "Iteration :  38\n",
      "after 174067.75486981525\n",
      "Iteration :  39\n"
     ]
    },
    {
     "name": "stderr",
     "output_type": "stream",
     "text": [
      "\n",
      "\u001b[A"
     ]
    },
    {
     "name": "stdout",
     "output_type": "stream",
     "text": [
      "after 174067.75486981525\n",
      "Iteration :  40\n",
      "after 174067.75486981525\n",
      "Iteration :  41\n",
      "after 174067.75486981525\n",
      "Iteration :  42\n",
      "after 174067.75486981525\n",
      "Iteration :  43\n",
      "after 174067.75486981525\n",
      "Iteration :  44\n",
      "after 174067.75486981525\n",
      "Iteration :  45\n",
      "after 174067.75486981525\n",
      "Iteration :  46\n",
      "after 174067.75486981525\n",
      "Iteration :  47\n",
      "after 174067.75486981525\n",
      "Iteration :  48\n",
      "after 174067.75486981525\n",
      "Iteration :  49\n"
     ]
    },
    {
     "name": "stderr",
     "output_type": "stream",
     "text": [
      "\n",
      "\u001b[A"
     ]
    },
    {
     "name": "stdout",
     "output_type": "stream",
     "text": [
      "after 174067.75486981525\n",
      "=========iteration :  50 ===========\n",
      "delta_k 0.013157894736842105\n",
      "before combinaison 174067.75486981525\n",
      "=========iteration :  51 ===========\n",
      "delta_k 0.013071895424836602\n",
      "before combinaison 156590.19512617987\n",
      "=========iteration :  52 ===========\n",
      "delta_k 0.012987012987012988\n",
      "before combinaison 140669.69409205107\n",
      "=========iteration :  53 ===========\n",
      "delta_k 0.012903225806451613\n",
      "before combinaison 126261.91644365799\n",
      "=========iteration :  54 ===========\n",
      "delta_k 0.01282051282051282\n",
      "before combinaison 112827.48885692426\n",
      "=========iteration :  55 ===========\n",
      "delta_k 0.012738853503184714\n",
      "before combinaison 100801.02998175181\n",
      "=========iteration :  56 ===========\n",
      "delta_k 0.012658227848101266\n",
      "before combinaison 90091.6238267275\n",
      "=========iteration :  57 ===========\n",
      "delta_k 0.012578616352201259\n",
      "before combinaison 80512.80593638387\n",
      "=========iteration :  58 ===========\n",
      "delta_k 0.0125\n",
      "before combinaison 72402.32682577023\n"
     ]
    },
    {
     "name": "stderr",
     "output_type": "stream",
     "text": [
      "\n",
      "\u001b[A"
     ]
    },
    {
     "name": "stdout",
     "output_type": "stream",
     "text": [
      "=========iteration :  59 ===========\n",
      "delta_k 0.012422360248447204\n",
      "before combinaison 65676.5905372778\n",
      "=========iteration :  60 ===========\n",
      "delta_k 0.012345679012345678\n",
      "before combinaison 59828.50079357212\n",
      "=========iteration :  61 ===========\n",
      "delta_k 0.012269938650306749\n",
      "before combinaison 54448.13912473982\n",
      "=========iteration :  62 ===========\n",
      "delta_k 0.012195121951219513\n",
      "before combinaison 49226.5756018864\n",
      "=========iteration :  63 ===========\n",
      "delta_k 0.012121212121212121\n",
      "before combinaison 44545.9394618129\n",
      "=========iteration :  64 ===========\n",
      "delta_k 0.012048192771084338\n",
      "before combinaison 40186.14380218453\n",
      "=========iteration :  65 ===========\n",
      "delta_k 0.011976047904191617\n",
      "before combinaison 36011.83561581788\n",
      "=========iteration :  66 ===========\n",
      "delta_k 0.011904761904761904\n",
      "before combinaison 32578.62693616508\n",
      "=========iteration :  67 ===========\n",
      "delta_k 0.011834319526627219\n",
      "before combinaison 29137.720691734357\n",
      "=========iteration :  68 ===========\n",
      "delta_k 0.011764705882352941\n",
      "before combinaison 25841.535185140205\n"
     ]
    },
    {
     "name": "stderr",
     "output_type": "stream",
     "text": [
      "\n",
      "\u001b[A"
     ]
    },
    {
     "name": "stdout",
     "output_type": "stream",
     "text": [
      "=========iteration :  69 ===========\n",
      "delta_k 0.011695906432748537\n",
      "before combinaison 22860.94135457937\n",
      "=========iteration :  70 ===========\n",
      "delta_k 0.011627906976744186\n",
      "before combinaison 20419.646644967266\n",
      "=========iteration :  71 ===========\n",
      "delta_k 0.011560693641618497\n",
      "before combinaison 18116.694872442717\n",
      "=========iteration :  72 ===========\n",
      "delta_k 0.011494252873563218\n",
      "before combinaison 15889.557854801538\n",
      "=========iteration :  73 ===========\n",
      "delta_k 0.011428571428571429\n",
      "before combinaison 13785.248463218091\n",
      "=========iteration :  74 ===========\n",
      "delta_k 0.011363636363636364\n",
      "before combinaison 12185.432866660518\n",
      "=========iteration :  75 ===========\n",
      "delta_k 0.011299435028248588\n",
      "before combinaison 10836.91967516619\n",
      "=========iteration :  76 ===========\n",
      "delta_k 0.011235955056179775\n",
      "before combinaison 9468.106487623269\n",
      "=========iteration :  77 ===========\n",
      "delta_k 0.0111731843575419\n",
      "before combinaison 8255.393862609959\n",
      "=========iteration :  78 ===========\n",
      "delta_k 0.011111111111111112\n",
      "before combinaison 7413.940017763913\n"
     ]
    },
    {
     "name": "stderr",
     "output_type": "stream",
     "text": [
      "\n",
      "\u001b[A"
     ]
    },
    {
     "name": "stdout",
     "output_type": "stream",
     "text": [
      "=========iteration :  79 ===========\n",
      "delta_k 0.011049723756906077\n",
      "before combinaison 6301.636583118379\n",
      "=========iteration :  80 ===========\n",
      "delta_k 0.01098901098901099\n",
      "before combinaison 5623.169849595564\n",
      "=========iteration :  81 ===========\n",
      "delta_k 0.01092896174863388\n",
      "before combinaison 4792.065635257996\n",
      "=========iteration :  82 ===========\n",
      "delta_k 0.010869565217391304\n",
      "before combinaison 4355.5816191823105\n",
      "=========iteration :  83 ===========\n",
      "delta_k 0.010810810810810811\n",
      "before combinaison 3827.833831392325\n",
      "=========iteration :  84 ===========\n",
      "delta_k 0.010752688172043012\n",
      "before combinaison 3404.5752781786605\n",
      "=========iteration :  85 ===========\n",
      "delta_k 0.0106951871657754\n",
      "before combinaison 3160.176763097287\n",
      "=========iteration :  86 ===========\n",
      "delta_k 0.010638297872340425\n",
      "before combinaison 2825.7212816524843\n",
      "=========iteration :  87 ===========\n",
      "delta_k 0.010582010582010581\n",
      "before combinaison 2824.8482357782686\n"
     ]
    },
    {
     "name": "stderr",
     "output_type": "stream",
     "text": [
      "\n",
      "\u001b[A"
     ]
    },
    {
     "name": "stdout",
     "output_type": "stream",
     "text": [
      "=========iteration :  88 ===========\n",
      "delta_k 0.010526315789473684\n",
      "before combinaison 2763.9782742243215\n",
      "=========iteration :  89 ===========\n",
      "delta_k 0.010471204188481676\n",
      "before combinaison 2763.9782742243215\n",
      "=========iteration :  90 ===========\n",
      "delta_k 0.010416666666666666\n",
      "before combinaison 2763.9782742243215\n",
      "=========iteration :  91 ===========\n",
      "delta_k 0.010362694300518135\n",
      "before combinaison 2763.9782742243215\n",
      "=========iteration :  92 ===========\n",
      "delta_k 0.010309278350515464\n",
      "before combinaison 2763.9782742243215\n",
      "=========iteration :  93 ===========\n",
      "delta_k 0.010256410256410256\n",
      "before combinaison 2763.9782742243215\n",
      "=========iteration :  94 ===========\n",
      "delta_k 0.01020408163265306\n",
      "before combinaison 2763.9782742243215\n",
      "=========iteration :  95 ===========\n",
      "delta_k 0.01015228426395939\n",
      "before combinaison 2763.406676127535\n"
     ]
    },
    {
     "name": "stderr",
     "output_type": "stream",
     "text": [
      "\n",
      "100%|██████████| 100/100 [01:44<00:00,  1.05s/iteration]"
     ]
    },
    {
     "name": "stdout",
     "output_type": "stream",
     "text": [
      "=========iteration :  96 ===========\n",
      "delta_k 0.010101010101010102\n",
      "before combinaison 2707.1290425144593\n",
      "=========iteration :  97 ===========\n",
      "delta_k 0.010050251256281407\n",
      "before combinaison 2707.1290425144593\n",
      "=========iteration :  98 ===========\n",
      "delta_k 0.01\n",
      "before combinaison 2707.1290425144593\n",
      "=========iteration :  99 ===========\n",
      "delta_k 0.009950248756218905\n",
      "before combinaison 2707.1290425144593\n",
      "Objective value is :  2707.1290425144593\n"
     ]
    },
    {
     "name": "stderr",
     "output_type": "stream",
     "text": [
      "\n"
     ]
    }
   ],
   "source": [
    "nk=40\n",
    "n_pre=50\n",
    "K=100\n",
    "np.random.seed(0)\n",
    "x_bar_rd_st_t,df_rd_st_t=reduced_FW_standard.FW_st_solve(actual_time, analyse=True, K=K, nk=nk,n_pre=n_pre,optimize=False)"
   ]
  },
  {
   "cell_type": "code",
   "execution_count": 127,
   "metadata": {},
   "outputs": [],
   "source": [
    "reduced_FW_standard_v2 = Frank_Wolfe_Reduced_standard_v2(my_instance)"
   ]
  },
  {
   "cell_type": "code",
   "execution_count": 128,
   "metadata": {},
   "outputs": [
    {
     "name": "stderr",
     "output_type": "stream",
     "text": [
      "  0%|          | 0/100 [00:00<?, ?iteration/s]"
     ]
    },
    {
     "name": "stdout",
     "output_type": "stream",
     "text": [
      "Iteration :  0\n",
      "after 517624.352832348\n",
      "Iteration :  1\n",
      "after 517624.352832348\n",
      "Iteration :  2\n",
      "after 517624.352832348\n",
      "Iteration :  3\n",
      "after 260708.42735120156\n",
      "Iteration :  4\n",
      "after 260708.42735120156\n",
      "Iteration :  5\n",
      "after 260708.42735120156\n",
      "Iteration :  6\n",
      "after 188747.81630492437\n",
      "Iteration :  7\n",
      "after 188747.81630492437\n",
      "Iteration :  8\n",
      "after 188747.81630492437\n",
      "Iteration :  9\n"
     ]
    },
    {
     "name": "stderr",
     "output_type": "stream",
     "text": [
      " 10%|█         | 10/100 [00:12<01:54,  1.28s/iteration]"
     ]
    },
    {
     "name": "stdout",
     "output_type": "stream",
     "text": [
      "after 188747.81630492437\n",
      "Iteration :  10\n",
      "after 188747.81630492437\n",
      "Iteration :  11\n",
      "after 188747.81630492437\n",
      "Iteration :  12\n",
      "after 188747.81630492437\n",
      "Iteration :  13\n",
      "after 188747.81630492437\n",
      "Iteration :  14\n",
      "after 188747.81630492437\n",
      "Iteration :  15\n",
      "after 188747.81630492437\n",
      "Iteration :  16\n",
      "after 188747.81630492437\n",
      "Iteration :  17\n",
      "after 188747.81630492437\n",
      "Iteration :  18\n",
      "after 174067.75486981525\n",
      "Iteration :  19\n"
     ]
    },
    {
     "name": "stderr",
     "output_type": "stream",
     "text": [
      " 20%|██        | 20/100 [00:19<01:11,  1.12iteration/s]"
     ]
    },
    {
     "name": "stdout",
     "output_type": "stream",
     "text": [
      "after 174067.75486981525\n",
      "Iteration :  20\n",
      "after 174067.75486981525\n",
      "Iteration :  21\n",
      "after 174067.75486981525\n",
      "Iteration :  22\n",
      "after 174067.75486981525\n",
      "Iteration :  23\n",
      "after 174067.75486981525\n",
      "Iteration :  24\n",
      "after 174067.75486981525\n",
      "Iteration :  25\n",
      "after 174067.75486981525\n",
      "Iteration :  26\n",
      "after 174067.75486981525\n",
      "Iteration :  27\n",
      "after 174067.75486981525\n",
      "Iteration :  28\n",
      "after 174067.75486981525\n",
      "Iteration :  29\n"
     ]
    },
    {
     "name": "stderr",
     "output_type": "stream",
     "text": [
      " 30%|███       | 30/100 [00:22<00:46,  1.51iteration/s]"
     ]
    },
    {
     "name": "stdout",
     "output_type": "stream",
     "text": [
      "after 174067.75486981525\n",
      "Iteration :  30\n",
      "after 174067.75486981525\n",
      "Iteration :  31\n",
      "after 174067.75486981525\n",
      "Iteration :  32\n",
      "after 174067.75486981525\n",
      "Iteration :  33\n",
      "after 174067.75486981525\n",
      "Iteration :  34\n",
      "after 174067.75486981525\n",
      "Iteration :  35\n",
      "after 174067.75486981525\n",
      "Iteration :  36\n",
      "after 174067.75486981525\n",
      "Iteration :  37\n",
      "after 174067.75486981525\n",
      "Iteration :  38\n",
      "after 174067.75486981525\n",
      "Iteration :  39\n"
     ]
    },
    {
     "name": "stderr",
     "output_type": "stream",
     "text": [
      " 40%|████      | 40/100 [00:26<00:32,  1.82iteration/s]"
     ]
    },
    {
     "name": "stdout",
     "output_type": "stream",
     "text": [
      "after 174067.75486981525\n",
      "Iteration :  40\n",
      "after 174067.75486981525\n",
      "Iteration :  41\n",
      "after 174067.75486981525\n",
      "Iteration :  42\n",
      "after 174067.75486981525\n",
      "Iteration :  43\n",
      "after 174067.75486981525\n",
      "Iteration :  44\n",
      "after 174067.75486981525\n",
      "Iteration :  45\n",
      "after 174067.75486981525\n",
      "Iteration :  46\n",
      "after 174067.75486981525\n",
      "Iteration :  47\n",
      "after 174067.75486981525\n",
      "Iteration :  48\n",
      "after 174067.75486981525\n",
      "Iteration :  49\n"
     ]
    },
    {
     "name": "stderr",
     "output_type": "stream",
     "text": [
      " 50%|█████     | 50/100 [00:30<00:24,  2.03iteration/s]"
     ]
    },
    {
     "name": "stdout",
     "output_type": "stream",
     "text": [
      "after 174067.75486981525\n",
      "=========iteration :  50 ===========\n",
      "delta_k 0.16392529631747169\n",
      "before combinaison 174067.75486981525\n",
      "=========iteration :  51 ===========\n",
      "delta_k 0.08048543550098705\n",
      "before combinaison 56437.12925423784\n",
      "=========iteration :  52 ===========\n",
      "delta_k 0.06450405214565284\n",
      "before combinaison 29120.807256586417\n",
      "=========iteration :  53 ===========\n",
      "delta_k 0.04874744951485827\n",
      "before combinaison 12473.810061215036\n",
      "=========iteration :  54 ===========\n",
      "delta_k 0.025128501839678963\n",
      "before combinaison 6492.265631146038\n",
      "=========iteration :  55 ===========\n",
      "delta_k 0.01621909713914476\n",
      "before combinaison 4120.686470276297\n",
      "=========iteration :  56 ===========\n",
      "delta_k 0.009230496455430967\n",
      "before combinaison 3134.7515443159064\n",
      "=========iteration :  57 ===========\n",
      "delta_k 0.005159895859985805\n",
      "before combinaison 2810.2708254346708\n",
      "=========iteration :  58 ===========\n",
      "delta_k 0.004720080105363309\n",
      "before combinaison 2681.1248837993217\n"
     ]
    },
    {
     "name": "stderr",
     "output_type": "stream",
     "text": [
      " 60%|██████    | 60/100 [00:46<00:35,  1.14iteration/s]"
     ]
    },
    {
     "name": "stdout",
     "output_type": "stream",
     "text": [
      "=========iteration :  59 ===========\n",
      "delta_k 0.001963090932849602\n",
      "before combinaison 2591.3944066796544\n",
      "=========iteration :  60 ===========\n",
      "delta_k 0.0016391352458828363\n",
      "before combinaison 2573.2603259996704\n",
      "=========iteration :  61 ===========\n",
      "delta_k 0.0014276780394916072\n",
      "before combinaison 2560.6256658638727\n",
      "=========iteration :  62 ===========\n",
      "delta_k 0.0014068990881670167\n",
      "before combinaison 2551.593653809525\n",
      "=========iteration :  63 ===========\n",
      "delta_k 0.0008740109738873869\n",
      "before combinaison 2543.674374121415\n",
      "=========iteration :  64 ===========\n",
      "delta_k 0.0008087955654504828\n",
      "before combinaison 2539.43114907328\n",
      "=========iteration :  65 ===========\n",
      "delta_k 0.0006837692694650486\n",
      "before combinaison 2536.817074470664\n",
      "=========iteration :  66 ===========\n",
      "delta_k 0.0005178063992314915\n",
      "before combinaison 2534.622629311393\n",
      "=========iteration :  67 ===========\n",
      "delta_k 0.00046610717039405195\n",
      "before combinaison 2533.3645839752426\n",
      "=========iteration :  68 ===========\n",
      "delta_k 0.000497951054596042\n",
      "before combinaison 2532.252043782753\n"
     ]
    },
    {
     "name": "stderr",
     "output_type": "stream",
     "text": [
      " 70%|███████   | 70/100 [01:02<00:33,  1.11s/iteration]"
     ]
    },
    {
     "name": "stdout",
     "output_type": "stream",
     "text": [
      "=========iteration :  69 ===========\n",
      "delta_k 0.00040414374913933887\n",
      "before combinaison 2531.3284572037846\n",
      "=========iteration :  70 ===========\n",
      "delta_k 0.00023752055722395303\n",
      "before combinaison 2530.5622705067576\n",
      "=========iteration :  71 ===========\n",
      "delta_k 0.00022695669123556567\n",
      "before combinaison 2530.258343984583\n",
      "=========iteration :  72 ===========\n",
      "delta_k 0.00021549718127757397\n",
      "before combinaison 2530.030641253875\n",
      "=========iteration :  73 ===========\n",
      "delta_k 0.00017057269589297946\n",
      "before combinaison 2529.8253572399694\n",
      "=========iteration :  74 ===========\n",
      "delta_k 0.0001589118779534253\n",
      "before combinaison 2529.6764531762865\n",
      "=========iteration :  75 ===========\n",
      "delta_k 0.00015548107576535635\n",
      "before combinaison 2529.5756699031726\n",
      "=========iteration :  76 ===========\n",
      "delta_k 9.921963991988333e-05\n",
      "before combinaison 2529.4623250619843\n",
      "=========iteration :  77 ===========\n",
      "delta_k 8.385697258960453e-05\n",
      "before combinaison 2529.416172769302\n",
      "=========iteration :  78 ===========\n",
      "delta_k 0.0001162915901961861\n",
      "before combinaison 2529.3801903720178\n"
     ]
    },
    {
     "name": "stderr",
     "output_type": "stream",
     "text": [
      " 80%|████████  | 80/100 [01:18<00:25,  1.27s/iteration]"
     ]
    },
    {
     "name": "stdout",
     "output_type": "stream",
     "text": [
      "=========iteration :  79 ===========\n",
      "delta_k 7.035818564405268e-05\n",
      "before combinaison 2529.335657497958\n",
      "=========iteration :  80 ===========\n",
      "delta_k 4.4172519188455096e-05\n",
      "before combinaison 2529.3089980950353\n",
      "=========iteration :  81 ===========\n",
      "delta_k 5.058942677592991e-05\n",
      "before combinaison 2529.298490526541\n",
      "=========iteration :  82 ===========\n",
      "delta_k 5.312104192629613e-05\n",
      "before combinaison 2529.2871809142903\n",
      "=========iteration :  83 ===========\n",
      "delta_k 3.3188027321235675e-05\n",
      "before combinaison 2529.2766795086563\n",
      "=========iteration :  84 ===========\n",
      "delta_k 2.9862760116909353e-05\n",
      "before combinaison 2529.270571575347\n",
      "=========iteration :  85 ===========\n",
      "delta_k 2.387181521190314e-05\n",
      "before combinaison 2529.2670134458613\n",
      "=========iteration :  86 ===========\n",
      "delta_k 2.674962340686527e-05\n",
      "before combinaison 2529.2638534012535\n",
      "=========iteration :  87 ===========\n",
      "delta_k 1.5422813115295014e-05\n",
      "before combinaison 2529.2614976031723\n",
      "=========iteration :  88 ===========\n",
      "delta_k 1.5184745241940345e-05\n",
      "before combinaison 2529.2600127075793\n"
     ]
    },
    {
     "name": "stderr",
     "output_type": "stream",
     "text": [
      " 90%|█████████ | 90/100 [01:36<00:14,  1.42s/iteration]"
     ]
    },
    {
     "name": "stdout",
     "output_type": "stream",
     "text": [
      "=========iteration :  89 ===========\n",
      "delta_k 1.3388587068193024e-05\n",
      "before combinaison 2529.2590927868737\n",
      "=========iteration :  90 ===========\n",
      "delta_k 1.0693132064341551e-05\n",
      "before combinaison 2529.258252590378\n",
      "=========iteration :  91 ===========\n",
      "delta_k 8.672827940348991e-06\n",
      "before combinaison 2529.2577166638284\n",
      "=========iteration :  92 ===========\n",
      "delta_k 9.12452025782224e-06\n",
      "before combinaison 2529.257364127181\n",
      "=========iteration :  93 ===========\n",
      "delta_k 5.421211335251636e-06\n",
      "before combinaison 2529.2570320098803\n",
      "=========iteration :  94 ===========\n",
      "delta_k 6.479665307494416e-06\n",
      "before combinaison 2529.25685386126\n",
      "=========iteration :  95 ===========\n",
      "delta_k 4.71693391429294e-06\n",
      "before combinaison 2529.2567159389478\n",
      "=========iteration :  96 ===========\n",
      "delta_k 3.4135244383746803e-06\n",
      "before combinaison 2529.2565961745886\n",
      "=========iteration :  97 ===========\n",
      "delta_k 3.0187277128679383e-06\n",
      "before combinaison 2529.256536653047\n",
      "=========iteration :  98 ===========\n",
      "delta_k 3.693421103823091e-06\n",
      "before combinaison 2529.2564946242105\n"
     ]
    },
    {
     "name": "stderr",
     "output_type": "stream",
     "text": [
      "100%|██████████| 100/100 [01:53<00:00,  1.13s/iteration]"
     ]
    },
    {
     "name": "stdout",
     "output_type": "stream",
     "text": [
      "=========iteration :  99 ===========\n",
      "delta_k 1.8822385289910065e-06\n",
      "before combinaison 2529.2564413812047\n",
      "Objective value is :  2529.256419945656\n"
     ]
    },
    {
     "name": "stderr",
     "output_type": "stream",
     "text": [
      "\n"
     ]
    }
   ],
   "source": [
    "nk=40\n",
    "n_pre=50\n",
    "K=100\n",
    "np.random.seed(0)\n",
    "x_bar_rd_st_t_v2,df_rd_st_t_v2=reduced_FW_standard_v2.FW_st_solve(actual_time, analyse=True, K=K, nk=nk,n_pre=n_pre,optimize=False)"
   ]
  },
  {
   "cell_type": "code",
   "execution_count": 129,
   "metadata": {},
   "outputs": [],
   "source": [
    "reduced_FW_standard_v3 = Frank_Wolfe_Reduced_standard_v3(my_instance)"
   ]
  },
  {
   "cell_type": "code",
   "execution_count": 132,
   "metadata": {},
   "outputs": [
    {
     "name": "stderr",
     "output_type": "stream",
     "text": [
      "  0%|          | 0/100 [00:00<?, ?iteration/s]"
     ]
    },
    {
     "name": "stdout",
     "output_type": "stream",
     "text": [
      "Iteration :  0\n",
      "after 517624.352832348\n",
      "Iteration :  1\n",
      "after 517624.352832348\n",
      "Iteration :  2\n",
      "after 517624.352832348\n",
      "Iteration :  3\n",
      "after 260708.42735120156\n",
      "Iteration :  4\n",
      "after 260708.42735120156\n",
      "Iteration :  5\n",
      "after 260708.42735120156\n",
      "Iteration :  6\n",
      "after 188747.81630492437\n",
      "Iteration :  7\n",
      "after 188747.81630492437\n",
      "Iteration :  8\n",
      "after 188747.81630492437\n",
      "Iteration :  9\n"
     ]
    },
    {
     "name": "stderr",
     "output_type": "stream",
     "text": [
      " 10%|█         | 10/100 [00:12<01:56,  1.30s/iteration]"
     ]
    },
    {
     "name": "stdout",
     "output_type": "stream",
     "text": [
      "after 188747.81630492437\n",
      "Iteration :  10\n",
      "after 188747.81630492437\n",
      "Iteration :  11\n",
      "after 188747.81630492437\n",
      "Iteration :  12\n",
      "after 188747.81630492437\n",
      "Iteration :  13\n",
      "after 188747.81630492437\n",
      "Iteration :  14\n",
      "after 188747.81630492437\n",
      "Iteration :  15\n",
      "after 188747.81630492437\n",
      "Iteration :  16\n",
      "after 188747.81630492437\n",
      "Iteration :  17\n",
      "after 188747.81630492437\n",
      "Iteration :  18\n",
      "after 174067.75486981525\n",
      "Iteration :  19\n"
     ]
    },
    {
     "name": "stderr",
     "output_type": "stream",
     "text": [
      " 20%|██        | 20/100 [00:19<01:14,  1.08iteration/s]"
     ]
    },
    {
     "name": "stdout",
     "output_type": "stream",
     "text": [
      "after 174067.75486981525\n",
      "Iteration :  20\n",
      "after 174067.75486981525\n",
      "Iteration :  21\n",
      "after 174067.75486981525\n",
      "Iteration :  22\n",
      "after 174067.75486981525\n",
      "Iteration :  23\n",
      "after 174067.75486981525\n",
      "Iteration :  24\n",
      "after 174067.75486981525\n",
      "Iteration :  25\n",
      "after 174067.75486981525\n",
      "Iteration :  26\n",
      "after 174067.75486981525\n",
      "Iteration :  27\n",
      "after 174067.75486981525\n",
      "Iteration :  28\n",
      "after 174067.75486981525\n",
      "Iteration :  29\n"
     ]
    },
    {
     "name": "stderr",
     "output_type": "stream",
     "text": [
      " 30%|███       | 30/100 [00:23<00:47,  1.46iteration/s]"
     ]
    },
    {
     "name": "stdout",
     "output_type": "stream",
     "text": [
      "after 174067.75486981525\n",
      "Iteration :  30\n",
      "after 174067.75486981525\n",
      "Iteration :  31\n",
      "after 174067.75486981525\n",
      "Iteration :  32\n",
      "after 174067.75486981525\n",
      "Iteration :  33\n",
      "after 174067.75486981525\n",
      "Iteration :  34\n",
      "after 174067.75486981525\n",
      "Iteration :  35\n",
      "after 174067.75486981525\n",
      "Iteration :  36\n",
      "after 174067.75486981525\n",
      "Iteration :  37\n",
      "after 174067.75486981525\n",
      "Iteration :  38\n",
      "after 174067.75486981525\n",
      "Iteration :  39\n"
     ]
    },
    {
     "name": "stderr",
     "output_type": "stream",
     "text": [
      " 40%|████      | 40/100 [00:27<00:34,  1.75iteration/s]"
     ]
    },
    {
     "name": "stdout",
     "output_type": "stream",
     "text": [
      "after 174067.75486981525\n",
      "Iteration :  40\n",
      "after 174067.75486981525\n",
      "Iteration :  41\n",
      "after 174067.75486981525\n",
      "Iteration :  42\n",
      "after 174067.75486981525\n",
      "Iteration :  43\n",
      "after 174067.75486981525\n",
      "Iteration :  44\n",
      "after 174067.75486981525\n",
      "Iteration :  45\n",
      "after 174067.75486981525\n",
      "Iteration :  46\n",
      "after 174067.75486981525\n",
      "Iteration :  47\n",
      "after 174067.75486981525\n",
      "Iteration :  48\n",
      "after 174067.75486981525\n",
      "Iteration :  49\n"
     ]
    },
    {
     "name": "stderr",
     "output_type": "stream",
     "text": [
      " 50%|█████     | 50/100 [00:31<00:25,  1.98iteration/s]"
     ]
    },
    {
     "name": "stdout",
     "output_type": "stream",
     "text": [
      "after 174067.75486981525\n",
      "=========iteration :  50 ===========\n",
      "before combinaison 174067.75486981525\n",
      "=========iteration :  51 ===========\n",
      "before combinaison 37158.83393753921\n",
      "=========iteration :  52 ===========\n",
      "before combinaison 5341.342178464232\n",
      "=========iteration :  53 ===========\n",
      "before combinaison 3506.1655238137137\n",
      "=========iteration :  54 ===========\n",
      "before combinaison 3070.102201665839\n",
      "=========iteration :  55 ===========\n",
      "before combinaison 2791.428661496485\n",
      "=========iteration :  56 ===========\n",
      "before combinaison 2579.6983707834997\n",
      "=========iteration :  57 ===========\n",
      "before combinaison 2531.746152144653\n",
      "=========iteration :  58 ===========\n",
      "before combinaison 2529.492894872526\n"
     ]
    },
    {
     "name": "stderr",
     "output_type": "stream",
     "text": [
      " 60%|██████    | 60/100 [00:48<00:36,  1.09iteration/s]"
     ]
    },
    {
     "name": "stdout",
     "output_type": "stream",
     "text": [
      "=========iteration :  59 ===========\n",
      "before combinaison 2529.3354043589134\n",
      "=========iteration :  60 ===========\n",
      "before combinaison 2529.269036223698\n",
      "=========iteration :  61 ===========\n",
      "before combinaison 2529.2592839007384\n",
      "=========iteration :  62 ===========\n",
      "before combinaison 2529.257225168484\n",
      "=========iteration :  63 ===========\n",
      "before combinaison 2529.2563963751504\n",
      "=========iteration :  64 ===========\n",
      "before combinaison 2529.2563424139476\n",
      "=========iteration :  65 ===========\n",
      "before combinaison 2529.2563378599325\n",
      "=========iteration :  66 ===========\n",
      "before combinaison 2529.2563375320356\n",
      "=========iteration :  67 ===========\n",
      "before combinaison 2529.2563374541264\n",
      "=========iteration :  68 ===========\n",
      "before combinaison 2529.2563374541264\n",
      "=========iteration :  69 ===========\n",
      "before combinaison 2529.2563374541264\n"
     ]
    },
    {
     "name": "stderr",
     "output_type": "stream",
     "text": [
      " 70%|███████   | 70/100 [01:02<00:31,  1.06s/iteration]"
     ]
    },
    {
     "name": "stdout",
     "output_type": "stream",
     "text": [
      "=========iteration :  70 ===========\n",
      "before combinaison 2529.2563374541264\n",
      "=========iteration :  71 ===========\n",
      "before combinaison 2529.2563374541264\n",
      "=========iteration :  72 ===========\n",
      "before combinaison 2529.2563374541264\n",
      "=========iteration :  73 ===========\n",
      "before combinaison 2529.2563374541264\n",
      "=========iteration :  74 ===========\n",
      "before combinaison 2529.2563374541264\n",
      "=========iteration :  75 ===========\n",
      "before combinaison 2529.2563374541264\n",
      "=========iteration :  76 ===========\n",
      "before combinaison 2529.2563374541264\n",
      "=========iteration :  77 ===========\n",
      "before combinaison 2529.2563374541264\n",
      "=========iteration :  78 ===========\n",
      "before combinaison 2529.2563374541264\n"
     ]
    },
    {
     "name": "stderr",
     "output_type": "stream",
     "text": [
      " 80%|████████  | 80/100 [01:03<00:14,  1.33iteration/s]"
     ]
    },
    {
     "name": "stdout",
     "output_type": "stream",
     "text": [
      "=========iteration :  79 ===========\n",
      "before combinaison 2529.2563374541264\n",
      "=========iteration :  80 ===========\n",
      "before combinaison 2529.2563374541264\n",
      "=========iteration :  81 ===========\n",
      "before combinaison 2529.2563374541264\n",
      "=========iteration :  82 ===========\n",
      "before combinaison 2529.2563374541264\n",
      "=========iteration :  83 ===========\n",
      "before combinaison 2529.2563374541264\n",
      "=========iteration :  84 ===========\n",
      "before combinaison 2529.2563374541264\n",
      "=========iteration :  85 ===========\n",
      "before combinaison 2529.2563374541264\n",
      "=========iteration :  86 ===========\n",
      "before combinaison 2529.2563374541264\n",
      "=========iteration :  87 ===========\n",
      "before combinaison 2529.2563374541264\n",
      "=========iteration :  88 ===========\n",
      "before combinaison 2529.2563374541264\n"
     ]
    },
    {
     "name": "stderr",
     "output_type": "stream",
     "text": [
      " 90%|█████████ | 90/100 [01:03<00:05,  1.85iteration/s]"
     ]
    },
    {
     "name": "stdout",
     "output_type": "stream",
     "text": [
      "=========iteration :  89 ===========\n",
      "before combinaison 2529.2563374541264\n",
      "=========iteration :  90 ===========\n",
      "before combinaison 2529.2563374541264\n",
      "=========iteration :  91 ===========\n",
      "before combinaison 2529.2563374541264\n",
      "=========iteration :  92 ===========\n",
      "before combinaison 2529.2563374541264\n",
      "=========iteration :  93 ===========\n",
      "before combinaison 2529.2563374541264\n",
      "=========iteration :  94 ===========\n",
      "before combinaison 2529.2563374541264\n",
      "=========iteration :  95 ===========\n",
      "before combinaison 2529.2563374541264\n",
      "=========iteration :  96 ===========\n",
      "before combinaison 2529.2563374541264\n",
      "=========iteration :  97 ===========\n",
      "before combinaison 2529.2563374541264\n",
      "=========iteration :  98 ===========\n",
      "before combinaison 2529.2563374541264\n",
      "=========iteration :  99 ===========\n",
      "before combinaison 2529.2563374541264\n"
     ]
    },
    {
     "name": "stderr",
     "output_type": "stream",
     "text": [
      "100%|██████████| 100/100 [01:04<00:00,  1.55iteration/s]"
     ]
    },
    {
     "name": "stdout",
     "output_type": "stream",
     "text": [
      "Objective value is :  2529.2563374541264\n"
     ]
    },
    {
     "name": "stderr",
     "output_type": "stream",
     "text": [
      "\n"
     ]
    }
   ],
   "source": [
    "nk=40\n",
    "n_pre=50\n",
    "K=100\n",
    "np.random.seed(0)\n",
    "x_bar_rd_st_t_v3,df_rd_st_t_v3=reduced_FW_standard_v3.FW_st_solve(actual_time, analyse=True, K=K, nk=nk,n_pre=n_pre,optimize=False)"
   ]
  },
  {
   "cell_type": "code",
   "execution_count": 133,
   "metadata": {},
   "outputs": [
    {
     "data": {
      "image/png": "[encoded data removed]",
      "text/plain": [
       "<Figure size 432x288 with 1 Axes>"
      ]
     },
     "metadata": {
      "needs_background": "light"
     },
     "output_type": "display_data"
    }
   ],
   "source": [
    "plt.plot([x for x in range(0,100)],df_rd_st_t['best_score'].values[:100]-optimal_value, label=\"FWstd pb rd v1\")\n",
    "plt.plot([x for x in range(0,100)],df_rd_st_t_v2['best_score'].values[:100]-optimal_value, label=\"FWstd pb rd v2 : delta k\")\n",
    "plt.plot([x for x in range(0,100)],df_rd_st_t_v3['best_score'].values[:100]-optimal_value, label=\"FWstd pb rd v3 :delta i k\")\n",
    "\n",
    "plt.yscale('log')\n",
    "plt.legend()\n",
    "plt.title(\"Evolution of gap between the best score and the optimal value of cplex with 200 vehicles\")\n",
    "plt.xlabel(\"Iteration\")\n",
    "plt.ylabel(\"Gap\")\n",
    "plt.show()"
   ]
  },
  {
   "cell_type": "code",
   "execution_count": 134,
   "metadata": {},
   "outputs": [],
   "source": [
    "from Frank_Wolfe_st_v3 import *\n",
    "from Frank_Wolfe_st_v4 import *\n",
    "from Frank_Wolfe_st_v5 import *"
   ]
  },
  {
   "cell_type": "code",
   "execution_count": 135,
   "metadata": {},
   "outputs": [],
   "source": [
    "FW_standard_v3 = Frank_Wolfe_Standard_v3(my_instance)"
   ]
  },
  {
   "cell_type": "code",
   "execution_count": 136,
   "metadata": {},
   "outputs": [
    {
     "name": "stderr",
     "output_type": "stream",
     "text": [
      "  0%|          | 0/100 [00:00<?, ?iteration/s]"
     ]
    },
    {
     "name": "stdout",
     "output_type": "stream",
     "text": [
      "Iteration :  0\n",
      "after 1913302.9458547959\n",
      "Iteration :  1\n",
      "after 1913302.9458547959\n",
      "Iteration :  2\n",
      "after 794227.7850491664\n",
      "Iteration :  3\n",
      "after 47705.602832347744\n",
      "Iteration :  4\n",
      "after 47705.602832347744\n",
      "Iteration :  5\n",
      "after 47705.602832347744\n",
      "Iteration :  6\n",
      "after 47705.602832347744\n",
      "Iteration :  7\n",
      "after 47705.602832347744\n",
      "Iteration :  8\n",
      "after 32188.10122117035\n",
      "Iteration :  9\n"
     ]
    },
    {
     "name": "stderr",
     "output_type": "stream",
     "text": [
      " 10%|█         | 10/100 [00:40<06:07,  4.09s/iteration]"
     ]
    },
    {
     "name": "stdout",
     "output_type": "stream",
     "text": [
      "after 32188.10122117035\n",
      "Iteration :  10\n",
      "after 21896.25103597258\n",
      "Iteration :  11\n",
      "after 21896.25103597258\n",
      "Iteration :  12\n",
      "after 21896.25103597258\n",
      "Iteration :  13\n",
      "after 21896.25103597258\n",
      "Iteration :  14\n",
      "after 21896.25103597258\n",
      "Iteration :  15\n",
      "after 21896.25103597258\n",
      "Iteration :  16\n",
      "after 21896.25103597258\n",
      "Iteration :  17\n",
      "after 21896.25103597258\n",
      "Iteration :  18\n",
      "after 15025.909224894698\n",
      "Iteration :  19\n"
     ]
    },
    {
     "name": "stderr",
     "output_type": "stream",
     "text": [
      " 20%|██        | 20/100 [01:29<06:05,  4.57s/iteration]"
     ]
    },
    {
     "name": "stdout",
     "output_type": "stream",
     "text": [
      "after 4848.900700377877\n",
      "Iteration :  20\n",
      "after 4848.900700377877\n",
      "Iteration :  21\n",
      "after 4848.900700377877\n",
      "Iteration :  22\n",
      "after 4848.900700377877\n",
      "Iteration :  23\n",
      "after 4848.900700377877\n",
      "Iteration :  24\n",
      "after 4848.900700377877\n",
      "Iteration :  25\n",
      "after 4848.900700377877\n",
      "Iteration :  26\n",
      "after 4848.900700377877\n",
      "Iteration :  27\n",
      "after 4623.528923254768\n",
      "Iteration :  28\n",
      "after 4623.528923254768\n",
      "Iteration :  29\n"
     ]
    },
    {
     "name": "stderr",
     "output_type": "stream",
     "text": [
      " 30%|███       | 30/100 [02:05<04:49,  4.13s/iteration]"
     ]
    },
    {
     "name": "stdout",
     "output_type": "stream",
     "text": [
      "after 4623.528923254768\n",
      "Iteration :  30\n",
      "after 4623.528923254768\n",
      "Iteration :  31\n",
      "after 4623.528923254768\n",
      "Iteration :  32\n",
      "after 4623.528923254768\n",
      "Iteration :  33\n",
      "after 3927.2122833293242\n",
      "Iteration :  34\n",
      "after 3927.2122833293242\n",
      "Iteration :  35\n",
      "after 3927.2122833293242\n",
      "Iteration :  36\n",
      "after 2626.114456828717\n",
      "Iteration :  37\n",
      "after 2626.114456828717\n",
      "Iteration :  38\n",
      "after 2137.8752004552684\n",
      "Iteration :  39\n"
     ]
    },
    {
     "name": "stderr",
     "output_type": "stream",
     "text": [
      " 40%|████      | 40/100 [02:35<03:40,  3.68s/iteration]"
     ]
    },
    {
     "name": "stdout",
     "output_type": "stream",
     "text": [
      "after 2137.8752004552684\n",
      "Iteration :  40\n",
      "after 2137.8752004552684\n",
      "Iteration :  41\n",
      "after 2127.360991833513\n",
      "Iteration :  42\n",
      "after 2127.360991833513\n",
      "Iteration :  43\n",
      "after 2127.360991833513\n",
      "Iteration :  44\n",
      "after 2127.360991833513\n",
      "Iteration :  45\n",
      "after 2127.360991833513\n",
      "Iteration :  46\n",
      "after 2127.360991833513\n",
      "Iteration :  47\n",
      "after 2127.360991833513\n",
      "Iteration :  48\n",
      "after 2127.360991833513\n",
      "Iteration :  49\n"
     ]
    },
    {
     "name": "stderr",
     "output_type": "stream",
     "text": [
      " 50%|█████     | 50/100 [03:01<02:44,  3.29s/iteration]"
     ]
    },
    {
     "name": "stdout",
     "output_type": "stream",
     "text": [
      "after 2127.360991833513\n",
      "before combinaison 2127.360991833513\n",
      "-------------booster-------------\n",
      "before 2127.323987466108\n",
      "after 2127.2870459455116\n",
      "Gap primal dual : 50 1256.2290107623096 0.0\n",
      "Objective value is :  2127.2870459455116\n",
      "delta 5.891000879115882e-05\n",
      "before combinaison 2127.2870459455116\n",
      "-------------booster-------------\n",
      "before 2127.2549246243784\n",
      "after 2127.2228508020617\n",
      "Gap primal dual : 51 1254.028281512587 0.0\n",
      "Objective value is :  2127.2228508020617\n",
      "delta 5.122646405932527e-05\n",
      "before combinaison 2127.2228508020617\n",
      "-------------booster-------------\n",
      "before 2127.188962594288\n",
      "after 2127.155127420146\n",
      "Gap primal dual : 52 1252.1028818986413 0.0\n",
      "Objective value is :  2127.155127420146\n",
      "delta 5.412720664971261e-05\n",
      "before combinaison 2127.155127420146\n",
      "-------------booster-------------\n",
      "before 2127.1235945161848\n",
      "after 2127.09210766456\n",
      "Gap primal dual : 53 1250.0772100796657 0.0\n",
      "Objective value is :  2127.09210766456\n",
      "delta 5.044705167943204e-05\n",
      "before combinaison 2127.09210766456\n",
      "-------------booster-------------\n",
      "before 2127.060694753232\n",
      "after 2127.029327678079\n",
      "Gap primal dual : 54 1248.185408823736 0.0\n",
      "Objective value is :  2127.029327678079\n",
      "delta 5.033125951185831e-05\n",
      "before combinaison 2127.029327678079\n",
      "-------------booster-------------\n",
      "before 2126.992271500533\n",
      "after 2126.955279322755\n",
      "Gap primal dual : 55 1246.286702984751 0.0\n",
      "Objective value is :  2126.955279322755\n",
      "delta 5.9463071665476704e-05\n",
      "before combinaison 2126.955279322755\n",
      "-------------booster-------------\n",
      "before 2126.914423225046\n",
      "after 2126.8736452114845\n",
      "Gap primal dual : 56 1244.049590341944 0.0\n",
      "Objective value is :  2126.8736452114845\n",
      "delta 6.56781852179274e-05\n",
      "before combinaison 2126.8736452114845\n",
      "-------------booster-------------\n",
      "before 2126.8425589748936\n",
      "after 2126.8115180827176\n",
      "Gap primal dual : 57 1241.6070317014319 3.637978807091713e-09\n",
      "Objective value is :  2126.8115180827176\n",
      "delta 5.007176091194698e-05\n",
      "before combinaison 2126.8115180827176\n",
      "-------------booster-------------\n",
      "before 2126.7798378094412\n",
      "after 2126.7482047752083\n",
      "Gap primal dual : 58 1239.729121427508 3.637978807091713e-09\n",
      "Objective value is :  2126.7482047752083\n",
      "delta 5.11058347685983e-05\n"
     ]
    },
    {
     "name": "stderr",
     "output_type": "stream",
     "text": [
      " 60%|██████    | 60/100 [03:15<01:45,  2.63s/iteration]"
     ]
    },
    {
     "name": "stdout",
     "output_type": "stream",
     "text": [
      "before combinaison 2126.7482047752083\n",
      "-------------booster-------------\n",
      "before 2126.7168983495644\n",
      "after 2126.6856381947646\n",
      "Gap primal dual : 59 1237.8146724303579 0.0\n",
      "Objective value is :  2126.6856381947646\n",
      "delta 5.0580883799766546e-05\n",
      "before combinaison 2126.6856381947646\n",
      "-------------booster-------------\n",
      "before 2126.651790438523\n",
      "after 2126.617996939105\n",
      "Gap primal dual : 60 1235.914348906936 0.0\n",
      "Objective value is :  2126.617996939105\n",
      "delta 5.4770696361321084e-05\n",
      "before combinaison 2126.617996939105\n",
      "-------------booster-------------\n",
      "before 2126.5833387743396\n",
      "after 2126.5487376823185\n",
      "Gap primal dual : 61 1233.86080983885 0.0\n",
      "Objective value is :  2126.5487376823185\n",
      "delta 5.6175316262657844e-05\n",
      "before combinaison 2126.5487376823185\n",
      "-------------booster-------------\n",
      "before 2126.5098895889632\n",
      "after 2126.4711134574627\n",
      "Gap primal dual : 62 1231.74823048357 0.0\n",
      "Objective value is :  2126.4711134574627\n",
      "delta 6.307407109498159e-05\n",
      "before combinaison 2126.4711134574627\n",
      "-------------booster-------------\n",
      "before 2126.431899698046\n",
      "after 2126.3927595359846\n",
      "Gap primal dual : 63 1229.3852930835703 4.547473508864641e-13\n",
      "Objective value is :  2126.3927595359846\n",
      "delta 6.379009581341043e-05\n",
      "before combinaison 2126.3927595359846\n",
      "-------------booster-------------\n",
      "before 2126.3541353059245\n",
      "after 2126.315582744163\n",
      "Gap primal dual : 64 1226.9978938281138 4.547473508864641e-13\n",
      "Objective value is :  2126.315582744163\n",
      "delta 6.295339764607696e-05\n",
      "before combinaison 2126.315582744163\n",
      "-------------booster-------------\n",
      "before 2126.2850982437753\n",
      "after 2126.2546585269647\n",
      "Gap primal dual : 65 1224.657363898785 4.547473508864641e-13\n",
      "Objective value is :  2126.2546585269647\n",
      "delta 4.978212703367459e-05\n",
      "before combinaison 2126.2546585269647\n",
      "-------------booster-------------\n",
      "before 2126.223457266573\n",
      "after 2126.192303062888\n",
      "Gap primal dual : 66 1222.7925392575037 0.0\n",
      "Objective value is :  2126.192303062888\n",
      "delta 5.1030258499811554e-05\n",
      "before combinaison 2126.192303062888\n",
      "-------------booster-------------\n",
      "before 2126.154239527166\n",
      "after 2126.1162462702887\n",
      "Gap primal dual : 67 1220.8689861554026 0.0\n",
      "Objective value is :  2126.1162462702887\n",
      "delta 6.235100956292325e-05\n",
      "before combinaison 2126.1162462702887\n",
      "-------------booster-------------\n",
      "before 2126.08254676788\n",
      "after 2126.0489025422016\n",
      "Gap primal dual : 68 1218.5445768882605 0.0\n",
      "Objective value is :  2126.0489025422016\n",
      "delta 5.5308080995905085e-05\n"
     ]
    },
    {
     "name": "stderr",
     "output_type": "stream",
     "text": [
      " 70%|███████   | 70/100 [03:29<01:06,  2.22s/iteration]"
     ]
    },
    {
     "name": "stdout",
     "output_type": "stream",
     "text": [
      "before combinaison 2126.0489025422016\n",
      "-------------booster-------------\n",
      "before 2126.0186618690404\n",
      "after 2125.988465840569\n",
      "Gap primal dual : 69 1216.4822639928677 0.0\n",
      "Objective value is :  2125.988465840569\n",
      "delta 4.971582735144944e-05\n",
      "before combinaison 2125.988465840569\n",
      "-------------booster-------------\n",
      "before 2125.950310386996\n",
      "after 2125.9122262629503\n",
      "Gap primal dual : 70 1214.6067176034744 -3.6375240597408265e-09\n",
      "Objective value is :  2125.9122262629503\n",
      "delta 6.282378798565849e-05\n",
      "before combinaison 2125.9122262629503\n",
      "-------------booster-------------\n",
      "before 2125.879291570578\n",
      "after 2125.8464101986933\n",
      "Gap primal dual : 71 1212.2674863694108 0.0\n",
      "Objective value is :  2125.8464101986933\n",
      "delta 5.4332808891837376e-05\n",
      "before combinaison 2125.8464101986933\n",
      "-------------booster-------------\n",
      "before 2125.81247785548\n",
      "after 2125.7786023007848\n",
      "Gap primal dual : 72 1210.2337474058465 3.637978807091713e-09\n",
      "Objective value is :  2125.7786023007848\n",
      "delta 5.607261735415475e-05\n",
      "before combinaison 2125.7786023007848\n",
      "-------------booster-------------\n",
      "before 2125.7460001903296\n",
      "after 2125.713450677616\n",
      "Gap primal dual : 73 1208.139943109834 3.637978807091713e-09\n",
      "Objective value is :  2125.713450677616\n",
      "delta 5.396790878457711e-05\n",
      "before combinaison 2125.713450677616\n",
      "-------------booster-------------\n",
      "before 2125.677071201555\n",
      "after 2125.64075744712\n",
      "Gap primal dual : 74 1206.114943189432 3.637978807091713e-09\n",
      "Objective value is :  2125.64075744712\n",
      "delta 6.032149047034395e-05\n",
      "before combinaison 2125.64075744712\n",
      "-------------booster-------------\n",
      "before 2125.6067779820382\n",
      "after 2125.5728560559583\n",
      "Gap primal dual : 75 1203.8651575208717 0.0\n",
      "Objective value is :  2125.5728560559583\n",
      "delta 5.644749501647746e-05\n",
      "before combinaison 2125.5728560559583\n",
      "-------------booster-------------\n",
      "before 2125.5433311014503\n",
      "after 2125.513849716109\n",
      "Gap primal dual : 76 1201.764641619908 0.0\n",
      "Objective value is :  2125.513849716109\n",
      "delta 4.913365575535654e-05\n",
      "before combinaison 2125.513849716109\n",
      "-------------booster-------------\n",
      "before 2125.4831652781913\n",
      "after 2125.452528048361\n",
      "Gap primal dual : 77 1199.9265048247385 -3.63706931238994e-09\n",
      "Objective value is :  2125.452528048361\n",
      "delta 5.11413095839932e-05\n",
      "before combinaison 2125.452528048361\n",
      "-------------booster-------------\n",
      "before 2125.4136906904505\n",
      "after 2125.374929230543\n",
      "Gap primal dual : 78 1197.9996469977557 -3.6375240597408265e-09\n",
      "Objective value is :  2125.374929230543\n",
      "delta 6.483288237634803e-05\n"
     ]
    },
    {
     "name": "stderr",
     "output_type": "stream",
     "text": [
      " 80%|████████  | 80/100 [03:46<00:41,  2.05s/iteration]"
     ]
    },
    {
     "name": "stdout",
     "output_type": "stream",
     "text": [
      "before combinaison 2125.374929230543\n",
      "-------------booster-------------\n",
      "before 2125.3396491113494\n",
      "after 2125.3044318532297\n",
      "Gap primal dual : 79 1195.5851113843926 4.547473508864641e-13\n",
      "Objective value is :  2125.3044318532297\n",
      "delta 5.901392388880923e-05\n",
      "before combinaison 2125.3044318532297\n",
      "-------------booster-------------\n",
      "before 2125.275749289378\n",
      "after 2125.247108400891\n",
      "Gap primal dual : 80 1193.3944144675843 4.547473508864641e-13\n",
      "Objective value is :  2125.247108400891\n",
      "delta 4.806663404093656e-05\n",
      "before combinaison 2125.247108400891\n",
      "-------------booster-------------\n",
      "before 2125.209522748351\n",
      "after 2125.1720089197565\n",
      "Gap primal dual : 81 1191.581837906275 4.547473508864641e-13\n",
      "Objective value is :  2125.1720089197565\n",
      "delta 6.308140165778508e-05\n",
      "before combinaison 2125.1720089197565\n",
      "-------------booster-------------\n",
      "before 2125.142868138981\n",
      "after 2125.113770669961\n",
      "Gap primal dual : 82 1189.2436842994482 4.547473508864641e-13\n",
      "Objective value is :  2125.113770669961\n",
      "delta 4.900491683277591e-05\n",
      "before combinaison 2125.113770669961\n",
      "-------------booster-------------\n",
      "before 2125.0817197520673\n",
      "after 2125.0497214005786\n",
      "Gap primal dual : 83 1187.4086576787379 4.547473508864641e-13\n",
      "Objective value is :  2125.0497214005786\n",
      "delta 5.398180255766008e-05\n",
      "before combinaison 2125.0497214005786\n",
      "-------------booster-------------\n",
      "before 2125.0199345436317\n",
      "after 2124.9901932252797\n",
      "Gap primal dual : 84 1185.3985068894242 3.637978807091713e-09\n",
      "Objective value is :  2124.9901932252797\n",
      "delta 5.025382563670062e-05\n",
      "before combinaison 2124.9901932252797\n",
      "-------------booster-------------\n",
      "before 2124.961359679605\n",
      "after 2124.9325689340035\n",
      "Gap primal dual : 85 1183.5251585919586 3.637978807091713e-09\n",
      "Objective value is :  2124.9325689340035\n",
      "delta 4.872255019383254e-05\n",
      "before combinaison 2124.9325689340035\n",
      "-------------booster-------------\n",
      "before 2124.900411140216\n",
      "after 2124.8683067647794\n",
      "Gap primal dual : 86 1181.7006613305875 4.547473508864641e-13\n",
      "Objective value is :  2124.8683067647794\n",
      "delta 5.442339727073883e-05\n",
      "before combinaison 2124.8683067647794\n",
      "-------------booster-------------\n",
      "before 2124.835364810435\n",
      "after 2124.8024790981945\n",
      "Gap primal dual : 87 1179.6688461873812 9.094947017729282e-13\n",
      "Objective value is :  2124.8024790981945\n",
      "delta 5.584644781680745e-05\n",
      "before combinaison 2124.8024790981945\n",
      "-------------booster-------------\n",
      "before 2124.770990024208\n",
      "after 2124.7395525075676\n",
      "Gap primal dual : 88 1177.5887544892837 3.638888301793486e-09\n",
      "Objective value is :  2124.7395525075676\n",
      "delta 5.347781304871382e-05\n"
     ]
    },
    {
     "name": "stderr",
     "output_type": "stream",
     "text": [
      " 90%|█████████ | 90/100 [04:03<00:19,  1.94s/iteration]"
     ]
    },
    {
     "name": "stdout",
     "output_type": "stream",
     "text": [
      "before combinaison 2124.7395525075676\n",
      "-------------booster-------------\n",
      "before 2124.7106961902787\n",
      "after 2124.681883303374\n",
      "Gap primal dual : 89 1175.5996920282284 3.637978807091713e-09\n",
      "Objective value is :  2124.681883303374\n",
      "delta 4.9089740449722306e-05\n",
      "before combinaison 2124.681883303374\n",
      "-------------booster-------------\n",
      "before 2124.653296201654\n",
      "after 2124.624751851384\n",
      "Gap primal dual : 90 1173.7698249616265 3.6384335544425994e-09\n",
      "Objective value is :  2124.624751851384\n",
      "delta 4.870759117991198e-05\n",
      "before combinaison 2124.624751851384\n",
      "-------------booster-------------\n",
      "before 2124.594171927972\n",
      "after 2124.563641082252\n",
      "Gap primal dual : 91 1171.949944083692 3.638888301793486e-09\n",
      "Objective value is :  2124.563641082252\n",
      "delta 5.218374620621273e-05\n",
      "before combinaison 2124.563641082252\n",
      "-------------booster-------------\n",
      "before 2124.5284147296143\n",
      "after 2124.493253734655\n",
      "Gap primal dual : 92 1169.9954444338498 3.638888301793486e-09\n",
      "Objective value is :  2124.493253734655\n",
      "delta 6.021267113033087e-05\n",
      "before combinaison 2124.493253734655\n",
      "-------------booster-------------\n",
      "before 2124.457942913506\n",
      "after 2124.4226980091603\n",
      "Gap primal dual : 93 1167.7511430731108 3.6384335544425994e-09\n",
      "Objective value is :  2124.4226980091603\n",
      "delta 6.047303822884876e-05\n",
      "before combinaison 2124.4226980091603\n",
      "-------------booster-------------\n",
      "before 2124.395528161212\n",
      "after 2124.3683974562086\n",
      "Gap primal dual : 94 1165.513987893674 3.638888301793486e-09\n",
      "Objective value is :  2124.3683974562086\n",
      "delta 4.662084266243282e-05\n",
      "before combinaison 2124.3683974562086\n",
      "-------------booster-------------\n",
      "before 2124.340438276604\n",
      "after 2124.3125206720783\n",
      "Gap primal dual : 95 1163.775438659208 3.6384335544425994e-09\n",
      "Objective value is :  2124.3125206720783\n",
      "delta 4.80468590589198e-05\n",
      "before combinaison 2124.3125206720783\n",
      "-------------booster-------------\n",
      "before 2124.284580485822\n",
      "after 2124.256681942333\n",
      "Gap primal dual : 96 1161.9856240432357 3.638888301793486e-09\n",
      "Objective value is :  2124.256681942333\n",
      "delta 4.808817432806386e-05\n",
      "before combinaison 2124.256681942333\n",
      "-------------booster-------------\n",
      "before 2124.2296871473245\n",
      "after 2124.202731336125\n",
      "Gap primal dual : 97 1160.1963760372707 3.6384335544425994e-09\n",
      "Objective value is :  2124.202731336125\n",
      "delta 4.65327771209249e-05\n",
      "before combinaison 2124.202731336125\n",
      "-------------booster-------------\n",
      "before 2124.176815367093\n",
      "after 2124.1509354266877\n",
      "Gap primal dual : 98 1158.4655709859724 3.637978807091713e-09\n",
      "Objective value is :  2124.1509354266877\n",
      "delta 4.4739957425442916e-05\n"
     ]
    },
    {
     "name": "stderr",
     "output_type": "stream",
     "text": [
      "100%|██████████| 100/100 [04:16<00:00,  2.57s/iteration]"
     ]
    },
    {
     "name": "stdout",
     "output_type": "stream",
     "text": [
      "before combinaison 2124.1509354266877\n",
      "-------------booster-------------\n",
      "before 2124.1236973017144\n",
      "after 2124.0964990946804\n",
      "Gap primal dual : 99 1156.7969565914896 3.637978807091713e-09\n",
      "Objective value is :  2124.0964990946804\n",
      "delta 4.709017087627157e-05\n",
      "Gap primal dual :  1156.7969565951275\n",
      "Objective value is :  2124.0964990946804\n"
     ]
    },
    {
     "name": "stderr",
     "output_type": "stream",
     "text": [
      "\n"
     ]
    }
   ],
   "source": [
    "nk=40\n",
    "n_pre=50\n",
    "K=100\n",
    "np.random.seed(0)\n",
    "x_bar_st_v3,df_st_v3=FW_standard_v3.FW_st_solve(actual_time, analyse=True, K=K, nk=nk,n_pre=n_pre,optimize=True)"
   ]
  },
  {
   "cell_type": "code",
   "execution_count": 137,
   "metadata": {},
   "outputs": [],
   "source": [
    "FW_standard_v4 = Frank_Wolfe_Standard_v4(my_instance)"
   ]
  },
  {
   "cell_type": "code",
   "execution_count": 138,
   "metadata": {},
   "outputs": [
    {
     "name": "stderr",
     "output_type": "stream",
     "text": [
      "100%|██████████| 100/100 [02:29<00:00,  1.50s/iteration]"
     ]
    },
    {
     "name": "stdout",
     "output_type": "stream",
     "text": [
      "Gap primal dual :  1123.7419242302499\n",
      "Objective value is :  2116.6804247245373\n"
     ]
    },
    {
     "name": "stderr",
     "output_type": "stream",
     "text": [
      "\n"
     ]
    }
   ],
   "source": [
    "nk=40\n",
    "n_pre=50\n",
    "K=100\n",
    "np.random.seed(0)\n",
    "x_bar_st_v4,df_st_v4=FW_standard_v4.FW_st_solve(actual_time, analyse=True, K=K, nk=nk,n_pre=n_pre,optimize=True)"
   ]
  },
  {
   "cell_type": "code",
   "execution_count": 139,
   "metadata": {},
   "outputs": [],
   "source": [
    "FW_standard_v5 = Frank_Wolfe_Standard_v5(my_instance)"
   ]
  },
  {
   "cell_type": "code",
   "execution_count": 140,
   "metadata": {},
   "outputs": [
    {
     "name": "stderr",
     "output_type": "stream",
     "text": [
      "  0%|          | 0/100 [00:00<?, ?iteration/s]"
     ]
    },
    {
     "name": "stdout",
     "output_type": "stream",
     "text": [
      "Iteration :  0\n",
      "after 1913302.9458547959\n",
      "Iteration :  1\n",
      "after 1913302.9458547959\n",
      "Iteration :  2\n",
      "after 794227.7850491664\n",
      "Iteration :  3\n",
      "after 47705.602832347744\n",
      "Iteration :  4\n",
      "after 47705.602832347744\n",
      "Iteration :  5\n",
      "after 47705.602832347744\n",
      "Iteration :  6\n",
      "after 47705.602832347744\n",
      "Iteration :  7\n",
      "after 47705.602832347744\n",
      "Iteration :  8\n",
      "after 32188.10122117035\n",
      "Iteration :  9\n"
     ]
    },
    {
     "name": "stderr",
     "output_type": "stream",
     "text": [
      " 10%|█         | 10/100 [00:32<04:56,  3.30s/iteration]"
     ]
    },
    {
     "name": "stdout",
     "output_type": "stream",
     "text": [
      "after 32188.10122117035\n",
      "Iteration :  10\n",
      "after 21896.25103597258\n",
      "Iteration :  11\n",
      "after 21896.25103597258\n",
      "Iteration :  12\n",
      "after 21896.25103597258\n",
      "Iteration :  13\n",
      "after 21896.25103597258\n",
      "Iteration :  14\n",
      "after 21896.25103597258\n",
      "Iteration :  15\n",
      "after 21896.25103597258\n",
      "Iteration :  16\n",
      "after 21896.25103597258\n",
      "Iteration :  17\n",
      "after 21896.25103597258\n",
      "Iteration :  18\n",
      "after 15025.909224894698\n",
      "Iteration :  19\n"
     ]
    },
    {
     "name": "stderr",
     "output_type": "stream",
     "text": [
      " 20%|██        | 20/100 [01:05<04:20,  3.25s/iteration]"
     ]
    },
    {
     "name": "stdout",
     "output_type": "stream",
     "text": [
      "after 4848.900700377877\n",
      "Iteration :  20\n",
      "after 4848.900700377877\n",
      "Iteration :  21\n",
      "after 4848.900700377877\n",
      "Iteration :  22\n",
      "after 4848.900700377877\n",
      "Iteration :  23\n",
      "after 4848.900700377877\n",
      "Iteration :  24\n",
      "after 4848.900700377877\n",
      "Iteration :  25\n",
      "after 4848.900700377877\n",
      "Iteration :  26\n",
      "after 4848.900700377877\n",
      "Iteration :  27\n",
      "after 4623.528923254768\n",
      "Iteration :  28\n",
      "after 4623.528923254768\n",
      "Iteration :  29\n"
     ]
    },
    {
     "name": "stderr",
     "output_type": "stream",
     "text": [
      " 30%|███       | 30/100 [01:34<03:36,  3.10s/iteration]"
     ]
    },
    {
     "name": "stdout",
     "output_type": "stream",
     "text": [
      "after 4623.528923254768\n",
      "Iteration :  30\n",
      "after 4623.528923254768\n",
      "Iteration :  31\n",
      "after 4623.528923254768\n",
      "Iteration :  32\n",
      "after 4623.528923254768\n",
      "Iteration :  33\n",
      "after 3927.2122833293242\n",
      "Iteration :  34\n",
      "after 3927.2122833293242\n",
      "Iteration :  35\n",
      "after 3927.2122833293242\n",
      "Iteration :  36\n",
      "after 2626.114456828717\n",
      "Iteration :  37\n",
      "after 2626.114456828717\n",
      "Iteration :  38\n",
      "after 2137.8752004552684\n",
      "Iteration :  39\n"
     ]
    },
    {
     "name": "stderr",
     "output_type": "stream",
     "text": [
      " 40%|████      | 40/100 [02:02<02:58,  2.97s/iteration]"
     ]
    },
    {
     "name": "stdout",
     "output_type": "stream",
     "text": [
      "after 2137.8752004552684\n",
      "Iteration :  40\n",
      "after 2137.8752004552684\n",
      "Iteration :  41\n",
      "after 2127.360991833513\n",
      "Iteration :  42\n",
      "after 2127.360991833513\n",
      "Iteration :  43\n",
      "after 2127.360991833513\n",
      "Iteration :  44\n",
      "after 2127.360991833513\n",
      "Iteration :  45\n",
      "after 2127.360991833513\n",
      "Iteration :  46\n",
      "after 2127.360991833513\n",
      "Iteration :  47\n",
      "after 2127.360991833513\n",
      "Iteration :  48\n",
      "after 2127.360991833513\n",
      "Iteration :  49\n"
     ]
    },
    {
     "name": "stderr",
     "output_type": "stream",
     "text": [
      " 50%|█████     | 50/100 [02:27<02:21,  2.83s/iteration]"
     ]
    },
    {
     "name": "stdout",
     "output_type": "stream",
     "text": [
      "after 2127.360991833513\n",
      "before combinaison 2127.360991833513\n",
      "-------------booster-------------\n",
      "before 2119.0466414233424\n",
      "after 2113.909417390329\n",
      "before combinaison 2113.909417390329\n",
      "-------------booster-------------\n",
      "before 2112.25932584382\n",
      "after 2110.9370226839387\n",
      "before combinaison 2110.9370226839387\n",
      "-------------booster-------------\n",
      "before 2109.34831077304\n",
      "after 2108.256585946492\n",
      "before combinaison 2108.256585946492\n",
      "-------------booster-------------\n",
      "before 2107.420050886867\n",
      "after 2106.848344012126\n",
      "before combinaison 2106.848344012126\n",
      "-------------booster-------------\n",
      "before 2106.490391373103\n",
      "after 2106.2365055298724\n",
      "before combinaison 2106.2365055298724\n",
      "-------------booster-------------\n",
      "before 2106.0752050576193\n",
      "after 2105.9556581884735\n",
      "before combinaison 2105.9556581884735\n",
      "-------------booster-------------\n",
      "before 2105.8773120958126\n",
      "after 2105.8169528062126\n",
      "before combinaison 2105.8169528062126\n",
      "-------------booster-------------\n",
      "before 2105.746335745664\n",
      "after 2105.7001761021\n",
      "before combinaison 2105.7001761021\n",
      "-------------booster-------------\n",
      "before 2105.670083135179\n",
      "after 2105.6503820491707\n"
     ]
    },
    {
     "name": "stderr",
     "output_type": "stream",
     "text": [
      " 60%|██████    | 60/100 [02:41<01:33,  2.34s/iteration]"
     ]
    },
    {
     "name": "stdout",
     "output_type": "stream",
     "text": [
      "before combinaison 2105.6503820491707\n",
      "-------------booster-------------\n",
      "before 2105.6390865807375\n",
      "after 2105.63106199311\n",
      "before combinaison 2105.63106199311\n",
      "-------------booster-------------\n",
      "before 2105.6265054411965\n",
      "after 2105.623029660559\n",
      "before combinaison 2105.623029660559\n",
      "-------------booster-------------\n",
      "before 2105.6209837021056\n",
      "after 2105.6191484491974\n",
      "before combinaison 2105.6191484491974\n",
      "-------------booster-------------\n",
      "before 2105.6171391821235\n",
      "after 2105.61548700532\n",
      "before combinaison 2105.61548700532\n",
      "-------------booster-------------\n",
      "before 2105.6143938040145\n",
      "after 2105.613395044578\n",
      "before combinaison 2105.613395044578\n",
      "-------------booster-------------\n",
      "before 2105.6118487695817\n",
      "after 2105.610544757223\n",
      "before combinaison 2105.610544757223\n",
      "-------------booster-------------\n",
      "before 2105.6097997152997\n",
      "after 2105.609126903262\n",
      "before combinaison 2105.609126903262\n",
      "-------------booster-------------\n",
      "before 2105.608318234512\n",
      "after 2105.607613703496\n",
      "before combinaison 2105.607613703496\n",
      "-------------booster-------------\n",
      "before 2105.6071249198926\n",
      "after 2105.60668648316\n",
      "before combinaison 2105.60668648316\n",
      "-------------booster-------------\n",
      "before 2105.6060706187754\n",
      "after 2105.6055572482833\n"
     ]
    },
    {
     "name": "stderr",
     "output_type": "stream",
     "text": [
      " 70%|███████   | 70/100 [02:55<01:00,  2.02s/iteration]"
     ]
    },
    {
     "name": "stdout",
     "output_type": "stream",
     "text": [
      "before combinaison 2105.6055572482833\n",
      "-------------booster-------------\n",
      "before 2105.60522064212\n",
      "after 2105.604925641393\n",
      "before combinaison 2105.604925641393\n",
      "-------------booster-------------\n",
      "before 2105.6045954329984\n",
      "after 2105.6043173827093\n",
      "before combinaison 2105.6043173827093\n",
      "-------------booster-------------\n",
      "before 2105.604149689435\n",
      "after 2105.604001452195\n",
      "before combinaison 2105.604001452195\n",
      "-------------booster-------------\n",
      "before 2105.6038939576492\n",
      "after 2105.603797604144\n",
      "before combinaison 2105.603797604144\n",
      "-------------booster-------------\n",
      "before 2105.603702495346\n",
      "after 2105.6036176973075\n",
      "before combinaison 2105.6036176973075\n",
      "-------------booster-------------\n",
      "before 2105.603547216929\n",
      "after 2105.603483219837\n",
      "before combinaison 2105.603483219837\n",
      "-------------booster-------------\n",
      "before 2105.6033916423194\n",
      "after 2105.6033131922095\n",
      "before combinaison 2105.6033131922095\n",
      "-------------booster-------------\n",
      "before 2105.6032613433354\n",
      "after 2105.6032154226723\n",
      "before combinaison 2105.6032154226723\n",
      "-------------booster-------------\n",
      "before 2105.603167596027\n",
      "after 2105.603126907968\n",
      "before combinaison 2105.603126907968\n",
      "-------------booster-------------\n",
      "before 2105.603099967946\n",
      "after 2105.6030756486584\n"
     ]
    },
    {
     "name": "stderr",
     "output_type": "stream",
     "text": [
      " 80%|████████  | 80/100 [03:08<00:36,  1.81s/iteration]"
     ]
    },
    {
     "name": "stdout",
     "output_type": "stream",
     "text": [
      "before combinaison 2105.6030756486584\n",
      "-------------booster-------------\n",
      "before 2105.6030540902784\n",
      "after 2105.603034436882\n",
      "before combinaison 2105.603034436882\n",
      "-------------booster-------------\n",
      "before 2105.6030062405243\n",
      "after 2105.602982031546\n",
      "before combinaison 2105.602982031546\n",
      "-------------booster-------------\n",
      "before 2105.6029587322405\n",
      "after 2105.602939067889\n",
      "before combinaison 2105.602939067889\n",
      "-------------booster-------------\n",
      "before 2105.6029284892493\n",
      "after 2105.602918953738\n",
      "before combinaison 2105.602918953738\n",
      "-------------booster-------------\n",
      "before 2105.6029092591994\n",
      "after 2105.6029006455456\n",
      "before combinaison 2105.6029006455456\n",
      "-------------booster-------------\n",
      "before 2105.6028899508774\n",
      "after 2105.6028811090478\n",
      "before combinaison 2105.6028811090478\n",
      "-------------booster-------------\n",
      "before 2105.602875384821\n",
      "after 2105.6028703516704\n",
      "before combinaison 2105.6028703516704\n",
      "-------------booster-------------\n",
      "before 2105.6028669442167\n",
      "after 2105.602863847969\n",
      "before combinaison 2105.602863847969\n",
      "-------------booster-------------\n",
      "before 2105.602860107801\n",
      "after 2105.6028568158636\n",
      "before combinaison 2105.6028568158636\n",
      "-------------booster-------------\n",
      "before 2105.6028538941314\n",
      "after 2105.602851329255\n"
     ]
    },
    {
     "name": "stderr",
     "output_type": "stream",
     "text": [
      " 90%|█████████ | 90/100 [03:22<00:16,  1.67s/iteration]"
     ]
    },
    {
     "name": "stdout",
     "output_type": "stream",
     "text": [
      "before combinaison 2105.602851329255\n",
      "-------------booster-------------\n",
      "before 2105.6028492677247\n",
      "after 2105.602847437238\n",
      "before combinaison 2105.602847437238\n",
      "-------------booster-------------\n",
      "before 2105.6028456600843\n",
      "after 2105.602844098032\n",
      "before combinaison 2105.602844098032\n",
      "-------------booster-------------\n",
      "before 2105.602842633659\n",
      "after 2105.6028413465065\n",
      "before combinaison 2105.6028413465065\n",
      "-------------booster-------------\n",
      "before 2105.6028399107063\n",
      "after 2105.602838700141\n",
      "before combinaison 2105.602838700141\n",
      "-------------booster-------------\n",
      "before 2105.6028380730954\n",
      "after 2105.6028375010865\n",
      "before combinaison 2105.6028375010865\n",
      "-------------booster-------------\n",
      "before 2105.60283690024\n",
      "after 2105.602836363945\n",
      "before combinaison 2105.602836363945\n",
      "-------------booster-------------\n",
      "before 2105.6028359140623\n",
      "after 2105.602835513008\n",
      "before combinaison 2105.602835513008\n",
      "-------------booster-------------\n",
      "before 2105.602835209397\n",
      "after 2105.602834932933\n",
      "before combinaison 2105.602834932933\n",
      "-------------booster-------------\n",
      "before 2105.602834668235\n",
      "after 2105.602834428617\n",
      "before combinaison 2105.602834428617\n",
      "-------------booster-------------\n",
      "before 2105.6028341826195\n",
      "after 2105.6028339649124\n"
     ]
    },
    {
     "name": "stderr",
     "output_type": "stream",
     "text": [
      "100%|██████████| 100/100 [03:36<00:00,  2.16s/iteration]"
     ]
    },
    {
     "name": "stdout",
     "output_type": "stream",
     "text": [
      "before combinaison 2105.6028339649124\n",
      "-------------booster-------------\n",
      "before 2105.602833778275\n",
      "after 2105.602833609854\n",
      "Gap primal dual :  0.5695934423761173\n",
      "Objective value is :  2105.602833609854\n"
     ]
    },
    {
     "name": "stderr",
     "output_type": "stream",
     "text": [
      "\n"
     ]
    }
   ],
   "source": [
    "nk=40\n",
    "n_pre=50\n",
    "K=100\n",
    "np.random.seed(0)\n",
    "x_bar_st_v5,df_st_v5=FW_standard_v5.FW_st_solve(actual_time, analyse=True, K=K, nk=nk,n_pre=n_pre,optimize=True)"
   ]
  },
  {
   "cell_type": "code",
   "execution_count": 141,
   "metadata": {},
   "outputs": [
    {
     "data": {
      "image/png": "[encoded data removed]",
      "text/plain": [
       "<Figure size 432x288 with 1 Axes>"
      ]
     },
     "metadata": {
      "needs_background": "light"
     },
     "output_type": "display_data"
    }
   ],
   "source": [
    "plt.plot([x for x in range(0,100)],df_rd_st_t['best_score'].values[:100]-optimal_value, label=\"FWstd pb rd v1\")\n",
    "plt.plot([x for x in range(0,100)],df_rd_st_t_v2['best_score'].values[:100]-optimal_value, label=\"FWstd pb rd v2 : delta k\")\n",
    "plt.plot([x for x in range(0,100)],df_rd_st_t_v3['best_score'].values[:100]-optimal_value, label=\"FWstd pb rd v3 :delta i k\")\n",
    "plt.plot([x for x in range(0,100)],df_st_v3['best_score'].values[:100]-optimal_value, label=\"FWstd v3\")\n",
    "plt.plot([x for x in range(0,100)],df_st_v4['best_score'].values[:100]-optimal_value, label=\"FWstd v4 : delta k\")\n",
    "plt.plot([x for x in range(0,100)],df_st_v5['best_score'].values[:100]-optimal_value, label=\"FWstd v5 :delta i k\")\n",
    "\n",
    "plt.yscale('log')\n",
    "plt.legend()\n",
    "plt.title(\"Evolution of gap between the best score and the optimal value of cplex with 200 vehicles\")\n",
    "plt.xlabel(\"Iteration\")\n",
    "plt.ylabel(\"Gap\")\n",
    "plt.show()"
   ]
  }
 ],
 "metadata": {
  "kernelspec": {
   "display_name": "base",
   "language": "python",
   "name": "python3"
  },
  "language_info": {
   "codemirror_mode": {
    "name": "ipython",
    "version": 3
   },
   "file_extension": ".py",
   "mimetype": "text/x-python",
   "name": "python",
   "nbconvert_exporter": "python",
   "pygments_lexer": "ipython3",
   "version": "3.7.4"
  },
  "orig_nbformat": 4,
  "vscode": {
   "interpreter": {
    "hash": "61b7b18d34c3fa69719dbff512ad23fff8bc59ee7052faf1d64f93f10792958b"
   }
  }
 },
 "nbformat": 4,
 "nbformat_minor": 2
}
