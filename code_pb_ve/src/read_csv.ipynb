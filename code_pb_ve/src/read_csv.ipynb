{
 "cells": [
  {
   "cell_type": "code",
   "execution_count": 2,
   "metadata": {},
   "outputs": [],
   "source": [
    "import time\n",
    "import numpy as np\n",
    "import matplotlib.pyplot as plt\n",
    "import sys\n",
    "import json\n",
    "import pandas as pd"
   ]
  },
  {
   "cell_type": "code",
   "execution_count": 3,
   "metadata": {},
   "outputs": [],
   "source": [
    "result= pd.read_csv(\"../result/pb_original/instance_500/CFW1_50_100_20230821-001407.csv\")#, sep=\";\")"
   ]
  },
  {
   "cell_type": "code",
   "execution_count": 4,
   "metadata": {},
   "outputs": [
    {
     "name": "stdout",
     "output_type": "stream",
     "text": [
      "   k    best_score                                             charge  \\\n",
      "0  0  1.882925e+07  [[    0.     0. 15000. ...     0. 15000.     0...   \n",
      "1  1  1.882925e+07  [[    0.     0. 15000. ...     0. 15000.     0...   \n",
      "2  2  1.882925e+07  [[    0.     0. 15000. ...     0. 15000.     0...   \n",
      "3  3  1.761231e+07  [[    0.     0. 15000. ...     0. 15000.     0...   \n",
      "4  4  1.761231e+07  [[    0.     0. 15000. ...     0. 15000.     0...   \n",
      "\n",
      "                                            decharge  \\\n",
      "0  [[ 4105.54789384 15000.             0.        ...   \n",
      "1  [[ 4105.54789384 15000.             0.        ...   \n",
      "2  [[ 4105.54789384 15000.             0.        ...   \n",
      "3  [[ 4105.54789384 15000.             0.        ...   \n",
      "4  [[ 4105.54789384 15000.             0.        ...   \n",
      "\n",
      "                                           charge_up  \\\n",
      "0  [[0. 0. 0. ... 0. 0. 0.]\\n [0. 0. 0. ... 0. 0....   \n",
      "1  [[0. 0. 0. ... 0. 0. 0.]\\n [0. 0. 0. ... 0. 0....   \n",
      "2  [[0. 0. 0. ... 0. 0. 0.]\\n [0. 0. 0. ... 0. 0....   \n",
      "3  [[    0.     0.     0. ...     0.     0.     0...   \n",
      "4  [[    0.     0.     0. ...     0.     0.     0...   \n",
      "\n",
      "                                         decharge_up  \\\n",
      "0  [[15000. 15000. 15000. ... 15000. 15000. 15000...   \n",
      "1  [[15000. 15000. 15000. ... 15000. 15000. 15000...   \n",
      "2  [[15000. 15000. 15000. ... 15000. 15000. 15000...   \n",
      "3  [[15000. 15000. 15000. ... 15000. 15000. 15000...   \n",
      "4  [[15000. 15000. 15000. ... 15000. 15000. 15000...   \n",
      "\n",
      "                                                 soc  \\\n",
      "0  [[ 7500.          3750.          7500.        ...   \n",
      "1  [[ 7500.          3750.          7500.        ...   \n",
      "2  [[ 7500.          3750.          7500.        ...   \n",
      "3  [[ 7500.          3750.          7500.        ...   \n",
      "4  [[ 7500.          3750.          7500.        ...   \n",
      "\n",
      "                                              soc_up  gap_primal_dual  \n",
      "0  [[ 4776.38697346  3750.             0.        ...     0.000000e+00  \n",
      "1  [[ 4776.38697346  3750.             0.        ...     1.283299e+08  \n",
      "2  [[ 4776.38697346  3750.             0.        ...     1.283299e+08  \n",
      "3  [[ 4776.38697346  3750.             0.        ...     8.075167e+07  \n",
      "4  [[ 4776.38697346  3750.             0.        ...     6.634369e+07  \n"
     ]
    }
   ],
   "source": [
    "print(result.head())"
   ]
  },
  {
   "cell_type": "code",
   "execution_count": 5,
   "metadata": {},
   "outputs": [
    {
     "name": "stdout",
     "output_type": "stream",
     "text": [
      "0     1.882925e+07\n",
      "1     1.882925e+07\n",
      "2     1.882925e+07\n",
      "3     1.761231e+07\n",
      "4     1.761231e+07\n",
      "          ...     \n",
      "95    5.731710e+05\n",
      "96    5.727758e+05\n",
      "97    5.727364e+05\n",
      "98    5.724891e+05\n",
      "99    5.722589e+05\n",
      "Name: best_score, Length: 100, dtype: float64\n"
     ]
    }
   ],
   "source": [
    "print(result[\"best_score\"])"
   ]
  },
  {
   "cell_type": "code",
   "execution_count": 9,
   "metadata": {},
   "outputs": [
    {
     "data": {
      "text/plain": [
       "124896.95754730099"
      ]
     },
     "execution_count": 9,
     "metadata": {},
     "output_type": "execute_result"
    }
   ],
   "source": [
    "result[\"gap_primal_dual\"][99]"
   ]
  },
  {
   "cell_type": "code",
   "execution_count": null,
   "metadata": {},
   "outputs": [],
   "source": []
  }
 ],
 "metadata": {
  "kernelspec": {
   "display_name": "base",
   "language": "python",
   "name": "python3"
  },
  "language_info": {
   "codemirror_mode": {
    "name": "ipython",
    "version": 3
   },
   "file_extension": ".py",
   "mimetype": "text/x-python",
   "name": "python",
   "nbconvert_exporter": "python",
   "pygments_lexer": "ipython3",
   "version": "3.7.4"
  },
  "orig_nbformat": 4,
  "vscode": {
   "interpreter": {
    "hash": "61b7b18d34c3fa69719dbff512ad23fff8bc59ee7052faf1d64f93f10792958b"
   }
  }
 },
 "nbformat": 4,
 "nbformat_minor": 2
}
