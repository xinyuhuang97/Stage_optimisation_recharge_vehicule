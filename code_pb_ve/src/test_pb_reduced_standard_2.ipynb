{
 "cells": [
  {
   "cell_type": "code",
   "execution_count": 20,
   "metadata": {},
   "outputs": [],
   "source": [
    "import time\n",
    "import numpy as np\n",
    "import matplotlib.pyplot as plt\n",
    "import sys\n",
    "import json\n",
    "sys.path.append('/Applications/CPLEX_Studio221/cplex/python/3.7/x86-64_osx/cplex/_internal')\n",
    "sys.path.append('/Users/xinyuhuangmac/Google Drive/Stage/code_pb_ve/src')\n",
    "sys.path.append('/Users/xinyuhuangmac/Google Drive/Stage/code_pb_ve/data')\n",
    "import py37_cplex2210 as cplex\n",
    "from generator import *"
   ]
  },
  {
   "cell_type": "code",
   "execution_count": 17,
   "metadata": {},
   "outputs": [],
   "source": [
    "%reload_ext autoreload\n",
    "%autoreload 2\n",
    "from frontal_algo_no_beta import *\n",
    "#from pr_Frank_Wolfe_stochastique import *\n",
    "from pr_Frank_Wolfe_standard import *\n",
    "from pr_Frank_Wolfe_standard_v2 import *\n",
    "from pr_Frank_Wolfe_standard_v3 import *\n",
    "from Frank_Wolfe_st_v3 import *\n",
    "from Frank_Wolfe_st_v4 import *\n",
    "from Frank_Wolfe_st_v5 import *\n",
    "from tools import *"
   ]
  },
  {
   "cell_type": "code",
   "execution_count": 10,
   "metadata": {},
   "outputs": [
    {
     "name": "stdout",
     "output_type": "stream",
     "text": [
      "valeur optimal par function objective: 3661.1994296366743\n"
     ]
    }
   ],
   "source": [
    "N=500\n",
    "actual_time=0\n",
    "#instance_json(N)\n",
    "#my_instance = \"../data/instance_200_tested.json\"\n",
    "my_instance = \"../data/instance_500_battu_cplex.json\"\n",
    "np.random.seed(0)\n",
    "frontal = Frontal(my_instance,actual_time)\n",
    "result,s_t_min,soc_max,optimal_value = frontal.Frontal_solve(actual_time)"
   ]
  },
  {
   "cell_type": "code",
   "execution_count": 11,
   "metadata": {},
   "outputs": [],
   "source": [
    "reduced_FW_standard = Frank_Wolfe_Reduced_standard(my_instance)\n",
    "reduced_FW_standard_v2 = Frank_Wolfe_Reduced_standard_v2(my_instance)\n",
    "reduced_FW_standard_v3 = Frank_Wolfe_Reduced_standard_v3(my_instance)\n",
    "FW_standard_v3 = Frank_Wolfe_Standard_v3(my_instance)\n",
    "FW_standard_v4 = Frank_Wolfe_Standard_v4(my_instance)\n",
    "FW_standard_v5 = Frank_Wolfe_Standard_v5(my_instance)"
   ]
  },
  {
   "cell_type": "code",
   "execution_count": null,
   "metadata": {},
   "outputs": [],
   "source": [
    "nk=40\n",
    "n_pre=50\n",
    "K=100\n",
    "np.random.seed(0)\n",
    "x_bar_rd_st_t,df_rd_st_t=reduced_FW_standard.FW_st_solve(actual_time, analyse=True, K=K, nk=nk,n_pre=n_pre,optimize=False)\n",
    "np.random.seed(0)\n",
    "x_bar_rd_st_t_v2,df_rd_st_t_v2=reduced_FW_standard_v2.FW_st_solve(actual_time, analyse=True, K=K, nk=nk,n_pre=n_pre,optimize=False)\n",
    "np.random.seed(0)\n",
    "x_bar_rd_st_t_v3,df_rd_st_t_v3=reduced_FW_standard_v3.FW_st_solve(actual_time, analyse=True, K=K, nk=nk,n_pre=n_pre,optimize=False)\n",
    "np.random.seed(0)\n",
    "x_bar_st_v3,df_st_v3=FW_standard_v3.FW_st_solve(actual_time, analyse=True, K=K, nk=nk,n_pre=n_pre,optimize=True)\n",
    "np.random.seed(0)\n",
    "x_bar_st_v4,df_st_v4=FW_standard_v4.FW_st_solve(actual_time, analyse=True, K=K, nk=nk,n_pre=n_pre,optimize=True)\n",
    "np.random.seed(0)\n",
    "x_bar_st_v5,df_st_v5=FW_standard_v5.FW_st_solve(actual_time, analyse=True, K=K, nk=nk,n_pre=n_pre,optimize=True)\n"
   ]
  },
  {
   "cell_type": "code",
   "execution_count": null,
   "metadata": {},
   "outputs": [],
   "source": [
    "plt.plot([x for x in range(0,100)],df_rd_st_t['best_score'].values[:100], label=\"FWstd pb rd v1\")\n",
    "plt.plot([x for x in range(0,100)],df_rd_st_t_v2['best_score'].values[:100], label=\"FWstd pb rd v2 : delta k\")\n",
    "plt.plot([x for x in range(0,100)],df_rd_st_t_v3['best_score'].values[:100], label=\"FWstd pb rd v3 :delta i k\")\n",
    "plt.plot([x for x in range(0,100)],df_st_v3['best_score'].values[:100], label=\"FWstd v3\")\n",
    "plt.plot([x for x in range(0,100)],df_st_v4['best_score'].values[:100], label=\"FWstd v4 : delta k\")\n",
    "plt.plot([x for x in range(0,100)],df_st_v5['best_score'].values[:100], label=\"FWstd v5 :delta i k\")\n",
    "\n",
    "plt.yscale('log')\n",
    "plt.legend()\n",
    "plt.title(\"Evolution of gap between the best score and the optimal value of cplex with 200 vehicles\")\n",
    "plt.xlabel(\"Iteration\")\n",
    "plt.ylabel(\"Gap\")\n",
    "plt.show()"
   ]
  },
  {
   "cell_type": "code",
   "execution_count": null,
   "metadata": {},
   "outputs": [],
   "source": [
    "np.random.seed(0)\n",
    "n_pre=100\n",
    "K=200\n",
    "x_bar_st_v5_1,df_st_v5_1=FW_standard_v5.FW_st_solve(actual_time, analyse=True, K=K, nk=nk,n_pre=n_pre,optimize=True)\n"
   ]
  },
  {
   "cell_type": "code",
   "execution_count": null,
   "metadata": {},
   "outputs": [],
   "source": [
    "K=1000\n",
    "n_pre=1000\n",
    "np.random.seed(0)\n",
    "x_bar_rd_st_t_v3,df_rd_st_t_v3=reduced_FW_standard_v3.FW_st_solve(actual_time, analyse=True, K=K, nk=nk,n_pre=n_pre,optimize=False)"
   ]
  },
  {
   "cell_type": "code",
   "execution_count": null,
   "metadata": {},
   "outputs": [],
   "source": [
    "np.random.seed(0)\n",
    "n_pre=1000\n",
    "K=1000\n",
    "x_bar_st_v5_1000,df_st_v5_1000=FW_standard_v5.FW_st_solve(actual_time, analyse=True, K=K, nk=nk,n_pre=n_pre,optimize=True)\n"
   ]
  },
  {
   "cell_type": "code",
   "execution_count": null,
   "metadata": {},
   "outputs": [],
   "source": [
    "from pr_Frank_Wolfe_stochastique_glouton import *\n",
    "my_instance = \"../data/instance_500_battu_cplex.json\"\n"
   ]
  },
  {
   "cell_type": "code",
   "execution_count": null,
   "metadata": {},
   "outputs": [],
   "source": [
    "FW_pb_rd_glouton=Frank_Wolfe_Reduced_glouton(my_instance)"
   ]
  },
  {
   "cell_type": "code",
   "execution_count": null,
   "metadata": {},
   "outputs": [],
   "source": [
    "np.random.seed(0)\n",
    "n_pre=1000\n",
    "K=1000\n",
    "nk=0\n",
    "x_bar_glouton,df_glouton=FW_pb_rd_glouton.FW_st_solve(actual_time, analyse=True, K=K, nk=nk,n_pre=n_pre,optimize=True)\n"
   ]
  },
  {
   "cell_type": "code",
   "execution_count": 29,
   "metadata": {},
   "outputs": [],
   "source": [
    "from Frank_Wolfe_stochastique_gloutonne import *\n",
    "my_instance=\"../data/instance_1000.json\""
   ]
  },
  {
   "cell_type": "code",
   "execution_count": 30,
   "metadata": {},
   "outputs": [
    {
     "ename": "KeyboardInterrupt",
     "evalue": "",
     "output_type": "error",
     "traceback": [
      "\u001b[0;31m---------------------------------------------------------------------------\u001b[0m",
      "\u001b[0;31mKeyboardInterrupt\u001b[0m                         Traceback (most recent call last)",
      "\u001b[0;32m<ipython-input-30-3d0c4284de2b>\u001b[0m in \u001b[0;36m<module>\u001b[0;34m\u001b[0m\n\u001b[1;32m      1\u001b[0m \u001b[0mnp\u001b[0m\u001b[0;34m.\u001b[0m\u001b[0mrandom\u001b[0m\u001b[0;34m.\u001b[0m\u001b[0mseed\u001b[0m\u001b[0;34m(\u001b[0m\u001b[0;36m0\u001b[0m\u001b[0;34m)\u001b[0m\u001b[0;34m\u001b[0m\u001b[0;34m\u001b[0m\u001b[0m\n\u001b[1;32m      2\u001b[0m \u001b[0mfrontal\u001b[0m \u001b[0;34m=\u001b[0m \u001b[0mFrontal\u001b[0m\u001b[0;34m(\u001b[0m\u001b[0mmy_instance\u001b[0m\u001b[0;34m,\u001b[0m\u001b[0mactual_time\u001b[0m\u001b[0;34m)\u001b[0m\u001b[0;34m\u001b[0m\u001b[0;34m\u001b[0m\u001b[0m\n\u001b[0;32m----> 3\u001b[0;31m \u001b[0mresult\u001b[0m\u001b[0;34m,\u001b[0m\u001b[0ms_t_min\u001b[0m\u001b[0;34m,\u001b[0m\u001b[0msoc_max\u001b[0m\u001b[0;34m,\u001b[0m\u001b[0moptimal_value\u001b[0m \u001b[0;34m=\u001b[0m \u001b[0mfrontal\u001b[0m\u001b[0;34m.\u001b[0m\u001b[0mFrontal_solve\u001b[0m\u001b[0;34m(\u001b[0m\u001b[0mactual_time\u001b[0m\u001b[0;34m)\u001b[0m\u001b[0;34m\u001b[0m\u001b[0;34m\u001b[0m\u001b[0m\n\u001b[0m",
      "\u001b[0;32m~/Google Drive/Stage/code_pb_ve/src/frontal_algo_no_beta.py\u001b[0m in \u001b[0;36mFrontal_solve\u001b[0;34m(self, actual_time, verbose)\u001b[0m\n\u001b[1;32m    146\u001b[0m                                                                     val=[1,-1,-self.time_mesh_to_hour,self.time_mesh_to_hour]) for t in range(self.T)],senses=[\"E\"]*(self.T),rhs=[0]*(self.T),names=[\"Production balance bl\"+str(i)+\" \"+str(t) for t in range(self.T)])\n\u001b[1;32m    147\u001b[0m             problem.linear_constraints.add(lin_expr=[cplex.SparsePair(ind=[\"s_up_\"+str(i)+\"_\"+str(t+1),\"s_bl_\"+str(i)+\"_\"+str(t),\"c_up_\"+str(i)+\"_\"+str(t+1),\"d_up_\"+str(i)+\"_\"+str(t+1)],\\\n\u001b[0;32m--> 148\u001b[0;31m                                                                     val=[1,-1,-self.time_mesh_to_hour,self.time_mesh_to_hour]) for t in range(self.T)],senses=[\"E\"]*(self.T),rhs=[0]*(self.T),names=[\"Production balance up\"+str(i)+\" \"+str(t) for t in range(self.T)])\n\u001b[0m\u001b[1;32m    149\u001b[0m \u001b[0;34m\u001b[0m\u001b[0m\n\u001b[1;32m    150\u001b[0m             \u001b[0mproblem\u001b[0m\u001b[0;34m.\u001b[0m\u001b[0mlinear_constraints\u001b[0m\u001b[0;34m.\u001b[0m\u001b[0madd\u001b[0m\u001b[0;34m(\u001b[0m\u001b[0mlin_expr\u001b[0m\u001b[0;34m=\u001b[0m\u001b[0;34m[\u001b[0m\u001b[0mcplex\u001b[0m\u001b[0;34m.\u001b[0m\u001b[0mSparsePair\u001b[0m\u001b[0;34m(\u001b[0m\u001b[0mind\u001b[0m\u001b[0;34m=\u001b[0m\u001b[0;34m[\u001b[0m\u001b[0;34m\"n_bl_\"\u001b[0m\u001b[0;34m+\u001b[0m\u001b[0mstr\u001b[0m\u001b[0;34m(\u001b[0m\u001b[0mi\u001b[0m\u001b[0;34m)\u001b[0m\u001b[0;34m+\u001b[0m\u001b[0;34m\"_\"\u001b[0m\u001b[0;34m+\u001b[0m\u001b[0mstr\u001b[0m\u001b[0;34m(\u001b[0m\u001b[0mt\u001b[0m\u001b[0;34m)\u001b[0m\u001b[0;34m,\u001b[0m\u001b[0;34m\"s_bl_\"\u001b[0m\u001b[0;34m+\u001b[0m\u001b[0mstr\u001b[0m\u001b[0;34m(\u001b[0m\u001b[0mi\u001b[0m\u001b[0;34m)\u001b[0m\u001b[0;34m+\u001b[0m\u001b[0;34m\"_\"\u001b[0m\u001b[0;34m+\u001b[0m\u001b[0mstr\u001b[0m\u001b[0;34m(\u001b[0m\u001b[0mt\u001b[0m\u001b[0;34m)\u001b[0m\u001b[0;34m]\u001b[0m\u001b[0;34m,\u001b[0m\u001b[0mval\u001b[0m\u001b[0;34m=\u001b[0m\u001b[0;34m[\u001b[0m\u001b[0;36m1\u001b[0m\u001b[0;34m,\u001b[0m\u001b[0;36m1\u001b[0m\u001b[0;34m]\u001b[0m\u001b[0;34m)\u001b[0m \u001b[0;32mfor\u001b[0m \u001b[0mt\u001b[0m \u001b[0;32min\u001b[0m \u001b[0mrange\u001b[0m\u001b[0;34m(\u001b[0m\u001b[0;36m1\u001b[0m\u001b[0;34m,\u001b[0m\u001b[0mself\u001b[0m\u001b[0;34m.\u001b[0m\u001b[0mT\u001b[0m\u001b[0;34m+\u001b[0m\u001b[0;36m1\u001b[0m\u001b[0;34m)\u001b[0m\u001b[0;34m]\u001b[0m\u001b[0;34m,\u001b[0m\u001b[0msenses\u001b[0m\u001b[0;34m=\u001b[0m\u001b[0;34m[\u001b[0m\u001b[0;34m\"G\"\u001b[0m\u001b[0;34m]\u001b[0m\u001b[0;34m*\u001b[0m\u001b[0mself\u001b[0m\u001b[0;34m.\u001b[0m\u001b[0mT\u001b[0m\u001b[0;34m,\u001b[0m\u001b[0mrhs\u001b[0m\u001b[0;34m=\u001b[0m\u001b[0mself\u001b[0m\u001b[0;34m.\u001b[0m\u001b[0ms_i_t_min\u001b[0m\u001b[0;34m[\u001b[0m\u001b[0mi\u001b[0m\u001b[0;34m]\u001b[0m\u001b[0;34m,\u001b[0m\u001b[0mnames\u001b[0m\u001b[0;34m=\u001b[0m\u001b[0;34m[\u001b[0m\u001b[0;34m\"Negative part bl \"\u001b[0m\u001b[0;34m+\u001b[0m\u001b[0mstr\u001b[0m\u001b[0;34m(\u001b[0m\u001b[0mi\u001b[0m\u001b[0;34m)\u001b[0m\u001b[0;34m+\u001b[0m\u001b[0;34m\" \"\u001b[0m\u001b[0;34m+\u001b[0m\u001b[0mstr\u001b[0m\u001b[0;34m(\u001b[0m\u001b[0mt\u001b[0m\u001b[0;34m)\u001b[0m \u001b[0;32mfor\u001b[0m \u001b[0mt\u001b[0m \u001b[0;32min\u001b[0m \u001b[0mrange\u001b[0m\u001b[0;34m(\u001b[0m\u001b[0;36m1\u001b[0m\u001b[0;34m,\u001b[0m\u001b[0mself\u001b[0m\u001b[0;34m.\u001b[0m\u001b[0mT\u001b[0m\u001b[0;34m+\u001b[0m\u001b[0;36m1\u001b[0m\u001b[0;34m)\u001b[0m\u001b[0;34m]\u001b[0m\u001b[0;34m)\u001b[0m\u001b[0;34m\u001b[0m\u001b[0;34m\u001b[0m\u001b[0m\n",
      "\u001b[0;32m/Applications/CPLEX_Studio221/cplex/python/3.7/x86-64_osx/cplex/_internal/_subinterfaces.py\u001b[0m in \u001b[0;36madd\u001b[0;34m(self, lin_expr, senses, rhs, range_values, names)\u001b[0m\n\u001b[1;32m   1272\u001b[0m             lin_expr, senses, rhs, range_values, names)\n\u001b[1;32m   1273\u001b[0m         return self._add_iter(self.get_num, self._add,\n\u001b[0;32m-> 1274\u001b[0;31m                               lin_expr, senses, rhs, range_values, names)\n\u001b[0m\u001b[1;32m   1275\u001b[0m \u001b[0;34m\u001b[0m\u001b[0m\n\u001b[1;32m   1276\u001b[0m     \u001b[0;32mdef\u001b[0m \u001b[0mdelete\u001b[0m\u001b[0;34m(\u001b[0m\u001b[0mself\u001b[0m\u001b[0;34m,\u001b[0m \u001b[0;34m*\u001b[0m\u001b[0margs\u001b[0m\u001b[0;34m)\u001b[0m\u001b[0;34m:\u001b[0m\u001b[0;34m\u001b[0m\u001b[0;34m\u001b[0m\u001b[0m\n",
      "\u001b[0;32m/Applications/CPLEX_Studio221/cplex/python/3.7/x86-64_osx/cplex/_internal/_baseinterface.py\u001b[0m in \u001b[0;36m_add_iter\u001b[0;34m(getnumfun, addfun, *args, **kwargs)\u001b[0m\n\u001b[1;32m     39\u001b[0m         \u001b[0;34m\"\"\"non-public\"\"\"\u001b[0m\u001b[0;34m\u001b[0m\u001b[0;34m\u001b[0m\u001b[0m\n\u001b[1;32m     40\u001b[0m         \u001b[0mold\u001b[0m \u001b[0;34m=\u001b[0m \u001b[0mgetnumfun\u001b[0m\u001b[0;34m(\u001b[0m\u001b[0;34m)\u001b[0m\u001b[0;34m\u001b[0m\u001b[0;34m\u001b[0m\u001b[0m\n\u001b[0;32m---> 41\u001b[0;31m         \u001b[0maddfun\u001b[0m\u001b[0;34m(\u001b[0m\u001b[0;34m*\u001b[0m\u001b[0margs\u001b[0m\u001b[0;34m,\u001b[0m \u001b[0;34m**\u001b[0m\u001b[0mkwargs\u001b[0m\u001b[0;34m)\u001b[0m\u001b[0;34m\u001b[0m\u001b[0;34m\u001b[0m\u001b[0m\n\u001b[0m\u001b[1;32m     42\u001b[0m         \u001b[0;32mreturn\u001b[0m \u001b[0mrange\u001b[0m\u001b[0;34m(\u001b[0m\u001b[0mold\u001b[0m\u001b[0;34m,\u001b[0m \u001b[0mgetnumfun\u001b[0m\u001b[0;34m(\u001b[0m\u001b[0;34m)\u001b[0m\u001b[0;34m)\u001b[0m\u001b[0;34m\u001b[0m\u001b[0;34m\u001b[0m\u001b[0m\n\u001b[1;32m     43\u001b[0m \u001b[0;34m\u001b[0m\u001b[0m\n",
      "\u001b[0;32m/Applications/CPLEX_Studio221/cplex/python/3.7/x86-64_osx/cplex/_internal/_subinterfaces.py\u001b[0m in \u001b[0;36m_add\u001b[0;34m(self, lin_expr, senses, rhs, range_values, names)\u001b[0m\n\u001b[1;32m   1198\u001b[0m         \u001b[0;32mif\u001b[0m \u001b[0mlin_expr\u001b[0m\u001b[0;34m:\u001b[0m\u001b[0;34m\u001b[0m\u001b[0;34m\u001b[0m\u001b[0m\n\u001b[1;32m   1199\u001b[0m             with CPX_PROC.chbmatrix(lin_expr, self._cplex._env_lp_ptr,\n\u001b[0;32m-> 1200\u001b[0;31m                                     0) as (rmat, nnz):\n\u001b[0m\u001b[1;32m   1201\u001b[0m                 CPX_PROC.addrows(self._env._e, self._cplex._lp, 0,\n\u001b[1;32m   1202\u001b[0m                                  \u001b[0mnum_new_rows\u001b[0m\u001b[0;34m,\u001b[0m \u001b[0mnnz\u001b[0m\u001b[0;34m,\u001b[0m \u001b[0mrhs\u001b[0m\u001b[0;34m,\u001b[0m \u001b[0msenses\u001b[0m\u001b[0;34m,\u001b[0m\u001b[0;34m\u001b[0m\u001b[0;34m\u001b[0m\u001b[0m\n",
      "\u001b[0;32m~/opt/anaconda3/lib/python3.7/contextlib.py\u001b[0m in \u001b[0;36m__enter__\u001b[0;34m(self)\u001b[0m\n\u001b[1;32m    110\u001b[0m         \u001b[0;32mdel\u001b[0m \u001b[0mself\u001b[0m\u001b[0;34m.\u001b[0m\u001b[0margs\u001b[0m\u001b[0;34m,\u001b[0m \u001b[0mself\u001b[0m\u001b[0;34m.\u001b[0m\u001b[0mkwds\u001b[0m\u001b[0;34m,\u001b[0m \u001b[0mself\u001b[0m\u001b[0;34m.\u001b[0m\u001b[0mfunc\u001b[0m\u001b[0;34m\u001b[0m\u001b[0;34m\u001b[0m\u001b[0m\n\u001b[1;32m    111\u001b[0m         \u001b[0;32mtry\u001b[0m\u001b[0;34m:\u001b[0m\u001b[0;34m\u001b[0m\u001b[0;34m\u001b[0m\u001b[0m\n\u001b[0;32m--> 112\u001b[0;31m             \u001b[0;32mreturn\u001b[0m \u001b[0mnext\u001b[0m\u001b[0;34m(\u001b[0m\u001b[0mself\u001b[0m\u001b[0;34m.\u001b[0m\u001b[0mgen\u001b[0m\u001b[0;34m)\u001b[0m\u001b[0;34m\u001b[0m\u001b[0;34m\u001b[0m\u001b[0m\n\u001b[0m\u001b[1;32m    113\u001b[0m         \u001b[0;32mexcept\u001b[0m \u001b[0mStopIteration\u001b[0m\u001b[0;34m:\u001b[0m\u001b[0;34m\u001b[0m\u001b[0;34m\u001b[0m\u001b[0m\n\u001b[1;32m    114\u001b[0m             \u001b[0;32mraise\u001b[0m \u001b[0mRuntimeError\u001b[0m\u001b[0;34m(\u001b[0m\u001b[0;34m\"generator didn't yield\"\u001b[0m\u001b[0;34m)\u001b[0m \u001b[0;32mfrom\u001b[0m \u001b[0;32mNone\u001b[0m\u001b[0;34m\u001b[0m\u001b[0;34m\u001b[0m\u001b[0m\n",
      "\u001b[0;32m/Applications/CPLEX_Studio221/cplex/python/3.7/x86-64_osx/cplex/_internal/_procedural.py\u001b[0m in \u001b[0;36mchbmatrix\u001b[0;34m(lolmat, env_lp_ptr, r_c)\u001b[0m\n\u001b[1;32m    166\u001b[0m \u001b[0;32mdef\u001b[0m \u001b[0mchbmatrix\u001b[0m\u001b[0;34m(\u001b[0m\u001b[0mlolmat\u001b[0m\u001b[0;34m,\u001b[0m \u001b[0menv_lp_ptr\u001b[0m\u001b[0;34m,\u001b[0m \u001b[0mr_c\u001b[0m\u001b[0;34m)\u001b[0m\u001b[0;34m:\u001b[0m\u001b[0;34m\u001b[0m\u001b[0;34m\u001b[0m\u001b[0m\n\u001b[1;32m    167\u001b[0m     \u001b[0;34m\"\"\"See matrix_conversion.c:Pylolmat_to_CHBmat().\"\"\"\u001b[0m\u001b[0;34m\u001b[0m\u001b[0;34m\u001b[0m\u001b[0m\n\u001b[0;32m--> 168\u001b[0;31m     \u001b[0mmat\u001b[0m \u001b[0;34m=\u001b[0m \u001b[0mPylolmat_to_CHBmat\u001b[0m\u001b[0;34m(\u001b[0m\u001b[0mlolmat\u001b[0m\u001b[0;34m,\u001b[0m \u001b[0menv_lp_ptr\u001b[0m\u001b[0;34m,\u001b[0m \u001b[0mr_c\u001b[0m\u001b[0;34m)\u001b[0m\u001b[0;34m\u001b[0m\u001b[0;34m\u001b[0m\u001b[0m\n\u001b[0m\u001b[1;32m    169\u001b[0m     \u001b[0;32mtry\u001b[0m\u001b[0;34m:\u001b[0m\u001b[0;34m\u001b[0m\u001b[0;34m\u001b[0m\u001b[0m\n\u001b[1;32m    170\u001b[0m         \u001b[0;31m# yields ([matbeg, matind, matval], nnz)\u001b[0m\u001b[0;34m\u001b[0m\u001b[0;34m\u001b[0m\u001b[0;34m\u001b[0m\u001b[0m\n",
      "\u001b[0;32m/Applications/CPLEX_Studio221/cplex/python/3.7/x86-64_osx/cplex/_internal/_procedural.py\u001b[0m in \u001b[0;36mPylolmat_to_CHBmat\u001b[0;34m(lolmat, env_lp_ptr, r_c)\u001b[0m\n\u001b[1;32m    175\u001b[0m \u001b[0;34m\u001b[0m\u001b[0m\n\u001b[1;32m    176\u001b[0m \u001b[0;32mdef\u001b[0m \u001b[0mPylolmat_to_CHBmat\u001b[0m\u001b[0;34m(\u001b[0m\u001b[0mlolmat\u001b[0m\u001b[0;34m,\u001b[0m \u001b[0menv_lp_ptr\u001b[0m\u001b[0;34m,\u001b[0m \u001b[0mr_c\u001b[0m\u001b[0;34m)\u001b[0m\u001b[0;34m:\u001b[0m\u001b[0;34m\u001b[0m\u001b[0;34m\u001b[0m\u001b[0m\n\u001b[0;32m--> 177\u001b[0;31m     \u001b[0;32mreturn\u001b[0m \u001b[0mCR\u001b[0m\u001b[0;34m.\u001b[0m\u001b[0mPylolmat_to_CHBmat\u001b[0m\u001b[0;34m(\u001b[0m\u001b[0mlolmat\u001b[0m\u001b[0;34m,\u001b[0m \u001b[0menv_lp_ptr\u001b[0m\u001b[0;34m,\u001b[0m \u001b[0mr_c\u001b[0m\u001b[0;34m)\u001b[0m\u001b[0;34m\u001b[0m\u001b[0;34m\u001b[0m\u001b[0m\n\u001b[0m\u001b[1;32m    178\u001b[0m \u001b[0;34m\u001b[0m\u001b[0m\n\u001b[1;32m    179\u001b[0m \u001b[0;34m\u001b[0m\u001b[0m\n",
      "\u001b[0;32m/Applications/CPLEX_Studio221/cplex/python/3.7/x86-64_osx/cplex/_internal/_pycplex.py\u001b[0m in \u001b[0;36mPylolmat_to_CHBmat\u001b[0;34m(lolmat, env_lp_ptr, py_row_col)\u001b[0m\n\u001b[1;32m   1629\u001b[0m \u001b[0;34m\u001b[0m\u001b[0m\n\u001b[1;32m   1630\u001b[0m \u001b[0;32mdef\u001b[0m \u001b[0mPylolmat_to_CHBmat\u001b[0m\u001b[0;34m(\u001b[0m\u001b[0mlolmat\u001b[0m\u001b[0;34m:\u001b[0m \u001b[0;34m'PyObject *'\u001b[0m\u001b[0;34m,\u001b[0m \u001b[0menv_lp_ptr\u001b[0m\u001b[0;34m:\u001b[0m \u001b[0;34m'PyObject *'\u001b[0m\u001b[0;34m,\u001b[0m \u001b[0mpy_row_col\u001b[0m\u001b[0;34m:\u001b[0m \u001b[0;34m'PyObject *'\u001b[0m\u001b[0;34m)\u001b[0m \u001b[0;34m->\u001b[0m \u001b[0;34m\"PyObject *\"\u001b[0m\u001b[0;34m:\u001b[0m\u001b[0;34m\u001b[0m\u001b[0;34m\u001b[0m\u001b[0m\n\u001b[0;32m-> 1631\u001b[0;31m     \u001b[0;32mreturn\u001b[0m \u001b[0m_pycplex_platform\u001b[0m\u001b[0;34m.\u001b[0m\u001b[0mPylolmat_to_CHBmat\u001b[0m\u001b[0;34m(\u001b[0m\u001b[0mlolmat\u001b[0m\u001b[0;34m,\u001b[0m \u001b[0menv_lp_ptr\u001b[0m\u001b[0;34m,\u001b[0m \u001b[0mpy_row_col\u001b[0m\u001b[0;34m)\u001b[0m\u001b[0;34m\u001b[0m\u001b[0;34m\u001b[0m\u001b[0m\n\u001b[0m\u001b[1;32m   1632\u001b[0m \u001b[0;34m\u001b[0m\u001b[0m\n\u001b[1;32m   1633\u001b[0m \u001b[0;32mdef\u001b[0m \u001b[0mfree_CHBmat\u001b[0m\u001b[0;34m(\u001b[0m\u001b[0mHBMat\u001b[0m\u001b[0;34m:\u001b[0m \u001b[0;34m'PyObject *'\u001b[0m\u001b[0;34m)\u001b[0m \u001b[0;34m->\u001b[0m \u001b[0;34m\"void\"\u001b[0m\u001b[0;34m:\u001b[0m\u001b[0;34m\u001b[0m\u001b[0;34m\u001b[0m\u001b[0m\n",
      "\u001b[0;31mKeyboardInterrupt\u001b[0m: "
     ]
    }
   ],
   "source": [
    "np.random.seed(0)\n",
    "frontal = Frontal(my_instance,actual_time)\n",
    "result,s_t_min,soc_max,optimal_value = frontal.Frontal_solve(actual_time)"
   ]
  },
  {
   "cell_type": "code",
   "execution_count": 25,
   "metadata": {},
   "outputs": [],
   "source": [
    "FW_glouton=Frank_Wolfe_stochastique_gloutonne(my_instance)\n"
   ]
  },
  {
   "cell_type": "code",
   "execution_count": 26,
   "metadata": {},
   "outputs": [
    {
     "name": "stderr",
     "output_type": "stream",
     "text": []
    },
    {
     "name": "stdout",
     "output_type": "stream",
     "text": [
      "Iteration :  0\n"
     ]
    },
    {
     "name": "stderr",
     "output_type": "stream",
     "text": [
      "  0%|          | 0/1000 [16:13<?, ?iteration/s]\n"
     ]
    },
    {
     "ename": "KeyboardInterrupt",
     "evalue": "",
     "output_type": "error",
     "traceback": [
      "\u001b[0;31m---------------------------------------------------------------------------\u001b[0m",
      "\u001b[0;31mKeyboardInterrupt\u001b[0m                         Traceback (most recent call last)",
      "\u001b[0;32m<ipython-input-26-1f3be47ce0f0>\u001b[0m in \u001b[0;36m<module>\u001b[0;34m\u001b[0m\n\u001b[1;32m      3\u001b[0m \u001b[0mK\u001b[0m\u001b[0;34m=\u001b[0m\u001b[0;36m1000\u001b[0m\u001b[0;34m\u001b[0m\u001b[0;34m\u001b[0m\u001b[0m\n\u001b[1;32m      4\u001b[0m \u001b[0mnk\u001b[0m\u001b[0;34m=\u001b[0m\u001b[0;36m0\u001b[0m\u001b[0;34m\u001b[0m\u001b[0;34m\u001b[0m\u001b[0m\n\u001b[0;32m----> 5\u001b[0;31m \u001b[0mx_bar_glouton_original\u001b[0m\u001b[0;34m,\u001b[0m\u001b[0mdf_glouton_original\u001b[0m\u001b[0;34m=\u001b[0m\u001b[0mFW_glouton\u001b[0m\u001b[0;34m.\u001b[0m\u001b[0mFW_st_solve\u001b[0m\u001b[0;34m(\u001b[0m\u001b[0mactual_time\u001b[0m\u001b[0;34m,\u001b[0m \u001b[0manalyse\u001b[0m\u001b[0;34m=\u001b[0m\u001b[0;32mTrue\u001b[0m\u001b[0;34m,\u001b[0m \u001b[0mK\u001b[0m\u001b[0;34m=\u001b[0m\u001b[0mK\u001b[0m\u001b[0;34m,\u001b[0m \u001b[0mnk\u001b[0m\u001b[0;34m=\u001b[0m\u001b[0mnk\u001b[0m\u001b[0;34m,\u001b[0m\u001b[0mn_pre\u001b[0m\u001b[0;34m=\u001b[0m\u001b[0mn_pre\u001b[0m\u001b[0;34m,\u001b[0m\u001b[0moptimize\u001b[0m\u001b[0;34m=\u001b[0m\u001b[0;32mTrue\u001b[0m\u001b[0;34m)\u001b[0m\u001b[0;34m\u001b[0m\u001b[0;34m\u001b[0m\u001b[0m\n\u001b[0m",
      "\u001b[0;32m~/Google Drive/Stage/code_pb_ve/src/Frank_Wolfe_stochastique_gloutonne.py\u001b[0m in \u001b[0;36mFW_st_solve\u001b[0;34m(self, actual_time, verbose, analyse, K, nk, n_pre, gap_calculate, optimize, nb_spb, active_criterion, max_time)\u001b[0m\n\u001b[1;32m    240\u001b[0m                     \u001b[0mx_g\u001b[0m\u001b[0;34m[\u001b[0m\u001b[0;34m\"v_bl\"\u001b[0m\u001b[0;34m]\u001b[0m\u001b[0;34m[\u001b[0m\u001b[0mi\u001b[0m\u001b[0;34m]\u001b[0m\u001b[0;34m=\u001b[0m\u001b[0mv_bl_i\u001b[0m\u001b[0;34m\u001b[0m\u001b[0;34m\u001b[0m\u001b[0m\n\u001b[1;32m    241\u001b[0m                     \u001b[0mx_g\u001b[0m\u001b[0;34m[\u001b[0m\u001b[0;34m\"v_up\"\u001b[0m\u001b[0;34m]\u001b[0m\u001b[0;34m[\u001b[0m\u001b[0mi\u001b[0m\u001b[0;34m]\u001b[0m\u001b[0;34m=\u001b[0m\u001b[0mv_up_i\u001b[0m\u001b[0;34m\u001b[0m\u001b[0;34m\u001b[0m\u001b[0m\n\u001b[0;32m--> 242\u001b[0;31m                     \u001b[0mx_g\u001b[0m\u001b[0;34m=\u001b[0m\u001b[0mself\u001b[0m\u001b[0;34m.\u001b[0m\u001b[0msolution_optimize\u001b[0m\u001b[0;34m(\u001b[0m\u001b[0mx_g\u001b[0m\u001b[0;34m)\u001b[0m\u001b[0;34m\u001b[0m\u001b[0;34m\u001b[0m\u001b[0m\n\u001b[0m\u001b[1;32m    243\u001b[0m                 \u001b[0mx_bar_k\u001b[0m\u001b[0;34m=\u001b[0m\u001b[0mx_g\u001b[0m\u001b[0;34m\u001b[0m\u001b[0;34m\u001b[0m\u001b[0m\n\u001b[1;32m    244\u001b[0m                 \u001b[0;31m#print(cost_g)\u001b[0m\u001b[0;34m\u001b[0m\u001b[0;34m\u001b[0m\u001b[0;34m\u001b[0m\u001b[0m\n",
      "\u001b[0;32m~/Google Drive/Stage/code_pb_ve/src/Frank_Wolfe_stochastique_gloutonne.py\u001b[0m in \u001b[0;36msolution_optimize\u001b[0;34m(self, solution)\u001b[0m\n\u001b[1;32m    161\u001b[0m                     \u001b[0mnew_solution\u001b[0m\u001b[0;34m[\u001b[0m\u001b[0;34m\"d_up\"\u001b[0m\u001b[0;34m]\u001b[0m\u001b[0;34m[\u001b[0m\u001b[0mi\u001b[0m\u001b[0;34m]\u001b[0m\u001b[0;34m[\u001b[0m\u001b[0mt\u001b[0m\u001b[0;34m]\u001b[0m\u001b[0;34m=\u001b[0m\u001b[0;36m0\u001b[0m\u001b[0;34m\u001b[0m\u001b[0;34m\u001b[0m\u001b[0m\n\u001b[1;32m    162\u001b[0m                 \u001b[0;32melse\u001b[0m\u001b[0;34m:\u001b[0m\u001b[0;34m\u001b[0m\u001b[0;34m\u001b[0m\u001b[0m\n\u001b[0;32m--> 163\u001b[0;31m                     \u001b[0mnew_solution\u001b[0m\u001b[0;34m[\u001b[0m\u001b[0;34m\"c_up\"\u001b[0m\u001b[0;34m]\u001b[0m\u001b[0;34m[\u001b[0m\u001b[0mi\u001b[0m\u001b[0;34m]\u001b[0m\u001b[0;34m[\u001b[0m\u001b[0mt\u001b[0m\u001b[0;34m]\u001b[0m\u001b[0;34m=\u001b[0m\u001b[0;36m0\u001b[0m\u001b[0;34m\u001b[0m\u001b[0;34m\u001b[0m\u001b[0m\n\u001b[0m\u001b[1;32m    164\u001b[0m                     \u001b[0mnew_solution\u001b[0m\u001b[0;34m[\u001b[0m\u001b[0;34m\"d_up\"\u001b[0m\u001b[0;34m]\u001b[0m\u001b[0;34m[\u001b[0m\u001b[0mi\u001b[0m\u001b[0;34m]\u001b[0m\u001b[0;34m[\u001b[0m\u001b[0mt\u001b[0m\u001b[0;34m]\u001b[0m\u001b[0;34m=\u001b[0m\u001b[0;34m-\u001b[0m\u001b[0mdiff_i_t\u001b[0m\u001b[0;34m[\u001b[0m\u001b[0mi\u001b[0m\u001b[0;34m]\u001b[0m\u001b[0;34m[\u001b[0m\u001b[0mt\u001b[0m\u001b[0;34m+\u001b[0m\u001b[0;36m1\u001b[0m\u001b[0;34m]\u001b[0m\u001b[0;34m\u001b[0m\u001b[0;34m\u001b[0m\u001b[0m\n\u001b[1;32m    165\u001b[0m         \u001b[0;32mreturn\u001b[0m \u001b[0mnew_solution\u001b[0m\u001b[0;34m\u001b[0m\u001b[0;34m\u001b[0m\u001b[0m\n",
      "\u001b[0;31mKeyboardInterrupt\u001b[0m: "
     ]
    }
   ],
   "source": [
    "np.random.seed(0)\n",
    "n_pre=1000\n",
    "K=1000\n",
    "nk=0\n",
    "x_bar_glouton_original,df_glouton_original=FW_glouton.FW_st_solve(actual_time, analyse=True, K=K, nk=nk,n_pre=n_pre,optimize=True)\n"
   ]
  },
  {
   "cell_type": "code",
   "execution_count": 59,
   "metadata": {},
   "outputs": [],
   "source": [
    "from pr_Frank_Wolfe_stochastique_gloutonne import *\n",
    "my_instance=\"../data/instance_1000.json\"\n",
    "FW_pb_rd_glouton=Frank_Wolfe_Reduced_glouton(my_instance)"
   ]
  },
  {
   "cell_type": "code",
   "execution_count": 60,
   "metadata": {},
   "outputs": [
    {
     "name": "stderr",
     "output_type": "stream",
     "text": [
      "  0%|          | 0/20 [00:00<?, ?iteration/s]"
     ]
    },
    {
     "name": "stdout",
     "output_type": "stream",
     "text": [
      "=====================================\n",
      "Iteration :  0\n",
      "begin x_bar_k 70000000.0\n",
      "new [0. 0. 0. 0. 0. 0. 0. 0. 0. 0.] [-400. -400. -400. -400. -400. -400. -400. -400. -400. -400.]\n",
      "x_bar_k_score 539466.9403491548\n",
      "x_k_score 539466.9403491548\n",
      "lambda [0. 0. 0. 0. 0. 0. 0. 0. 0. 0.] [-400. -400. -400. -400. -400. -400. -400. -400. -400. -400.]\n",
      "0.0 0.0 0.0\n",
      "after 539466.9403491548\n",
      "gap_primal_dual 0.0\n",
      "=====================================\n",
      "Iteration :  1\n",
      "begin x_bar_k 539466.9403491548\n",
      "new [0. 0. 0. 0. 0. 0. 0. 0. 0. 0.] [   0.     0.     0.     0.     0.     0.  -100.   -61.9  -61.9  -61.9]\n",
      "here!!!!!!!!!!!!\n",
      "x_bar_k_score 99030.98378373064\n",
      "x_k_score 17495853.332819805\n",
      "lambda [0. 0. 0. 0. 0. 0. 0. 0. 0. 0.] [   0.     0.     0.     0.     0.     0.  -100.   -61.9  -61.9  -61.9]\n",
      "0.0 3109780.5 0.0\n",
      "after 99030.98378373064\n",
      "gap_primal_dual 3109780.5\n",
      "=====================================\n",
      "Iteration :  2\n",
      "begin x_bar_k 99030.98378373064\n",
      "new [0. 0. 0. 0. 0. 0. 0. 0. 0. 0.] [  0.           0.           0.           0.           0.\n",
      " -48.46154906 -37.          -7.3         -7.3         -7.3       ]\n",
      "here!!!!!!!!!!!!\n",
      "x_bar_k_score 5648.940349154811\n",
      "x_k_score 17245853.332819805\n",
      "lambda [0. 0. 0. 0. 0. 0. 0. 0. 0. 0.] [  0.           0.           0.           0.           0.\n",
      " -48.46154906 -37.          -7.3         -7.3         -7.3       ]\n",
      "0.0 1051190.0834482897 0.0\n",
      "after 5648.940349154811\n",
      "gap_primal_dual 1051190.0834482897\n",
      "=====================================\n",
      "Iteration :  3\n",
      "begin x_bar_k 5648.940349154811\n",
      "new [0. 0. 0. 0. 0. 0. 0. 0. 0. 0.] [ 0.   0.   0.  -4.9 -4.9  0.  -9.7  0.   0.   0. ]\n",
      "here!!!!!!!!!!!!\n",
      "x_bar_k_score 2705.875235876557\n",
      "x_k_score 16510399.604944421\n",
      "lambda [0. 0. 0. 0. 0. 0. 0. 0. 0. 0.] [ 0.   0.   0.  -4.9 -4.9  0.  -9.7  0.   0.   0. ]\n",
      "0.0 195963.0 0.0\n",
      "after 2705.875235876557\n",
      "gap_primal_dual 195963.0\n",
      "=====================================\n",
      "Iteration :  4\n",
      "begin x_bar_k 2705.875235876557\n",
      "new [0. 0. 0. 0. 0. 0. 0. 0. 0. 0.] [ 0.          0.          0.          0.          0.         -3.58153535\n",
      " -3.4         0.          0.          0.        ]\n",
      "here!!!!!!!!!!!!\n",
      "x_bar_k_score 2340.0351319324614\n",
      "x_k_score 16693835.764883772\n",
      "lambda [0. 0. 0. 0. 0. 0. 0. 0. 0. 0.] [ 0.          0.          0.          0.          0.         -3.58153535\n",
      " -3.4         0.          0.          0.        ]\n",
      "0.0 70219.95922512413 0.0\n",
      "after 2340.0351319324614\n",
      "gap_primal_dual 70219.95922512413\n",
      "=====================================\n",
      "Iteration :  5\n",
      "begin x_bar_k 2340.0351319324614\n",
      "new [0. 0. 0. 0. 0. 0. 0. 0. 0. 0.] [ 0.          0.          0.         -0.38762285 -1.3         0.\n",
      " -2.8        -0.1        -0.1        -0.23138678]\n",
      "here!!!!!!!!!!!!\n",
      "x_bar_k_score 2260.1249981591523\n",
      "x_k_score 16002096.190349154\n",
      "lambda [0. 0. 0. 0. 0. 0. 0. 0. 0. 0.] [ 0.          0.          0.         -0.38762285 -1.3         0.\n",
      " -2.8        -0.1        -0.1        -0.23138678]\n",
      "0.0 48754.70012356011 0.0\n",
      "after 2260.1249981591523\n",
      "gap_primal_dual 48754.70012356011\n",
      "=====================================\n",
      "Iteration :  6\n",
      "begin x_bar_k 2260.1249981591523\n",
      "new [0. 0. 0. 0. 0. 0. 0. 0. 0. 0.] [ 0.          0.          0.          0.          0.         -1.71679526\n",
      " -1.9         0.          0.          0.        ]\n",
      "here!!!!!!!!!!!!\n",
      "x_bar_k_score 2195.3815746487385\n",
      "x_k_score 16693835.764883772\n",
      "lambda [0. 0. 0. 0. 0. 0. 0. 0. 0. 0.] [ 0.          0.          0.          0.          0.         -1.71679526\n",
      " -1.9         0.          0.          0.        ]\n",
      "0.0 36338.5622402531 0.0\n",
      "after 2195.3815746487385\n",
      "gap_primal_dual 36338.5622402531\n",
      "=====================================\n",
      "Iteration :  7\n",
      "begin x_bar_k 2195.3815746487385\n",
      "new [0. 0. 0. 0. 0. 0. 0. 0. 0. 0.] [ 0.          0.          0.          0.         -1.         -0.21679526\n",
      " -1.6        -0.1        -0.54507705 -0.23138678]\n",
      "here!!!!!!!!!!!!\n",
      "x_bar_k_score 2133.2258812031428\n",
      "x_k_score 16002096.190349154\n",
      "lambda [0. 0. 0. 0. 0. 0. 0. 0. 0. 0.] [ 0.          0.          0.          0.         -1.         -0.21679526\n",
      " -1.6        -0.1        -0.54507705 -0.23138678]\n",
      "0.0 36228.96511011666 0.0\n",
      "after 2133.2258812031428\n",
      "gap_primal_dual 36228.96511011666\n",
      "=====================================\n",
      "Iteration :  8\n",
      "begin x_bar_k 2133.2258812031428\n",
      "new [0. 0. 0. 0. 0. 0. 0. 0. 0. 0.] [ 0.         0.         0.        -0.9957014  0.         0.\n",
      " -0.7        0.         0.         0.       ]\n",
      "here!!!!!!!!!!!!\n",
      "x_bar_k_score 2105.6065414405557\n",
      "x_k_score 16968032.75640888\n",
      "lambda [0. 0. 0. 0. 0. 0. 0. 0. 0. 0.] [ 0.         0.         0.        -0.9957014  0.         0.\n",
      " -0.7        0.         0.         0.       ]\n",
      "0.0 16990.71404197913 0.0\n",
      "after 2105.6065414405557\n",
      "gap_primal_dual 16990.71404197913\n",
      "=====================================\n",
      "Iteration :  9\n",
      "begin x_bar_k 2105.6065414405557\n",
      "new [0. 0. 0. 0. 0. 0. 0. 0. 0. 0.] [ 0.          0.          0.         -0.3957014   0.         -0.00230856\n",
      " -0.4         0.         -0.24507705  0.        ]\n",
      "here!!!!!!!!!!!!\n"
     ]
    },
    {
     "name": "stderr",
     "output_type": "stream",
     "text": [
      " 50%|█████     | 10/20 [04:10<04:10, 25.10s/iteration]"
     ]
    },
    {
     "name": "stdout",
     "output_type": "stream",
     "text": [
      "x_bar_k_score 2098.9548829654636\n",
      "x_k_score 16759319.104944421\n",
      "lambda [0. 0. 0. 0. 0. 0. 0. 0. 0. 0.] [ 0.          0.          0.         -0.3957014   0.         -0.00230856\n",
      " -0.4         0.         -0.24507705  0.        ]\n",
      "0.0 10415.729593154843 0.0\n",
      "after 2098.9548829654636\n",
      "gap_primal_dual 10415.729593154843\n",
      "=====================================\n",
      "Iteration :  10\n",
      "begin x_bar_k 2098.9548829654636\n",
      "new [0. 0. 0. 0. 0. 0. 0. 0. 0. 0.] [ 0.          0.          0.          0.          0.          0.\n",
      " -0.1        -0.21689055  0.         -0.23138678]\n",
      "here!!!!!!!!!!!!\n",
      "x_bar_k_score 2096.440349154811\n",
      "x_k_score 17441674.76488377\n",
      "lambda [0. 0. 0. 0. 0. 0. 0. 0. 0. 0.] [ 0.          0.          0.          0.          0.          0.\n",
      " -0.1        -0.21689055  0.         -0.23138678]\n",
      "0.0 5474.854044617088 0.0\n",
      "after 2096.440349154811\n",
      "gap_primal_dual 5474.854044617088\n",
      "=====================================\n",
      "Iteration :  11\n",
      "begin x_bar_k 2096.440349154811\n",
      "new [0. 0. 0. 0. 0. 0. 0. 0. 0. 0.] [ 0.   0.   0.   0.   0.   0.  -0.1  0.   0.   0. ]\n",
      "here!!!!!!!!!!!!\n",
      "x_bar_k_score 2096.440349154811\n",
      "x_k_score 16943835.76488377\n",
      "lambda [0. 0. 0. 0. 0. 0. 0. 0. 0. 0.] [ 0.   0.   0.   0.   0.   0.  -0.1  0.   0.   0. ]\n",
      "0.0 1000.5 0.0\n",
      "after 2096.440349154811\n",
      "gap_primal_dual 1000.5\n",
      "=====================================\n",
      "Iteration :  12\n",
      "begin x_bar_k 2096.440349154811\n",
      "new [0. 0. 0. 0. 0. 0. 0. 0. 0. 0.] [ 0.   0.   0.   0.   0.   0.  -0.1  0.   0.   0. ]\n",
      "here!!!!!!!!!!!!\n",
      "x_bar_k_score 2096.440349154811\n",
      "x_k_score 16943835.76488377\n",
      "lambda [0. 0. 0. 0. 0. 0. 0. 0. 0. 0.] [ 0.   0.   0.   0.   0.   0.  -0.1  0.   0.   0. ]\n",
      "0.0 1000.5 0.0\n",
      "after 2096.440349154811\n",
      "gap_primal_dual 1000.5\n",
      "=====================================\n",
      "Iteration :  13\n",
      "begin x_bar_k 2096.440349154811\n",
      "new [0. 0. 0. 0. 0. 0. 0. 0. 0. 0.] [ 0.   0.   0.   0.   0.   0.  -0.1  0.   0.   0. ]\n",
      "here!!!!!!!!!!!!\n",
      "x_bar_k_score 2096.440349154811\n",
      "x_k_score 16943835.76488377\n",
      "lambda [0. 0. 0. 0. 0. 0. 0. 0. 0. 0.] [ 0.   0.   0.   0.   0.   0.  -0.1  0.   0.   0. ]\n",
      "0.0 1000.5 0.0\n",
      "after 2096.440349154811\n",
      "gap_primal_dual 1000.5\n",
      "=====================================\n",
      "Iteration :  14\n",
      "begin x_bar_k 2096.440349154811\n",
      "new [0. 0. 0. 0. 0. 0. 0. 0. 0. 0.] [ 0.   0.   0.   0.   0.   0.  -0.1  0.   0.   0. ]\n",
      "here!!!!!!!!!!!!\n",
      "x_bar_k_score 2096.440349154811\n",
      "x_k_score 16943835.76488377\n",
      "lambda [0. 0. 0. 0. 0. 0. 0. 0. 0. 0.] [ 0.   0.   0.   0.   0.   0.  -0.1  0.   0.   0. ]\n",
      "0.0 1000.5 0.0\n",
      "after 2096.440349154811\n",
      "gap_primal_dual 1000.5\n",
      "=====================================\n",
      "Iteration :  15\n",
      "begin x_bar_k 2096.440349154811\n",
      "new [0. 0. 0. 0. 0. 0. 0. 0. 0. 0.] [ 0.   0.   0.   0.   0.   0.  -0.1  0.   0.   0. ]\n",
      "here!!!!!!!!!!!!\n",
      "x_bar_k_score 2096.440349154811\n",
      "x_k_score 16943835.76488377\n",
      "lambda [0. 0. 0. 0. 0. 0. 0. 0. 0. 0.] [ 0.   0.   0.   0.   0.   0.  -0.1  0.   0.   0. ]\n",
      "0.0 1000.5 0.0\n",
      "after 2096.440349154811\n",
      "gap_primal_dual 1000.5\n",
      "=====================================\n",
      "Iteration :  16\n",
      "begin x_bar_k 2096.440349154811\n",
      "new [0. 0. 0. 0. 0. 0. 0. 0. 0. 0.] [ 0.   0.   0.   0.   0.   0.  -0.1  0.   0.   0. ]\n",
      "here!!!!!!!!!!!!\n",
      "x_bar_k_score 2096.440349154811\n",
      "x_k_score 16943835.76488377\n",
      "lambda [0. 0. 0. 0. 0. 0. 0. 0. 0. 0.] [ 0.   0.   0.   0.   0.   0.  -0.1  0.   0.   0. ]\n",
      "0.0 1000.5 0.0\n",
      "after 2096.440349154811\n",
      "gap_primal_dual 1000.5\n",
      "=====================================\n",
      "Iteration :  17\n",
      "begin x_bar_k 2096.440349154811\n",
      "new [0. 0. 0. 0. 0. 0. 0. 0. 0. 0.] [ 0.   0.   0.   0.   0.   0.  -0.1  0.   0.   0. ]\n",
      "here!!!!!!!!!!!!\n",
      "x_bar_k_score 2096.440349154811\n",
      "x_k_score 16943835.76488377\n",
      "lambda [0. 0. 0. 0. 0. 0. 0. 0. 0. 0.] [ 0.   0.   0.   0.   0.   0.  -0.1  0.   0.   0. ]\n",
      "0.0 1000.5 0.0\n",
      "after 2096.440349154811\n",
      "gap_primal_dual 1000.5\n",
      "=====================================\n",
      "Iteration :  18\n",
      "begin x_bar_k 2096.440349154811\n",
      "new [0. 0. 0. 0. 0. 0. 0. 0. 0. 0.] [ 0.   0.   0.   0.   0.   0.  -0.1  0.   0.   0. ]\n",
      "here!!!!!!!!!!!!\n",
      "x_bar_k_score 2096.440349154811\n",
      "x_k_score 16943835.76488377\n",
      "lambda [0. 0. 0. 0. 0. 0. 0. 0. 0. 0.] [ 0.   0.   0.   0.   0.   0.  -0.1  0.   0.   0. ]\n",
      "0.0 1000.5 0.0\n",
      "after 2096.440349154811\n",
      "gap_primal_dual 1000.5\n",
      "=====================================\n",
      "Iteration :  19\n",
      "begin x_bar_k 2096.440349154811\n",
      "new [0. 0. 0. 0. 0. 0. 0. 0. 0. 0.] [ 0.   0.   0.   0.   0.   0.  -0.1  0.   0.   0. ]\n",
      "here!!!!!!!!!!!!\n"
     ]
    },
    {
     "name": "stderr",
     "output_type": "stream",
     "text": [
      "100%|██████████| 20/20 [07:19<00:00, 21.99s/iteration]"
     ]
    },
    {
     "name": "stdout",
     "output_type": "stream",
     "text": [
      "x_bar_k_score 2096.440349154811\n",
      "x_k_score 16943835.76488377\n",
      "lambda [0. 0. 0. 0. 0. 0. 0. 0. 0. 0.] [ 0.   0.   0.   0.   0.   0.  -0.1  0.   0.   0. ]\n",
      "0.0 1000.5 0.0\n",
      "after 2096.440349154811\n",
      "gap_primal_dual 1000.5\n",
      "Objective value is :  2096.440349154811\n"
     ]
    },
    {
     "name": "stderr",
     "output_type": "stream",
     "text": [
      "\n"
     ]
    }
   ],
   "source": [
    "np.random.seed(0)\n",
    "n_pre=20\n",
    "K=20\n",
    "nk=0\n",
    "x_bar_glouton,df_glouton=FW_pb_rd_glouton.FW_st_solve(actual_time, analyse=True, K=K, nk=nk,n_pre=n_pre,optimize=True,gap_calculate=True)\n"
   ]
  },
  {
   "cell_type": "code",
   "execution_count": 44,
   "metadata": {},
   "outputs": [],
   "source": [
    "a=pd.read_csv(\"../result/pb_reduced/20230818-134546instance_50.json.csv\")"
   ]
  },
  {
   "cell_type": "code",
   "execution_count": 45,
   "metadata": {},
   "outputs": [
    {
     "name": "stdout",
     "output_type": "stream",
     "text": [
      "     k     best_score                                             charge  \\\n",
      "0    0  756394.873285  [[15000.         15000.         15000.        ...   \n",
      "1    1    2111.095363  [[   -0.            -0.             0.        ...   \n",
      "2    2    2111.095363  [[   -0.            -0.             0.        ...   \n",
      "3    3    2111.095363  [[   -0.            -0.             0.        ...   \n",
      "4    4    2111.095363  [[   -0.            -0.             0.        ...   \n",
      "5    5    2111.095363  [[   -0.            -0.             0.        ...   \n",
      "6    6    2111.095363  [[   -0.            -0.             0.        ...   \n",
      "7    7    2111.095363  [[   -0.            -0.             0.        ...   \n",
      "8    8    2111.095363  [[   -0.            -0.             0.        ...   \n",
      "9    9    2111.095363  [[   -0.            -0.             0.        ...   \n",
      "10  10    2111.095363  [[   -0.            -0.             0.        ...   \n",
      "11  11    2111.095363  [[   -0.            -0.             0.        ...   \n",
      "12  12    2111.095363  [[   -0.            -0.             0.        ...   \n",
      "13  13    2111.095363  [[   -0.            -0.             0.        ...   \n",
      "14  14    2111.095363  [[   -0.            -0.             0.        ...   \n",
      "15  15    2111.095363  [[   -0.            -0.             0.        ...   \n",
      "16  16    2111.095363  [[   -0.            -0.             0.        ...   \n",
      "17  17    2111.095363  [[   -0.            -0.             0.        ...   \n",
      "18  18    2111.095363  [[   -0.            -0.             0.        ...   \n",
      "19  19    2111.095363  [[   -0.            -0.             0.        ...   \n",
      "\n",
      "                                             decharge  \\\n",
      "0   [[-0. -0. -0. -0. -0. -0. -0. -0. -0. -0.]\\n [...   \n",
      "1   [[  153.22781908 15000.             0.        ...   \n",
      "2   [[  153.22781908 15000.             0.        ...   \n",
      "3   [[  153.22781908 15000.             0.        ...   \n",
      "4   [[  153.22781908 15000.             0.        ...   \n",
      "5   [[  153.22781908 15000.             0.        ...   \n",
      "6   [[  153.22781908 15000.             0.        ...   \n",
      "7   [[  153.22781908 15000.             0.        ...   \n",
      "8   [[  153.22781908 15000.             0.        ...   \n",
      "9   [[  153.22781908 15000.             0.        ...   \n",
      "10  [[  153.22781908 15000.             0.        ...   \n",
      "11  [[  153.22781908 15000.             0.        ...   \n",
      "12  [[  153.22781908 15000.             0.        ...   \n",
      "13  [[  153.22781908 15000.             0.        ...   \n",
      "14  [[  153.22781908 15000.             0.        ...   \n",
      "15  [[  153.22781908 15000.             0.        ...   \n",
      "16  [[  153.22781908 15000.             0.        ...   \n",
      "17  [[  153.22781908 15000.             0.        ...   \n",
      "18  [[  153.22781908 15000.             0.        ...   \n",
      "19  [[  153.22781908 15000.             0.        ...   \n",
      "\n",
      "                                                  soc  \n",
      "0   [[11288.30695477 15038.30695477 18788.30695477...  \n",
      "1   [[ 7500.          3750.          3750.        ...  \n",
      "2   [[ 7500.          3750.          3750.        ...  \n",
      "3   [[ 7500.          3750.          3750.        ...  \n",
      "4   [[ 7500.          3750.          3750.        ...  \n",
      "5   [[ 7500.          3750.          3750.        ...  \n",
      "6   [[ 7500.          3750.          3750.        ...  \n",
      "7   [[ 7500.          3750.          3750.        ...  \n",
      "8   [[ 7500.          3750.          3750.        ...  \n",
      "9   [[ 7500.          3750.          3750.        ...  \n",
      "10  [[ 7500.          3750.          3750.        ...  \n",
      "11  [[ 7500.          3750.          3750.        ...  \n",
      "12  [[ 7500.          3750.          3750.        ...  \n",
      "13  [[ 7500.          3750.          3750.        ...  \n",
      "14  [[ 7500.          3750.          3750.        ...  \n",
      "15  [[ 7500.          3750.          3750.        ...  \n",
      "16  [[ 7500.          3750.          3750.        ...  \n",
      "17  [[ 7500.          3750.          3750.        ...  \n",
      "18  [[ 7500.          3750.          3750.        ...  \n",
      "19  [[ 7500.          3750.          3750.        ...  \n"
     ]
    }
   ],
   "source": [
    "print(a)"
   ]
  },
  {
   "cell_type": "code",
   "execution_count": null,
   "metadata": {},
   "outputs": [],
   "source": []
  }
 ],
 "metadata": {
  "kernelspec": {
   "display_name": "base",
   "language": "python",
   "name": "python3"
  },
  "language_info": {
   "codemirror_mode": {
    "name": "ipython",
    "version": 3
   },
   "file_extension": ".py",
   "mimetype": "text/x-python",
   "name": "python",
   "nbconvert_exporter": "python",
   "pygments_lexer": "ipython3",
   "version": "3.7.4"
  },
  "orig_nbformat": 4,
  "vscode": {
   "interpreter": {
    "hash": "61b7b18d34c3fa69719dbff512ad23fff8bc59ee7052faf1d64f93f10792958b"
   }
  }
 },
 "nbformat": 4,
 "nbformat_minor": 2
}
