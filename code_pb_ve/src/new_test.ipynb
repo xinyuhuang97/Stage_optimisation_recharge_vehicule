{
 "cells": [
  {
   "cell_type": "code",
   "execution_count": null,
   "metadata": {},
   "outputs": [],
   "source": [
    "import time\n",
    "import numpy as np\n",
    "import matplotlib.pyplot as plt\n",
    "import sys\n",
    "import json\n",
    "sys.path.append('/Applications/CPLEX_Studio221/cplex/python/3.7/x86-64_osx/cplex/_internal')\n",
    "sys.path.append('/Users/xinyuhuangmac/Google Drive/Stage/code_pb_ve/src')\n",
    "sys.path.append('/Users/xinyuhuangmac/Google Drive/Stage/code_pb_ve/data')\n",
    "import py37_cplex2210 as cplex\n",
    "from generator import *"
   ]
  },
  {
   "cell_type": "code",
   "execution_count": null,
   "metadata": {},
   "outputs": [],
   "source": [
    "%reload_ext autoreload\n",
    "%autoreload 2\n",
    "from frontal_algo import *\n",
    "from Frank_Wolfe_ev import *\n",
    "from Frank_Wolfe_st import *\n",
    "from tools import *\n",
    "K=100\n",
    "nk=30"
   ]
  },
  {
   "cell_type": "code",
   "execution_count": null,
   "metadata": {},
   "outputs": [],
   "source": [
    "N=50\n",
    "instance_json(N)\n",
    "my_instance = \"../data/instance_\" + str(N) + \".json\"\n",
    "np.random.seed(0)\n",
    "stochastic = Frank_Wolfe_Stochastic(my_instance)"
   ]
  },
  {
   "cell_type": "code",
   "execution_count": null,
   "metadata": {},
   "outputs": [],
   "source": [
    "np.random.seed(0)\n",
    "x_bar_k,df=stochastic.FW_solve(actual_time, analyse=True, K=K, nk=nk)"
   ]
  },
  {
   "cell_type": "code",
   "execution_count": null,
   "metadata": {},
   "outputs": [],
   "source": [
    "stochastic.affichage(x_bar_k)"
   ]
  },
  {
   "cell_type": "code",
   "execution_count": null,
   "metadata": {},
   "outputs": [],
   "source": [
    "plt.plot([x for x in range(200)], df['best_score'].values, label='1000vehicules,200 iterations,50 pre-iterations')\n",
    "# Add a title and axis labels\n",
    "plt.title('Score evolution with different n_pre')\n",
    "plt.xlabel('number of iterations')\n",
    "#plt.ylabel('y')\n",
    "\n",
    "#for i in range(len(x)):\n",
    "#    #plt.plot(x[i], mean0[i], 'b.')\n",
    " #   plt.plot(x[i], mean1[i], 'o',markersize=3,color='orange') \n",
    "  #  plt.plot(x[i], mean2[i], 'gv',markersize=3) \n",
    "plt.ylim(0, 1000000)\n",
    "# Add a legend\n",
    "plt.legend()\n",
    "\n",
    "# Show the plot\n",
    "plt.show()"
   ]
  },
  {
   "cell_type": "code",
   "execution_count": null,
   "metadata": {},
   "outputs": [],
   "source": [
    "frontal = Frontal(my_instance,actual_time)"
   ]
  },
  {
   "cell_type": "code",
   "execution_count": null,
   "metadata": {},
   "outputs": [],
   "source": [
    "np.random.seed(0)\n",
    "result,s_t_min,soc_max = frontal.Frontal_solve(actual_time)"
   ]
  },
  {
   "cell_type": "code",
   "execution_count": null,
   "metadata": {},
   "outputs": [],
   "source": [
    "frontal.affichage(result)"
   ]
  },
  {
   "cell_type": "code",
   "execution_count": null,
   "metadata": {},
   "outputs": [],
   "source": [
    "standard = Frank_Wolfe_Standard(my_instance)"
   ]
  },
  {
   "cell_type": "code",
   "execution_count": 14,
   "metadata": {},
   "outputs": [
    {
     "name": "stderr",
     "output_type": "stream",
     "text": []
    },
    {
     "name": "stdout",
     "output_type": "stream",
     "text": [
      "Gap primal dual : 2739 3417.8936149249903 4214.458551069223\n",
      "Gap primal dual : 2740 3417.8936149249903 4214.458551069223\n",
      "Gap primal dual : 2741 3417.8936149249903 4214.458551069223\n",
      "Gap primal dual : 2742 3417.8936149249903 4214.458551069223\n",
      "Gap primal dual : 2743 3417.8936149249903 4214.458551069223\n",
      "Gap primal dual : 2744 3417.8936149249903 4214.458551069223\n",
      "Gap primal dual : 2745 3417.8936149249903 4214.458551069223\n",
      "Gap primal dual : 2746 3417.8936149249903 4214.458551069223\n",
      "Gap primal dual : 2747 3417.8936149249903 4214.458551069223\n",
      "Gap primal dual : 2748 3417.8936149249903 4214.458551069223\n"
     ]
    },
    {
     "name": "stderr",
     "output_type": "stream",
     "text": []
    },
    {
     "name": "stdout",
     "output_type": "stream",
     "text": [
      "Gap primal dual : 2749 3417.8936149249903 4214.458551069223\n",
      "Gap primal dual : 2750 3417.8936149249903 4214.458551069223\n",
      "Gap primal dual : 2751 3417.8936149249903 4214.458551069223\n",
      "Gap primal dual : 2752 3417.8936149249903 4214.458551069223\n",
      "Gap primal dual : 2753 3417.8936149249903 4214.458551069223\n",
      "Gap primal dual : 2754 3417.8936149249903 4214.458551069223\n",
      "Gap primal dual : 2755 3417.8936149249903 4214.458551069223\n",
      "Gap primal dual : 2756 3417.8936149249903 4214.458551069223\n",
      "Gap primal dual : 2757 3417.8936149249903 4214.458551069223\n",
      "Gap primal dual : 2758 3417.8936149249903 4214.458551069223\n"
     ]
    },
    {
     "name": "stderr",
     "output_type": "stream",
     "text": []
    },
    {
     "name": "stdout",
     "output_type": "stream",
     "text": [
      "Gap primal dual : 2759 3417.8936149249903 4214.458551069223\n",
      "Gap primal dual : 2760 3417.8936149249903 4214.458551069223\n",
      "Gap primal dual : 2761 3417.8936149249903 4214.458551069223\n",
      "Gap primal dual : 2762 3417.8936149249903 4214.458551069223\n",
      "Gap primal dual : 2763 3417.8936149249903 4214.458551069223\n",
      "Gap primal dual : 2764 3417.8936149249903 4214.458551069223\n",
      "Gap primal dual : 2765 3417.8936149249903 4214.458551069223\n",
      "Gap primal dual : 2766 3417.8936149249903 4214.458551069223\n",
      "Gap primal dual : 2767 3417.8936149249903 4214.458551069223\n",
      "Gap primal dual : 2768 3417.8936149249903 4214.458551069223\n"
     ]
    },
    {
     "name": "stderr",
     "output_type": "stream",
     "text": []
    },
    {
     "name": "stdout",
     "output_type": "stream",
     "text": [
      "Gap primal dual : 2769 3417.8936149249903 4214.458551069223\n",
      "Gap primal dual : 2770 3417.8936149249903 4214.458551069223\n",
      "Gap primal dual : 2771 3417.8936149249903 4214.458551069223\n",
      "Gap primal dual : 2772 3417.8936149249903 4214.458551069223\n",
      "Gap primal dual : 2773 3417.8936149249903 4214.458551069223\n",
      "Gap primal dual : 2774 3417.8936149249903 4214.458551069223\n",
      "Gap primal dual : 2775 3417.8936149249903 4214.458551069223\n",
      "Gap primal dual : 2776 3417.8936149249903 4214.458551069223\n",
      "Gap primal dual : 2777 3417.8936149249903 4214.458551069223\n",
      "Gap primal dual : 2778 3417.8936149249903 4214.458551069223\n"
     ]
    },
    {
     "name": "stderr",
     "output_type": "stream",
     "text": []
    },
    {
     "name": "stdout",
     "output_type": "stream",
     "text": [
      "Gap primal dual : 2779 3417.8936149249903 4214.458551069223\n",
      "Gap primal dual : 2780 3417.8936149249903 4214.458551069223\n",
      "Gap primal dual : 2781 3417.8936149249903 4214.458551069223\n",
      "Gap primal dual : 2782 3417.8936149249903 4214.458551069223\n",
      "Gap primal dual : 2783 3417.8936149249903 4214.458551069223\n",
      "Gap primal dual : 2784 3417.8936149249903 4214.458551069223\n",
      "Gap primal dual : 2785 3417.8936149249903 4214.458551069223\n",
      "Gap primal dual : 2786 3417.8936149249903 4214.458551069223\n",
      "Gap primal dual : 2787 3417.8936149249903 4214.458551069223\n",
      "Gap primal dual : 2788 3417.8936149249903 4214.458551069223\n"
     ]
    },
    {
     "name": "stderr",
     "output_type": "stream",
     "text": []
    },
    {
     "name": "stdout",
     "output_type": "stream",
     "text": [
      "Gap primal dual : 2789 3417.8936149249903 4214.458551069223\n",
      "Gap primal dual : 2790 3417.8936149249903 4214.458551069223\n",
      "Gap primal dual : 2791 3417.8936149249903 4214.458551069223\n",
      "Gap primal dual : 2792 3417.8936149249903 4214.458551069223\n",
      "Gap primal dual : 2793 3417.8936149249903 4214.458551069223\n",
      "Gap primal dual : 2794 3417.8936149249903 4214.458551069223\n",
      "Gap primal dual : 2795 3417.8936149249903 4214.458551069223\n",
      "Gap primal dual : 2796 3417.8936149249903 4214.458551069223\n",
      "Gap primal dual : 2797 3417.8936149249903 4214.458551069223\n",
      "Gap primal dual : 2798 3417.8936149249903 4214.458551069223\n"
     ]
    },
    {
     "name": "stderr",
     "output_type": "stream",
     "text": []
    },
    {
     "name": "stdout",
     "output_type": "stream",
     "text": [
      "Gap primal dual : 2799 3417.8936149249903 4214.458551069223\n",
      "Gap primal dual : 2800 3417.8936149249903 4214.458551069223\n",
      "Gap primal dual : 2801 3417.8936149249903 4214.458551069223\n",
      "Gap primal dual : 2802 3417.8936149249903 4214.458551069223\n",
      "Gap primal dual : 2803 3417.8936149249903 4214.458551069223\n",
      "Gap primal dual : 2804 3417.8936149249903 4214.458551069223\n",
      "Gap primal dual : 2805 3417.8936149249903 4214.458551069223\n",
      "Gap primal dual : 2806 3417.8936149249903 4214.458551069223\n",
      "Gap primal dual : 2807 3417.8936149249903 4214.458551069223\n",
      "Gap primal dual : 2808 3417.8936149249903 4214.458551069223\n"
     ]
    },
    {
     "name": "stderr",
     "output_type": "stream",
     "text": []
    },
    {
     "name": "stdout",
     "output_type": "stream",
     "text": [
      "Gap primal dual : 2809 3417.8936149249903 4214.458551069223\n",
      "Gap primal dual : 2810 3417.8936149249903 4214.458551069223\n",
      "Gap primal dual : 2811 3417.8936149249903 4214.458551069223\n",
      "Gap primal dual : 2812 3417.8936149249903 4214.458551069223\n",
      "Gap primal dual : 2813 3417.8936149249903 4214.458551069223\n",
      "Gap primal dual : 2814 3417.8936149249903 4214.458551069223\n",
      "Gap primal dual : 2815 3417.8936149249903 4214.458551069223\n",
      "Gap primal dual : 2816 3417.8936149249903 4214.458551069223\n",
      "Gap primal dual : 2817 3417.8936149249903 4214.458551069223\n",
      "Gap primal dual : 2818 3417.8936149249903 4214.458551069223\n"
     ]
    },
    {
     "name": "stderr",
     "output_type": "stream",
     "text": []
    },
    {
     "name": "stdout",
     "output_type": "stream",
     "text": [
      "Gap primal dual : 2819 3417.8936149249903 4214.458551069223\n",
      "Gap primal dual : 2820 3417.8936149249903 4214.458551069223\n",
      "Gap primal dual : 2821 3417.8936149249903 4214.458551069223\n",
      "Gap primal dual : 2822 3417.8936149249903 4214.458551069223\n",
      "Gap primal dual : 2823 3417.8936149249903 4214.458551069223\n",
      "Gap primal dual : 2824 3417.8936149249903 4214.458551069223\n",
      "Gap primal dual : 2825 3417.8936149249903 4214.458551069223\n",
      "Gap primal dual : 2826 3417.8936149249903 4214.458551069223\n",
      "Gap primal dual : 2827 3417.8936149249903 4214.458551069223\n",
      "Gap primal dual : 2828 3417.8936149249903 4214.458551069223\n"
     ]
    },
    {
     "name": "stderr",
     "output_type": "stream",
     "text": []
    },
    {
     "name": "stdout",
     "output_type": "stream",
     "text": [
      "Gap primal dual : 2829 3417.8936149249903 4214.458551069223\n",
      "Gap primal dual : 2830 3417.8936149249903 4214.458551069223\n",
      "Gap primal dual : 2831 3417.8936149249903 4214.458551069223\n",
      "Gap primal dual : 2832 3417.8936149249903 4214.458551069223\n",
      "Gap primal dual : 2833 3417.8936149249903 4214.458551069223\n",
      "Gap primal dual : 2834 3417.8936149249903 4214.458551069223\n",
      "Gap primal dual : 2835 3417.8936149249903 4214.458551069223\n",
      "Gap primal dual : 2836 3417.8936149249903 4214.458551069223\n",
      "Gap primal dual : 2837 3417.8936149249903 4214.458551069223\n",
      "Gap primal dual : 2838 3417.8936149249903 4214.458551069223\n"
     ]
    },
    {
     "name": "stderr",
     "output_type": "stream",
     "text": []
    },
    {
     "name": "stdout",
     "output_type": "stream",
     "text": [
      "Gap primal dual : 2839 3417.8936149249903 4214.458551069223\n",
      "Gap primal dual : 2840 3417.8936149249903 4214.458551069223\n",
      "Gap primal dual : 2841 3417.8936149249903 4214.458551069223\n",
      "Gap primal dual : 2842 3417.8936149249903 4214.458551069223\n",
      "Gap primal dual : 2843 3417.8936149249903 4214.458551069223\n",
      "Gap primal dual : 2844 3417.8936149249903 4214.458551069223\n",
      "Gap primal dual : 2845 3417.8936149249903 4214.458551069223\n",
      "Gap primal dual : 2846 3417.8936149249903 4214.458551069223\n",
      "Gap primal dual : 2847 3417.8936149249903 4214.458551069223\n",
      "Gap primal dual : 2848 3417.8936149249903 4214.458551069223\n"
     ]
    },
    {
     "name": "stderr",
     "output_type": "stream",
     "text": []
    },
    {
     "name": "stdout",
     "output_type": "stream",
     "text": [
      "Gap primal dual : 2849 3417.8936149249903 4214.458551069223\n",
      "Gap primal dual : 2850 3417.8936149249903 4214.458551069223\n",
      "Gap primal dual : 2851 3417.8936149249903 4214.458551069223\n",
      "Gap primal dual : 2852 3417.8936149249903 4214.458551069223\n",
      "Gap primal dual : 2853 3417.8936149249903 4214.458551069223\n",
      "Gap primal dual : 2854 3417.8936149249903 4214.458551069223\n",
      "Gap primal dual : 2855 3417.8936149249903 4214.458551069223\n",
      "Gap primal dual : 2856 3417.8936149249903 4214.458551069223\n",
      "Gap primal dual : 2857 3417.8936149249903 4214.458551069223\n",
      "Gap primal dual : 2858 3417.8936149249903 4214.458551069223\n"
     ]
    },
    {
     "name": "stderr",
     "output_type": "stream",
     "text": []
    },
    {
     "name": "stdout",
     "output_type": "stream",
     "text": [
      "Gap primal dual : 2859 3417.8936149249903 4214.458551069223\n",
      "Gap primal dual : 2860 3417.8936149249903 4214.458551069223\n",
      "Gap primal dual : 2861 3417.8936149249903 4214.458551069223\n",
      "Gap primal dual : 2862 3417.8936149249903 4214.458551069223\n",
      "Gap primal dual : 2863 3417.8936149249903 4214.458551069223\n",
      "Gap primal dual : 2864 3417.8936149249903 4214.458551069223\n",
      "Gap primal dual : 2865 3417.8936149249903 4214.458551069223\n",
      "Gap primal dual : 2866 3417.8936149249903 4214.458551069223\n",
      "Gap primal dual : 2867 3417.8936149249903 4214.458551069223\n",
      "Gap primal dual : 2868 3417.8936149249903 4214.458551069223\n"
     ]
    },
    {
     "name": "stderr",
     "output_type": "stream",
     "text": []
    },
    {
     "name": "stdout",
     "output_type": "stream",
     "text": [
      "Gap primal dual : 2869 3417.8936149249903 4214.458551069223\n",
      "Gap primal dual : 2870 3417.8936149249903 4214.458551069223\n",
      "Gap primal dual : 2871 3417.8936149249903 4214.458551069223\n",
      "Gap primal dual : 2872 3417.8936149249903 4214.458551069223\n",
      "Gap primal dual : 2873 3417.8936149249903 4214.458551069223\n",
      "Gap primal dual : 2874 3417.8936149249903 4214.458551069223\n",
      "Gap primal dual : 2875 3417.8936149249903 4214.458551069223\n",
      "Gap primal dual : 2876 3417.8936149249903 4214.458551069223\n",
      "Gap primal dual : 2877 3417.8936149249903 4214.458551069223\n",
      "Gap primal dual : 2878 3417.8936149249903 4214.458551069223\n"
     ]
    },
    {
     "name": "stderr",
     "output_type": "stream",
     "text": []
    },
    {
     "name": "stdout",
     "output_type": "stream",
     "text": [
      "Gap primal dual : 2879 3417.8936149249903 4214.458551069223\n",
      "Gap primal dual : 2880 3417.8936149249903 4214.458551069223\n",
      "Gap primal dual : 2881 3417.8936149249903 4214.458551069223\n",
      "Gap primal dual : 2882 3417.8936149249903 4214.458551069223\n",
      "Gap primal dual : 2883 3417.8936149249903 4214.458551069223\n",
      "Gap primal dual : 2884 3417.8936149249903 4214.458551069223\n",
      "Gap primal dual : 2885 3417.8936149249903 4214.458551069223\n",
      "Gap primal dual : 2886 3417.8936149249903 4214.458551069223\n",
      "Gap primal dual : 2887 3417.8936149249903 4214.458551069223\n",
      "Gap primal dual : 2888 3417.8936149249903 4214.458551069223\n"
     ]
    },
    {
     "name": "stderr",
     "output_type": "stream",
     "text": []
    },
    {
     "name": "stdout",
     "output_type": "stream",
     "text": [
      "Gap primal dual : 2889 3417.8936149249903 4214.458551069223\n",
      "Gap primal dual : 2890 3417.8936149249903 4214.458551069223\n",
      "Gap primal dual : 2891 3417.8936149249903 4214.458551069223\n",
      "Gap primal dual : 2892 3417.8936149249903 4214.458551069223\n",
      "Gap primal dual : 2893 3417.8936149249903 4214.458551069223\n",
      "Gap primal dual : 2894 3417.8936149249903 4214.458551069223\n",
      "Gap primal dual : 2895 3417.8936149249903 4214.458551069223\n",
      "Gap primal dual : 2896 3417.8936149249903 4214.458551069223\n",
      "Gap primal dual : 2897 3417.8936149249903 4214.458551069223\n",
      "Gap primal dual : 2898 3417.8936149249903 4214.458551069223\n"
     ]
    },
    {
     "name": "stderr",
     "output_type": "stream",
     "text": []
    },
    {
     "name": "stdout",
     "output_type": "stream",
     "text": [
      "Gap primal dual : 2899 3417.8936149249903 4214.458551069223\n",
      "Gap primal dual : 2900 3417.8936149249903 4214.458551069223\n",
      "Gap primal dual : 2901 3417.8936149249903 4214.458551069223\n",
      "Gap primal dual : 2902 3417.8936149249903 4214.458551069223\n",
      "Gap primal dual : 2903 3417.8936149249903 4214.458551069223\n",
      "Gap primal dual : 2904 3417.8936149249903 4214.458551069223\n",
      "Gap primal dual : 2905 3417.8936149249903 4214.458551069223\n",
      "Gap primal dual : 2906 3417.8936149249903 4214.458551069223\n",
      "Gap primal dual : 2907 3417.8936149249903 4214.458551069223\n",
      "Gap primal dual : 2908 3417.8936149249903 4214.458551069223\n"
     ]
    },
    {
     "name": "stderr",
     "output_type": "stream",
     "text": []
    },
    {
     "name": "stdout",
     "output_type": "stream",
     "text": [
      "Gap primal dual : 2909 3417.8936149249903 4214.458551069223\n",
      "Gap primal dual : 2910 3417.8936149249903 4214.458551069223\n",
      "Gap primal dual : 2911 3417.8936149249903 4214.458551069223\n",
      "Gap primal dual : 2912 3417.8936149249903 4214.458551069223\n",
      "Gap primal dual : 2913 3417.8936149249903 4214.458551069223\n",
      "Gap primal dual : 2914 3417.8936149249903 4214.458551069223\n",
      "Gap primal dual : 2915 3417.8936149249903 4214.458551069223\n",
      "Gap primal dual : 2916 3417.8936149249903 4214.458551069223\n",
      "Gap primal dual : 2917 3417.8936149249903 4214.458551069223\n",
      "Gap primal dual : 2918 3417.8936149249903 4214.458551069223\n"
     ]
    },
    {
     "name": "stderr",
     "output_type": "stream",
     "text": []
    },
    {
     "name": "stdout",
     "output_type": "stream",
     "text": [
      "Gap primal dual : 2919 3417.8936149249903 4214.458551069223\n",
      "Gap primal dual : 2920 3417.8936149249903 4214.458551069223\n",
      "Gap primal dual : 2921 3417.8936149249903 4214.458551069223\n",
      "Gap primal dual : 2922 3417.8936149249903 4214.458551069223\n",
      "Gap primal dual : 2923 3417.8936149249903 4214.458551069223\n",
      "Gap primal dual : 2924 3417.8936149249903 4214.458551069223\n",
      "Gap primal dual : 2925 3417.8936149249903 4214.458551069223\n",
      "Gap primal dual : 2926 3417.8936149249903 4214.458551069223\n",
      "Gap primal dual : 2927 3417.8936149249903 4214.458551069223\n",
      "Gap primal dual : 2928 3417.8936149249903 4214.458551069223\n"
     ]
    },
    {
     "name": "stderr",
     "output_type": "stream",
     "text": []
    },
    {
     "name": "stdout",
     "output_type": "stream",
     "text": [
      "Gap primal dual : 2929 3417.8936149249903 4214.458551069223\n",
      "Gap primal dual : 2930 3417.8936149249903 4214.458551069223\n",
      "Gap primal dual : 2931 3417.8936149249903 4214.458551069223\n",
      "Gap primal dual : 2932 3417.8936149249903 4214.458551069223\n",
      "Gap primal dual : 2933 3417.8936149249903 4214.458551069223\n",
      "Gap primal dual : 2934 3417.8936149249903 4214.458551069223\n",
      "Gap primal dual : 2935 3417.8936149249903 4214.458551069223\n",
      "Gap primal dual : 2936 3417.8936149249903 4214.458551069223\n",
      "Gap primal dual : 2937 3417.8936149249903 4214.458551069223\n",
      "Gap primal dual : 2938 3417.8936149249903 4214.458551069223\n"
     ]
    },
    {
     "name": "stderr",
     "output_type": "stream",
     "text": []
    },
    {
     "name": "stdout",
     "output_type": "stream",
     "text": [
      "Gap primal dual : 2939 3417.8936149249903 4214.458551069223\n",
      "Gap primal dual : 2940 3417.8936149249903 4214.458551069223\n",
      "Gap primal dual : 2941 3417.8936149249903 4214.458551069223\n",
      "Gap primal dual : 2942 3417.8936149249903 4214.458551069223\n",
      "Gap primal dual : 2943 3417.8936149249903 4214.458551069223\n",
      "Gap primal dual : 2944 3417.8936149249903 4214.458551069223\n",
      "Gap primal dual : 2945 3417.8936149249903 4214.458551069223\n",
      "Gap primal dual : 2946 3417.8936149249903 4214.458551069223\n",
      "Gap primal dual : 2947 3417.8936149249903 4214.458551069223\n",
      "Gap primal dual : 2948 3417.8936149249903 4214.458551069223\n"
     ]
    },
    {
     "name": "stderr",
     "output_type": "stream",
     "text": []
    },
    {
     "name": "stdout",
     "output_type": "stream",
     "text": [
      "Gap primal dual : 2949 3417.8936149249903 4214.458551069223\n",
      "Gap primal dual : 2950 3417.8936149249903 4214.458551069223\n",
      "Gap primal dual : 2951 6637.728099531801 4211.696782839473\n",
      "Gap primal dual : 2952 5780.785119310869 4208.937728168987\n",
      "Gap primal dual : 2953 5506.49922804909 4206.181383868701\n",
      "Gap primal dual : 2954 6954.655281407817 4203.427746108713\n",
      "Gap primal dual : 2955 4713.28922324235 4200.676811943997\n",
      "Gap primal dual : 2956 4523.4437887235035 4197.928577245673\n",
      "Gap primal dual : 2957 5653.964065327829 4195.183037979211\n",
      "Gap primal dual : 2958 6039.311114416517 4192.44019235567\n"
     ]
    },
    {
     "name": "stderr",
     "output_type": "stream",
     "text": []
    },
    {
     "name": "stdout",
     "output_type": "stream",
     "text": [
      "Gap primal dual : 2959 5004.736348589675 4189.700035509021\n",
      "Gap primal dual : 2960 4600.795811298102 4186.962563724568\n",
      "Gap primal dual : 2961 7900.32428044639 4184.227774321728\n",
      "Gap primal dual : 2962 5396.156509808599 4181.495664029929\n",
      "Gap primal dual : 2963 3587.550885479499 4178.766228027509\n",
      "Gap primal dual : 2964 4302.642615511189 4176.039463415107\n",
      "Gap primal dual : 2965 5275.269410517666 4173.3153675152735\n",
      "Gap primal dual : 2966 3025.363176688426 4170.593936106707\n",
      "Gap primal dual : 2967 4478.889368695375 4167.875165421516\n",
      "Gap primal dual : 2968 5421.525658667154 4165.159052245697\n"
     ]
    },
    {
     "name": "stderr",
     "output_type": "stream",
     "text": []
    },
    {
     "name": "stdout",
     "output_type": "stream",
     "text": [
      "Gap primal dual : 2969 5618.804258493956 4162.445594140625\n",
      "Gap primal dual : 2970 4689.240755819329 4159.734785594572\n",
      "Gap primal dual : 2971 5727.7347690758015 4157.0266248165535\n",
      "Gap primal dual : 2972 7666.112647999568 4154.321108480258\n",
      "Gap primal dual : 2973 5079.075382464794 4151.61823207493\n",
      "Gap primal dual : 2974 2910.821666434568 4148.917992699382\n",
      "Gap primal dual : 2975 5344.4597300125215 4146.2203865777265\n",
      "Gap primal dual : 2976 4171.80027072613 4143.525410883586\n",
      "Gap primal dual : 2977 3911.1405132017308 4140.833061629381\n",
      "Gap primal dual : 2978 5544.155544080727 4138.143335222318\n"
     ]
    },
    {
     "name": "stderr",
     "output_type": "stream",
     "text": []
    },
    {
     "name": "stdout",
     "output_type": "stream",
     "text": [
      "Gap primal dual : 2979 4881.186844843814 4135.456229634365\n",
      "Gap primal dual : 2980 4949.8633352150355 4132.771740021721\n",
      "Gap primal dual : 2981 5177.966868629562 4130.08986319959\n",
      "Gap primal dual : 2982 6496.043042568648 4127.41059663994\n",
      "Gap primal dual : 2983 5081.8674523623495 4124.73393576588\n",
      "Gap primal dual : 2984 4755.74197711723 4122.059878431544\n",
      "Gap primal dual : 2985 7588.217745095122 4119.388420072395\n",
      "Gap primal dual : 2986 6173.778227578627 4116.719557821371\n",
      "Gap primal dual : 2987 4710.63997027294 4114.0532889811875\n",
      "Gap primal dual : 2988 5109.728916490138 4111.38960946971\n"
     ]
    },
    {
     "name": "stderr",
     "output_type": "stream",
     "text": []
    },
    {
     "name": "stdout",
     "output_type": "stream",
     "text": [
      "Gap primal dual : 2989 6496.29058840699 4108.728515566825\n",
      "Gap primal dual : 2990 6406.808749796695 4106.070004983456\n",
      "Gap primal dual : 2991 5843.6193629458785 4103.41407323355\n",
      "Gap primal dual : 2992 7640.525835959766 4100.7607179180195\n",
      "Gap primal dual : 2993 5545.813337888371 4098.109935171622\n",
      "Gap primal dual : 2994 4275.83402362771 4095.4617224218096\n",
      "Gap primal dual : 2995 6449.27459124087 4092.816075393452\n",
      "Gap primal dual : 2996 7092.1562329123635 4090.172990564773\n",
      "Gap primal dual : 2997 4243.826324603551 4087.53246616125\n",
      "Gap primal dual : 2998 4428.705698575725 4084.8944977056644\n"
     ]
    },
    {
     "name": "stderr",
     "output_type": "stream",
     "text": []
    },
    {
     "name": "stdout",
     "output_type": "stream",
     "text": [
      "Gap primal dual : 2999 5585.553737145001 4082.2590814255827\n",
      "Gap primal dual : 3000 6209.967713695323 4079.6262153022108\n",
      "Gap primal dual : 3001 4303.306167389458 4076.995895471048\n",
      "Gap primal dual : 3002 6155.76889987663 4074.3681184817133\n",
      "Gap primal dual : 3003 7008.546975185116 4071.742880784493\n",
      "Gap primal dual : 3004 5779.586438554163 4069.1201807215607\n",
      "Gap primal dual : 3005 6229.624537220865 4066.5000131187403\n",
      "Gap primal dual : 3006 6617.504415562802 4063.8823751291957\n",
      "Gap primal dual : 3007 4071.144574690872 4061.2672644750874\n",
      "Gap primal dual : 3008 4821.075179069883 4058.6546768877492\n"
     ]
    },
    {
     "name": "stderr",
     "output_type": "stream",
     "text": []
    },
    {
     "name": "stdout",
     "output_type": "stream",
     "text": [
      "Gap primal dual : 3009 5345.615578663023 4056.044609611838\n",
      "Gap primal dual : 3010 5045.5041922141945 4053.4370592398213\n",
      "Gap primal dual : 3011 5996.83474917526 4050.8320221718\n",
      "Gap primal dual : 3012 6082.2616773752525 4048.2294963392183\n",
      "Gap primal dual : 3013 5190.214306019043 4045.629477343484\n",
      "Gap primal dual : 3014 3535.0454528552177 4043.0319624428835\n",
      "Gap primal dual : 3015 4746.872572534698 4040.4369486616138\n",
      "Gap primal dual : 3016 5791.94255352542 4037.84443150811\n",
      "Gap primal dual : 3017 4268.528051788851 4035.2544103470295\n",
      "Gap primal dual : 3018 4006.041604331107 4032.6668794742923\n"
     ]
    },
    {
     "name": "stderr",
     "output_type": "stream",
     "text": []
    },
    {
     "name": "stdout",
     "output_type": "stream",
     "text": [
      "Gap primal dual : 3019 5537.343870118112 4030.081836257825\n",
      "Gap primal dual : 3020 6044.703937354094 4027.4992782718195\n",
      "Gap primal dual : 3021 6080.802951120757 4024.919201728115\n",
      "Gap primal dual : 3022 6082.419818815773 4022.341603790239\n",
      "Gap primal dual : 3023 5077.673986371738 4019.7664808375835\n",
      "Gap primal dual : 3024 6618.353226564919 4017.193830379826\n",
      "Gap primal dual : 3025 4897.495004442102 4014.6236489208354\n",
      "Gap primal dual : 3026 3912.822129261626 4012.0559330533483\n",
      "Gap primal dual : 3027 5300.552115700011 4009.4906797078424\n",
      "Gap primal dual : 3028 6225.451389025609 4006.9278863969603\n"
     ]
    },
    {
     "name": "stderr",
     "output_type": "stream",
     "text": []
    },
    {
     "name": "stdout",
     "output_type": "stream",
     "text": [
      "Gap primal dual : 3029 4888.799313838618 4004.3675492182197\n",
      "Gap primal dual : 3030 6000.26628876924 4001.8096647591137\n",
      "Gap primal dual : 3031 7214.449240963357 3999.2542306378596\n",
      "Gap primal dual : 3032 5628.637969089858 3996.701243640456\n",
      "Gap primal dual : 3033 5196.994120203526 3994.150700521482\n",
      "Gap primal dual : 3034 5913.980636783427 3991.6025981934336\n",
      "Gap primal dual : 3035 6858.244875035987 3989.056933113882\n",
      "Gap primal dual : 3036 4009.399575005061 3986.513702715531\n",
      "Gap primal dual : 3037 5184.191901983291 3983.9729036310036\n",
      "Gap primal dual : 3038 7358.2556883807465 3981.4345327031865\n"
     ]
    },
    {
     "name": "stderr",
     "output_type": "stream",
     "text": []
    },
    {
     "name": "stdout",
     "output_type": "stream",
     "text": [
      "Gap primal dual : 3039 4715.704823115266 3978.898587150244\n",
      "Gap primal dual : 3040 5153.734800331506 3976.3650639799444\n",
      "Gap primal dual : 3041 7187.465029385938 3973.8339594740196\n",
      "Gap primal dual : 3042 6132.108440793298 3971.3052705116943\n",
      "Gap primal dual : 3043 4867.758391204575 3968.7789955921285\n",
      "Gap primal dual : 3044 4961.505032783042 3966.2551293796464\n",
      "Gap primal dual : 3045 6904.3192393959125 3963.7336705343105\n",
      "Gap primal dual : 3046 6713.058891864055 3961.214614715254\n",
      "Gap primal dual : 3047 4141.051628099751 3958.697960563805\n",
      "Gap primal dual : 3048 5832.921829087425 3956.1837027031565\n"
     ]
    },
    {
     "name": "stderr",
     "output_type": "stream",
     "text": []
    },
    {
     "name": "stdout",
     "output_type": "stream",
     "text": [
      "Gap primal dual : 3049 6529.200563122242 3953.671840204146\n",
      "Gap primal dual : 3050 6384.475495964412 3951.16236925565\n",
      "Gap primal dual : 3051 4277.664901168961 3948.6552864540554\n",
      "Gap primal dual : 3052 5210.286101997673 3946.1505886783625\n",
      "Gap primal dual : 3053 7053.192928481167 3943.648274531113\n",
      "Gap primal dual : 3054 5428.974665738736 3941.148338928436\n",
      "Gap primal dual : 3055 3704.597583952968 3938.6507798053376\n",
      "Gap primal dual : 3056 4168.49162779723 3936.1555938321235\n",
      "Gap primal dual : 3057 4584.807154064754 3933.66277857155\n",
      "Gap primal dual : 3058 4270.8247264864 3931.172330467164\n"
     ]
    },
    {
     "name": "stderr",
     "output_type": "stream",
     "text": []
    },
    {
     "name": "stdout",
     "output_type": "stream",
     "text": [
      "Gap primal dual : 3059 5413.206588137642 3928.684246821107\n",
      "Gap primal dual : 3060 6282.577654817624 3926.198523271788\n",
      "Gap primal dual : 3061 5299.944792994226 3923.7151602570243\n",
      "Gap primal dual : 3062 6737.649791930822 3921.2341511877744\n",
      "Gap primal dual : 3063 5738.655645746929 3918.7554948076386\n",
      "Gap primal dual : 3064 6265.908501449312 3916.2791889180507\n",
      "Gap primal dual : 3065 5508.7162827845395 3913.805228199618\n",
      "Gap primal dual : 3066 5524.157594018378 3911.333611196065\n",
      "Gap primal dual : 3067 5819.095821344018 3908.864335258875\n",
      "Gap primal dual : 3068 5282.103983938324 3906.3973964980974\n"
     ]
    },
    {
     "name": "stderr",
     "output_type": "stream",
     "text": []
    },
    {
     "name": "stdout",
     "output_type": "stream",
     "text": [
      "Gap primal dual : 3069 6528.94877110123 3903.9327923996207\n",
      "Gap primal dual : 3070 6984.904484533862 3901.4705198384268\n",
      "Gap primal dual : 3071 4544.099496363689 3899.0105766107818\n",
      "Gap primal dual : 3072 4789.267571564285 3896.55295847877\n",
      "Gap primal dual : 3073 7537.699415277655 3894.097663625599\n",
      "Gap primal dual : 3074 5153.9191921526935 3891.6446892831814\n",
      "Gap primal dual : 3075 4432.262593792559 3889.194031109293\n",
      "Gap primal dual : 3076 4035.077889540205 3886.7456871380136\n",
      "Gap primal dual : 3077 6019.390323397089 3884.2996549695868\n",
      "Gap primal dual : 3078 5313.305974763128 3881.8559307008263\n"
     ]
    },
    {
     "name": "stderr",
     "output_type": "stream",
     "text": []
    },
    {
     "name": "stdout",
     "output_type": "stream",
     "text": [
      "Gap primal dual : 3079 5621.984935523903 3879.414511457318\n",
      "Gap primal dual : 3080 6813.173403940931 3876.9753952303263\n",
      "Gap primal dual : 3081 5291.528711454581 3874.5385787246732\n",
      "Gap primal dual : 3082 4132.211519746129 3872.1040584626558\n",
      "Gap primal dual : 3083 6250.75212002478 3869.6718321423837\n",
      "Gap primal dual : 3084 5555.422854028035 3867.241897471781\n",
      "Gap primal dual : 3085 4095.2684264455283 3864.8142502087753\n",
      "Gap primal dual : 3086 3504.1816862209917 3862.3888883711397\n",
      "Gap primal dual : 3087 5430.229948830969 3859.965808287875\n",
      "Gap primal dual : 3088 6256.744143480672 3857.545008557722\n"
     ]
    },
    {
     "name": "stderr",
     "output_type": "stream",
     "text": []
    },
    {
     "name": "stdout",
     "output_type": "stream",
     "text": [
      "Gap primal dual : 3089 4749.675487204713 3855.12648480156\n",
      "Gap primal dual : 3090 6135.117918040777 3852.7102352455513\n",
      "Gap primal dual : 3091 6082.198085917159 3850.2962566571805\n",
      "Gap primal dual : 3092 4218.280926475232 3847.884545884621\n",
      "Gap primal dual : 3093 4141.441555112893 3845.475100044637\n",
      "Gap primal dual : 3094 6491.0577721103145 3843.06791675763\n",
      "Gap primal dual : 3095 4674.1691800713625 3840.662993560273\n",
      "Gap primal dual : 3096 3124.211911918084 3838.2603264616628\n",
      "Gap primal dual : 3097 5961.29547814187 3835.8599137857213\n",
      "Gap primal dual : 3098 5127.18422986826 3833.461751691899\n"
     ]
    },
    {
     "name": "stderr",
     "output_type": "stream",
     "text": []
    },
    {
     "name": "stdout",
     "output_type": "stream",
     "text": [
      "Gap primal dual : 3099 5864.824828548117 3831.0658377459363\n",
      "Gap primal dual : 3100 6042.335740988804 3828.6721697967173\n",
      "Gap primal dual : 3101 4791.933352816956 3826.28074447682\n",
      "Gap primal dual : 3102 5627.343896941542 3823.8915591522664\n",
      "Gap primal dual : 3103 6424.0979327982095 3821.5046104962094\n",
      "Gap primal dual : 3104 6241.142202788701 3819.119895824706\n",
      "Gap primal dual : 3105 6282.2648964013315 3816.7374129016284\n",
      "Gap primal dual : 3106 5697.774816935977 3814.357158864971\n",
      "Gap primal dual : 3107 6128.50767310141 3811.979131005848\n",
      "Gap primal dual : 3108 4550.679732289801 3809.603326344526\n"
     ]
    },
    {
     "name": "stderr",
     "output_type": "stream",
     "text": []
    },
    {
     "name": "stdout",
     "output_type": "stream",
     "text": [
      "Gap primal dual : 3109 6018.4878422696265 3807.22974131782\n",
      "Gap primal dual : 3110 6734.984766999132 3804.8583740790323\n",
      "Gap primal dual : 3111 4831.9905711019155 3802.4892222109306\n",
      "Gap primal dual : 3112 4788.570294435311 3800.122282100056\n",
      "Gap primal dual : 3113 6344.268813831131 3797.757551117407\n",
      "Gap primal dual : 3114 5209.677944265892 3795.3950272762977\n",
      "Gap primal dual : 3115 3741.6056328793297 3793.03470688665\n",
      "Gap primal dual : 3116 4618.290062729759 3790.6765879913614\n",
      "Gap primal dual : 3117 6305.7134673773035 3788.3206663987075\n",
      "Gap primal dual : 3118 5083.267879278965 3785.966941588056\n"
     ]
    },
    {
     "name": "stderr",
     "output_type": "stream",
     "text": []
    },
    {
     "name": "stdout",
     "output_type": "stream",
     "text": [
      "Gap primal dual : 3119 5084.966449266758 3783.615409610217\n",
      "Gap primal dual : 3120 7449.688029527524 3781.2660669456777\n",
      "Gap primal dual : 3121 4606.53833588775 3778.918912580773\n",
      "Gap primal dual : 3122 4241.003636826859 3776.5739429109854\n",
      "Gap primal dual : 3123 5382.6345074094 3774.2311546449623\n",
      "Gap primal dual : 3124 5174.557957862367 3771.8905468753096\n",
      "Gap primal dual : 3125 5709.34047110397 3769.5521152907304\n",
      "Gap primal dual : 3126 5111.901102050977 3767.2158572742387\n",
      "Gap primal dual : 3127 6645.2861954720065 3764.8817697923187\n",
      "Gap primal dual : 3128 4581.481296826669 3762.5498520234078\n"
     ]
    },
    {
     "name": "stderr",
     "output_type": "stream",
     "text": []
    },
    {
     "name": "stdout",
     "output_type": "stream",
     "text": [
      "Gap primal dual : 3129 5715.320784261764 3760.220099840227\n",
      "Gap primal dual : 3130 5728.754955518108 3757.8925107480018\n",
      "Gap primal dual : 3131 6678.58496084228 3755.567082420179\n",
      "Gap primal dual : 3132 5147.737554612325 3753.2438121005957\n",
      "Gap primal dual : 3133 6071.0266754386885 3750.9226956499992\n",
      "Gap primal dual : 3134 5721.8096571678725 3748.6037330704335\n",
      "Gap primal dual : 3135 5564.528001961509 3746.286920225826\n",
      "Gap primal dual : 3136 4800.0422314447505 3743.9722537650155\n",
      "Gap primal dual : 3137 5029.878381025914 3741.6597325632943\n",
      "Gap primal dual : 3138 6984.169806692857 3739.3493525720587\n"
     ]
    },
    {
     "name": "stderr",
     "output_type": "stream",
     "text": []
    },
    {
     "name": "stdout",
     "output_type": "stream",
     "text": [
      "Gap primal dual : 3139 6389.133135852675 3737.041112579444\n",
      "Gap primal dual : 3140 3751.097175876012 3734.7350089860024\n",
      "Gap primal dual : 3141 5816.685545581958 3732.4310391079075\n",
      "Gap primal dual : 3142 6729.603095749518 3730.129200657582\n",
      "Gap primal dual : 3143 5528.208859477372 3727.8294906953392\n",
      "Gap primal dual : 3144 5713.361009925987 3725.5319075235802\n",
      "Gap primal dual : 3145 5701.363486879854 3723.236447030507\n",
      "Gap primal dual : 3146 5863.686850347322 3720.9431072391576\n",
      "Gap primal dual : 3147 5127.204820648716 3718.6518861903437\n",
      "Gap primal dual : 3148 5706.850416586167 3716.362781131798\n"
     ]
    },
    {
     "name": "stderr",
     "output_type": "stream",
     "text": []
    },
    {
     "name": "stdout",
     "output_type": "stream",
     "text": [
      "Gap primal dual : 3149 4972.514054967213 3714.075788832695\n",
      "Gap primal dual : 3150 5919.650570209938 3711.7909065649224\n",
      "Gap primal dual : 3151 6716.259487156032 3709.5081320501527\n",
      "Gap primal dual : 3152 5217.6335454237715 3707.227463368342\n",
      "Gap primal dual : 3153 3466.2642123652945 3704.948897200337\n",
      "Gap primal dual : 3154 3940.353442843029 3702.6724306845667\n",
      "Gap primal dual : 3155 6764.067155156592 3700.398061641994\n",
      "Gap primal dual : 3156 5534.266386388586 3698.12578787362\n",
      "Gap primal dual : 3157 6090.933439759332 3695.8556063573096\n",
      "Gap primal dual : 3158 6636.587596911739 3693.587514455768\n"
     ]
    },
    {
     "name": "stderr",
     "output_type": "stream",
     "text": []
    },
    {
     "name": "stdout",
     "output_type": "stream",
     "text": [
      "Gap primal dual : 3159 4296.0282722054 3691.3215096203385\n",
      "Gap primal dual : 3160 3454.9079166212437 3689.057590004338\n",
      "Gap primal dual : 3161 5698.967655739011 3686.7957519755673\n",
      "Gap primal dual : 3162 5958.034927689716 3684.5359938584916\n",
      "Gap primal dual : 3163 4860.986874914603 3682.278312286449\n",
      "Gap primal dual : 3164 5958.382905999963 3680.0227053385333\n",
      "Gap primal dual : 3165 5175.923678426373 3677.769170587646\n",
      "Gap primal dual : 3166 4062.624333851209 3675.517704604431\n",
      "Gap primal dual : 3167 3884.8178689370125 3673.2683056022174\n",
      "Gap primal dual : 3168 6153.919152778839 3671.0209706495216\n"
     ]
    },
    {
     "name": "stderr",
     "output_type": "stream",
     "text": []
    },
    {
     "name": "stdout",
     "output_type": "stream",
     "text": [
      "Gap primal dual : 3169 6357.471906146213 3668.775698739554\n",
      "Gap primal dual : 3170 5521.845836206292 3666.532485079772\n",
      "Gap primal dual : 3171 4290.750200692877 3664.291327636682\n",
      "Gap primal dual : 3172 6000.027699599141 3662.052225824424\n",
      "Gap primal dual : 3173 5677.355857790475 3659.815174770026\n",
      "Gap primal dual : 3174 4597.748081487531 3657.58017349331\n",
      "Gap primal dual : 3175 6855.559479255485 3655.3472174270623\n",
      "Gap primal dual : 3176 4537.884277494978 3653.1163078175655\n",
      "Gap primal dual : 3177 3240.62234396626 3650.8874388836857\n",
      "Gap primal dual : 3178 3849.7974486439794 3648.6606092156458\n"
     ]
    },
    {
     "name": "stderr",
     "output_type": "stream",
     "text": []
    },
    {
     "name": "stdout",
     "output_type": "stream",
     "text": [
      "Gap primal dual : 3179 3849.7974486439794 3648.6606092156458\n",
      "Gap primal dual : 3180 3849.7974486439794 3648.6606092156458\n",
      "Gap primal dual : 3181 3849.7974486439794 3648.6606092156458\n",
      "Gap primal dual : 3182 3849.7974486439794 3648.6606092156458\n",
      "Gap primal dual : 3183 3849.7974486439794 3648.6606092156458\n",
      "Gap primal dual : 3184 3849.7974486439794 3648.6606092156458\n",
      "Gap primal dual : 3185 3849.7974486439794 3648.6606092156458\n",
      "Gap primal dual : 3186 3849.7974486439794 3648.6606092156458\n",
      "Gap primal dual : 3187 3849.7974486439794 3648.6606092156458\n",
      "Gap primal dual : 3188 3849.7974486439794 3648.6606092156458\n"
     ]
    },
    {
     "name": "stderr",
     "output_type": "stream",
     "text": []
    },
    {
     "name": "stdout",
     "output_type": "stream",
     "text": [
      "Gap primal dual : 3189 3849.7974486439794 3648.6606092156458\n",
      "Gap primal dual : 3190 3849.7974486439794 3648.6606092156458\n",
      "Gap primal dual : 3191 3849.7974486439794 3648.6606092156458\n",
      "Gap primal dual : 3192 3849.7974486439794 3648.6606092156458\n",
      "Gap primal dual : 3193 3849.7974486439794 3648.6606092156458\n",
      "Gap primal dual : 3194 3849.7974486439794 3648.6606092156458\n",
      "Gap primal dual : 3195 3849.7974486439794 3648.6606092156458\n",
      "Gap primal dual : 3196 3849.7974486439794 3648.6606092156458\n",
      "Gap primal dual : 3197 3849.7974486439794 3648.6606092156458\n",
      "Gap primal dual : 3198 3849.7974486439794 3648.6606092156458\n"
     ]
    },
    {
     "name": "stderr",
     "output_type": "stream",
     "text": []
    },
    {
     "name": "stdout",
     "output_type": "stream",
     "text": [
      "Gap primal dual : 3199 3849.7974486439794 3648.6606092156458\n",
      "Gap primal dual : 3200 3849.7974486439794 3648.6606092156458\n",
      "Gap primal dual : 3201 3849.7974486439794 3648.6606092156458\n",
      "Gap primal dual : 3202 3849.7974486439794 3648.6606092156458\n",
      "Gap primal dual : 3203 3849.7974486439794 3648.6606092156458\n",
      "Gap primal dual : 3204 3849.7974486439794 3648.6606092156458\n",
      "Gap primal dual : 3205 3849.7974486439794 3648.6606092156458\n",
      "Gap primal dual : 3206 3849.7974486439794 3648.6606092156458\n",
      "Gap primal dual : 3207 3849.7974486439794 3648.6606092156458\n",
      "Gap primal dual : 3208 3849.7974486439794 3648.6606092156458\n"
     ]
    },
    {
     "name": "stderr",
     "output_type": "stream",
     "text": []
    },
    {
     "name": "stdout",
     "output_type": "stream",
     "text": [
      "Gap primal dual : 3209 3849.7974486439794 3648.6606092156458\n",
      "Gap primal dual : 3210 3849.7974486439794 3648.6606092156458\n",
      "Gap primal dual : 3211 3849.7974486439794 3648.6606092156458\n",
      "Gap primal dual : 3212 3849.7974486439794 3648.6606092156458\n",
      "Gap primal dual : 3213 3849.7974486439794 3648.6606092156458\n",
      "Gap primal dual : 3214 3849.7974486439794 3648.6606092156458\n",
      "Gap primal dual : 3215 3849.7974486439794 3648.6606092156458\n",
      "Gap primal dual : 3216 3849.7974486439794 3648.6606092156458\n",
      "Gap primal dual : 3217 3849.7974486439794 3648.6606092156458\n",
      "Gap primal dual : 3218 3849.7974486439794 3648.6606092156458\n"
     ]
    },
    {
     "name": "stderr",
     "output_type": "stream",
     "text": []
    },
    {
     "name": "stdout",
     "output_type": "stream",
     "text": [
      "Gap primal dual : 3219 3849.7974486439794 3648.6606092156458\n",
      "Gap primal dual : 3220 3849.7974486439794 3648.6606092156458\n",
      "Gap primal dual : 3221 3849.7974486439794 3648.6606092156458\n",
      "Gap primal dual : 3222 3849.7974486439794 3648.6606092156458\n",
      "Gap primal dual : 3223 3849.7974486439794 3648.6606092156458\n",
      "Gap primal dual : 3224 3849.7974486439794 3648.6606092156458\n",
      "Gap primal dual : 3225 3849.7974486439794 3648.6606092156458\n",
      "Gap primal dual : 3226 3849.7974486439794 3648.6606092156458\n",
      "Gap primal dual : 3227 3849.7974486439794 3648.6606092156458\n",
      "Gap primal dual : 3228 3849.7974486439794 3648.6606092156458\n"
     ]
    },
    {
     "name": "stderr",
     "output_type": "stream",
     "text": []
    },
    {
     "name": "stdout",
     "output_type": "stream",
     "text": [
      "Gap primal dual : 3229 3849.7974486439794 3648.6606092156458\n",
      "Gap primal dual : 3230 3849.7974486439794 3648.6606092156458\n",
      "Gap primal dual : 3231 3849.7974486439794 3648.6606092156458\n",
      "Gap primal dual : 3232 3849.7974486439794 3648.6606092156458\n",
      "Gap primal dual : 3233 3849.7974486439794 3648.6606092156458\n",
      "Gap primal dual : 3234 3849.7974486439794 3648.6606092156458\n",
      "Gap primal dual : 3235 3849.7974486439794 3648.6606092156458\n",
      "Gap primal dual : 3236 3849.7974486439794 3648.6606092156458\n",
      "Gap primal dual : 3237 3849.7974486439794 3648.6606092156458\n",
      "Gap primal dual : 3238 3849.7974486439794 3648.6606092156458\n"
     ]
    },
    {
     "name": "stderr",
     "output_type": "stream",
     "text": []
    },
    {
     "name": "stdout",
     "output_type": "stream",
     "text": [
      "Gap primal dual : 3239 3849.7974486439794 3648.6606092156458\n",
      "Gap primal dual : 3240 3849.7974486439794 3648.6606092156458\n",
      "Gap primal dual : 3241 3849.7974486439794 3648.6606092156458\n",
      "Gap primal dual : 3242 3849.7974486439794 3648.6606092156458\n",
      "Gap primal dual : 3243 3849.7974486439794 3648.6606092156458\n",
      "Gap primal dual : 3244 3849.7974486439794 3648.6606092156458\n",
      "Gap primal dual : 3245 3849.7974486439794 3648.6606092156458\n",
      "Gap primal dual : 3246 3849.7974486439794 3648.6606092156458\n",
      "Gap primal dual : 3247 3849.7974486439794 3648.6606092156458\n",
      "Gap primal dual : 3248 3849.7974486439794 3648.6606092156458\n"
     ]
    },
    {
     "name": "stderr",
     "output_type": "stream",
     "text": []
    },
    {
     "name": "stdout",
     "output_type": "stream",
     "text": [
      "Gap primal dual : 3249 3849.7974486439794 3648.6606092156458\n",
      "Gap primal dual : 3250 3849.7974486439794 3648.6606092156458\n",
      "Gap primal dual : 3251 3849.7974486439794 3648.6606092156458\n",
      "Gap primal dual : 3252 3849.7974486439794 3648.6606092156458\n",
      "Gap primal dual : 3253 3849.7974486439794 3648.6606092156458\n",
      "Gap primal dual : 3254 3849.7974486439794 3648.6606092156458\n",
      "Gap primal dual : 3255 3849.7974486439794 3648.6606092156458\n",
      "Gap primal dual : 3256 3849.7974486439794 3648.6606092156458\n",
      "Gap primal dual : 3257 3849.7974486439794 3648.6606092156458\n",
      "Gap primal dual : 3258 3849.7974486439794 3648.6606092156458\n"
     ]
    },
    {
     "name": "stderr",
     "output_type": "stream",
     "text": []
    },
    {
     "name": "stdout",
     "output_type": "stream",
     "text": [
      "Gap primal dual : 3259 3849.7974486439794 3648.6606092156458\n",
      "Gap primal dual : 3260 3849.7974486439794 3648.6606092156458\n",
      "Gap primal dual : 3261 3849.7974486439794 3648.6606092156458\n",
      "Gap primal dual : 3262 3849.7974486439794 3648.6606092156458\n",
      "Gap primal dual : 3263 3849.7974486439794 3648.6606092156458\n",
      "Gap primal dual : 3264 3849.7974486439794 3648.6606092156458\n",
      "Gap primal dual : 3265 3849.7974486439794 3648.6606092156458\n",
      "Gap primal dual : 3266 3849.7974486439794 3648.6606092156458\n",
      "Gap primal dual : 3267 3849.7974486439794 3648.6606092156458\n",
      "Gap primal dual : 3268 3849.7974486439794 3648.6606092156458\n"
     ]
    },
    {
     "name": "stderr",
     "output_type": "stream",
     "text": []
    },
    {
     "name": "stdout",
     "output_type": "stream",
     "text": [
      "Gap primal dual : 3269 3849.7974486439794 3648.6606092156458\n",
      "Gap primal dual : 3270 3849.7974486439794 3648.6606092156458\n",
      "Gap primal dual : 3271 3849.7974486439794 3648.6606092156458\n",
      "Gap primal dual : 3272 3849.7974486439794 3648.6606092156458\n",
      "Gap primal dual : 3273 3849.7974486439794 3648.6606092156458\n",
      "Gap primal dual : 3274 3849.7974486439794 3648.6606092156458\n",
      "Gap primal dual : 3275 3849.7974486439794 3648.6606092156458\n",
      "Gap primal dual : 3276 3849.7974486439794 3648.6606092156458\n",
      "Gap primal dual : 3277 3849.7974486439794 3648.6606092156458\n",
      "Gap primal dual : 3278 3849.7974486439794 3648.6606092156458\n"
     ]
    },
    {
     "name": "stderr",
     "output_type": "stream",
     "text": []
    },
    {
     "name": "stdout",
     "output_type": "stream",
     "text": [
      "Gap primal dual : 3279 3849.7974486439794 3648.6606092156458\n",
      "Gap primal dual : 3280 3849.7974486439794 3648.6606092156458\n",
      "Gap primal dual : 3281 3849.7974486439794 3648.6606092156458\n",
      "Gap primal dual : 3282 3849.7974486439794 3648.6606092156458\n",
      "Gap primal dual : 3283 3849.7974486439794 3648.6606092156458\n",
      "Gap primal dual : 3284 3849.7974486439794 3648.6606092156458\n",
      "Gap primal dual : 3285 3849.7974486439794 3648.6606092156458\n",
      "Gap primal dual : 3286 3849.7974486439794 3648.6606092156458\n",
      "Gap primal dual : 3287 3849.7974486439794 3648.6606092156458\n",
      "Gap primal dual : 3288 3849.7974486439794 3648.6606092156458\n"
     ]
    },
    {
     "name": "stderr",
     "output_type": "stream",
     "text": []
    },
    {
     "name": "stdout",
     "output_type": "stream",
     "text": [
      "Gap primal dual : 3289 3849.7974486439794 3648.6606092156458\n",
      "Gap primal dual : 3290 3849.7974486439794 3648.6606092156458\n",
      "Gap primal dual : 3291 3849.7974486439794 3648.6606092156458\n",
      "Gap primal dual : 3292 3849.7974486439794 3648.6606092156458\n",
      "Gap primal dual : 3293 3849.7974486439794 3648.6606092156458\n",
      "Gap primal dual : 3294 5016.668241608221 3646.5111767107683\n",
      "Gap primal dual : 3295 4192.930745728111 3644.3636440366677\n",
      "Gap primal dual : 3296 5612.726268769178 3642.2180070458353\n",
      "Gap primal dual : 3297 7250.493216445628 3640.0742645096275\n",
      "Gap primal dual : 3298 5019.837086666992 3637.9324147925004\n"
     ]
    },
    {
     "name": "stderr",
     "output_type": "stream",
     "text": []
    },
    {
     "name": "stdout",
     "output_type": "stream",
     "text": [
      "Gap primal dual : 3299 3240.0008291356 3635.7924547151665\n",
      "Gap primal dual : 3300 4146.363178574687 3633.6543822284602\n",
      "Gap primal dual : 3301 5915.942117779071 3631.5181942708628\n",
      "Gap primal dual : 3302 4047.811293681956 3629.383891417021\n",
      "Gap primal dual : 3303 3553.1157820640874 3627.2514680179884\n",
      "Gap primal dual : 3304 6453.087346645851 3625.120923854406\n",
      "Gap primal dual : 3305 4170.73949878196 3622.992256158831\n",
      "Gap primal dual : 3306 3151.3647053458863 3620.8654631097784\n",
      "Gap primal dual : 3307 5568.893940149365 3618.7405415050926\n",
      "Gap primal dual : 3308 5335.704239978407 3616.6174905593994\n"
     ]
    },
    {
     "name": "stderr",
     "output_type": "stream",
     "text": []
    },
    {
     "name": "stdout",
     "output_type": "stream",
     "text": [
      "Gap primal dual : 3309 5498.562598746172 3614.4963074455154\n",
      "Gap primal dual : 3310 5313.574049362258 3612.376989948568\n",
      "Gap primal dual : 3311 5869.675100943716 3610.259535651945\n",
      "Gap primal dual : 3312 4949.4726382497065 3608.143942635045\n",
      "Gap primal dual : 3313 4626.802207138447 3606.030208528336\n",
      "Gap primal dual : 3314 6729.165090739498 3603.918331286852\n",
      "Gap primal dual : 3315 4251.756556078448 3601.8083090828127\n",
      "Gap primal dual : 3316 3144.9634613975327 3599.700139468265\n",
      "Gap primal dual : 3317 4564.26517464669 3597.5938195820922\n",
      "Gap primal dual : 3318 5818.753429845672 3595.4893482052557\n"
     ]
    },
    {
     "name": "stderr",
     "output_type": "stream",
     "text": []
    },
    {
     "name": "stdout",
     "output_type": "stream",
     "text": [
      "Gap primal dual : 3319 4533.141147371552 3593.3867227850437\n",
      "Gap primal dual : 3320 4723.151115693666 3591.2859414999893\n",
      "Gap primal dual : 3321 6496.927059735378 3589.1870009417516\n",
      "Gap primal dual : 3322 4934.89448807274 3587.0899016740345\n",
      "Gap primal dual : 3323 4770.098886154264 3584.9946385988756\n",
      "Gap primal dual : 3324 6468.440897561965 3582.9012110688227\n",
      "Gap primal dual : 3325 4938.252690959579 3580.8096170325266\n",
      "Gap primal dual : 3326 3589.0328489566054 3578.7198534869603\n",
      "Gap primal dual : 3327 2070.3052797960863 3576.6319186536844\n",
      "Gap primal dual : 3328 5800.357234597495 3574.545810776923\n"
     ]
    },
    {
     "name": "stderr",
     "output_type": "stream",
     "text": []
    },
    {
     "name": "stdout",
     "output_type": "stream",
     "text": [
      "Gap primal dual : 3329 5593.495486993842 3572.4615272635106\n",
      "Gap primal dual : 3330 4850.580834289725 3570.3790666516384\n",
      "Gap primal dual : 3331 5760.180094314169 3568.298426504595\n",
      "Gap primal dual : 3332 4706.682793233934 3566.219603617112\n",
      "Gap primal dual : 3333 5349.722829095712 3564.142597408973\n",
      "Gap primal dual : 3334 5520.187777333171 3562.067405570179\n",
      "Gap primal dual : 3335 6205.614051167605 3559.994025176594\n",
      "Gap primal dual : 3336 4259.586722686439 3557.9224547048634\n",
      "Gap primal dual : 3337 5238.924693822578 3555.852691486735\n",
      "Gap primal dual : 3338 5966.014340192534 3553.7847346484423\n"
     ]
    },
    {
     "name": "stderr",
     "output_type": "stream",
     "text": []
    },
    {
     "name": "stdout",
     "output_type": "stream",
     "text": [
      "Gap primal dual : 3339 5420.401477798465 3551.7185809212365\n",
      "Gap primal dual : 3340 5934.909713991753 3549.654227815581\n",
      "Gap primal dual : 3341 5015.923652802216 3547.5916745184463\n",
      "Gap primal dual : 3342 6385.409279885342 3545.5309185020938\n",
      "Gap primal dual : 3343 4499.806272263675 3543.4719575590193\n",
      "Gap primal dual : 3344 4578.652575052265 3541.414789319321\n",
      "Gap primal dual : 3345 5987.488929088522 3539.3594119800237\n",
      "Gap primal dual : 3346 4354.468129150111 3537.305824147975\n",
      "Gap primal dual : 3347 3723.5109094401682 3535.2540224360628\n",
      "Gap primal dual : 3348 5061.926481317274 3533.204005213004\n"
     ]
    },
    {
     "name": "stderr",
     "output_type": "stream",
     "text": []
    },
    {
     "name": "stdout",
     "output_type": "stream",
     "text": [
      "Gap primal dual : 3349 5703.798656300459 3531.1557714159817\n",
      "Gap primal dual : 3350 4552.912181919986 3529.109317674117\n",
      "Gap primal dual : 3351 3889.5895307369947 3527.064642460078\n",
      "Gap primal dual : 3352 5987.913864765047 3525.021743382249\n",
      "Gap primal dual : 3353 4966.193667250881 3522.980619646049\n",
      "Gap primal dual : 3354 3300.6246723062836 3520.941267766959\n",
      "Gap primal dual : 3355 3638.4359373862226 3518.903685733027\n",
      "Gap primal dual : 3356 5644.873509929248 3516.8678721698143\n",
      "Gap primal dual : 3357 4053.2587678220807 3514.8338252289764\n",
      "Gap primal dual : 3358 4203.021630066534 3512.801541205132\n"
     ]
    },
    {
     "name": "stderr",
     "output_type": "stream",
     "text": []
    },
    {
     "name": "stdout",
     "output_type": "stream",
     "text": [
      "Gap primal dual : 3359 6433.437375935208 3510.7710207958476\n",
      "Gap primal dual : 3360 5706.589240251332 3508.7422595272833\n",
      "Gap primal dual : 3361 4699.517992731718 3506.715256474673\n",
      "Gap primal dual : 3362 5979.189155116098 3504.690009780578\n",
      "Gap primal dual : 3363 5455.890574128852 3502.6665163872044\n",
      "Gap primal dual : 3364 4832.272673013105 3500.6447751383116\n",
      "Gap primal dual : 3365 5189.684951178042 3498.6247836723433\n",
      "Gap primal dual : 3366 5205.0246772255605 3496.6065406305856\n",
      "Gap primal dual : 3367 4493.523098686192 3494.5900431511723\n",
      "Gap primal dual : 3368 6361.580774866672 3492.575289608353\n"
     ]
    },
    {
     "name": "stderr",
     "output_type": "stream",
     "text": []
    },
    {
     "name": "stdout",
     "output_type": "stream",
     "text": [
      "Gap primal dual : 3369 5842.121215261747 3490.562278257972\n",
      "Gap primal dual : 3370 4118.011989372739 3488.551006451297\n",
      "Gap primal dual : 3371 3091.4149856121767 3486.5414719768028\n",
      "Gap primal dual : 3372 3091.4149856121767 3486.5414719768028\n",
      "Gap primal dual : 3373 3091.4149856121767 3486.5414719768028\n",
      "Gap primal dual : 3374 3091.4149856121767 3486.5414719768028\n",
      "Gap primal dual : 3375 3091.4149856121767 3486.5414719768028\n",
      "Gap primal dual : 3376 3091.4149856121767 3486.5414719768028\n",
      "Gap primal dual : 3377 3091.4149856121767 3486.5414719768028\n",
      "Gap primal dual : 3378 3091.4149856121767 3486.5414719768028\n"
     ]
    },
    {
     "name": "stderr",
     "output_type": "stream",
     "text": []
    },
    {
     "name": "stdout",
     "output_type": "stream",
     "text": [
      "Gap primal dual : 3379 3091.4149856121767 3486.5414719768028\n",
      "Gap primal dual : 3380 3091.4149856121767 3486.5414719768028\n",
      "Gap primal dual : 3381 3091.4149856121767 3486.5414719768028\n",
      "Gap primal dual : 3382 3091.4149856121767 3486.5414719768028\n",
      "Gap primal dual : 3383 3091.4149856121767 3486.5414719768028\n",
      "Gap primal dual : 3384 3091.4149856121767 3486.5414719768028\n",
      "Gap primal dual : 3385 3091.4149856121767 3486.5414719768028\n",
      "Gap primal dual : 3386 3091.4149856121767 3486.5414719768028\n",
      "Gap primal dual : 3387 3091.4149856121767 3486.5414719768028\n",
      "Gap primal dual : 3388 3091.4149856121767 3486.5414719768028\n"
     ]
    },
    {
     "name": "stderr",
     "output_type": "stream",
     "text": []
    },
    {
     "name": "stdout",
     "output_type": "stream",
     "text": [
      "Gap primal dual : 3389 3091.4149856121767 3486.5414719768028\n",
      "Gap primal dual : 3390 3091.4149856121767 3486.5414719768028\n",
      "Gap primal dual : 3391 3091.4149856121767 3486.5414719768028\n",
      "Gap primal dual : 3392 3091.4149856121767 3486.5414719768028\n",
      "Gap primal dual : 3393 3091.4149856121767 3486.5414719768028\n",
      "Gap primal dual : 3394 3091.4149856121767 3486.5414719768028\n",
      "Gap primal dual : 3395 3091.4149856121767 3486.5414719768028\n",
      "Gap primal dual : 3396 3091.4149856121767 3486.5414719768028\n",
      "Gap primal dual : 3397 3091.4149856121767 3486.5414719768028\n",
      "Gap primal dual : 3398 3091.4149856121767 3486.5414719768028\n"
     ]
    },
    {
     "name": "stderr",
     "output_type": "stream",
     "text": []
    },
    {
     "name": "stdout",
     "output_type": "stream",
     "text": [
      "Gap primal dual : 3399 3091.4149856121767 3486.5414719768028\n",
      "Gap primal dual : 3400 3091.4149856121767 3486.5414719768028\n",
      "Gap primal dual : 3401 3091.4149856121767 3486.5414719768028\n",
      "Gap primal dual : 3402 3091.4149856121767 3486.5414719768028\n",
      "Gap primal dual : 3403 3091.4149856121767 3486.5414719768028\n",
      "Gap primal dual : 3404 3091.4149856121767 3486.5414719768028\n",
      "Gap primal dual : 3405 3091.4149856121767 3486.5414719768028\n",
      "Gap primal dual : 3406 3091.4149856121767 3486.5414719768028\n",
      "Gap primal dual : 3407 3091.4149856121767 3486.5414719768028\n",
      "Gap primal dual : 3408 3091.4149856121767 3486.5414719768028\n"
     ]
    },
    {
     "name": "stderr",
     "output_type": "stream",
     "text": []
    },
    {
     "name": "stdout",
     "output_type": "stream",
     "text": [
      "Gap primal dual : 3409 3091.4149856121767 3486.5414719768028\n",
      "Gap primal dual : 3410 3091.4149856121767 3486.5414719768028\n",
      "Gap primal dual : 3411 3091.4149856121767 3486.5414719768028\n",
      "Gap primal dual : 3412 3091.4149856121767 3486.5414719768028\n",
      "Gap primal dual : 3413 3091.4149856121767 3486.5414719768028\n",
      "Gap primal dual : 3414 3091.4149856121767 3486.5414719768028\n",
      "Gap primal dual : 3415 3091.4149856121767 3486.5414719768028\n",
      "Gap primal dual : 3416 3091.4149856121767 3486.5414719768028\n",
      "Gap primal dual : 3417 5839.618353068102 3484.559356630181\n",
      "Gap primal dual : 3418 4807.141205852436 3482.5789309513843\n"
     ]
    },
    {
     "name": "stderr",
     "output_type": "stream",
     "text": []
    },
    {
     "name": "stdout",
     "output_type": "stream",
     "text": [
      "Gap primal dual : 3419 4948.632513570788 3480.600192613827\n",
      "Gap primal dual : 3420 6911.81593082577 3478.623140299635\n",
      "Gap primal dual : 3421 4534.727754164572 3476.647772442875\n",
      "Gap primal dual : 3422 3009.5712571520767 3474.6740866842447\n",
      "Gap primal dual : 3423 4364.211303130164 3472.702080229897\n",
      "Gap primal dual : 3424 5016.180510645909 3470.7317529874886\n",
      "Gap primal dual : 3425 3083.981020013091 3468.7631025026853\n",
      "Gap primal dual : 3426 2279.7357402784946 3466.7961261701894\n",
      "Gap primal dual : 3427 2279.7357402784946 3466.7961261701894\n",
      "Gap primal dual : 3428 2279.7357402784946 3466.7961261701894\n"
     ]
    },
    {
     "name": "stderr",
     "output_type": "stream",
     "text": []
    },
    {
     "name": "stdout",
     "output_type": "stream",
     "text": [
      "Gap primal dual : 3429 2279.7357402784946 3466.7961261701894\n",
      "Gap primal dual : 3430 2279.7357402784946 3466.7961261701894\n",
      "Gap primal dual : 3431 2279.7357402784946 3466.7961261701894\n",
      "Gap primal dual : 3432 2279.7357402784946 3466.7961261701894\n",
      "Gap primal dual : 3433 2279.7357402784946 3466.7961261701894\n",
      "Gap primal dual : 3434 2279.7357402784946 3466.7961261701894\n",
      "Gap primal dual : 3435 2279.7357402784946 3466.7961261701894\n",
      "Gap primal dual : 3436 2279.7357402784946 3466.7961261701894\n",
      "Gap primal dual : 3437 2279.7357402784946 3466.7961261701894\n",
      "Gap primal dual : 3438 2279.7357402784946 3466.7961261701894\n"
     ]
    },
    {
     "name": "stderr",
     "output_type": "stream",
     "text": []
    },
    {
     "name": "stdout",
     "output_type": "stream",
     "text": [
      "Gap primal dual : 3439 2279.7357402784946 3466.7961261701894\n",
      "Gap primal dual : 3440 2279.7357402784946 3466.7961261701894\n",
      "Gap primal dual : 3441 2279.7357402784946 3466.7961261701894\n",
      "Gap primal dual : 3442 2279.7357402784946 3466.7961261701894\n",
      "Gap primal dual : 3443 2279.7357402784946 3466.7961261701894\n",
      "Gap primal dual : 3444 2279.7357402784946 3466.7961261701894\n",
      "Gap primal dual : 3445 2279.7357402784946 3466.7961261701894\n",
      "Gap primal dual : 3446 2279.7357402784946 3466.7961261701894\n",
      "Gap primal dual : 3447 2279.7357402784946 3466.7961261701894\n",
      "Gap primal dual : 3448 2279.7357402784946 3466.7961261701894\n"
     ]
    },
    {
     "name": "stderr",
     "output_type": "stream",
     "text": []
    },
    {
     "name": "stdout",
     "output_type": "stream",
     "text": [
      "Gap primal dual : 3449 2279.7357402784946 3466.7961261701894\n",
      "Gap primal dual : 3450 2279.7357402784946 3466.7961261701894\n",
      "Gap primal dual : 3451 2279.7357402784946 3466.7961261701894\n",
      "Gap primal dual : 3452 2279.7357402784946 3466.7961261701894\n",
      "Gap primal dual : 3453 2279.7357402784946 3466.7961261701894\n",
      "Gap primal dual : 3454 2279.7357402784946 3466.7961261701894\n",
      "Gap primal dual : 3455 2279.7357402784946 3466.7961261701894\n",
      "Gap primal dual : 3456 2279.7357402784946 3466.7961261701894\n",
      "Gap primal dual : 3457 2279.7357402784946 3466.7961261701894\n",
      "Gap primal dual : 3458 2279.7357402784946 3466.7961261701894\n"
     ]
    },
    {
     "name": "stderr",
     "output_type": "stream",
     "text": []
    },
    {
     "name": "stdout",
     "output_type": "stream",
     "text": [
      "Gap primal dual : 3459 2279.7357402784946 3466.7961261701894\n",
      "Gap primal dual : 3460 2279.7357402784946 3466.7961261701894\n",
      "Gap primal dual : 3461 2279.7357402784946 3466.7961261701894\n",
      "Gap primal dual : 3462 2279.7357402784946 3466.7961261701894\n",
      "Gap primal dual : 3463 2279.7357402784946 3466.7961261701894\n",
      "Gap primal dual : 3464 2279.7357402784946 3466.7961261701894\n",
      "Gap primal dual : 3465 2279.7357402784946 3466.7961261701894\n",
      "Gap primal dual : 3466 2279.7357402784946 3466.7961261701894\n",
      "Gap primal dual : 3467 2279.7357402784946 3466.7961261701894\n",
      "Gap primal dual : 3468 2279.7357402784946 3466.7961261701894\n"
     ]
    },
    {
     "name": "stderr",
     "output_type": "stream",
     "text": []
    },
    {
     "name": "stdout",
     "output_type": "stream",
     "text": [
      "Gap primal dual : 3469 2279.7357402784946 3466.7961261701894\n",
      "Gap primal dual : 3470 2279.7357402784946 3466.7961261701894\n",
      "Gap primal dual : 3471 2279.7357402784946 3466.7961261701894\n",
      "Gap primal dual : 3472 2279.7357402784946 3466.7961261701894\n",
      "Gap primal dual : 3473 2279.7357402784946 3466.7961261701894\n",
      "Gap primal dual : 3474 2279.7357402784946 3466.7961261701894\n",
      "Gap primal dual : 3475 2279.7357402784946 3466.7961261701894\n",
      "Gap primal dual : 3476 2279.7357402784946 3466.7961261701894\n",
      "Gap primal dual : 3477 2279.7357402784946 3466.7961261701894\n",
      "Gap primal dual : 3478 2279.7357402784946 3466.7961261701894\n"
     ]
    },
    {
     "name": "stderr",
     "output_type": "stream",
     "text": []
    },
    {
     "name": "stdout",
     "output_type": "stream",
     "text": [
      "Gap primal dual : 3479 2279.7357402784946 3466.7961261701894\n",
      "Gap primal dual : 3480 2279.7357402784946 3466.7961261701894\n",
      "Gap primal dual : 3481 2279.7357402784946 3466.7961261701894\n",
      "Gap primal dual : 3482 2279.7357402784946 3466.7961261701894\n",
      "Gap primal dual : 3483 2279.7357402784946 3466.7961261701894\n",
      "Gap primal dual : 3484 2279.7357402784946 3466.7961261701894\n",
      "Gap primal dual : 3485 2279.7357402784946 3466.7961261701894\n",
      "Gap primal dual : 3486 2279.7357402784946 3466.7961261701894\n",
      "Gap primal dual : 3487 2279.7357402784946 3466.7961261701894\n",
      "Gap primal dual : 3488 2279.7357402784946 3466.7961261701894\n"
     ]
    },
    {
     "name": "stderr",
     "output_type": "stream",
     "text": []
    },
    {
     "name": "stdout",
     "output_type": "stream",
     "text": [
      "Gap primal dual : 3489 2279.7357402784946 3466.7961261701894\n",
      "Gap primal dual : 3490 2279.7357402784946 3466.7961261701894\n",
      "Gap primal dual : 3491 2279.7357402784946 3466.7961261701894\n",
      "Gap primal dual : 3492 2279.7357402784946 3466.7961261701894\n",
      "Gap primal dual : 3493 2279.7357402784946 3466.7961261701894\n",
      "Gap primal dual : 3494 2279.7357402784946 3466.7961261701894\n",
      "Gap primal dual : 3495 2279.7357402784946 3466.7961261701894\n",
      "Gap primal dual : 3496 2279.7357402784946 3466.7961261701894\n",
      "Gap primal dual : 3497 2279.7357402784946 3466.7961261701894\n",
      "Gap primal dual : 3498 2279.7357402784946 3466.7961261701894\n"
     ]
    },
    {
     "name": "stderr",
     "output_type": "stream",
     "text": []
    },
    {
     "name": "stdout",
     "output_type": "stream",
     "text": [
      "Gap primal dual : 3499 2279.7357402784946 3466.7961261701894\n",
      "Gap primal dual : 3500 2279.7357402784946 3466.7961261701894\n",
      "Gap primal dual : 3501 2279.7357402784946 3466.7961261701894\n",
      "Gap primal dual : 3502 2279.7357402784946 3466.7961261701894\n",
      "Gap primal dual : 3503 2279.7357402784946 3466.7961261701894\n",
      "Gap primal dual : 3504 2279.7357402784946 3466.7961261701894\n",
      "Gap primal dual : 3505 2279.7357402784946 3466.7961261701894\n",
      "Gap primal dual : 3506 2279.7357402784946 3466.7961261701894\n",
      "Gap primal dual : 3507 2279.7357402784946 3466.7961261701894\n",
      "Gap primal dual : 3508 2279.7357402784946 3466.7961261701894\n"
     ]
    },
    {
     "name": "stderr",
     "output_type": "stream",
     "text": []
    },
    {
     "name": "stdout",
     "output_type": "stream",
     "text": [
      "Gap primal dual : 3509 2279.7357402784946 3466.7961261701894\n",
      "Gap primal dual : 3510 2279.7357402784946 3466.7961261701894\n",
      "Gap primal dual : 3511 2279.7357402784946 3466.7961261701894\n",
      "Gap primal dual : 3512 2279.7357402784946 3466.7961261701894\n",
      "Gap primal dual : 3513 2279.7357402784946 3466.7961261701894\n",
      "Gap primal dual : 3514 2279.7357402784946 3466.7961261701894\n",
      "Gap primal dual : 3515 2279.7357402784946 3466.7961261701894\n",
      "Gap primal dual : 3516 2279.7357402784946 3466.7961261701894\n",
      "Gap primal dual : 3517 2279.7357402784946 3466.7961261701894\n",
      "Gap primal dual : 3518 2279.7357402784946 3466.7961261701894\n"
     ]
    },
    {
     "name": "stderr",
     "output_type": "stream",
     "text": []
    },
    {
     "name": "stdout",
     "output_type": "stream",
     "text": [
      "Gap primal dual : 3519 2279.7357402784946 3466.7961261701894\n",
      "Gap primal dual : 3520 2279.7357402784946 3466.7961261701894\n",
      "Gap primal dual : 3521 2279.7357402784946 3466.7961261701894\n",
      "Gap primal dual : 3522 2279.7357402784946 3466.7961261701894\n",
      "Gap primal dual : 3523 2279.7357402784946 3466.7961261701894\n",
      "Gap primal dual : 3524 2279.7357402784946 3466.7961261701894\n",
      "Gap primal dual : 3525 2279.7357402784946 3466.7961261701894\n",
      "Gap primal dual : 3526 2279.7357402784946 3466.7961261701894\n",
      "Gap primal dual : 3527 2279.7357402784946 3466.7961261701894\n",
      "Gap primal dual : 3528 2279.7357402784946 3466.7961261701894\n"
     ]
    },
    {
     "name": "stderr",
     "output_type": "stream",
     "text": []
    },
    {
     "name": "stdout",
     "output_type": "stream",
     "text": [
      "Gap primal dual : 3529 2279.7357402784946 3466.7961261701894\n",
      "Gap primal dual : 3530 2279.7357402784946 3466.7961261701894\n",
      "Gap primal dual : 3531 2279.7357402784946 3466.7961261701894\n",
      "Gap primal dual : 3532 2279.7357402784946 3466.7961261701894\n",
      "Gap primal dual : 3533 2279.7357402784946 3466.7961261701894\n",
      "Gap primal dual : 3534 2279.7357402784946 3466.7961261701894\n",
      "Gap primal dual : 3535 2279.7357402784946 3466.7961261701894\n",
      "Gap primal dual : 3536 2279.7357402784946 3466.7961261701894\n",
      "Gap primal dual : 3537 2279.7357402784946 3466.7961261701894\n",
      "Gap primal dual : 3538 2279.7357402784946 3466.7961261701894\n"
     ]
    },
    {
     "name": "stderr",
     "output_type": "stream",
     "text": []
    },
    {
     "name": "stdout",
     "output_type": "stream",
     "text": [
      "Gap primal dual : 3539 2279.7357402784946 3466.7961261701894\n",
      "Gap primal dual : 3540 2279.7357402784946 3466.7961261701894\n",
      "Gap primal dual : 3541 2279.7357402784946 3466.7961261701894\n",
      "Gap primal dual : 3542 2279.7357402784946 3466.7961261701894\n",
      "Gap primal dual : 3543 2279.7357402784946 3466.7961261701894\n",
      "Gap primal dual : 3544 2279.7357402784946 3466.7961261701894\n",
      "Gap primal dual : 3545 2279.7357402784946 3466.7961261701894\n",
      "Gap primal dual : 3546 2279.7357402784946 3466.7961261701894\n",
      "Gap primal dual : 3547 2279.7357402784946 3466.7961261701894\n",
      "Gap primal dual : 3548 2279.7357402784946 3466.7961261701894\n"
     ]
    },
    {
     "name": "stderr",
     "output_type": "stream",
     "text": []
    },
    {
     "name": "stdout",
     "output_type": "stream",
     "text": [
      "Gap primal dual : 3549 2279.7357402784946 3466.7961261701894\n",
      "Gap primal dual : 3550 2279.7357402784946 3466.7961261701894\n",
      "Gap primal dual : 3551 2279.7357402784946 3466.7961261701894\n",
      "Gap primal dual : 3552 2279.7357402784946 3466.7961261701894\n",
      "Gap primal dual : 3553 2279.7357402784946 3466.7961261701894\n",
      "Gap primal dual : 3554 2279.7357402784946 3466.7961261701894\n",
      "Gap primal dual : 3555 2279.7357402784946 3466.7961261701894\n",
      "Gap primal dual : 3556 2279.7357402784946 3466.7961261701894\n",
      "Gap primal dual : 3557 2279.7357402784946 3466.7961261701894\n",
      "Gap primal dual : 3558 2279.7357402784946 3466.7961261701894\n"
     ]
    },
    {
     "name": "stderr",
     "output_type": "stream",
     "text": []
    },
    {
     "name": "stdout",
     "output_type": "stream",
     "text": [
      "Gap primal dual : 3559 2279.7357402784946 3466.7961261701894\n",
      "Gap primal dual : 3560 2279.7357402784946 3466.7961261701894\n",
      "Gap primal dual : 3561 2279.7357402784946 3466.7961261701894\n",
      "Gap primal dual : 3562 2279.7357402784946 3466.7961261701894\n",
      "Gap primal dual : 3563 2279.7357402784946 3466.7961261701894\n",
      "Gap primal dual : 3564 2279.7357402784946 3466.7961261701894\n",
      "Gap primal dual : 3565 2279.7357402784946 3466.7961261701894\n",
      "Gap primal dual : 3566 2279.7357402784946 3466.7961261701894\n",
      "Gap primal dual : 3567 2279.7357402784946 3466.7961261701894\n",
      "Gap primal dual : 3568 2279.7357402784946 3466.7961261701894\n"
     ]
    },
    {
     "name": "stderr",
     "output_type": "stream",
     "text": []
    },
    {
     "name": "stdout",
     "output_type": "stream",
     "text": [
      "Gap primal dual : 3569 2279.7357402784946 3466.7961261701894\n",
      "Gap primal dual : 3570 2279.7357402784946 3466.7961261701894\n",
      "Gap primal dual : 3571 2279.7357402784946 3466.7961261701894\n",
      "Gap primal dual : 3572 2279.7357402784946 3466.7961261701894\n",
      "Gap primal dual : 3573 2279.7357402784946 3466.7961261701894\n",
      "Gap primal dual : 3574 2279.7357402784946 3466.7961261701894\n",
      "Gap primal dual : 3575 2279.7357402784946 3466.7961261701894\n",
      "Gap primal dual : 3576 2279.7357402784946 3466.7961261701894\n",
      "Gap primal dual : 3577 2279.7357402784946 3466.7961261701894\n",
      "Gap primal dual : 3578 2279.7357402784946 3466.7961261701894\n"
     ]
    },
    {
     "name": "stderr",
     "output_type": "stream",
     "text": []
    },
    {
     "name": "stdout",
     "output_type": "stream",
     "text": [
      "Gap primal dual : 3579 2279.7357402784946 3466.7961261701894\n",
      "Gap primal dual : 3580 2279.7357402784946 3466.7961261701894\n",
      "Gap primal dual : 3581 2279.7357402784946 3466.7961261701894\n",
      "Gap primal dual : 3582 2279.7357402784946 3466.7961261701894\n",
      "Gap primal dual : 3583 2279.7357402784946 3466.7961261701894\n",
      "Gap primal dual : 3584 2279.7357402784946 3466.7961261701894\n",
      "Gap primal dual : 3585 2279.7357402784946 3466.7961261701894\n",
      "Gap primal dual : 3586 2279.7357402784946 3466.7961261701894\n",
      "Gap primal dual : 3587 2279.7357402784946 3466.7961261701894\n",
      "Gap primal dual : 3588 2279.7357402784946 3466.7961261701894\n"
     ]
    },
    {
     "name": "stderr",
     "output_type": "stream",
     "text": []
    },
    {
     "name": "stdout",
     "output_type": "stream",
     "text": [
      "Gap primal dual : 3589 2279.7357402784946 3466.7961261701894\n",
      "Gap primal dual : 3590 2279.7357402784946 3466.7961261701894\n",
      "Gap primal dual : 3591 2279.7357402784946 3466.7961261701894\n",
      "Gap primal dual : 3592 2279.7357402784946 3466.7961261701894\n",
      "Gap primal dual : 3593 2279.7357402784946 3466.7961261701894\n",
      "Gap primal dual : 3594 2279.7357402784946 3466.7961261701894\n",
      "Gap primal dual : 3595 2279.7357402784946 3466.7961261701894\n",
      "Gap primal dual : 3596 2279.7357402784946 3466.7961261701894\n",
      "Gap primal dual : 3597 2279.7357402784946 3466.7961261701894\n",
      "Gap primal dual : 3598 2279.7357402784946 3466.7961261701894\n"
     ]
    },
    {
     "name": "stderr",
     "output_type": "stream",
     "text": []
    },
    {
     "name": "stdout",
     "output_type": "stream",
     "text": [
      "Gap primal dual : 3599 2279.7357402784946 3466.7961261701894\n",
      "Gap primal dual : 3600 2279.7357402784946 3466.7961261701894\n",
      "Gap primal dual : 3601 2279.7357402784946 3466.7961261701894\n",
      "Gap primal dual : 3602 2279.7357402784946 3466.7961261701894\n",
      "Gap primal dual : 3603 2279.7357402784946 3466.7961261701894\n",
      "Gap primal dual : 3604 2279.7357402784946 3466.7961261701894\n",
      "Gap primal dual : 3605 2279.7357402784946 3466.7961261701894\n",
      "Gap primal dual : 3606 2279.7357402784946 3466.7961261701894\n",
      "Gap primal dual : 3607 2279.7357402784946 3466.7961261701894\n",
      "Gap primal dual : 3608 2279.7357402784946 3466.7961261701894\n"
     ]
    },
    {
     "name": "stderr",
     "output_type": "stream",
     "text": []
    },
    {
     "name": "stdout",
     "output_type": "stream",
     "text": [
      "Gap primal dual : 3609 2279.7357402784946 3466.7961261701894\n",
      "Gap primal dual : 3610 2279.7357402784946 3466.7961261701894\n",
      "Gap primal dual : 3611 2279.7357402784946 3466.7961261701894\n",
      "Gap primal dual : 3612 2279.7357402784946 3466.7961261701894\n",
      "Gap primal dual : 3613 2279.7357402784946 3466.7961261701894\n",
      "Gap primal dual : 3614 2279.7357402784946 3466.7961261701894\n",
      "Gap primal dual : 3615 2279.7357402784946 3466.7961261701894\n",
      "Gap primal dual : 3616 2279.7357402784946 3466.7961261701894\n",
      "Gap primal dual : 3617 2279.7357402784946 3466.7961261701894\n",
      "Gap primal dual : 3618 2279.7357402784946 3466.7961261701894\n"
     ]
    },
    {
     "name": "stderr",
     "output_type": "stream",
     "text": []
    },
    {
     "name": "stdout",
     "output_type": "stream",
     "text": [
      "Gap primal dual : 3619 2279.7357402784946 3466.7961261701894\n",
      "Gap primal dual : 3620 2279.7357402784946 3466.7961261701894\n",
      "Gap primal dual : 3621 2279.7357402784946 3466.7961261701894\n",
      "Gap primal dual : 3622 2279.7357402784946 3466.7961261701894\n",
      "Gap primal dual : 3623 2279.7357402784946 3466.7961261701894\n",
      "Gap primal dual : 3624 2279.7357402784946 3466.7961261701894\n",
      "Gap primal dual : 3625 2279.7357402784946 3466.7961261701894\n",
      "Gap primal dual : 3626 2279.7357402784946 3466.7961261701894\n",
      "Gap primal dual : 3627 2279.7357402784946 3466.7961261701894\n",
      "Gap primal dual : 3628 2279.7357402784946 3466.7961261701894\n"
     ]
    },
    {
     "name": "stderr",
     "output_type": "stream",
     "text": []
    },
    {
     "name": "stdout",
     "output_type": "stream",
     "text": [
      "Gap primal dual : 3629 2279.7357402784946 3466.7961261701894\n",
      "Gap primal dual : 3630 2279.7357402784946 3466.7961261701894\n",
      "Gap primal dual : 3631 2279.7357402784946 3466.7961261701894\n",
      "Gap primal dual : 3632 2279.7357402784946 3466.7961261701894\n",
      "Gap primal dual : 3633 2279.7357402784946 3466.7961261701894\n",
      "Gap primal dual : 3634 2279.7357402784946 3466.7961261701894\n",
      "Gap primal dual : 3635 2279.7357402784946 3466.7961261701894\n",
      "Gap primal dual : 3636 2279.7357402784946 3466.7961261701894\n",
      "Gap primal dual : 3637 2279.7357402784946 3466.7961261701894\n",
      "Gap primal dual : 3638 2279.7357402784946 3466.7961261701894\n"
     ]
    },
    {
     "name": "stderr",
     "output_type": "stream",
     "text": []
    },
    {
     "name": "stdout",
     "output_type": "stream",
     "text": [
      "Gap primal dual : 3639 2279.7357402784946 3466.7961261701894\n",
      "Gap primal dual : 3640 2279.7357402784946 3466.7961261701894\n",
      "Gap primal dual : 3641 2279.7357402784946 3466.7961261701894\n",
      "Gap primal dual : 3642 2279.7357402784946 3466.7961261701894\n",
      "Gap primal dual : 3643 2279.7357402784946 3466.7961261701894\n",
      "Gap primal dual : 3644 2279.7357402784946 3466.7961261701894\n",
      "Gap primal dual : 3645 2279.7357402784946 3466.7961261701894\n",
      "Gap primal dual : 3646 2279.7357402784946 3466.7961261701894\n",
      "Gap primal dual : 3647 2279.7357402784946 3466.7961261701894\n",
      "Gap primal dual : 3648 2279.7357402784946 3466.7961261701894\n"
     ]
    },
    {
     "name": "stderr",
     "output_type": "stream",
     "text": []
    },
    {
     "name": "stdout",
     "output_type": "stream",
     "text": [
      "Gap primal dual : 3649 2279.7357402784946 3466.7961261701894\n",
      "Gap primal dual : 3650 2279.7357402784946 3466.7961261701894\n",
      "Gap primal dual : 3651 2279.7357402784946 3466.7961261701894\n",
      "Gap primal dual : 3652 2279.7357402784946 3466.7961261701894\n",
      "Gap primal dual : 3653 2279.7357402784946 3466.7961261701894\n",
      "Gap primal dual : 3654 2279.7357402784946 3466.7961261701894\n",
      "Gap primal dual : 3655 2279.7357402784946 3466.7961261701894\n",
      "Gap primal dual : 3656 2279.7357402784946 3466.7961261701894\n",
      "Gap primal dual : 3657 2279.7357402784946 3466.7961261701894\n",
      "Gap primal dual : 3658 2279.7357402784946 3466.7961261701894\n"
     ]
    },
    {
     "name": "stderr",
     "output_type": "stream",
     "text": []
    },
    {
     "name": "stdout",
     "output_type": "stream",
     "text": [
      "Gap primal dual : 3659 2279.7357402784946 3466.7961261701894\n",
      "Gap primal dual : 3660 2279.7357402784946 3466.7961261701894\n",
      "Gap primal dual : 3661 2279.7357402784946 3466.7961261701894\n",
      "Gap primal dual : 3662 2279.7357402784946 3466.7961261701894\n",
      "Gap primal dual : 3663 2279.7357402784946 3466.7961261701894\n",
      "Gap primal dual : 3664 2279.7357402784946 3466.7961261701894\n",
      "Gap primal dual : 3665 2279.7357402784946 3466.7961261701894\n",
      "Gap primal dual : 3666 2279.7357402784946 3466.7961261701894\n",
      "Gap primal dual : 3667 2279.7357402784946 3466.7961261701894\n",
      "Gap primal dual : 3668 2279.7357402784946 3466.7961261701894\n"
     ]
    },
    {
     "name": "stderr",
     "output_type": "stream",
     "text": []
    },
    {
     "name": "stdout",
     "output_type": "stream",
     "text": [
      "Gap primal dual : 3669 2279.7357402784946 3466.7961261701894\n",
      "Gap primal dual : 3670 2279.7357402784946 3466.7961261701894\n",
      "Gap primal dual : 3671 2279.7357402784946 3466.7961261701894\n",
      "Gap primal dual : 3672 2279.7357402784946 3466.7961261701894\n",
      "Gap primal dual : 3673 2279.7357402784946 3466.7961261701894\n",
      "Gap primal dual : 3674 2279.7357402784946 3466.7961261701894\n",
      "Gap primal dual : 3675 2279.7357402784946 3466.7961261701894\n",
      "Gap primal dual : 3676 2279.7357402784946 3466.7961261701894\n",
      "Gap primal dual : 3677 2279.7357402784946 3466.7961261701894\n",
      "Gap primal dual : 3678 5045.950673601554 3464.9613567848105\n"
     ]
    },
    {
     "name": "stderr",
     "output_type": "stream",
     "text": []
    },
    {
     "name": "stdout",
     "output_type": "stream",
     "text": [
      "Gap primal dual : 3679 4207.421765534104 3463.1280441115923\n",
      "Gap primal dual : 3680 3853.121306927439 3461.296185725527\n",
      "Gap primal dual : 3681 6105.1529077095265 3459.465779933871\n",
      "Gap primal dual : 3682 4505.885135448987 3457.636826818105\n",
      "Gap primal dual : 3683 3158.092346261423 3455.809323425997\n",
      "Gap primal dual : 3684 3069.8798898579143 3453.9832680339027\n",
      "Gap primal dual : 3685 5248.405689204471 3452.158659690561\n",
      "Gap primal dual : 3686 3993.417361203161 3450.3354973453193\n",
      "Gap primal dual : 3687 3735.1254212050953 3448.5137783746477\n",
      "Gap primal dual : 3688 5342.167449747627 3446.6935015971544\n"
     ]
    },
    {
     "name": "stderr",
     "output_type": "stream",
     "text": []
    },
    {
     "name": "stdout",
     "output_type": "stream",
     "text": [
      "Gap primal dual : 3689 5131.886134711748 3444.874666069286\n",
      "Gap primal dual : 3690 4130.165777328114 3443.0572701761057\n",
      "Gap primal dual : 3691 5825.731734709715 3441.2413115067184\n",
      "Gap primal dual : 3692 4619.739547690452 3439.4267887761534\n",
      "Gap primal dual : 3693 4344.699830866346 3437.6137018760305\n",
      "Gap primal dual : 3694 5325.23468034628 3435.8020476232095\n",
      "Gap primal dual : 3695 4260.162938572253 3433.99182522284\n",
      "Gap primal dual : 3696 2657.675053053474 3432.183033308932\n",
      "Gap primal dual : 3697 3082.8137075405866 3430.3756694382205\n",
      "Gap primal dual : 3698 5280.51546049248 3428.569733832865\n"
     ]
    },
    {
     "name": "stderr",
     "output_type": "stream",
     "text": []
    },
    {
     "name": "stdout",
     "output_type": "stream",
     "text": [
      "Gap primal dual : 3699 3414.9976864050695 3426.7652234083034\n",
      "Gap primal dual : 3700 3887.324359940218 3424.962137177987\n",
      "Gap primal dual : 3701 6428.087951701718 3423.160473515436\n",
      "Gap primal dual : 3702 3730.0388755776244 3421.3602319613656\n",
      "Gap primal dual : 3703 2550.5978213832714 3419.561409391412\n",
      "Gap primal dual : 3704 4376.943834249136 3417.7640049022502\n",
      "Gap primal dual : 3705 4397.0711302973405 3415.9680177464966\n",
      "Gap primal dual : 3706 3479.6648500854826 3414.173445660673\n",
      "Gap primal dual : 3707 3631.76332061738 3412.3802876325244\n",
      "Gap primal dual : 3708 6473.067804754415 3410.5885407297824\n"
     ]
    },
    {
     "name": "stderr",
     "output_type": "stream",
     "text": []
    },
    {
     "name": "stdout",
     "output_type": "stream",
     "text": [
      "Gap primal dual : 3709 4021.19524637833 3408.798206227939\n",
      "Gap primal dual : 3710 2849.6607360582384 3407.009280350726\n",
      "Gap primal dual : 3711 4441.258456625587 3405.2217621848063\n",
      "Gap primal dual : 3712 5374.139053226578 3403.4356504992084\n",
      "Gap primal dual : 3713 4075.9822298769795 3401.650944302711\n",
      "Gap primal dual : 3714 4779.046275619397 3399.8676407756448\n",
      "Gap primal dual : 3715 4350.75073379031 3398.0857398878634\n",
      "Gap primal dual : 3716 3790.055339326547 3396.3052387766834\n",
      "Gap primal dual : 3717 4681.042577944996 3394.5261369857594\n",
      "Gap primal dual : 3718 5314.822080456827 3392.748432401308\n"
     ]
    },
    {
     "name": "stderr",
     "output_type": "stream",
     "text": []
    },
    {
     "name": "stdout",
     "output_type": "stream",
     "text": [
      "Gap primal dual : 3719 3757.834679602043 3390.9721248073447\n",
      "Gap primal dual : 3720 2859.258671659232 3389.1972109349067\n",
      "Gap primal dual : 3721 4698.436237243731 3387.423691152087\n",
      "Gap primal dual : 3722 5222.615019251024 3385.6515620788646\n",
      "Gap primal dual : 3723 4080.9517859234606 3383.880823887335\n",
      "Gap primal dual : 3724 4384.534189108435 3382.1114745312575\n",
      "Gap primal dual : 3725 5707.45863199413 3380.3435129656914\n",
      "Gap primal dual : 3726 3910.5804070177965 3378.5769362060946\n",
      "Gap primal dual : 3727 4752.836910937114 3376.811744654824\n",
      "Gap primal dual : 3728 5302.330229189443 3375.0479359275296\n"
     ]
    },
    {
     "name": "stderr",
     "output_type": "stream",
     "text": []
    },
    {
     "name": "stdout",
     "output_type": "stream",
     "text": [
      "Gap primal dual : 3729 4095.151045916848 3373.2855086635586\n",
      "Gap primal dual : 3730 3407.1323407707137 3371.524461947992\n",
      "Gap primal dual : 3731 5714.352777368168 3369.7647938503846\n",
      "Gap primal dual : 3732 6276.04602743646 3368.006502819125\n",
      "Gap primal dual : 3733 3864.4795990820753 3366.2495875808418\n",
      "Gap primal dual : 3734 3889.617970781009 3364.4940467240394\n",
      "Gap primal dual : 3735 4065.6283782392766 3362.739878538549\n",
      "Gap primal dual : 3736 5066.972430432228 3360.987081852299\n",
      "Gap primal dual : 3737 3912.853673510987 3359.2356558615566\n",
      "Gap primal dual : 3738 5373.002836736971 3357.48559848706\n"
     ]
    },
    {
     "name": "stderr",
     "output_type": "stream",
     "text": []
    },
    {
     "name": "stdout",
     "output_type": "stream",
     "text": [
      "Gap primal dual : 3739 5437.110530508036 3355.736907893589\n",
      "Gap primal dual : 3740 3859.3169683975793 3353.989583391768\n",
      "Gap primal dual : 3741 4061.709405555553 3352.24362253995\n",
      "Gap primal dual : 3742 5377.32999786776 3350.4990256714073\n",
      "Gap primal dual : 3743 4439.79692783371 3348.755790155429\n",
      "Gap primal dual : 3744 3445.1441842646454 3347.01391416732\n",
      "Gap primal dual : 3745 3736.5916381607494 3345.273397556359\n",
      "Gap primal dual : 3746 4814.086543181463 3343.5342382971257\n",
      "Gap primal dual : 3747 4950.048195337598 3341.7964341605084\n",
      "Gap primal dual : 3748 4274.111278078582 3340.0599851997063\n"
     ]
    },
    {
     "name": "stderr",
     "output_type": "stream",
     "text": []
    },
    {
     "name": "stdout",
     "output_type": "stream",
     "text": [
      "Gap primal dual : 3749 5171.064077986146 3338.3248892443467\n",
      "Gap primal dual : 3750 5625.9753793405935 3336.5911445450847\n",
      "Gap primal dual : 3751 4581.599061101607 3334.858750471788\n",
      "Gap primal dual : 3752 3917.028609366291 3333.1277055221976\n",
      "Gap primal dual : 3753 5554.64191143432 3331.3980074057763\n",
      "Gap primal dual : 3754 5132.924592390322 3329.669655616214\n",
      "Gap primal dual : 3755 3668.4864012380704 3327.9426489816597\n",
      "Gap primal dual : 3756 3465.2075597476364 3326.2169847467985\n",
      "Gap primal dual : 3757 4529.680830317217 3324.4926625522216\n",
      "Gap primal dual : 3758 4826.95839528987 3322.769681517724\n"
     ]
    },
    {
     "name": "stderr",
     "output_type": "stream",
     "text": []
    },
    {
     "name": "stdout",
     "output_type": "stream",
     "text": [
      "Gap primal dual : 3759 3910.1663625386213 3321.0480388453943\n",
      "Gap primal dual : 3760 5566.589784064535 3319.3277342825872\n",
      "Gap primal dual : 3761 5170.5892369250205 3317.6087661523516\n",
      "Gap primal dual : 3762 4551.407662838824 3315.891133200754\n",
      "Gap primal dual : 3763 3758.703670137507 3314.174833433354\n",
      "Gap primal dual : 3764 4618.590811231473 3312.4598649651416\n",
      "Gap primal dual : 3765 5447.993596483051 3310.746229064838\n",
      "Gap primal dual : 3766 4254.329811396813 3309.0339214845385\n",
      "Gap primal dual : 3767 4295.626168733837 3307.3229422801705\n",
      "Gap primal dual : 3768 5526.4617079802565 3305.613289642171\n"
     ]
    },
    {
     "name": "stderr",
     "output_type": "stream",
     "text": []
    },
    {
     "name": "stdout",
     "output_type": "stream",
     "text": [
      "Gap primal dual : 3769 3864.4286578782317 3303.9049623163887\n",
      "Gap primal dual : 3770 3961.9563413126643 3302.19795892455\n",
      "Gap primal dual : 3771 5223.321070549823 3300.492278169661\n",
      "Gap primal dual : 3772 5169.808195857511 3298.7879185652923\n",
      "Gap primal dual : 3773 4785.171299954151 3297.08487901756\n",
      "Gap primal dual : 3774 3785.02739826561 3295.3831572722174\n",
      "Gap primal dual : 3775 5137.3762584506 3293.6827539101464\n",
      "Gap primal dual : 3776 4728.180702810587 3291.983665014399\n",
      "Gap primal dual : 3777 3506.591404242431 3290.2858912237702\n",
      "Gap primal dual : 3778 6234.345739761117 3288.5894305273755\n"
     ]
    },
    {
     "name": "stderr",
     "output_type": "stream",
     "text": []
    },
    {
     "name": "stdout",
     "output_type": "stream",
     "text": [
      "Gap primal dual : 3779 4144.864597605436 3286.894281391674\n",
      "Gap primal dual : 3780 2875.448331164604 3285.2004426380468\n",
      "Gap primal dual : 3781 3046.3269623208635 3283.5079122931015\n",
      "Gap primal dual : 3782 4938.392855932684 3281.8166903155306\n",
      "Gap primal dual : 3783 4334.976324459903 3280.1267745746313\n",
      "Gap primal dual : 3784 4494.618689792086 3278.4381637497654\n",
      "Gap primal dual : 3785 5085.925301239764 3276.75085577001\n",
      "Gap primal dual : 3786 4882.7048399454825 3275.064851028958\n",
      "Gap primal dual : 3787 3523.099863989573 3273.3801470381845\n",
      "Gap primal dual : 3788 4326.675726982449 3271.696742397321\n"
     ]
    },
    {
     "name": "stderr",
     "output_type": "stream",
     "text": []
    },
    {
     "name": "stdout",
     "output_type": "stream",
     "text": [
      "Gap primal dual : 3789 5885.627859007807 3270.014636102371\n",
      "Gap primal dual : 3790 3301.5187181394876 3268.3338270558547\n",
      "Gap primal dual : 3791 2634.267893015498 3266.654313137856\n",
      "Gap primal dual : 3792 5555.410645940086 3264.976093247332\n",
      "Gap primal dual : 3793 4200.593497339754 3263.2991671087107\n",
      "Gap primal dual : 3794 4356.851579770825 3261.6235318402205\n",
      "Gap primal dual : 3795 5448.682915112696 3259.9491865195564\n",
      "Gap primal dual : 3796 5157.042063113763 3258.276131588811\n",
      "Gap primal dual : 3797 4623.103935111278 3256.6043634015714\n",
      "Gap primal dual : 3798 4193.202869220824 3254.9338808890607\n"
     ]
    },
    {
     "name": "stderr",
     "output_type": "stream",
     "text": []
    },
    {
     "name": "stdout",
     "output_type": "stream",
     "text": [
      "Gap primal dual : 3799 5152.7758246474195 3253.2646843472758\n",
      "Gap primal dual : 3800 4321.987665059804 3251.5967714882654\n",
      "Gap primal dual : 3801 2944.6306705982593 3249.930140316043\n",
      "Gap primal dual : 3802 3690.8945749073055 3248.2647907560668\n",
      "Gap primal dual : 3803 4693.9385232045415 3246.6007207444513\n",
      "Gap primal dual : 3804 3219.610885140043 3244.9379289914514\n",
      "Gap primal dual : 3805 4771.305271024709 3243.2764146737627\n",
      "Gap primal dual : 3806 5447.786934601044 3241.616175609625\n",
      "Gap primal dual : 3807 3861.193184378428 3239.957211532553\n",
      "Gap primal dual : 3808 3213.125752784483 3238.2995204593367\n"
     ]
    },
    {
     "name": "stderr",
     "output_type": "stream",
     "text": []
    },
    {
     "name": "stdout",
     "output_type": "stream",
     "text": [
      "Gap primal dual : 3809 4380.445780091552 3236.6431009534476\n",
      "Gap primal dual : 3810 4675.803707017001 3234.9879521990633\n",
      "Gap primal dual : 3811 4755.984531825829 3233.334072816087\n",
      "Gap primal dual : 3812 4903.267808564423 3231.681461950216\n",
      "Gap primal dual : 3813 5488.490724150344 3230.0301171432793\n",
      "Gap primal dual : 3814 3289.9706484699486 3228.3800380163425\n",
      "Gap primal dual : 3815 4117.467754240116 3226.7312227231682\n",
      "Gap primal dual : 3816 5501.519187735344 3225.0836704261187\n",
      "Gap primal dual : 3817 4782.2535543052845 3223.437379615682\n",
      "Gap primal dual : 3818 4029.1318697475317 3221.7923494621655\n"
     ]
    },
    {
     "name": "stderr",
     "output_type": "stream",
     "text": []
    },
    {
     "name": "stdout",
     "output_type": "stream",
     "text": [
      "Gap primal dual : 3819 5342.277291209142 3220.148577095347\n",
      "Gap primal dual : 3820 4856.008015293219 3218.506063406954\n",
      "Gap primal dual : 3821 3626.9058601245642 3216.864805973931\n",
      "Gap primal dual : 3822 5004.470079567105 3215.2248030517494\n",
      "Gap primal dual : 3823 5158.896108912966 3213.586055050319\n",
      "Gap primal dual : 3824 3931.9220424701066 3211.948558899646\n",
      "Gap primal dual : 3825 2746.715368835022 3210.3123138514766\n",
      "Gap primal dual : 3826 5434.902236220713 3208.6773188314805\n",
      "Gap primal dual : 3827 4381.43445513536 3207.043573156662\n",
      "Gap primal dual : 3828 4065.9163682016424 3205.4110739889825\n"
     ]
    },
    {
     "name": "stderr",
     "output_type": "stream",
     "text": []
    },
    {
     "name": "stdout",
     "output_type": "stream",
     "text": [
      "Gap primal dual : 3829 4993.928249944464 3203.779822064092\n",
      "Gap primal dual : 3830 5167.90507190227 3202.149813829069\n",
      "Gap primal dual : 3831 4799.6451122319995 3200.52105087959\n",
      "Gap primal dual : 3832 4504.527090776073 3198.893528714969\n",
      "Gap primal dual : 3833 4873.473411123557 3197.267248874226\n",
      "Gap primal dual : 3834 4029.9329564730083 3195.642208223584\n",
      "Gap primal dual : 3835 5180.539763517878 3194.0184061417917\n",
      "Gap primal dual : 3836 5213.630229084052 3192.3958417007852\n",
      "Gap primal dual : 3837 3831.5743789294966 3190.774513253956\n",
      "Gap primal dual : 3838 4394.061076524364 3189.1544187524646\n"
     ]
    },
    {
     "name": "stderr",
     "output_type": "stream",
     "text": []
    },
    {
     "name": "stdout",
     "output_type": "stream",
     "text": [
      "Gap primal dual : 3839 4284.813610248204 3187.5355591974503\n",
      "Gap primal dual : 3840 5890.886238266378 3185.9179314693856\n",
      "Gap primal dual : 3841 4367.714032731158 3184.3015347022256\n",
      "Gap primal dual : 3842 4312.077680027532 3182.6863679632165\n",
      "Gap primal dual : 3843 5023.800004699053 3181.0724297625907\n",
      "Gap primal dual : 3844 4767.3197253176395 3179.459718747344\n",
      "Gap primal dual : 3845 4391.586032818748 3177.848233696313\n",
      "Gap primal dual : 3846 4640.738415523379 3176.237973529301\n",
      "Gap primal dual : 3847 4021.5911129702868 3174.6289374525154\n",
      "Gap primal dual : 3848 3965.7961066725115 3173.0211232172874\n"
     ]
    },
    {
     "name": "stderr",
     "output_type": "stream",
     "text": []
    },
    {
     "name": "stdout",
     "output_type": "stream",
     "text": [
      "Gap primal dual : 3849 4482.879063202336 3171.4145302902534\n",
      "Gap primal dual : 3850 4891.1848241753905 3169.8091572284225\n",
      "Gap primal dual : 3851 3332.4350943268287 3168.2050022739527\n",
      "Gap primal dual : 3852 4807.049910263201 3166.6020655867005\n",
      "Gap primal dual : 3853 5029.379277812019 3165.0003449359447\n",
      "Gap primal dual : 3854 4478.638986787819 3163.399838914964\n",
      "Gap primal dual : 3855 5527.12275799014 3161.8005466995514\n",
      "Gap primal dual : 3856 4765.080405227156 3160.2024668572417\n",
      "Gap primal dual : 3857 4871.379110711807 3158.6055990062164\n",
      "Gap primal dual : 3858 3933.5167499611266 3157.009940352115\n"
     ]
    },
    {
     "name": "stderr",
     "output_type": "stream",
     "text": []
    },
    {
     "name": "stdout",
     "output_type": "stream",
     "text": [
      "Gap primal dual : 3859 4454.735002470376 3155.415491121995\n",
      "Gap primal dual : 3860 5675.980417088283 3153.8222491795764\n",
      "Gap primal dual : 3861 3659.0291496834625 3152.2302138194027\n",
      "Gap primal dual : 3862 3250.142907441678 3150.6393835505087\n",
      "Gap primal dual : 3863 4460.793551897777 3149.049756744068\n",
      "Gap primal dual : 3864 4236.170728391789 3147.461333330268\n",
      "Gap primal dual : 3865 3942.098284955305 3145.874111635944\n",
      "Gap primal dual : 3866 4433.939083549649 3144.2880897060845\n",
      "Gap primal dual : 3867 5446.605720870155 3142.7032671530787\n",
      "Gap primal dual : 3868 4365.816726370337 3141.1196424497334\n"
     ]
    },
    {
     "name": "stderr",
     "output_type": "stream",
     "text": []
    },
    {
     "name": "stdout",
     "output_type": "stream",
     "text": [
      "Gap primal dual : 3869 2740.2066156450455 3139.5372146014656\n",
      "Gap primal dual : 3870 4047.7498887400457 3137.955981748001\n",
      "Gap primal dual : 3871 5227.128571840228 3136.375943515998\n",
      "Gap primal dual : 3872 4221.621765058051 3134.7970979644274\n",
      "Gap primal dual : 3873 3947.2419274425256 3133.2194455515178\n",
      "Gap primal dual : 3874 5220.371091141559 3131.64298245639\n",
      "Gap primal dual : 3875 4912.193567852516 3130.067709096109\n",
      "Gap primal dual : 3876 4767.855032250055 3128.4936245129916\n",
      "Gap primal dual : 3877 3943.7837885809786 3126.9207266703866\n",
      "Gap primal dual : 3878 4599.135566929346 3125.349014785513\n"
     ]
    },
    {
     "name": "stderr",
     "output_type": "stream",
     "text": []
    },
    {
     "name": "stdout",
     "output_type": "stream",
     "text": [
      "Gap primal dual : 3879 5019.324822415577 3123.7784876894507\n",
      "Gap primal dual : 3880 4334.05517658309 3122.209144362537\n",
      "Gap primal dual : 3881 3934.5226349749832 3120.640983015168\n",
      "Gap primal dual : 3882 5213.791513254285 3119.0740017463672\n",
      "Gap primal dual : 3883 4417.612540417964 3117.5082026126342\n",
      "Gap primal dual : 3884 3495.799816881582 3115.943581390963\n",
      "Gap primal dual : 3885 2828.670457476995 3114.38013692905\n",
      "Gap primal dual : 3886 4820.0151427249975 3112.8178696405334\n",
      "Gap primal dual : 3887 5357.382577362894 3111.256777420879\n",
      "Gap primal dual : 3888 3338.397632535579 3109.6968594538753\n"
     ]
    },
    {
     "name": "stderr",
     "output_type": "stream",
     "text": []
    },
    {
     "name": "stdout",
     "output_type": "stream",
     "text": [
      "Gap primal dual : 3889 4191.169298814409 3108.1381132561464\n",
      "Gap primal dual : 3890 3492.554455374466 3106.5805406121253\n",
      "Gap primal dual : 3891 4567.074580055454 3105.0241375412993\n",
      "Gap primal dual : 3892 4800.477415032683 3103.4689039472787\n",
      "Gap primal dual : 3893 4192.598678894814 3101.9148381757195\n",
      "Gap primal dual : 3894 4652.060207366481 3100.3619394371362\n",
      "Gap primal dual : 3895 4588.944496882275 3098.810206940862\n",
      "Gap primal dual : 3896 4164.646165442507 3097.2596388763086\n",
      "Gap primal dual : 3897 3237.3044437864583 3095.710234510867\n",
      "Gap primal dual : 3898 3510.4723186637834 3094.161992346821\n"
     ]
    },
    {
     "name": "stderr",
     "output_type": "stream",
     "text": []
    },
    {
     "name": "stdout",
     "output_type": "stream",
     "text": [
      "Gap primal dual : 3899 5593.999587158479 3092.614910842989\n",
      "Gap primal dual : 3900 4085.684236845501 3091.068990517593\n",
      "Gap primal dual : 3901 2883.0427340840815 3089.5242281558003\n",
      "Gap primal dual : 3902 3759.020882002001 3087.980623671597\n",
      "Gap primal dual : 3903 5116.870402089594 3086.4381755758654\n",
      "Gap primal dual : 3904 4720.232347783876 3084.8968830512454\n",
      "Gap primal dual : 3905 3536.913123873459 3083.356744504358\n",
      "Gap primal dual : 3906 4521.429144511515 3081.8177599741416\n",
      "Gap primal dual : 3907 5510.719080254242 3080.2799268645595\n",
      "Gap primal dual : 3908 4393.7280860803285 3078.7432445241834\n"
     ]
    },
    {
     "name": "stderr",
     "output_type": "stream",
     "text": []
    },
    {
     "name": "stdout",
     "output_type": "stream",
     "text": [
      "Gap primal dual : 3909 3350.2057050738617 3077.207710948478\n",
      "Gap primal dual : 3910 3879.9130685759546 3075.673327369994\n",
      "Gap primal dual : 3911 4098.624902400168 3074.1400906717827\n",
      "Gap primal dual : 3912 5183.756695656455 3072.6079992812415\n",
      "Gap primal dual : 3913 5061.316785279611 3071.077053667853\n",
      "Gap primal dual : 3914 4369.171959879884 3069.5472520464727\n",
      "Gap primal dual : 3915 4081.946034813493 3068.0185934207216\n",
      "Gap primal dual : 3916 4633.817632834338 3066.4910754775183\n",
      "Gap primal dual : 3917 5253.666098578402 3064.9646989795738\n",
      "Gap primal dual : 3918 4669.176834864938 3063.4394611210673\n"
     ]
    },
    {
     "name": "stderr",
     "output_type": "stream",
     "text": []
    },
    {
     "name": "stdout",
     "output_type": "stream",
     "text": [
      "Gap primal dual : 3919 3766.214029178418 3061.9153619531467\n",
      "Gap primal dual : 3920 5018.452027068344 3060.392399947029\n",
      "Gap primal dual : 3921 4662.095767276563 3058.8705738416484\n",
      "Gap primal dual : 3922 3579.558524064614 3057.3498824815733\n",
      "Gap primal dual : 3923 4958.054869183988 3055.8303250808967\n",
      "Gap primal dual : 3924 4032.0116993924344 3054.3119002703793\n",
      "Gap primal dual : 3925 4584.627509342275 3052.7946066024983\n",
      "Gap primal dual : 3926 4581.7547879872345 3051.278443398686\n",
      "Gap primal dual : 3927 4400.765851776339 3049.763409452857\n",
      "Gap primal dual : 3928 2852.644429097741 3048.2495035778884\n"
     ]
    },
    {
     "name": "stderr",
     "output_type": "stream",
     "text": []
    },
    {
     "name": "stdout",
     "output_type": "stream",
     "text": [
      "Gap primal dual : 3929 2789.9804624315148 3046.7367243569297\n",
      "Gap primal dual : 3930 5313.983941476952 3045.2250714033726\n",
      "Gap primal dual : 3931 3302.7939840513714 3043.714543288191\n",
      "Gap primal dual : 3932 3790.29619849489 3042.205138252214\n",
      "Gap primal dual : 3933 5610.201780783766 3040.6968562088855\n",
      "Gap primal dual : 3934 4834.553056357206 3039.189695379356\n",
      "Gap primal dual : 3935 3416.83195212594 3037.6836550772828\n",
      "Gap primal dual : 3936 4781.673862000675 3036.1787337027113\n",
      "Gap primal dual : 3937 5367.66958057446 3034.6749304697923\n",
      "Gap primal dual : 3938 3549.5081359540973 3033.172244136653\n"
     ]
    },
    {
     "name": "stderr",
     "output_type": "stream",
     "text": []
    },
    {
     "name": "stdout",
     "output_type": "stream",
     "text": [
      "Gap primal dual : 3939 4634.0155603680305 3031.6706734395325\n",
      "Gap primal dual : 3940 5353.877132127997 3030.1702180498305\n",
      "Gap primal dual : 3941 4575.049684194804 3028.6708761208433\n",
      "Gap primal dual : 3942 3913.765874877935 3027.172646529414\n",
      "Gap primal dual : 3943 5312.576416128034 3025.6755283078674\n",
      "Gap primal dual : 3944 3688.310789784548 3024.179520924065\n",
      "Gap primal dual : 3945 2931.2230020457955 3022.6846226652046\n",
      "Gap primal dual : 3946 3595.9459432379153 3021.1908322950576\n",
      "Gap primal dual : 3947 5588.810806485859 3019.698148933994\n",
      "Gap primal dual : 3948 3774.1693413533353 3018.206572162946\n"
     ]
    },
    {
     "name": "stderr",
     "output_type": "stream",
     "text": []
    },
    {
     "name": "stdout",
     "output_type": "stream",
     "text": [
      "Gap primal dual : 3949 2857.875695827196 3016.7160987807138\n",
      "Gap primal dual : 3950 4215.431915202856 3015.2267306354593\n",
      "Gap primal dual : 3951 4500.556361825804 3013.7384647320187\n",
      "Gap primal dual : 3952 4631.618443919906 3012.2513007300777\n",
      "Gap primal dual : 3953 4455.748695705999 3010.765236259958\n",
      "Gap primal dual : 3954 4080.630417486791 3009.280272449201\n",
      "Gap primal dual : 3955 5036.85499104965 3007.7964063699924\n",
      "Gap primal dual : 3956 4773.811703115095 3006.313637501603\n",
      "Gap primal dual : 3957 3840.920197568266 3004.831965330998\n",
      "Gap primal dual : 3958 3728.975710956213 3003.351387879042\n"
     ]
    },
    {
     "name": "stderr",
     "output_type": "stream",
     "text": []
    },
    {
     "name": "stdout",
     "output_type": "stream",
     "text": [
      "Gap primal dual : 3959 4642.066648309397 3001.871904283348\n",
      "Gap primal dual : 3960 5203.993382034484 3000.393513302147\n",
      "Gap primal dual : 3961 3690.625358455974 2998.9162152767067\n",
      "Gap primal dual : 3962 4431.045484891501 2997.4400071079417\n",
      "Gap primal dual : 3963 5073.569939158328 2995.964888244621\n",
      "Gap primal dual : 3964 3743.3643053473165 2994.4908596015252\n",
      "Gap primal dual : 3965 3988.459080824934 2993.017917672746\n",
      "Gap primal dual : 3966 5519.512903442021 2991.546062061288\n",
      "Gap primal dual : 3967 5348.633131906004 2990.075292225191\n",
      "Gap primal dual : 3968 3783.0893602689653 2988.605606889876\n"
     ]
    },
    {
     "name": "stderr",
     "output_type": "stream",
     "text": []
    },
    {
     "name": "stdout",
     "output_type": "stream",
     "text": [
      "Gap primal dual : 3969 3599.935016954775 2987.1370049036414\n",
      "Gap primal dual : 3970 4910.9724438905705 2985.669484497315\n",
      "Gap primal dual : 3971 5527.5664728941865 2984.203045634173\n",
      "Gap primal dual : 3972 3280.868488917575 2982.7376871240967\n",
      "Gap primal dual : 3973 3665.1931826438986 2981.2734074539726\n",
      "Gap primal dual : 3974 4316.688847397425 2979.8102055102318\n",
      "Gap primal dual : 3975 4112.046637064008 2978.348081033522\n",
      "Gap primal dual : 3976 4550.117168328054 2976.8870319843495\n",
      "Gap primal dual : 3977 4330.6507559643305 2975.4270577941015\n",
      "Gap primal dual : 3978 4200.553430758244 2973.9681577052484\n"
     ]
    },
    {
     "name": "stderr",
     "output_type": "stream",
     "text": []
    },
    {
     "name": "stdout",
     "output_type": "stream",
     "text": [
      "Gap primal dual : 3979 4571.069802353386 2972.510330260428\n",
      "Gap primal dual : 3980 4103.110410676492 2971.0535742465895\n",
      "Gap primal dual : 3981 4861.49977318085 2969.5978892086487\n",
      "Gap primal dual : 3982 5545.74302333333 2968.143273453595\n",
      "Gap primal dual : 3983 3884.714098695675 2966.68972650275\n",
      "Gap primal dual : 3984 4117.413937091234 2965.2372467422447\n",
      "Gap primal dual : 3985 5057.0237267349385 2963.785833809917\n",
      "Gap primal dual : 3986 4732.774806045043 2962.335484841532\n",
      "Gap primal dual : 3987 4033.1824290983395 2960.8862020815395\n",
      "Gap primal dual : 3988 3829.847876337457 2959.4379820557165\n"
     ]
    },
    {
     "name": "stderr",
     "output_type": "stream",
     "text": []
    },
    {
     "name": "stdout",
     "output_type": "stream",
     "text": [
      "Gap primal dual : 3989 5225.595546168115 2957.990823722151\n",
      "Gap primal dual : 3990 4508.788988858373 2956.5447269057463\n",
      "Gap primal dual : 3991 4158.651734671907 2955.0996906943014\n",
      "Gap primal dual : 3992 4698.02604846927 2953.655713302323\n",
      "Gap primal dual : 3993 4249.533118281965 2952.21279394275\n",
      "Gap primal dual : 3994 4070.906867098356 2950.7709319255673\n",
      "Gap primal dual : 3995 4521.431553975278 2949.330125928831\n",
      "Gap primal dual : 3996 5172.9895747833325 2947.8903737894425\n",
      "Gap primal dual : 3997 3830.438431399994 2946.4516774744925\n",
      "Gap primal dual : 3998 3052.8537420673997 2945.014033631952\n"
     ]
    },
    {
     "name": "stderr",
     "output_type": "stream",
     "text": []
    },
    {
     "name": "stdout",
     "output_type": "stream",
     "text": [
      "Gap primal dual : 3999 4420.205403363189 2943.577441209745\n",
      "Gap primal dual : 4000 4702.411405399248 2942.141899706519\n",
      "Gap primal dual : 4001 4240.703438250235 2940.707408094121\n",
      "Gap primal dual : 4002 3083.826491841377 2939.2739639078573\n",
      "Gap primal dual : 4003 5348.150438788297 2937.841571124789\n",
      "Gap primal dual : 4004 5014.748747548905 2936.410223537648\n",
      "Gap primal dual : 4005 3163.978392402636 2934.979921191393\n",
      "Gap primal dual : 4006 3461.5479974767304 2933.5506634942317\n",
      "Gap primal dual : 4007 5314.122133115012 2932.122450312504\n",
      "Gap primal dual : 4008 3023.4941752542195 2930.6952793851683\n"
     ]
    },
    {
     "name": "stderr",
     "output_type": "stream",
     "text": []
    },
    {
     "name": "stdout",
     "output_type": "stream",
     "text": [
      "Gap primal dual : 4009 3060.059493328028 2929.269150210565\n",
      "Gap primal dual : 4010 4973.139274572744 2927.8440620363654\n",
      "Gap primal dual : 4011 4068.449141162011 2926.420013105636\n",
      "Gap primal dual : 4012 3115.8202138052748 2924.9970033854515\n",
      "Gap primal dual : 4013 4511.7513494492805 2923.5750310199032\n",
      "Gap primal dual : 4014 4536.766036685846 2922.1540955862574\n",
      "Gap primal dual : 4015 3209.922227329694 2920.7341954408334\n",
      "Gap primal dual : 4016 2099.6438929156393 2919.315330362161\n",
      "Gap primal dual : 4017 4505.728503535612 2917.8974986856233\n",
      "Gap primal dual : 4018 4917.985637359509 2916.4806994893743\n"
     ]
    },
    {
     "name": "stderr",
     "output_type": "stream",
     "text": []
    },
    {
     "name": "stdout",
     "output_type": "stream",
     "text": [
      "Gap primal dual : 4019 4015.6688945872042 2915.0649325684835\n",
      "Gap primal dual : 4020 4767.486431719903 2913.6501958459394\n",
      "Gap primal dual : 4021 4841.76629706194 2912.236488521894\n",
      "Gap primal dual : 4022 3873.327524759438 2910.8238103057893\n",
      "Gap primal dual : 4023 4339.883983346358 2909.4121594380617\n",
      "Gap primal dual : 4024 5074.037307917897 2908.001535333088\n",
      "Gap primal dual : 4025 4008.4044560417924 2906.591936959095\n",
      "Gap primal dual : 4026 3904.49297699378 2905.1833635140906\n",
      "Gap primal dual : 4027 3977.987715159905 2903.775812865248\n",
      "Gap primal dual : 4028 5025.559669749866 2902.3692856728285\n"
     ]
    },
    {
     "name": "stderr",
     "output_type": "stream",
     "text": []
    },
    {
     "name": "stdout",
     "output_type": "stream",
     "text": [
      "Gap primal dual : 4029 4431.873909719279 2900.9637800147457\n",
      "Gap primal dual : 4030 4061.569705920569 2899.55929467793\n",
      "Gap primal dual : 4031 4955.212032136246 2898.155829508484\n",
      "Gap primal dual : 4032 4618.288922595682 2896.753382808898\n",
      "Gap primal dual : 4033 4608.077732801879 2895.35195395452\n",
      "Gap primal dual : 4034 4720.819735276059 2893.9515422081163\n",
      "Gap primal dual : 4035 3401.4886948532676 2892.5521460592045\n",
      "Gap primal dual : 4036 4807.295450246032 2891.153764560021\n",
      "Gap primal dual : 4037 4615.239420585175 2889.7563965952336\n",
      "Gap primal dual : 4038 4269.450696797424 2888.3600421080873\n"
     ]
    },
    {
     "name": "stderr",
     "output_type": "stream",
     "text": []
    },
    {
     "name": "stdout",
     "output_type": "stream",
     "text": [
      "Gap primal dual : 4039 4780.649052662188 2886.964699007476\n",
      "Gap primal dual : 4040 3355.785962756775 2885.5703667010594\n",
      "Gap primal dual : 4041 4636.8151299449 2884.1770446194\n",
      "Gap primal dual : 4042 5354.554270626076 2882.7847310976153\n",
      "Gap primal dual : 4043 4030.767790289835 2881.393425773398\n",
      "Gap primal dual : 4044 2546.182265946086 2880.003127125331\n",
      "Gap primal dual : 4045 2886.522064155479 2878.6138349436196\n",
      "Gap primal dual : 4046 4033.228015767167 2877.225547659594\n",
      "Gap primal dual : 4047 3878.6987317046783 2875.8382644388826\n",
      "Gap primal dual : 4048 4650.0915673382115 2874.4519839651443\n"
     ]
    },
    {
     "name": "stderr",
     "output_type": "stream",
     "text": []
    },
    {
     "name": "stdout",
     "output_type": "stream",
     "text": [
      "Gap primal dual : 4049 5482.628768647546 2873.0667061558484\n",
      "Gap primal dual : 4050 3682.4822072538923 2871.6824291344933\n",
      "Gap primal dual : 4051 2688.0686228031605 2870.2991529815986\n",
      "Gap primal dual : 4052 5124.689228178456 2868.916874755142\n",
      "Gap primal dual : 4053 5391.653566897114 2867.5355955937066\n",
      "Gap primal dual : 4054 3708.5870648209047 2866.155314192593\n",
      "Gap primal dual : 4055 4504.398467884899 2864.776028210962\n",
      "Gap primal dual : 4056 5014.983181001036 2863.3977382435996\n",
      "Gap primal dual : 4057 4415.264179216783 2862.0204426511914\n",
      "Gap primal dual : 4058 3858.2630229415163 2860.64414011132\n"
     ]
    },
    {
     "name": "stderr",
     "output_type": "stream",
     "text": []
    },
    {
     "name": "stdout",
     "output_type": "stream",
     "text": [
      "Gap primal dual : 4059 4148.55782401998 2859.2688309924456\n",
      "Gap primal dual : 4060 4965.767602934099 2857.894512861176\n",
      "Gap primal dual : 4061 3961.240848019414 2856.5211853420537\n",
      "Gap primal dual : 4062 3474.9228492968905 2855.1488477262433\n",
      "Gap primal dual : 4063 4043.4607280366927 2853.7774983406853\n",
      "Gap primal dual : 4064 4521.812095030233 2852.4071370016495\n",
      "Gap primal dual : 4065 4264.4088708818435 2851.0377621514\n",
      "Gap primal dual : 4066 3566.3250225903244 2849.6693740178507\n",
      "Gap primal dual : 4067 2780.3540540516638 2848.301970160542\n",
      "Gap primal dual : 4068 4145.440252147862 2846.9355497910115\n"
     ]
    },
    {
     "name": "stderr",
     "output_type": "stream",
     "text": []
    },
    {
     "name": "stdout",
     "output_type": "stream",
     "text": [
      "Gap primal dual : 4069 4972.103856056282 2845.5701132646\n",
      "Gap primal dual : 4070 3487.6537226689834 2844.205659136734\n",
      "Gap primal dual : 4071 4495.8425107316925 2842.842185023412\n",
      "Gap primal dual : 4072 4431.95660896541 2841.479692223913\n",
      "Gap primal dual : 4073 3287.8155294736043 2840.1181783346615\n",
      "Gap primal dual : 4074 3019.218123780769 2838.757642320619\n",
      "Gap primal dual : 4075 4091.802119914858 2837.3980842315063\n",
      "Gap primal dual : 4076 5887.161881937917 2836.0395025151765\n",
      "Gap primal dual : 4077 3541.6924566391417 2834.6818964591375\n",
      "Gap primal dual : 4078 3179.7291943373493 2833.325264541062\n"
     ]
    },
    {
     "name": "stderr",
     "output_type": "stream",
     "text": []
    },
    {
     "name": "stdout",
     "output_type": "stream",
     "text": [
      "Gap primal dual : 4079 3933.488640131288 2831.969606134197\n",
      "Gap primal dual : 4080 4379.836519844158 2830.6149212306786\n",
      "Gap primal dual : 4081 4220.832453346563 2829.261207764257\n",
      "Gap primal dual : 4082 4811.759774833297 2827.908465098794\n",
      "Gap primal dual : 4083 4493.2914919359955 2826.5566922781527\n",
      "Gap primal dual : 4084 3853.6730930091517 2825.20588866431\n",
      "Gap primal dual : 4085 3875.005986478014 2823.8560528282615\n",
      "Gap primal dual : 4086 4877.9011586242505 2822.5071849598394\n",
      "Gap primal dual : 4087 4828.380081745068 2821.1592828081652\n",
      "Gap primal dual : 4088 3858.1068665690373 2819.812345664224\n"
     ]
    },
    {
     "name": "stderr",
     "output_type": "stream",
     "text": []
    },
    {
     "name": "stdout",
     "output_type": "stream",
     "text": [
      "Gap primal dual : 4089 4378.979231293215 2818.4663732584972\n",
      "Gap primal dual : 4090 4660.628152377601 2817.121364462125\n",
      "Gap primal dual : 4091 4670.392286097514 2815.7773173120618\n",
      "Gap primal dual : 4092 3765.935386032812 2814.4342328129387\n",
      "Gap primal dual : 4093 4364.580105097073 2813.092108721652\n",
      "Gap primal dual : 4094 4471.123874846765 2811.7509445244973\n",
      "Gap primal dual : 4095 4983.620771983862 2810.410738847971\n",
      "Gap primal dual : 4096 3428.7984644750068 2809.0714918440613\n",
      "Gap primal dual : 4097 3242.6987596373365 2807.733201212521\n",
      "Gap primal dual : 4098 4026.859359166551 2806.395866521706\n"
     ]
    },
    {
     "name": "stderr",
     "output_type": "stream",
     "text": []
    },
    {
     "name": "stdout",
     "output_type": "stream",
     "text": [
      "Gap primal dual : 4099 3819.14094254771 2805.059487822244\n",
      "Gap primal dual : 4100 4500.254165114464 2803.7240634750583\n",
      "Gap primal dual : 4101 4483.542086591924 2802.389592372332\n",
      "Gap primal dual : 4102 4193.0339292725475 2801.056073512708\n",
      "Gap primal dual : 4103 4417.184160107453 2799.7235061854867\n",
      "Gap primal dual : 4104 4250.842088066295 2798.391889938399\n",
      "Gap primal dual : 4105 4309.4757174132155 2797.06122301287\n",
      "Gap primal dual : 4106 3450.0402658105954 2795.7315054239584\n",
      "Gap primal dual : 4107 2479.598464566545 2794.402735546127\n",
      "Gap primal dual : 4108 5160.641729390075 2793.0749130503136\n"
     ]
    },
    {
     "name": "stderr",
     "output_type": "stream",
     "text": []
    },
    {
     "name": "stdout",
     "output_type": "stream",
     "text": [
      "Gap primal dual : 4109 4096.718750356373 2791.7480366773575\n",
      "Gap primal dual : 4110 4119.57226291703 2790.422105764213\n",
      "Gap primal dual : 4111 5197.50266925358 2789.0971188373187\n",
      "Gap primal dual : 4112 4052.160764029971 2787.7730755009575\n",
      "Gap primal dual : 4113 4440.837102030855 2786.4499751901476\n",
      "Gap primal dual : 4114 5087.883221612285 2785.127815788125\n",
      "Gap primal dual : 4115 4020.838250329911 2783.806598165095\n",
      "Gap primal dual : 4116 4083.670926563856 2782.48631981001\n",
      "Gap primal dual : 4117 4383.309308519293 2781.1669804477356\n",
      "Gap primal dual : 4118 4755.546204375314 2779.8485794747307\n"
     ]
    },
    {
     "name": "stderr",
     "output_type": "stream",
     "text": []
    },
    {
     "name": "stdout",
     "output_type": "stream",
     "text": [
      "Gap primal dual : 4119 4050.6235863777447 2778.531115575289\n",
      "Gap primal dual : 4120 4727.640641595851 2777.2145879334253\n",
      "Gap primal dual : 4121 4783.41778768454 2775.8989961104685\n",
      "Gap primal dual : 4122 4469.964768217755 2774.5843388865615\n",
      "Gap primal dual : 4123 3168.3347258773924 2773.270615422639\n",
      "Gap primal dual : 4124 4174.491469898558 2771.957824263962\n",
      "Gap primal dual : 4125 4964.423386015583 2770.6459656466272\n",
      "Gap primal dual : 4126 4556.438022655862 2769.3350378535038\n",
      "Gap primal dual : 4127 3798.8500527448 2768.0250404209096\n",
      "Gap primal dual : 4128 4921.128705511598 2766.7159717647833\n"
     ]
    },
    {
     "name": "stderr",
     "output_type": "stream",
     "text": []
    },
    {
     "name": "stdout",
     "output_type": "stream",
     "text": [
      "Gap primal dual : 4129 4512.599015652257 2765.4078319567043\n",
      "Gap primal dual : 4130 3525.5390556528687 2764.100619487584\n",
      "Gap primal dual : 4131 4740.836433833139 2762.7943336821127\n",
      "Gap primal dual : 4132 4065.205371029198 2761.4889740575545\n",
      "Gap primal dual : 4133 4588.698975676576 2760.1845384968883\n",
      "Gap primal dual : 4134 4777.637238018947 2758.881027819016\n",
      "Gap primal dual : 4135 4764.050392596788 2757.5784398471583\n",
      "Gap primal dual : 4136 3665.7654100265568 2756.2767742131\n",
      "Gap primal dual : 4137 3894.9685798862665 2754.9760300340918\n",
      "Gap primal dual : 4138 5550.169542008863 2753.6762068913063\n"
     ]
    },
    {
     "name": "stderr",
     "output_type": "stream",
     "text": []
    },
    {
     "name": "stdout",
     "output_type": "stream",
     "text": [
      "Gap primal dual : 4139 4018.5337578910294 2752.3773031191413\n",
      "Gap primal dual : 4140 3021.657610481865 2751.079317538632\n",
      "Gap primal dual : 4141 4346.064602536134 2749.782250461833\n",
      "Gap primal dual : 4142 4242.820285356019 2748.4861007148556\n",
      "Gap primal dual : 4143 2986.0127028170577 2747.190867077859\n",
      "Gap primal dual : 4144 3055.4465853062206 2745.89654833361\n",
      "Gap primal dual : 4145 4119.774196145593 2744.6031448018393\n",
      "Gap primal dual : 4146 4528.509181990303 2743.3106541589086\n",
      "Gap primal dual : 4147 3499.485900139348 2742.0190759369243\n",
      "Gap primal dual : 4148 4648.15567569199 2740.7284110068563\n"
     ]
    },
    {
     "name": "stderr",
     "output_type": "stream",
     "text": []
    },
    {
     "name": "stdout",
     "output_type": "stream",
     "text": [
      "Gap primal dual : 4149 4224.089486197445 2739.4386568730197\n",
      "Gap primal dual : 4150 4327.777289671879 2738.149812031421\n",
      "Gap primal dual : 4151 4442.584858331735 2736.8618771526963\n",
      "Gap primal dual : 4152 4465.859278899063 2735.574850697065\n",
      "Gap primal dual : 4153 3636.869065748743 2734.2887317899335\n",
      "Gap primal dual : 4154 4383.457591558164 2733.0035198034725\n",
      "Gap primal dual : 4155 4661.215832467677 2731.719213315263\n",
      "Gap primal dual : 4156 3548.2828704455574 2730.4358125316553\n",
      "Gap primal dual : 4157 5050.685206193049 2729.15331524302\n",
      "Gap primal dual : 4158 4007.42830628178 2727.871722266047\n"
     ]
    },
    {
     "name": "stderr",
     "output_type": "stream",
     "text": []
    },
    {
     "name": "stdout",
     "output_type": "stream",
     "text": [
      "Gap primal dual : 4159 2622.753648769324 2726.5910313337276\n",
      "Gap primal dual : 4160 2186.7377872100815 2725.311242085163\n",
      "Gap primal dual : 4161 4450.013641147819 2724.032352236764\n",
      "Gap primal dual : 4162 4571.980148704543 2722.7543652217446\n",
      "Gap primal dual : 4163 3517.9104342444166 2721.477275940801\n",
      "Gap primal dual : 4164 3699.614831062893 2720.2010843802173\n",
      "Gap primal dual : 4165 5598.430002947921 2718.925791226447\n",
      "Gap primal dual : 4166 3242.7043768585713 2717.651394214399\n",
      "Gap primal dual : 4167 2929.173733929759 2716.3778927645985\n",
      "Gap primal dual : 4168 4192.15939359868 2715.10528698279\n"
     ]
    },
    {
     "name": "stderr",
     "output_type": "stream",
     "text": []
    },
    {
     "name": "stdout",
     "output_type": "stream",
     "text": [
      "Gap primal dual : 4169 4515.228719933739 2713.8335751684112\n",
      "Gap primal dual : 4170 4006.912071485305 2712.5627560123703\n",
      "Gap primal dual : 4171 4501.725754719434 2711.2928296632854\n",
      "Gap primal dual : 4172 4355.757560620836 2710.023794937405\n",
      "Gap primal dual : 4173 4252.474549856523 2708.7556511030853\n",
      "Gap primal dual : 4174 3505.167638811138 2707.488396302164\n",
      "Gap primal dual : 4175 4887.08623601437 2706.22203167526\n",
      "Gap primal dual : 4176 3379.3365927176947 2704.9565548243654\n",
      "Gap primal dual : 4177 3190.3941837547504 2703.6919658871257\n",
      "Gap primal dual : 4178 4769.513390623373 2702.4282629323816\n"
     ]
    },
    {
     "name": "stderr",
     "output_type": "stream",
     "text": []
    },
    {
     "name": "stdout",
     "output_type": "stream",
     "text": [
      "Gap primal dual : 4179 3335.091744843736 2701.1654462817637\n",
      "Gap primal dual : 4180 2573.8694151890086 2699.9035138565096\n",
      "Gap primal dual : 4181 3967.3945468295747 2698.6424661365295\n",
      "Gap primal dual : 4182 4166.860236639235 2697.3823015840567\n",
      "Gap primal dual : 4183 2827.079615999716 2696.123019608044\n",
      "Gap primal dual : 4184 2085.431869309787 2694.8646191906337\n",
      "Gap primal dual : 4185 3701.9047395995763 2693.607099247996\n",
      "Gap primal dual : 4186 4581.534768556385 2692.350459771085\n",
      "Gap primal dual : 4187 3380.414897832082 2691.0946991425\n",
      "Gap primal dual : 4188 3895.0375543075493 2689.8398169787138\n"
     ]
    },
    {
     "name": "stderr",
     "output_type": "stream",
     "text": []
    },
    {
     "name": "stdout",
     "output_type": "stream",
     "text": [
      "Gap primal dual : 4189 3879.1836717926035 2688.5858127230613\n",
      "Gap primal dual : 4190 2402.2405798401514 2687.3326847408393\n",
      "Gap primal dual : 4191 2323.8964529129644 2686.0804321366736\n",
      "Gap primal dual : 4192 2323.8964529129644 2686.0804321366736\n",
      "Gap primal dual : 4193 2323.8964529129644 2686.0804321366736\n",
      "Gap primal dual : 4194 2323.8964529129644 2686.0804321366736\n",
      "Gap primal dual : 4195 2323.8964529129644 2686.0804321366736\n",
      "Gap primal dual : 4196 2323.8964529129644 2686.0804321366736\n",
      "Gap primal dual : 4197 2323.8964529129644 2686.0804321366736\n",
      "Gap primal dual : 4198 2323.8964529129644 2686.0804321366736\n"
     ]
    },
    {
     "name": "stderr",
     "output_type": "stream",
     "text": []
    },
    {
     "name": "stdout",
     "output_type": "stream",
     "text": [
      "Gap primal dual : 4199 2323.8964529129644 2686.0804321366736\n",
      "Gap primal dual : 4200 2323.8964529129644 2686.0804321366736\n",
      "Gap primal dual : 4201 2323.8964529129644 2686.0804321366736\n",
      "Gap primal dual : 4202 2323.8964529129644 2686.0804321366736\n",
      "Gap primal dual : 4203 2323.8964529129644 2686.0804321366736\n",
      "Gap primal dual : 4204 2323.8964529129644 2686.0804321366736\n",
      "Gap primal dual : 4205 2323.8964529129644 2686.0804321366736\n",
      "Gap primal dual : 4206 2323.8964529129644 2686.0804321366736\n",
      "Gap primal dual : 4207 2323.8964529129644 2686.0804321366736\n",
      "Gap primal dual : 4208 2323.8964529129644 2686.0804321366736\n"
     ]
    },
    {
     "name": "stderr",
     "output_type": "stream",
     "text": []
    },
    {
     "name": "stdout",
     "output_type": "stream",
     "text": [
      "Gap primal dual : 4209 2323.8964529129644 2686.0804321366736\n",
      "Gap primal dual : 4210 2323.8964529129644 2686.0804321366736\n",
      "Gap primal dual : 4211 2323.8964529129644 2686.0804321366736\n",
      "Gap primal dual : 4212 2323.8964529129644 2686.0804321366736\n",
      "Gap primal dual : 4213 2323.8964529129644 2686.0804321366736\n",
      "Gap primal dual : 4214 2323.8964529129644 2686.0804321366736\n",
      "Gap primal dual : 4215 2323.8964529129644 2686.0804321366736\n",
      "Gap primal dual : 4216 2323.8964529129644 2686.0804321366736\n",
      "Gap primal dual : 4217 2323.8964529129644 2686.0804321366736\n",
      "Gap primal dual : 4218 2323.8964529129644 2686.0804321366736\n"
     ]
    },
    {
     "name": "stderr",
     "output_type": "stream",
     "text": []
    },
    {
     "name": "stdout",
     "output_type": "stream",
     "text": [
      "Gap primal dual : 4219 2323.8964529129644 2686.0804321366736\n",
      "Gap primal dual : 4220 2323.8964529129644 2686.0804321366736\n",
      "Gap primal dual : 4221 2323.8964529129644 2686.0804321366736\n",
      "Gap primal dual : 4222 2323.8964529129644 2686.0804321366736\n",
      "Gap primal dual : 4223 2323.8964529129644 2686.0804321366736\n",
      "Gap primal dual : 4224 2323.8964529129644 2686.0804321366736\n",
      "Gap primal dual : 4225 2323.8964529129644 2686.0804321366736\n",
      "Gap primal dual : 4226 2323.8964529129644 2686.0804321366736\n",
      "Gap primal dual : 4227 2323.8964529129644 2686.0804321366736\n",
      "Gap primal dual : 4228 2323.8964529129644 2686.0804321366736\n"
     ]
    },
    {
     "name": "stderr",
     "output_type": "stream",
     "text": []
    },
    {
     "name": "stdout",
     "output_type": "stream",
     "text": [
      "Gap primal dual : 4229 2323.8964529129644 2686.0804321366736\n",
      "Gap primal dual : 4230 2323.8964529129644 2686.0804321366736\n",
      "Gap primal dual : 4231 2323.8964529129644 2686.0804321366736\n",
      "Gap primal dual : 4232 2323.8964529129644 2686.0804321366736\n",
      "Gap primal dual : 4233 2323.8964529129644 2686.0804321366736\n",
      "Gap primal dual : 4234 2323.8964529129644 2686.0804321366736\n",
      "Gap primal dual : 4235 2323.8964529129644 2686.0804321366736\n",
      "Gap primal dual : 4236 2323.8964529129644 2686.0804321366736\n",
      "Gap primal dual : 4237 2323.8964529129644 2686.0804321366736\n",
      "Gap primal dual : 4238 2323.8964529129644 2686.0804321366736\n"
     ]
    },
    {
     "name": "stderr",
     "output_type": "stream",
     "text": []
    },
    {
     "name": "stdout",
     "output_type": "stream",
     "text": [
      "Gap primal dual : 4239 2323.8964529129644 2686.0804321366736\n",
      "Gap primal dual : 4240 2323.8964529129644 2686.0804321366736\n",
      "Gap primal dual : 4241 2323.8964529129644 2686.0804321366736\n",
      "Gap primal dual : 4242 2323.8964529129644 2686.0804321366736\n",
      "Gap primal dual : 4243 2323.8964529129644 2686.0804321366736\n",
      "Gap primal dual : 4244 2323.8964529129644 2686.0804321366736\n",
      "Gap primal dual : 4245 2323.8964529129644 2686.0804321366736\n",
      "Gap primal dual : 4246 2323.8964529129644 2686.0804321366736\n",
      "Gap primal dual : 4247 2323.8964529129644 2686.0804321366736\n",
      "Gap primal dual : 4248 2323.8964529129644 2686.0804321366736\n"
     ]
    },
    {
     "name": "stderr",
     "output_type": "stream",
     "text": []
    },
    {
     "name": "stdout",
     "output_type": "stream",
     "text": [
      "Gap primal dual : 4249 2323.8964529129644 2686.0804321366736\n",
      "Gap primal dual : 4250 2323.8964529129644 2686.0804321366736\n",
      "Gap primal dual : 4251 2323.8964529129644 2686.0804321366736\n",
      "Gap primal dual : 4252 2323.8964529129644 2686.0804321366736\n",
      "Gap primal dual : 4253 2323.8964529129644 2686.0804321366736\n",
      "Gap primal dual : 4254 2323.8964529129644 2686.0804321366736\n",
      "Gap primal dual : 4255 2323.8964529129644 2686.0804321366736\n",
      "Gap primal dual : 4256 2323.8964529129644 2686.0804321366736\n",
      "Gap primal dual : 4257 2323.8964529129644 2686.0804321366736\n",
      "Gap primal dual : 4258 2323.8964529129644 2686.0804321366736\n"
     ]
    },
    {
     "name": "stderr",
     "output_type": "stream",
     "text": []
    },
    {
     "name": "stdout",
     "output_type": "stream",
     "text": [
      "Gap primal dual : 4259 2323.8964529129644 2686.0804321366736\n",
      "Gap primal dual : 4260 2323.8964529129644 2686.0804321366736\n",
      "Gap primal dual : 4261 2323.8964529129644 2686.0804321366736\n",
      "Gap primal dual : 4262 2323.8964529129644 2686.0804321366736\n",
      "Gap primal dual : 4263 2323.8964529129644 2686.0804321366736\n",
      "Gap primal dual : 4264 2323.8964529129644 2686.0804321366736\n",
      "Gap primal dual : 4265 2323.8964529129644 2686.0804321366736\n",
      "Gap primal dual : 4266 2323.8964529129644 2686.0804321366736\n",
      "Gap primal dual : 4267 2323.8964529129644 2686.0804321366736\n",
      "Gap primal dual : 4268 2323.8964529129644 2686.0804321366736\n"
     ]
    },
    {
     "name": "stderr",
     "output_type": "stream",
     "text": []
    },
    {
     "name": "stdout",
     "output_type": "stream",
     "text": [
      "Gap primal dual : 4269 2323.8964529129644 2686.0804321366736\n",
      "Gap primal dual : 4270 2323.8964529129644 2686.0804321366736\n",
      "Gap primal dual : 4271 2323.8964529129644 2686.0804321366736\n",
      "Gap primal dual : 4272 2323.8964529129644 2686.0804321366736\n",
      "Gap primal dual : 4273 2323.8964529129644 2686.0804321366736\n",
      "Gap primal dual : 4274 2323.8964529129644 2686.0804321366736\n",
      "Gap primal dual : 4275 2323.8964529129644 2686.0804321366736\n",
      "Gap primal dual : 4276 2323.8964529129644 2686.0804321366736\n",
      "Gap primal dual : 4277 2323.8964529129644 2686.0804321366736\n",
      "Gap primal dual : 4278 2323.8964529129644 2686.0804321366736\n"
     ]
    },
    {
     "name": "stderr",
     "output_type": "stream",
     "text": []
    },
    {
     "name": "stdout",
     "output_type": "stream",
     "text": [
      "Gap primal dual : 4279 2323.8964529129644 2686.0804321366736\n",
      "Gap primal dual : 4280 2323.8964529129644 2686.0804321366736\n",
      "Gap primal dual : 4281 2323.8964529129644 2686.0804321366736\n",
      "Gap primal dual : 4282 2323.8964529129644 2686.0804321366736\n",
      "Gap primal dual : 4283 2323.8964529129644 2686.0804321366736\n",
      "Gap primal dual : 4284 2323.8964529129644 2686.0804321366736\n",
      "Gap primal dual : 4285 2323.8964529129644 2686.0804321366736\n",
      "Gap primal dual : 4286 2323.8964529129644 2686.0804321366736\n",
      "Gap primal dual : 4287 2323.8964529129644 2686.0804321366736\n",
      "Gap primal dual : 4288 2323.8964529129644 2686.0804321366736\n"
     ]
    },
    {
     "name": "stderr",
     "output_type": "stream",
     "text": []
    },
    {
     "name": "stdout",
     "output_type": "stream",
     "text": [
      "Gap primal dual : 4289 2323.8964529129644 2686.0804321366736\n",
      "Gap primal dual : 4290 2323.8964529129644 2686.0804321366736\n",
      "Gap primal dual : 4291 2323.8964529129644 2686.0804321366736\n",
      "Gap primal dual : 4292 2323.8964529129644 2686.0804321366736\n",
      "Gap primal dual : 4293 2323.8964529129644 2686.0804321366736\n",
      "Gap primal dual : 4294 2323.8964529129644 2686.0804321366736\n",
      "Gap primal dual : 4295 2323.8964529129644 2686.0804321366736\n",
      "Gap primal dual : 4296 2323.8964529129644 2686.0804321366736\n",
      "Gap primal dual : 4297 2323.8964529129644 2686.0804321366736\n",
      "Gap primal dual : 4298 2323.8964529129644 2686.0804321366736\n"
     ]
    },
    {
     "name": "stderr",
     "output_type": "stream",
     "text": []
    },
    {
     "name": "stdout",
     "output_type": "stream",
     "text": [
      "Gap primal dual : 4299 2323.8964529129644 2686.0804321366736\n",
      "Gap primal dual : 4300 2323.8964529129644 2686.0804321366736\n",
      "Gap primal dual : 4301 2323.8964529129644 2686.0804321366736\n",
      "Gap primal dual : 4302 2323.8964529129644 2686.0804321366736\n",
      "Gap primal dual : 4303 2323.8964529129644 2686.0804321366736\n",
      "Gap primal dual : 4304 2323.8964529129644 2686.0804321366736\n",
      "Gap primal dual : 4305 2323.8964529129644 2686.0804321366736\n",
      "Gap primal dual : 4306 2323.8964529129644 2686.0804321366736\n",
      "Gap primal dual : 4307 2323.8964529129644 2686.0804321366736\n",
      "Gap primal dual : 4308 2323.8964529129644 2686.0804321366736\n"
     ]
    },
    {
     "name": "stderr",
     "output_type": "stream",
     "text": []
    },
    {
     "name": "stdout",
     "output_type": "stream",
     "text": [
      "Gap primal dual : 4309 2323.8964529129644 2686.0804321366736\n",
      "Gap primal dual : 4310 2323.8964529129644 2686.0804321366736\n",
      "Gap primal dual : 4311 2323.8964529129644 2686.0804321366736\n",
      "Gap primal dual : 4312 2323.8964529129644 2686.0804321366736\n",
      "Gap primal dual : 4313 2323.8964529129644 2686.0804321366736\n",
      "Gap primal dual : 4314 2323.8964529129644 2686.0804321366736\n",
      "Gap primal dual : 4315 2323.8964529129644 2686.0804321366736\n",
      "Gap primal dual : 4316 2323.8964529129644 2686.0804321366736\n",
      "Gap primal dual : 4317 2323.8964529129644 2686.0804321366736\n",
      "Gap primal dual : 4318 2323.8964529129644 2686.0804321366736\n"
     ]
    },
    {
     "name": "stderr",
     "output_type": "stream",
     "text": []
    },
    {
     "name": "stdout",
     "output_type": "stream",
     "text": [
      "Gap primal dual : 4319 2323.8964529129644 2686.0804321366736\n",
      "Gap primal dual : 4320 2323.8964529129644 2686.0804321366736\n",
      "Gap primal dual : 4321 2323.8964529129644 2686.0804321366736\n",
      "Gap primal dual : 4322 2323.8964529129644 2686.0804321366736\n",
      "Gap primal dual : 4323 2323.8964529129644 2686.0804321366736\n",
      "Gap primal dual : 4324 2323.8964529129644 2686.0804321366736\n",
      "Gap primal dual : 4325 2323.8964529129644 2686.0804321366736\n",
      "Gap primal dual : 4326 2323.8964529129644 2686.0804321366736\n",
      "Gap primal dual : 4327 2323.8964529129644 2686.0804321366736\n",
      "Gap primal dual : 4328 2323.8964529129644 2686.0804321366736\n"
     ]
    },
    {
     "name": "stderr",
     "output_type": "stream",
     "text": []
    },
    {
     "name": "stdout",
     "output_type": "stream",
     "text": [
      "Gap primal dual : 4329 2323.8964529129644 2686.0804321366736\n",
      "Gap primal dual : 4330 2323.8964529129644 2686.0804321366736\n",
      "Gap primal dual : 4331 2323.8964529129644 2686.0804321366736\n",
      "Gap primal dual : 4332 2323.8964529129644 2686.0804321366736\n",
      "Gap primal dual : 4333 2323.8964529129644 2686.0804321366736\n",
      "Gap primal dual : 4334 2323.8964529129644 2686.0804321366736\n",
      "Gap primal dual : 4335 2323.8964529129644 2686.0804321366736\n",
      "Gap primal dual : 4336 2323.8964529129644 2686.0804321366736\n",
      "Gap primal dual : 4337 2323.8964529129644 2686.0804321366736\n",
      "Gap primal dual : 4338 2323.8964529129644 2686.0804321366736\n"
     ]
    },
    {
     "name": "stderr",
     "output_type": "stream",
     "text": []
    },
    {
     "name": "stdout",
     "output_type": "stream",
     "text": [
      "Gap primal dual : 4339 2323.8964529129644 2686.0804321366736\n",
      "Gap primal dual : 4340 2323.8964529129644 2686.0804321366736\n",
      "Gap primal dual : 4341 2323.8964529129644 2686.0804321366736\n",
      "Gap primal dual : 4342 2323.8964529129644 2686.0804321366736\n",
      "Gap primal dual : 4343 2323.8964529129644 2686.0804321366736\n",
      "Gap primal dual : 4344 2323.8964529129644 2686.0804321366736\n",
      "Gap primal dual : 4345 2323.8964529129644 2686.0804321366736\n",
      "Gap primal dual : 4346 2323.8964529129644 2686.0804321366736\n",
      "Gap primal dual : 4347 2323.8964529129644 2686.0804321366736\n",
      "Gap primal dual : 4348 2323.8964529129644 2686.0804321366736\n"
     ]
    },
    {
     "name": "stderr",
     "output_type": "stream",
     "text": []
    },
    {
     "name": "stdout",
     "output_type": "stream",
     "text": [
      "Gap primal dual : 4349 2323.8964529129644 2686.0804321366736\n",
      "Gap primal dual : 4350 2323.8964529129644 2686.0804321366736\n",
      "Gap primal dual : 4351 2323.8964529129644 2686.0804321366736\n",
      "Gap primal dual : 4352 2323.8964529129644 2686.0804321366736\n",
      "Gap primal dual : 4353 2323.8964529129644 2686.0804321366736\n",
      "Gap primal dual : 4354 2323.8964529129644 2686.0804321366736\n",
      "Gap primal dual : 4355 2323.8964529129644 2686.0804321366736\n",
      "Gap primal dual : 4356 2323.8964529129644 2686.0804321366736\n",
      "Gap primal dual : 4357 2323.8964529129644 2686.0804321366736\n",
      "Gap primal dual : 4358 2323.8964529129644 2686.0804321366736\n"
     ]
    },
    {
     "name": "stderr",
     "output_type": "stream",
     "text": []
    },
    {
     "name": "stdout",
     "output_type": "stream",
     "text": [
      "Gap primal dual : 4359 2323.8964529129644 2686.0804321366736\n",
      "Gap primal dual : 4360 2323.8964529129644 2686.0804321366736\n",
      "Gap primal dual : 4361 2323.8964529129644 2686.0804321366736\n",
      "Gap primal dual : 4362 2323.8964529129644 2686.0804321366736\n",
      "Gap primal dual : 4363 2323.8964529129644 2686.0804321366736\n",
      "Gap primal dual : 4364 2323.8964529129644 2686.0804321366736\n",
      "Gap primal dual : 4365 2323.8964529129644 2686.0804321366736\n",
      "Gap primal dual : 4366 2323.8964529129644 2686.0804321366736\n",
      "Gap primal dual : 4367 2323.8964529129644 2686.0804321366736\n",
      "Gap primal dual : 4368 2323.8964529129644 2686.0804321366736\n"
     ]
    },
    {
     "name": "stderr",
     "output_type": "stream",
     "text": []
    },
    {
     "name": "stdout",
     "output_type": "stream",
     "text": [
      "Gap primal dual : 4369 2323.8964529129644 2686.0804321366736\n",
      "Gap primal dual : 4370 2323.8964529129644 2686.0804321366736\n",
      "Gap primal dual : 4371 2323.8964529129644 2686.0804321366736\n",
      "Gap primal dual : 4372 2323.8964529129644 2686.0804321366736\n",
      "Gap primal dual : 4373 2323.8964529129644 2686.0804321366736\n",
      "Gap primal dual : 4374 2323.8964529129644 2686.0804321366736\n",
      "Gap primal dual : 4375 2323.8964529129644 2686.0804321366736\n",
      "Gap primal dual : 4376 2323.8964529129644 2686.0804321366736\n",
      "Gap primal dual : 4377 2323.8964529129644 2686.0804321366736\n",
      "Gap primal dual : 4378 2323.8964529129644 2686.0804321366736\n"
     ]
    },
    {
     "name": "stderr",
     "output_type": "stream",
     "text": []
    },
    {
     "name": "stdout",
     "output_type": "stream",
     "text": [
      "Gap primal dual : 4379 2323.8964529129644 2686.0804321366736\n",
      "Gap primal dual : 4380 2323.8964529129644 2686.0804321366736\n",
      "Gap primal dual : 4381 2323.8964529129644 2686.0804321366736\n",
      "Gap primal dual : 4382 2323.8964529129644 2686.0804321366736\n",
      "Gap primal dual : 4383 2323.8964529129644 2686.0804321366736\n",
      "Gap primal dual : 4384 2323.8964529129644 2686.0804321366736\n",
      "Gap primal dual : 4385 2323.8964529129644 2686.0804321366736\n",
      "Gap primal dual : 4386 2323.8964529129644 2686.0804321366736\n",
      "Gap primal dual : 4387 2323.8964529129644 2686.0804321366736\n",
      "Gap primal dual : 4388 2323.8964529129644 2686.0804321366736\n"
     ]
    },
    {
     "name": "stderr",
     "output_type": "stream",
     "text": []
    },
    {
     "name": "stdout",
     "output_type": "stream",
     "text": [
      "Gap primal dual : 4389 2323.8964529129644 2686.0804321366736\n",
      "Gap primal dual : 4390 2323.8964529129644 2686.0804321366736\n",
      "Gap primal dual : 4391 2323.8964529129644 2686.0804321366736\n",
      "Gap primal dual : 4392 2323.8964529129644 2686.0804321366736\n",
      "Gap primal dual : 4393 2323.8964529129644 2686.0804321366736\n",
      "Gap primal dual : 4394 2323.8964529129644 2686.0804321366736\n",
      "Gap primal dual : 4395 2323.8964529129644 2686.0804321366736\n",
      "Gap primal dual : 4396 2323.8964529129644 2686.0804321366736\n",
      "Gap primal dual : 4397 2323.8964529129644 2686.0804321366736\n",
      "Gap primal dual : 4398 2323.8964529129644 2686.0804321366736\n"
     ]
    },
    {
     "name": "stderr",
     "output_type": "stream",
     "text": []
    },
    {
     "name": "stdout",
     "output_type": "stream",
     "text": [
      "Gap primal dual : 4399 2323.8964529129644 2686.0804321366736\n",
      "Gap primal dual : 4400 2323.8964529129644 2686.0804321366736\n",
      "Gap primal dual : 4401 2323.8964529129644 2686.0804321366736\n",
      "Gap primal dual : 4402 2323.8964529129644 2686.0804321366736\n",
      "Gap primal dual : 4403 2323.8964529129644 2686.0804321366736\n",
      "Gap primal dual : 4404 2323.8964529129644 2686.0804321366736\n",
      "Gap primal dual : 4405 2323.8964529129644 2686.0804321366736\n",
      "Gap primal dual : 4406 2323.8964529129644 2686.0804321366736\n",
      "Gap primal dual : 4407 2323.8964529129644 2686.0804321366736\n",
      "Gap primal dual : 4408 2323.8964529129644 2686.0804321366736\n"
     ]
    },
    {
     "name": "stderr",
     "output_type": "stream",
     "text": []
    },
    {
     "name": "stdout",
     "output_type": "stream",
     "text": [
      "Gap primal dual : 4409 2323.8964529129644 2686.0804321366736\n",
      "Gap primal dual : 4410 2323.8964529129644 2686.0804321366736\n",
      "Gap primal dual : 4411 2323.8964529129644 2686.0804321366736\n",
      "Gap primal dual : 4412 2323.8964529129644 2686.0804321366736\n",
      "Gap primal dual : 4413 2323.8964529129644 2686.0804321366736\n",
      "Gap primal dual : 4414 2323.8964529129644 2686.0804321366736\n",
      "Gap primal dual : 4415 2323.8964529129644 2686.0804321366736\n",
      "Gap primal dual : 4416 2323.8964529129644 2686.0804321366736\n",
      "Gap primal dual : 4417 2323.8964529129644 2686.0804321366736\n",
      "Gap primal dual : 4418 2323.8964529129644 2686.0804321366736\n"
     ]
    },
    {
     "name": "stderr",
     "output_type": "stream",
     "text": []
    },
    {
     "name": "stdout",
     "output_type": "stream",
     "text": [
      "Gap primal dual : 4419 2323.8964529129644 2686.0804321366736\n",
      "Gap primal dual : 4420 2323.8964529129644 2686.0804321366736\n",
      "Gap primal dual : 4421 2323.8964529129644 2686.0804321366736\n",
      "Gap primal dual : 4422 2323.8964529129644 2686.0804321366736\n",
      "Gap primal dual : 4423 2323.8964529129644 2686.0804321366736\n",
      "Gap primal dual : 4424 2323.8964529129644 2686.0804321366736\n",
      "Gap primal dual : 4425 2323.8964529129644 2686.0804321366736\n",
      "Gap primal dual : 4426 2323.8964529129644 2686.0804321366736\n",
      "Gap primal dual : 4427 2323.8964529129644 2686.0804321366736\n",
      "Gap primal dual : 4428 2323.8964529129644 2686.0804321366736\n"
     ]
    },
    {
     "name": "stderr",
     "output_type": "stream",
     "text": []
    },
    {
     "name": "stdout",
     "output_type": "stream",
     "text": [
      "Gap primal dual : 4429 2323.8964529129644 2686.0804321366736\n",
      "Gap primal dual : 4430 2323.8964529129644 2686.0804321366736\n",
      "Gap primal dual : 4431 2323.8964529129644 2686.0804321366736\n",
      "Gap primal dual : 4432 2323.8964529129644 2686.0804321366736\n",
      "Gap primal dual : 4433 2323.8964529129644 2686.0804321366736\n",
      "Gap primal dual : 4434 2323.8964529129644 2686.0804321366736\n",
      "Gap primal dual : 4435 2323.8964529129644 2686.0804321366736\n",
      "Gap primal dual : 4436 2323.8964529129644 2686.0804321366736\n",
      "Gap primal dual : 4437 2323.8964529129644 2686.0804321366736\n",
      "Gap primal dual : 4438 2323.8964529129644 2686.0804321366736\n"
     ]
    },
    {
     "name": "stderr",
     "output_type": "stream",
     "text": []
    },
    {
     "name": "stdout",
     "output_type": "stream",
     "text": [
      "Gap primal dual : 4439 2323.8964529129644 2686.0804321366736\n",
      "Gap primal dual : 4440 2323.8964529129644 2686.0804321366736\n",
      "Gap primal dual : 4441 2323.8964529129644 2686.0804321366736\n",
      "Gap primal dual : 4442 2323.8964529129644 2686.0804321366736\n",
      "Gap primal dual : 4443 2323.8964529129644 2686.0804321366736\n",
      "Gap primal dual : 4444 2323.8964529129644 2686.0804321366736\n",
      "Gap primal dual : 4445 2323.8964529129644 2686.0804321366736\n",
      "Gap primal dual : 4446 2323.8964529129644 2686.0804321366736\n",
      "Gap primal dual : 4447 2323.8964529129644 2686.0804321366736\n",
      "Gap primal dual : 4448 2323.8964529129644 2686.0804321366736\n"
     ]
    },
    {
     "name": "stderr",
     "output_type": "stream",
     "text": []
    },
    {
     "name": "stdout",
     "output_type": "stream",
     "text": [
      "Gap primal dual : 4449 2323.8964529129644 2686.0804321366736\n",
      "Gap primal dual : 4450 2323.8964529129644 2686.0804321366736\n",
      "Gap primal dual : 4451 2323.8964529129644 2686.0804321366736\n",
      "Gap primal dual : 4452 2323.8964529129644 2686.0804321366736\n",
      "Gap primal dual : 4453 2323.8964529129644 2686.0804321366736\n",
      "Gap primal dual : 4454 2323.8964529129644 2686.0804321366736\n",
      "Gap primal dual : 4455 2323.8964529129644 2686.0804321366736\n",
      "Gap primal dual : 4456 2323.8964529129644 2686.0804321366736\n",
      "Gap primal dual : 4457 2323.8964529129644 2686.0804321366736\n",
      "Gap primal dual : 4458 2323.8964529129644 2686.0804321366736\n"
     ]
    },
    {
     "name": "stderr",
     "output_type": "stream",
     "text": []
    },
    {
     "name": "stdout",
     "output_type": "stream",
     "text": [
      "Gap primal dual : 4459 2323.8964529129644 2686.0804321366736\n",
      "Gap primal dual : 4460 2323.8964529129644 2686.0804321366736\n",
      "Gap primal dual : 4461 2323.8964529129644 2686.0804321366736\n",
      "Gap primal dual : 4462 2323.8964529129644 2686.0804321366736\n",
      "Gap primal dual : 4463 2323.8964529129644 2686.0804321366736\n",
      "Gap primal dual : 4464 2323.8964529129644 2686.0804321366736\n",
      "Gap primal dual : 4465 2323.8964529129644 2686.0804321366736\n",
      "Gap primal dual : 4466 2323.8964529129644 2686.0804321366736\n",
      "Gap primal dual : 4467 2323.8964529129644 2686.0804321366736\n",
      "Gap primal dual : 4468 2323.8964529129644 2686.0804321366736\n"
     ]
    },
    {
     "name": "stderr",
     "output_type": "stream",
     "text": []
    },
    {
     "name": "stdout",
     "output_type": "stream",
     "text": [
      "Gap primal dual : 4469 2323.8964529129644 2686.0804321366736\n",
      "Gap primal dual : 4470 2323.8964529129644 2686.0804321366736\n",
      "Gap primal dual : 4471 2323.8964529129644 2686.0804321366736\n",
      "Gap primal dual : 4472 2323.8964529129644 2686.0804321366736\n",
      "Gap primal dual : 4473 2323.8964529129644 2686.0804321366736\n",
      "Gap primal dual : 4474 2323.8964529129644 2686.0804321366736\n",
      "Gap primal dual : 4475 2323.8964529129644 2686.0804321366736\n",
      "Gap primal dual : 4476 2323.8964529129644 2686.0804321366736\n",
      "Gap primal dual : 4477 2323.8964529129644 2686.0804321366736\n",
      "Gap primal dual : 4478 2323.8964529129644 2686.0804321366736\n"
     ]
    },
    {
     "name": "stderr",
     "output_type": "stream",
     "text": []
    },
    {
     "name": "stdout",
     "output_type": "stream",
     "text": [
      "Gap primal dual : 4479 2323.8964529129644 2686.0804321366736\n",
      "Gap primal dual : 4480 2323.8964529129644 2686.0804321366736\n",
      "Gap primal dual : 4481 2323.8964529129644 2686.0804321366736\n",
      "Gap primal dual : 4482 2323.8964529129644 2686.0804321366736\n",
      "Gap primal dual : 4483 2323.8964529129644 2686.0804321366736\n",
      "Gap primal dual : 4484 2323.8964529129644 2686.0804321366736\n",
      "Gap primal dual : 4485 2323.8964529129644 2686.0804321366736\n",
      "Gap primal dual : 4486 2323.8964529129644 2686.0804321366736\n",
      "Gap primal dual : 4487 2323.8964529129644 2686.0804321366736\n",
      "Gap primal dual : 4488 2323.8964529129644 2686.0804321366736\n"
     ]
    },
    {
     "name": "stderr",
     "output_type": "stream",
     "text": []
    },
    {
     "name": "stdout",
     "output_type": "stream",
     "text": [
      "Gap primal dual : 4489 2323.8964529129644 2686.0804321366736\n",
      "Gap primal dual : 4490 2323.8964529129644 2686.0804321366736\n",
      "Gap primal dual : 4491 2323.8964529129644 2686.0804321366736\n",
      "Gap primal dual : 4492 2323.8964529129644 2686.0804321366736\n",
      "Gap primal dual : 4493 2323.8964529129644 2686.0804321366736\n",
      "Gap primal dual : 4494 2323.8964529129644 2686.0804321366736\n",
      "Gap primal dual : 4495 2323.8964529129644 2686.0804321366736\n",
      "Gap primal dual : 4496 2323.8964529129644 2686.0804321366736\n",
      "Gap primal dual : 4497 2323.8964529129644 2686.0804321366736\n",
      "Gap primal dual : 4498 2323.8964529129644 2686.0804321366736\n"
     ]
    },
    {
     "name": "stderr",
     "output_type": "stream",
     "text": []
    },
    {
     "name": "stdout",
     "output_type": "stream",
     "text": [
      "Gap primal dual : 4499 2323.8964529129644 2686.0804321366736\n",
      "Gap primal dual : 4500 2323.8964529129644 2686.0804321366736\n",
      "Gap primal dual : 4501 2323.8964529129644 2686.0804321366736\n",
      "Gap primal dual : 4502 2323.8964529129644 2686.0804321366736\n",
      "Gap primal dual : 4503 2323.8964529129644 2686.0804321366736\n",
      "Gap primal dual : 4504 2323.8964529129644 2686.0804321366736\n",
      "Gap primal dual : 4505 2323.8964529129644 2686.0804321366736\n",
      "Gap primal dual : 4506 2323.8964529129644 2686.0804321366736\n",
      "Gap primal dual : 4507 2323.8964529129644 2686.0804321366736\n",
      "Gap primal dual : 4508 2323.8964529129644 2686.0804321366736\n"
     ]
    },
    {
     "name": "stderr",
     "output_type": "stream",
     "text": []
    },
    {
     "name": "stdout",
     "output_type": "stream",
     "text": [
      "Gap primal dual : 4509 2323.8964529129644 2686.0804321366736\n",
      "Gap primal dual : 4510 2323.8964529129644 2686.0804321366736\n",
      "Gap primal dual : 4511 2323.8964529129644 2686.0804321366736\n",
      "Gap primal dual : 4512 2323.8964529129644 2686.0804321366736\n",
      "Gap primal dual : 4513 2323.8964529129644 2686.0804321366736\n",
      "Gap primal dual : 4514 2323.8964529129644 2686.0804321366736\n",
      "Gap primal dual : 4515 2323.8964529129644 2686.0804321366736\n",
      "Gap primal dual : 4516 2323.8964529129644 2686.0804321366736\n",
      "Gap primal dual : 4517 2323.8964529129644 2686.0804321366736\n",
      "Gap primal dual : 4518 2323.8964529129644 2686.0804321366736\n"
     ]
    },
    {
     "name": "stderr",
     "output_type": "stream",
     "text": []
    },
    {
     "name": "stdout",
     "output_type": "stream",
     "text": [
      "Gap primal dual : 4519 2323.8964529129644 2686.0804321366736\n",
      "Gap primal dual : 4520 2323.8964529129644 2686.0804321366736\n",
      "Gap primal dual : 4521 2323.8964529129644 2686.0804321366736\n",
      "Gap primal dual : 4522 2323.8964529129644 2686.0804321366736\n",
      "Gap primal dual : 4523 2323.8964529129644 2686.0804321366736\n",
      "Gap primal dual : 4524 2323.8964529129644 2686.0804321366736\n",
      "Gap primal dual : 4525 2323.8964529129644 2686.0804321366736\n",
      "Gap primal dual : 4526 2323.8964529129644 2686.0804321366736\n",
      "Gap primal dual : 4527 2323.8964529129644 2686.0804321366736\n",
      "Gap primal dual : 4528 2323.8964529129644 2686.0804321366736\n"
     ]
    },
    {
     "name": "stderr",
     "output_type": "stream",
     "text": []
    },
    {
     "name": "stdout",
     "output_type": "stream",
     "text": [
      "Gap primal dual : 4529 2323.8964529129644 2686.0804321366736\n",
      "Gap primal dual : 4530 2323.8964529129644 2686.0804321366736\n",
      "Gap primal dual : 4531 2323.8964529129644 2686.0804321366736\n",
      "Gap primal dual : 4532 2323.8964529129644 2686.0804321366736\n",
      "Gap primal dual : 4533 2323.8964529129644 2686.0804321366736\n",
      "Gap primal dual : 4534 2323.8964529129644 2686.0804321366736\n",
      "Gap primal dual : 4535 2323.8964529129644 2686.0804321366736\n",
      "Gap primal dual : 4536 2323.8964529129644 2686.0804321366736\n",
      "Gap primal dual : 4537 2323.8964529129644 2686.0804321366736\n",
      "Gap primal dual : 4538 2323.8964529129644 2686.0804321366736\n"
     ]
    },
    {
     "name": "stderr",
     "output_type": "stream",
     "text": []
    },
    {
     "name": "stdout",
     "output_type": "stream",
     "text": [
      "Gap primal dual : 4539 2323.8964529129644 2686.0804321366736\n",
      "Gap primal dual : 4540 2323.8964529129644 2686.0804321366736\n",
      "Gap primal dual : 4541 2323.8964529129644 2686.0804321366736\n",
      "Gap primal dual : 4542 2323.8964529129644 2686.0804321366736\n",
      "Gap primal dual : 4543 2323.8964529129644 2686.0804321366736\n",
      "Gap primal dual : 4544 2323.8964529129644 2686.0804321366736\n",
      "Gap primal dual : 4545 2323.8964529129644 2686.0804321366736\n",
      "Gap primal dual : 4546 2323.8964529129644 2686.0804321366736\n",
      "Gap primal dual : 4547 2323.8964529129644 2686.0804321366736\n",
      "Gap primal dual : 4548 2323.8964529129644 2686.0804321366736\n"
     ]
    },
    {
     "name": "stderr",
     "output_type": "stream",
     "text": []
    },
    {
     "name": "stdout",
     "output_type": "stream",
     "text": [
      "Gap primal dual : 4549 2323.8964529129644 2686.0804321366736\n",
      "Gap primal dual : 4550 2323.8964529129644 2686.0804321366736\n",
      "Gap primal dual : 4551 2323.8964529129644 2686.0804321366736\n",
      "Gap primal dual : 4552 2323.8964529129644 2686.0804321366736\n",
      "Gap primal dual : 4553 2323.8964529129644 2686.0804321366736\n",
      "Gap primal dual : 4554 2323.8964529129644 2686.0804321366736\n",
      "Gap primal dual : 4555 2323.8964529129644 2686.0804321366736\n",
      "Gap primal dual : 4556 2323.8964529129644 2686.0804321366736\n",
      "Gap primal dual : 4557 2323.8964529129644 2686.0804321366736\n",
      "Gap primal dual : 4558 2323.8964529129644 2686.0804321366736\n"
     ]
    },
    {
     "name": "stderr",
     "output_type": "stream",
     "text": []
    },
    {
     "name": "stdout",
     "output_type": "stream",
     "text": [
      "Gap primal dual : 4559 2323.8964529129644 2686.0804321366736\n",
      "Gap primal dual : 4560 2323.8964529129644 2686.0804321366736\n",
      "Gap primal dual : 4561 2323.8964529129644 2686.0804321366736\n",
      "Gap primal dual : 4562 2323.8964529129644 2686.0804321366736\n",
      "Gap primal dual : 4563 2323.8964529129644 2686.0804321366736\n",
      "Gap primal dual : 4564 2323.8964529129644 2686.0804321366736\n",
      "Gap primal dual : 4565 2323.8964529129644 2686.0804321366736\n",
      "Gap primal dual : 4566 2323.8964529129644 2686.0804321366736\n",
      "Gap primal dual : 4567 2323.8964529129644 2686.0804321366736\n",
      "Gap primal dual : 4568 2323.8964529129644 2686.0804321366736\n"
     ]
    },
    {
     "name": "stderr",
     "output_type": "stream",
     "text": []
    },
    {
     "name": "stdout",
     "output_type": "stream",
     "text": [
      "Gap primal dual : 4569 2323.8964529129644 2686.0804321366736\n",
      "Gap primal dual : 4570 2323.8964529129644 2686.0804321366736\n",
      "Gap primal dual : 4571 2323.8964529129644 2686.0804321366736\n",
      "Gap primal dual : 4572 2323.8964529129644 2686.0804321366736\n",
      "Gap primal dual : 4573 2323.8964529129644 2686.0804321366736\n",
      "Gap primal dual : 4574 2323.8964529129644 2686.0804321366736\n",
      "Gap primal dual : 4575 2323.8964529129644 2686.0804321366736\n",
      "Gap primal dual : 4576 2323.8964529129644 2686.0804321366736\n",
      "Gap primal dual : 4577 2323.8964529129644 2686.0804321366736\n",
      "Gap primal dual : 4578 2323.8964529129644 2686.0804321366736\n"
     ]
    },
    {
     "name": "stderr",
     "output_type": "stream",
     "text": []
    },
    {
     "name": "stdout",
     "output_type": "stream",
     "text": [
      "Gap primal dual : 4579 2323.8964529129644 2686.0804321366736\n",
      "Gap primal dual : 4580 2323.8964529129644 2686.0804321366736\n",
      "Gap primal dual : 4581 2323.8964529129644 2686.0804321366736\n",
      "Gap primal dual : 4582 2323.8964529129644 2686.0804321366736\n",
      "Gap primal dual : 4583 2323.8964529129644 2686.0804321366736\n",
      "Gap primal dual : 4584 2323.8964529129644 2686.0804321366736\n",
      "Gap primal dual : 4585 2323.8964529129644 2686.0804321366736\n",
      "Gap primal dual : 4586 2323.8964529129644 2686.0804321366736\n",
      "Gap primal dual : 4587 2323.8964529129644 2686.0804321366736\n",
      "Gap primal dual : 4588 2323.8964529129644 2686.0804321366736\n"
     ]
    },
    {
     "name": "stderr",
     "output_type": "stream",
     "text": []
    },
    {
     "name": "stdout",
     "output_type": "stream",
     "text": [
      "Gap primal dual : 4589 2323.8964529129644 2686.0804321366736\n",
      "Gap primal dual : 4590 2323.8964529129644 2686.0804321366736\n",
      "Gap primal dual : 4591 2323.8964529129644 2686.0804321366736\n",
      "Gap primal dual : 4592 2323.8964529129644 2686.0804321366736\n",
      "Gap primal dual : 4593 2323.8964529129644 2686.0804321366736\n",
      "Gap primal dual : 4594 2323.8964529129644 2686.0804321366736\n",
      "Gap primal dual : 4595 2323.8964529129644 2686.0804321366736\n",
      "Gap primal dual : 4596 2323.8964529129644 2686.0804321366736\n",
      "Gap primal dual : 4597 2323.8964529129644 2686.0804321366736\n",
      "Gap primal dual : 4598 2323.8964529129644 2686.0804321366736\n"
     ]
    },
    {
     "name": "stderr",
     "output_type": "stream",
     "text": []
    },
    {
     "name": "stdout",
     "output_type": "stream",
     "text": [
      "Gap primal dual : 4599 2323.8964529129644 2686.0804321366736\n",
      "Gap primal dual : 4600 2323.8964529129644 2686.0804321366736\n",
      "Gap primal dual : 4601 2323.8964529129644 2686.0804321366736\n",
      "Gap primal dual : 4602 2323.8964529129644 2686.0804321366736\n",
      "Gap primal dual : 4603 2323.8964529129644 2686.0804321366736\n",
      "Gap primal dual : 4604 2323.8964529129644 2686.0804321366736\n",
      "Gap primal dual : 4605 2323.8964529129644 2686.0804321366736\n",
      "Gap primal dual : 4606 2323.8964529129644 2686.0804321366736\n",
      "Gap primal dual : 4607 2323.8964529129644 2686.0804321366736\n",
      "Gap primal dual : 4608 2323.8964529129644 2686.0804321366736\n"
     ]
    },
    {
     "name": "stderr",
     "output_type": "stream",
     "text": []
    },
    {
     "name": "stdout",
     "output_type": "stream",
     "text": [
      "Gap primal dual : 4609 2323.8964529129644 2686.0804321366736\n",
      "Gap primal dual : 4610 2323.8964529129644 2686.0804321366736\n",
      "Gap primal dual : 4611 2323.8964529129644 2686.0804321366736\n",
      "Gap primal dual : 4612 2323.8964529129644 2686.0804321366736\n",
      "Gap primal dual : 4613 2323.8964529129644 2686.0804321366736\n",
      "Gap primal dual : 4614 2323.8964529129644 2686.0804321366736\n",
      "Gap primal dual : 4615 2323.8964529129644 2686.0804321366736\n",
      "Gap primal dual : 4616 2323.8964529129644 2686.0804321366736\n",
      "Gap primal dual : 4617 2323.8964529129644 2686.0804321366736\n",
      "Gap primal dual : 4618 2323.8964529129644 2686.0804321366736\n"
     ]
    },
    {
     "name": "stderr",
     "output_type": "stream",
     "text": []
    },
    {
     "name": "stdout",
     "output_type": "stream",
     "text": [
      "Gap primal dual : 4619 2323.8964529129644 2686.0804321366736\n",
      "Gap primal dual : 4620 2323.8964529129644 2686.0804321366736\n",
      "Gap primal dual : 4621 2323.8964529129644 2686.0804321366736\n",
      "Gap primal dual : 4622 2323.8964529129644 2686.0804321366736\n",
      "Gap primal dual : 4623 2323.8964529129644 2686.0804321366736\n",
      "Gap primal dual : 4624 2323.8964529129644 2686.0804321366736\n",
      "Gap primal dual : 4625 2323.8964529129644 2686.0804321366736\n",
      "Gap primal dual : 4626 2323.8964529129644 2686.0804321366736\n",
      "Gap primal dual : 4627 2323.8964529129644 2686.0804321366736\n",
      "Gap primal dual : 4628 2323.8964529129644 2686.0804321366736\n"
     ]
    },
    {
     "name": "stderr",
     "output_type": "stream",
     "text": []
    },
    {
     "name": "stdout",
     "output_type": "stream",
     "text": [
      "Gap primal dual : 4629 2323.8964529129644 2686.0804321366736\n",
      "Gap primal dual : 4630 2323.8964529129644 2686.0804321366736\n",
      "Gap primal dual : 4631 2323.8964529129644 2686.0804321366736\n",
      "Gap primal dual : 4632 2323.8964529129644 2686.0804321366736\n",
      "Gap primal dual : 4633 2323.8964529129644 2686.0804321366736\n",
      "Gap primal dual : 4634 2323.8964529129644 2686.0804321366736\n",
      "Gap primal dual : 4635 2323.8964529129644 2686.0804321366736\n",
      "Gap primal dual : 4636 2323.8964529129644 2686.0804321366736\n",
      "Gap primal dual : 4637 2323.8964529129644 2686.0804321366736\n",
      "Gap primal dual : 4638 2323.8964529129644 2686.0804321366736\n"
     ]
    },
    {
     "name": "stderr",
     "output_type": "stream",
     "text": []
    },
    {
     "name": "stdout",
     "output_type": "stream",
     "text": [
      "Gap primal dual : 4639 2323.8964529129644 2686.0804321366736\n",
      "Gap primal dual : 4640 2323.8964529129644 2686.0804321366736\n",
      "Gap primal dual : 4641 2323.8964529129644 2686.0804321366736\n",
      "Gap primal dual : 4642 2323.8964529129644 2686.0804321366736\n",
      "Gap primal dual : 4643 2323.8964529129644 2686.0804321366736\n",
      "Gap primal dual : 4644 2323.8964529129644 2686.0804321366736\n",
      "Gap primal dual : 4645 2323.8964529129644 2686.0804321366736\n",
      "Gap primal dual : 4646 2323.8964529129644 2686.0804321366736\n",
      "Gap primal dual : 4647 2323.8964529129644 2686.0804321366736\n",
      "Gap primal dual : 4648 2323.8964529129644 2686.0804321366736\n"
     ]
    },
    {
     "name": "stderr",
     "output_type": "stream",
     "text": []
    },
    {
     "name": "stdout",
     "output_type": "stream",
     "text": [
      "Gap primal dual : 4649 2323.8964529129644 2686.0804321366736\n",
      "Gap primal dual : 4650 2323.8964529129644 2686.0804321366736\n",
      "Gap primal dual : 4651 2323.8964529129644 2686.0804321366736\n",
      "Gap primal dual : 4652 2323.8964529129644 2686.0804321366736\n",
      "Gap primal dual : 4653 2323.8964529129644 2686.0804321366736\n",
      "Gap primal dual : 4654 2323.8964529129644 2686.0804321366736\n",
      "Gap primal dual : 4655 2323.8964529129644 2686.0804321366736\n",
      "Gap primal dual : 4656 2323.8964529129644 2686.0804321366736\n",
      "Gap primal dual : 4657 2323.8964529129644 2686.0804321366736\n",
      "Gap primal dual : 4658 2323.8964529129644 2686.0804321366736\n"
     ]
    },
    {
     "name": "stderr",
     "output_type": "stream",
     "text": []
    },
    {
     "name": "stdout",
     "output_type": "stream",
     "text": [
      "Gap primal dual : 4659 2323.8964529129644 2686.0804321366736\n",
      "Gap primal dual : 4660 2323.8964529129644 2686.0804321366736\n",
      "Gap primal dual : 4661 2323.8964529129644 2686.0804321366736\n",
      "Gap primal dual : 4662 2323.8964529129644 2686.0804321366736\n",
      "Gap primal dual : 4663 2323.8964529129644 2686.0804321366736\n",
      "Gap primal dual : 4664 2323.8964529129644 2686.0804321366736\n",
      "Gap primal dual : 4665 2323.8964529129644 2686.0804321366736\n",
      "Gap primal dual : 4666 2323.8964529129644 2686.0804321366736\n",
      "Gap primal dual : 4667 2323.8964529129644 2686.0804321366736\n",
      "Gap primal dual : 4668 2323.8964529129644 2686.0804321366736\n"
     ]
    },
    {
     "name": "stderr",
     "output_type": "stream",
     "text": []
    },
    {
     "name": "stdout",
     "output_type": "stream",
     "text": [
      "Gap primal dual : 4669 2323.8964529129644 2686.0804321366736\n",
      "Gap primal dual : 4670 2323.8964529129644 2686.0804321366736\n",
      "Gap primal dual : 4671 2323.8964529129644 2686.0804321366736\n",
      "Gap primal dual : 4672 2323.8964529129644 2686.0804321366736\n",
      "Gap primal dual : 4673 2323.8964529129644 2686.0804321366736\n",
      "Gap primal dual : 4674 2323.8964529129644 2686.0804321366736\n",
      "Gap primal dual : 4675 2323.8964529129644 2686.0804321366736\n",
      "Gap primal dual : 4676 2323.8964529129644 2686.0804321366736\n",
      "Gap primal dual : 4677 2323.8964529129644 2686.0804321366736\n",
      "Gap primal dual : 4678 2323.8964529129644 2686.0804321366736\n"
     ]
    },
    {
     "name": "stderr",
     "output_type": "stream",
     "text": []
    },
    {
     "name": "stdout",
     "output_type": "stream",
     "text": [
      "Gap primal dual : 4679 2323.8964529129644 2686.0804321366736\n",
      "Gap primal dual : 4680 2323.8964529129644 2686.0804321366736\n",
      "Gap primal dual : 4681 2323.8964529129644 2686.0804321366736\n",
      "Gap primal dual : 4682 2323.8964529129644 2686.0804321366736\n",
      "Gap primal dual : 4683 2323.8964529129644 2686.0804321366736\n",
      "Gap primal dual : 4684 2323.8964529129644 2686.0804321366736\n",
      "Gap primal dual : 4685 2323.8964529129644 2686.0804321366736\n",
      "Gap primal dual : 4686 2323.8964529129644 2686.0804321366736\n",
      "Gap primal dual : 4687 2323.8964529129644 2686.0804321366736\n",
      "Gap primal dual : 4688 2323.8964529129644 2686.0804321366736\n"
     ]
    },
    {
     "name": "stderr",
     "output_type": "stream",
     "text": []
    },
    {
     "name": "stdout",
     "output_type": "stream",
     "text": [
      "Gap primal dual : 4689 2323.8964529129644 2686.0804321366736\n",
      "Gap primal dual : 4690 2323.8964529129644 2686.0804321366736\n",
      "Gap primal dual : 4691 2323.8964529129644 2686.0804321366736\n",
      "Gap primal dual : 4692 2323.8964529129644 2686.0804321366736\n",
      "Gap primal dual : 4693 2323.8964529129644 2686.0804321366736\n",
      "Gap primal dual : 4694 2323.8964529129644 2686.0804321366736\n",
      "Gap primal dual : 4695 2323.8964529129644 2686.0804321366736\n",
      "Gap primal dual : 4696 2323.8964529129644 2686.0804321366736\n",
      "Gap primal dual : 4697 2323.8964529129644 2686.0804321366736\n",
      "Gap primal dual : 4698 2323.8964529129644 2686.0804321366736\n"
     ]
    },
    {
     "name": "stderr",
     "output_type": "stream",
     "text": []
    },
    {
     "name": "stdout",
     "output_type": "stream",
     "text": [
      "Gap primal dual : 4699 2323.8964529129644 2686.0804321366736\n",
      "Gap primal dual : 4700 2323.8964529129644 2686.0804321366736\n",
      "Gap primal dual : 4701 2323.8964529129644 2686.0804321366736\n",
      "Gap primal dual : 4702 2323.8964529129644 2686.0804321366736\n",
      "Gap primal dual : 4703 2323.8964529129644 2686.0804321366736\n",
      "Gap primal dual : 4704 2323.8964529129644 2686.0804321366736\n",
      "Gap primal dual : 4705 2323.8964529129644 2686.0804321366736\n",
      "Gap primal dual : 4706 2323.8964529129644 2686.0804321366736\n",
      "Gap primal dual : 4707 2323.8964529129644 2686.0804321366736\n",
      "Gap primal dual : 4708 2323.8964529129644 2686.0804321366736\n"
     ]
    },
    {
     "name": "stderr",
     "output_type": "stream",
     "text": []
    },
    {
     "name": "stdout",
     "output_type": "stream",
     "text": [
      "Gap primal dual : 4709 2323.8964529129644 2686.0804321366736\n",
      "Gap primal dual : 4710 2323.8964529129644 2686.0804321366736\n",
      "Gap primal dual : 4711 2323.8964529129644 2686.0804321366736\n",
      "Gap primal dual : 4712 2323.8964529129644 2686.0804321366736\n",
      "Gap primal dual : 4713 2323.8964529129644 2686.0804321366736\n",
      "Gap primal dual : 4714 2323.8964529129644 2686.0804321366736\n",
      "Gap primal dual : 4715 2323.8964529129644 2686.0804321366736\n",
      "Gap primal dual : 4716 2323.8964529129644 2686.0804321366736\n",
      "Gap primal dual : 4717 2323.8964529129644 2686.0804321366736\n",
      "Gap primal dual : 4718 2323.8964529129644 2686.0804321366736\n"
     ]
    },
    {
     "name": "stderr",
     "output_type": "stream",
     "text": []
    },
    {
     "name": "stdout",
     "output_type": "stream",
     "text": [
      "Gap primal dual : 4719 2323.8964529129644 2686.0804321366736\n",
      "Gap primal dual : 4720 2323.8964529129644 2686.0804321366736\n",
      "Gap primal dual : 4721 2323.8964529129644 2686.0804321366736\n",
      "Gap primal dual : 4722 2323.8964529129644 2686.0804321366736\n",
      "Gap primal dual : 4723 2323.8964529129644 2686.0804321366736\n",
      "Gap primal dual : 4724 2323.8964529129644 2686.0804321366736\n",
      "Gap primal dual : 4725 2323.8964529129644 2686.0804321366736\n",
      "Gap primal dual : 4726 2323.8964529129644 2686.0804321366736\n",
      "Gap primal dual : 4727 2323.8964529129644 2686.0804321366736\n",
      "Gap primal dual : 4728 2323.8964529129644 2686.0804321366736\n"
     ]
    },
    {
     "name": "stderr",
     "output_type": "stream",
     "text": []
    },
    {
     "name": "stdout",
     "output_type": "stream",
     "text": [
      "Gap primal dual : 4729 2323.8964529129644 2686.0804321366736\n",
      "Gap primal dual : 4730 2323.8964529129644 2686.0804321366736\n",
      "Gap primal dual : 4731 2323.8964529129644 2686.0804321366736\n",
      "Gap primal dual : 4732 2323.8964529129644 2686.0804321366736\n",
      "Gap primal dual : 4733 2323.8964529129644 2686.0804321366736\n",
      "Gap primal dual : 4734 2323.8964529129644 2686.0804321366736\n",
      "Gap primal dual : 4735 2323.8964529129644 2686.0804321366736\n",
      "Gap primal dual : 4736 2323.8964529129644 2686.0804321366736\n",
      "Gap primal dual : 4737 2323.8964529129644 2686.0804321366736\n",
      "Gap primal dual : 4738 2323.8964529129644 2686.0804321366736\n"
     ]
    },
    {
     "name": "stderr",
     "output_type": "stream",
     "text": []
    },
    {
     "name": "stdout",
     "output_type": "stream",
     "text": [
      "Gap primal dual : 4739 2323.8964529129644 2686.0804321366736\n",
      "Gap primal dual : 4740 2323.8964529129644 2686.0804321366736\n",
      "Gap primal dual : 4741 2323.8964529129644 2686.0804321366736\n",
      "Gap primal dual : 4742 2323.8964529129644 2686.0804321366736\n",
      "Gap primal dual : 4743 2323.8964529129644 2686.0804321366736\n",
      "Gap primal dual : 4744 2323.8964529129644 2686.0804321366736\n",
      "Gap primal dual : 4745 2323.8964529129644 2686.0804321366736\n",
      "Gap primal dual : 4746 2323.8964529129644 2686.0804321366736\n",
      "Gap primal dual : 4747 2323.8964529129644 2686.0804321366736\n",
      "Gap primal dual : 4748 2323.8964529129644 2686.0804321366736\n"
     ]
    },
    {
     "name": "stderr",
     "output_type": "stream",
     "text": []
    },
    {
     "name": "stdout",
     "output_type": "stream",
     "text": [
      "Gap primal dual : 4749 2323.8964529129644 2686.0804321366736\n",
      "Gap primal dual : 4750 2323.8964529129644 2686.0804321366736\n",
      "Gap primal dual : 4751 2323.8964529129644 2686.0804321366736\n",
      "Gap primal dual : 4752 2323.8964529129644 2686.0804321366736\n",
      "Gap primal dual : 4753 2323.8964529129644 2686.0804321366736\n",
      "Gap primal dual : 4754 2323.8964529129644 2686.0804321366736\n",
      "Gap primal dual : 4755 2323.8964529129644 2686.0804321366736\n",
      "Gap primal dual : 4756 2323.8964529129644 2686.0804321366736\n",
      "Gap primal dual : 4757 2323.8964529129644 2686.0804321366736\n",
      "Gap primal dual : 4758 4647.772048831433 2684.974822306227\n"
     ]
    },
    {
     "name": "stderr",
     "output_type": "stream",
     "text": []
    },
    {
     "name": "stdout",
     "output_type": "stream",
     "text": [
      "Gap primal dual : 4759 4073.237835402074 2683.8698943836416\n",
      "Gap primal dual : 4760 3245.5725594295964 2682.7656483883115\n",
      "Gap primal dual : 4761 4921.957775311632 2681.6620836656048\n",
      "Gap primal dual : 4762 3848.6145978317327 2680.5591997323786\n",
      "Gap primal dual : 4763 3079.5164668818397 2679.456996246397\n",
      "Gap primal dual : 4764 2953.493488568439 2678.355472420213\n",
      "Gap primal dual : 4765 4428.25422862626 2677.2546275067857\n",
      "Gap primal dual : 4766 3579.723634364002 2676.154461281428\n",
      "Gap primal dual : 4767 2691.5817275881864 2675.054973028999\n",
      "Gap primal dual : 4768 3185.64275722047 2673.956161955877\n"
     ]
    },
    {
     "name": "stderr",
     "output_type": "stream",
     "text": []
    },
    {
     "name": "stdout",
     "output_type": "stream",
     "text": [
      "Gap primal dual : 4769 4290.308051596254 2672.8580283200163\n",
      "Gap primal dual : 4770 3983.990014799944 2671.760570337617\n",
      "Gap primal dual : 4771 3388.260872579446 2670.663788687505\n",
      "Gap primal dual : 4772 4035.282063843267 2669.567682169159\n",
      "Gap primal dual : 4773 3900.0750301847775 2668.472250290634\n",
      "Gap primal dual : 4774 3797.803322782931 2667.377492445601\n",
      "Gap primal dual : 4775 4036.587713946041 2666.2834076737518\n",
      "Gap primal dual : 4776 3714.6648063701887 2665.189997206026\n",
      "Gap primal dual : 4777 2985.5725998302173 2664.0972580282883\n",
      "Gap primal dual : 4778 3395.7238127993533 2663.0051906739413\n"
     ]
    },
    {
     "name": "stderr",
     "output_type": "stream",
     "text": []
    },
    {
     "name": "stdout",
     "output_type": "stream",
     "text": [
      "Gap primal dual : 4779 4714.0812196675915 2661.913795537799\n",
      "Gap primal dual : 4780 3714.5600924474224 2660.8230706742766\n",
      "Gap primal dual : 4781 3200.14508371033 2659.733016160114\n",
      "Gap primal dual : 4782 4401.90651385157 2658.6436315638152\n",
      "Gap primal dual : 4783 4061.878349381289 2657.5549157040696\n",
      "Gap primal dual : 4784 3805.6822319590046 2656.4668686240316\n",
      "Gap primal dual : 4785 3426.4642115744064 2655.3794895845867\n",
      "Gap primal dual : 4786 3180.357193813034 2654.292778299439\n",
      "Gap primal dual : 4787 3905.827344618792 2653.206733740506\n",
      "Gap primal dual : 4788 4168.963917529587 2652.12135539081\n"
     ]
    },
    {
     "name": "stderr",
     "output_type": "stream",
     "text": []
    },
    {
     "name": "stdout",
     "output_type": "stream",
     "text": [
      "Gap primal dual : 4789 4135.017782232099 2651.03664328928\n",
      "Gap primal dual : 4790 3266.999582790915 2649.9525960404385\n",
      "Gap primal dual : 4791 2972.932255674199 2648.8692146309395\n",
      "Gap primal dual : 4792 4645.4484606428105 2647.786496762065\n",
      "Gap primal dual : 4793 3409.888141139741 2646.704442367266\n",
      "Gap primal dual : 4794 2833.7782701913707 2645.6230510606697\n",
      "Gap primal dual : 4795 4058.9589678046254 2644.54232280984\n",
      "Gap primal dual : 4796 3111.6111832891816 2643.462256916411\n",
      "Gap primal dual : 4797 2152.991250743761 2642.3828519709914\n",
      "Gap primal dual : 4798 3376.366291191047 2641.3041076422555\n"
     ]
    },
    {
     "name": "stderr",
     "output_type": "stream",
     "text": []
    },
    {
     "name": "stdout",
     "output_type": "stream",
     "text": [
      "Gap primal dual : 4799 4238.2018886930255 2640.226024907925\n",
      "Gap primal dual : 4800 3618.6513085281454 2639.1486014436414\n",
      "Gap primal dual : 4801 3507.6666953053764 2638.07183784181\n",
      "Gap primal dual : 4802 3658.70517537783 2636.9957324505795\n",
      "Gap primal dual : 4803 4208.156521165161 2635.920285460613\n",
      "Gap primal dual : 4804 3469.9030636253988 2634.845495897552\n",
      "Gap primal dual : 4805 3543.93428398301 2633.771364503168\n",
      "Gap primal dual : 4806 3388.3216211036306 2632.6978893099936\n",
      "Gap primal dual : 4807 3368.0294579167976 2631.62506997676\n",
      "Gap primal dual : 4808 4978.407150322263 2630.552906661651\n"
     ]
    },
    {
     "name": "stderr",
     "output_type": "stream",
     "text": []
    },
    {
     "name": "stdout",
     "output_type": "stream",
     "text": [
      "Gap primal dual : 4809 2922.660057181627 2629.4813985501573\n",
      "Gap primal dual : 4810 2089.981107723708 2628.410544910257\n",
      "Gap primal dual : 4811 3993.2980622255586 2627.3403451091453\n",
      "Gap primal dual : 4812 3564.5168507173917 2626.270799037489\n",
      "Gap primal dual : 4813 2274.51568608908 2625.2019056599797\n",
      "Gap primal dual : 4814 2913.15990915558 2624.1336647676007\n",
      "Gap primal dual : 4815 3981.535660669707 2623.0660756705297\n",
      "Gap primal dual : 4816 4027.258289459518 2621.999138270659\n",
      "Gap primal dual : 4817 2957.4408511610222 2620.932851486387\n",
      "Gap primal dual : 4818 4255.216907821062 2619.86721508221\n"
     ]
    },
    {
     "name": "stderr",
     "output_type": "stream",
     "text": []
    },
    {
     "name": "stdout",
     "output_type": "stream",
     "text": [
      "Gap primal dual : 4819 3926.436620663289 2618.802228354479\n",
      "Gap primal dual : 4820 3046.747412989269 2617.7378906867016\n",
      "Gap primal dual : 4821 4059.477801682018 2616.674201929526\n",
      "Gap primal dual : 4822 3984.6262302421665 2615.611161362926\n",
      "Gap primal dual : 4823 3068.872626467855 2614.5487688176286\n",
      "Gap primal dual : 4824 3480.4463128561233 2613.487022878069\n",
      "Gap primal dual : 4825 3278.127325800163 2612.4259241458244\n",
      "Gap primal dual : 4826 2845.3874862468842 2611.3654713097117\n",
      "Gap primal dual : 4827 2930.602038662258 2610.3056633791557\n",
      "Gap primal dual : 4828 4236.637685151085 2609.246501001231\n"
     ]
    },
    {
     "name": "stderr",
     "output_type": "stream",
     "text": []
    },
    {
     "name": "stdout",
     "output_type": "stream",
     "text": [
      "Gap primal dual : 4829 2966.0486043198175 2608.1879836693693\n",
      "Gap primal dual : 4830 2177.2399557055764 2607.130109346477\n",
      "Gap primal dual : 4831 4002.847092662014 2606.0728791128568\n",
      "Gap primal dual : 4832 3671.0194492269434 2605.016291789403\n",
      "Gap primal dual : 4833 2852.6139126557973 2603.960346421442\n",
      "Gap primal dual : 4834 3485.0891396172556 2602.9050436360667\n",
      "Gap primal dual : 4835 3598.7059398313504 2601.8503823371475\n",
      "Gap primal dual : 4836 2791.1899268480224 2600.7963614161245\n",
      "Gap primal dual : 4837 1901.1691067632778 2599.742980700065\n",
      "Gap primal dual : 4838 3432.6010839020096 2598.6902396338064\n"
     ]
    },
    {
     "name": "stderr",
     "output_type": "stream",
     "text": []
    },
    {
     "name": "stdout",
     "output_type": "stream",
     "text": [
      "Gap primal dual : 4839 4245.805142810452 2597.6381389611797\n",
      "Gap primal dual : 4840 3587.079058437006 2596.5866764924126\n",
      "Gap primal dual : 4841 3142.9229709397796 2595.535851181991\n",
      "Gap primal dual : 4842 3406.539698659289 2594.485665769261\n",
      "Gap primal dual : 4843 4240.448684079803 2593.436116304612\n",
      "Gap primal dual : 4844 3441.6825887380473 2592.387203790925\n",
      "Gap primal dual : 4845 4186.525221807072 2591.338927542968\n",
      "Gap primal dual : 4846 2933.7566866260718 2590.291287163459\n",
      "Gap primal dual : 4847 3992.950342572132 2589.244281121175\n",
      "Gap primal dual : 4848 4501.906222872631 2588.1979104311663\n"
     ]
    },
    {
     "name": "stderr",
     "output_type": "stream",
     "text": []
    },
    {
     "name": "stdout",
     "output_type": "stream",
     "text": [
      "Gap primal dual : 4849 3144.44533692848 2587.1521743463877\n",
      "Gap primal dual : 4850 2421.9879160144346 2586.1070717127454\n",
      "Gap primal dual : 4851 3075.7861228696047 2585.0626021147204\n",
      "Gap primal dual : 4852 4228.977359778057 2584.018764944163\n",
      "Gap primal dual : 4853 3371.1601027859947 2582.975559713872\n",
      "Gap primal dual : 4854 2653.8610897933872 2581.9329862768664\n",
      "Gap primal dual : 4855 4222.102230268928 2580.891043952575\n",
      "Gap primal dual : 4856 3463.7278162070993 2579.849732157832\n",
      "Gap primal dual : 4857 2547.0622593176777 2578.809050762526\n",
      "Gap primal dual : 4858 2330.523199473865 2577.768998586684\n"
     ]
    },
    {
     "name": "stderr",
     "output_type": "stream",
     "text": []
    },
    {
     "name": "stdout",
     "output_type": "stream",
     "text": [
      "Gap primal dual : 4859 3422.868425724932 2576.7295756904728\n",
      "Gap primal dual : 4860 3031.232000651845 2575.690781687743\n",
      "Gap primal dual : 4861 2620.7144721456602 2574.652614884564\n",
      "Gap primal dual : 4862 3944.216730825735 2573.61507602897\n",
      "Gap primal dual : 4863 3295.5251982710342 2572.5781643655637\n",
      "Gap primal dual : 4864 2079.4027700964634 2571.5418786267423\n",
      "Gap primal dual : 4865 2895.716871247255 2570.506219342393\n",
      "Gap primal dual : 4866 4317.902199266822 2569.4711862914387\n",
      "Gap primal dual : 4867 3890.664115180445 2568.4367774666384\n",
      "Gap primal dual : 4868 2813.9909866676985 2567.4029932355425\n"
     ]
    },
    {
     "name": "stderr",
     "output_type": "stream",
     "text": []
    },
    {
     "name": "stdout",
     "output_type": "stream",
     "text": [
      "Gap primal dual : 4869 4450.129024438359 2566.369833122715\n",
      "Gap primal dual : 4870 3209.2888857531543 2565.3372965257295\n",
      "Gap primal dual : 4871 2852.2995136750965 2564.305382298663\n",
      "Gap primal dual : 4872 2570.2342586159484 2563.2740917133788\n",
      "Gap primal dual : 4873 3875.7205130342695 2562.243422638298\n",
      "Gap primal dual : 4874 3705.489111525085 2561.213375058991\n",
      "Gap primal dual : 4875 4229.274382996336 2560.183948192308\n",
      "Gap primal dual : 4876 3553.430833409994 2559.1551424383556\n",
      "Gap primal dual : 4877 3533.0449281018714 2558.126955986052\n",
      "Gap primal dual : 4878 3873.001531354559 2557.099389226174\n"
     ]
    },
    {
     "name": "stderr",
     "output_type": "stream",
     "text": []
    },
    {
     "name": "stdout",
     "output_type": "stream",
     "text": [
      "Gap primal dual : 4879 3378.285867367596 2556.0724423633555\n",
      "Gap primal dual : 4880 4218.446522495347 2555.0461130822555\n",
      "Gap primal dual : 4881 3064.202366989855 2554.0204023500073\n",
      "Gap primal dual : 4882 4352.006893851878 2552.995308241811\n",
      "Gap primal dual : 4883 3914.1509676363903 2551.9708315627945\n",
      "Gap primal dual : 4884 3577.627094021691 2550.946972488643\n",
      "Gap primal dual : 4885 2905.264499022226 2549.9237285941535\n",
      "Gap primal dual : 4886 3168.3492344815104 2548.9011001383437\n",
      "Gap primal dual : 4887 3491.496773171758 2547.879086679843\n",
      "Gap primal dual : 4888 3695.152333902665 2546.8576877652954\n"
     ]
    },
    {
     "name": "stderr",
     "output_type": "stream",
     "text": []
    },
    {
     "name": "stdout",
     "output_type": "stream",
     "text": [
      "Gap primal dual : 4889 2602.4732533778324 2545.8369033858417\n",
      "Gap primal dual : 4890 3894.830086359793 2544.816732452544\n",
      "Gap primal dual : 4891 3506.004534991627 2543.7971744549595\n",
      "Gap primal dual : 4892 2659.4687578791672 2542.7782289884567\n",
      "Gap primal dual : 4893 2878.6216697375153 2541.7598952989333\n",
      "Gap primal dual : 4894 3749.615230496297 2540.7421740469367\n",
      "Gap primal dual : 4895 4047.892981192337 2539.725063636482\n",
      "Gap primal dual : 4896 3062.151514561815 2538.708563232647\n",
      "Gap primal dual : 4897 3019.844610520588 2537.6926737777458\n",
      "Gap primal dual : 4898 3686.796963012611 2536.677393611389\n"
     ]
    },
    {
     "name": "stderr",
     "output_type": "stream",
     "text": []
    },
    {
     "name": "stdout",
     "output_type": "stream",
     "text": [
      "Gap primal dual : 4899 2827.3874607339144 2535.662722546961\n",
      "Gap primal dual : 4900 3634.8489737865225 2534.6486603266712\n",
      "Gap primal dual : 4901 4194.947292732939 2533.6352061844063\n",
      "Gap primal dual : 4902 3685.8175668438344 2532.622359876454\n",
      "Gap primal dual : 4903 3176.474581121863 2531.6101205004106\n",
      "Gap primal dual : 4904 3595.362496460299 2530.598487435662\n",
      "Gap primal dual : 4905 3579.6174394233553 2529.587462076392\n",
      "Gap primal dual : 4906 4158.148836909904 2528.5770416126597\n",
      "Gap primal dual : 4907 3666.4232102436786 2527.567226633303\n",
      "Gap primal dual : 4908 2256.670369260407 2526.5580162549672\n"
     ]
    },
    {
     "name": "stderr",
     "output_type": "stream",
     "text": []
    },
    {
     "name": "stdout",
     "output_type": "stream",
     "text": [
      "Gap primal dual : 4909 1913.1638341412104 2525.549410177053\n",
      "Gap primal dual : 4910 3431.0534178518237 2524.541408296257\n",
      "Gap primal dual : 4911 3701.3150494421598 2523.534009318606\n",
      "Gap primal dual : 4912 3227.937889749981 2522.5272134244296\n",
      "Gap primal dual : 4913 4133.359482120188 2521.5210200506654\n",
      "Gap primal dual : 4914 3400.6462124082286 2520.5154284790888\n",
      "Gap primal dual : 4915 3874.820875574751 2519.510438217538\n",
      "Gap primal dual : 4916 4016.7283395554414 2518.5060490098836\n",
      "Gap primal dual : 4917 2811.024985982759 2517.502260144596\n",
      "Gap primal dual : 4918 3576.1045422743987 2516.4990712990857\n"
     ]
    },
    {
     "name": "stderr",
     "output_type": "stream",
     "text": []
    },
    {
     "name": "stdout",
     "output_type": "stream",
     "text": [
      "Gap primal dual : 4919 3870.130132240376 2515.4964816596416\n",
      "Gap primal dual : 4920 3067.504002537847 2514.494491593229\n",
      "Gap primal dual : 4921 2262.369865697462 2513.493100175613\n",
      "Gap primal dual : 4922 3957.0263879203853 2512.492306169793\n",
      "Gap primal dual : 4923 3871.058065217063 2511.4921105269136\n",
      "Gap primal dual : 4924 3525.3851765047925 2510.492511204295\n",
      "Gap primal dual : 4925 3769.828256252212 2509.4935096850336\n",
      "Gap primal dual : 4926 3927.216844741315 2508.49510353737\n",
      "Gap primal dual : 4927 3690.7837936616106 2507.497293105179\n",
      "Gap primal dual : 4928 3041.6990309598623 2506.5000772307935\n"
     ]
    },
    {
     "name": "stderr",
     "output_type": "stream",
     "text": []
    },
    {
     "name": "stdout",
     "output_type": "stream",
     "text": [
      "Gap primal dual : 4929 4155.679398304695 2505.50345777449\n",
      "Gap primal dual : 4930 3274.993927557001 2504.507431798239\n",
      "Gap primal dual : 4931 2640.3055577551836 2503.5119990832773\n",
      "Gap primal dual : 4932 4468.599665120174 2502.517160054815\n",
      "Gap primal dual : 4933 3595.199704781213 2501.5229147799914\n",
      "Gap primal dual : 4934 3604.7462419006833 2500.5292612386856\n",
      "Gap primal dual : 4935 4576.091957590265 2499.536199117452\n",
      "Gap primal dual : 4936 3457.4154480782036 2498.5437291902085\n",
      "Gap primal dual : 4937 1921.8695180725933 2497.551849991722\n",
      "Gap primal dual : 4938 1702.5467432758944 2496.5605614333094\n"
     ]
    },
    {
     "name": "stderr",
     "output_type": "stream",
     "text": []
    },
    {
     "name": "stdout",
     "output_type": "stream",
     "text": [
      "Gap primal dual : 4939 1702.5467432758944 2496.5605614333094\n",
      "Gap primal dual : 4940 1702.5467432758944 2496.5605614333094\n",
      "Gap primal dual : 4941 1702.5467432758944 2496.5605614333094\n",
      "Gap primal dual : 4942 1702.5467432758944 2496.5605614333094\n",
      "Gap primal dual : 4943 1702.5467432758944 2496.5605614333094\n",
      "Gap primal dual : 4944 1702.5467432758944 2496.5605614333094\n",
      "Gap primal dual : 4945 1702.5467432758944 2496.5605614333094\n",
      "Gap primal dual : 4946 1702.5467432758944 2496.5605614333094\n",
      "Gap primal dual : 4947 1702.5467432758944 2496.5605614333094\n",
      "Gap primal dual : 4948 1702.5467432758944 2496.5605614333094\n"
     ]
    },
    {
     "name": "stderr",
     "output_type": "stream",
     "text": []
    },
    {
     "name": "stdout",
     "output_type": "stream",
     "text": [
      "Gap primal dual : 4949 1702.5467432758944 2496.5605614333094\n",
      "Gap primal dual : 4950 1702.5467432758944 2496.5605614333094\n",
      "Gap primal dual : 4951 1702.5467432758944 2496.5605614333094\n",
      "Gap primal dual : 4952 1702.5467432758944 2496.5605614333094\n",
      "Gap primal dual : 4953 1702.5467432758944 2496.5605614333094\n",
      "Gap primal dual : 4954 1702.5467432758944 2496.5605614333094\n",
      "Gap primal dual : 4955 1702.5467432758944 2496.5605614333094\n",
      "Gap primal dual : 4956 1702.5467432758944 2496.5605614333094\n",
      "Gap primal dual : 4957 1702.5467432758944 2496.5605614333094\n",
      "Gap primal dual : 4958 1702.5467432758944 2496.5605614333094\n"
     ]
    },
    {
     "name": "stderr",
     "output_type": "stream",
     "text": []
    },
    {
     "name": "stdout",
     "output_type": "stream",
     "text": [
      "Gap primal dual : 4959 1702.5467432758944 2496.5605614333094\n",
      "Gap primal dual : 4960 1702.5467432758944 2496.5605614333094\n",
      "Gap primal dual : 4961 1702.5467432758944 2496.5605614333094\n",
      "Gap primal dual : 4962 1702.5467432758944 2496.5605614333094\n",
      "Gap primal dual : 4963 1702.5467432758944 2496.5605614333094\n",
      "Gap primal dual : 4964 1702.5467432758944 2496.5605614333094\n",
      "Gap primal dual : 4965 1702.5467432758944 2496.5605614333094\n",
      "Gap primal dual : 4966 1702.5467432758944 2496.5605614333094\n",
      "Gap primal dual : 4967 1702.5467432758944 2496.5605614333094\n",
      "Gap primal dual : 4968 1702.5467432758944 2496.5605614333094\n"
     ]
    },
    {
     "name": "stderr",
     "output_type": "stream",
     "text": []
    },
    {
     "name": "stdout",
     "output_type": "stream",
     "text": [
      "Gap primal dual : 4969 1702.5467432758944 2496.5605614333094\n",
      "Gap primal dual : 4970 1702.5467432758944 2496.5605614333094\n",
      "Gap primal dual : 4971 1702.5467432758944 2496.5605614333094\n",
      "Gap primal dual : 4972 1702.5467432758944 2496.5605614333094\n",
      "Gap primal dual : 4973 1702.5467432758944 2496.5605614333094\n",
      "Gap primal dual : 4974 1702.5467432758944 2496.5605614333094\n",
      "Gap primal dual : 4975 1702.5467432758944 2496.5605614333094\n",
      "Gap primal dual : 4976 1702.5467432758944 2496.5605614333094\n",
      "Gap primal dual : 4977 1702.5467432758944 2496.5605614333094\n",
      "Gap primal dual : 4978 1702.5467432758944 2496.5605614333094\n"
     ]
    },
    {
     "name": "stderr",
     "output_type": "stream",
     "text": []
    },
    {
     "name": "stdout",
     "output_type": "stream",
     "text": [
      "Gap primal dual : 4979 1702.5467432758944 2496.5605614333094\n",
      "Gap primal dual : 4980 1702.5467432758944 2496.5605614333094\n",
      "Gap primal dual : 4981 1702.5467432758944 2496.5605614333094\n",
      "Gap primal dual : 4982 1702.5467432758944 2496.5605614333094\n",
      "Gap primal dual : 4983 1702.5467432758944 2496.5605614333094\n",
      "Gap primal dual : 4984 1702.5467432758944 2496.5605614333094\n",
      "Gap primal dual : 4985 1702.5467432758944 2496.5605614333094\n",
      "Gap primal dual : 4986 1702.5467432758944 2496.5605614333094\n",
      "Gap primal dual : 4987 1702.5467432758944 2496.5605614333094\n",
      "Gap primal dual : 4988 1702.5467432758944 2496.5605614333094\n"
     ]
    },
    {
     "name": "stderr",
     "output_type": "stream",
     "text": []
    },
    {
     "name": "stdout",
     "output_type": "stream",
     "text": [
      "Gap primal dual : 4989 1702.5467432758944 2496.5605614333094\n",
      "Gap primal dual : 4990 1702.5467432758944 2496.5605614333094\n",
      "Gap primal dual : 4991 1702.5467432758944 2496.5605614333094\n",
      "Gap primal dual : 4992 1702.5467432758944 2496.5605614333094\n",
      "Gap primal dual : 4993 1702.5467432758944 2496.5605614333094\n",
      "Gap primal dual : 4994 1702.5467432758944 2496.5605614333094\n",
      "Gap primal dual : 4995 1702.5467432758944 2496.5605614333094\n",
      "Gap primal dual : 4996 1702.5467432758944 2496.5605614333094\n",
      "Gap primal dual : 4997 1702.5467432758944 2496.5605614333094\n",
      "Gap primal dual : 4998 1702.5467432758944 2496.5605614333094\n"
     ]
    },
    {
     "name": "stderr",
     "output_type": "stream",
     "text": [
      "100%|██████████| 5000/5000 [48:22<00:00,  1.72iteration/s]"
     ]
    },
    {
     "name": "stdout",
     "output_type": "stream",
     "text": [
      "Gap primal dual : 4999 1702.5467432758944 2496.5605614333094\n",
      "Gap primal dual :  4199.107304709203\n",
      "Objective value is :  4602.205292445041\n"
     ]
    },
    {
     "name": "stderr",
     "output_type": "stream",
     "text": [
      "\n"
     ]
    }
   ],
   "source": [
    "K=5000\n",
    "nk=20\n",
    "n_pre=100\n",
    "np.random.seed(0)\n",
    "x_bar_k_1,df_1=standard.FW_st_solve(actual_time, analyse=True, K=K, nk=nk,n_pre=n_pre)"
   ]
  },
  {
   "cell_type": "code",
   "execution_count": 15,
   "metadata": {},
   "outputs": [
    {
     "data": {
      "image/png": "[encoded data removed]",
      "text/plain": [
       "<Figure size 432x288 with 1 Axes>"
      ]
     },
     "metadata": {
      "needs_background": "light"
     },
     "output_type": "display_data"
    }
   ],
   "source": [
    "plt.plot([x for x in range(5000)], df_1['best_score'].values, label='50vehicules,100 iterations,50 pre-iterations')\n",
    "# Add a title and axis labels\n",
    "plt.title('Score evolution with different n_pre')\n",
    "plt.xlabel('number of iterations')\n",
    "#plt.ylabel('y')\n",
    "\n",
    "#for i in range(len(x)):\n",
    "#    #plt.plot(x[i], mean0[i], 'b.')\n",
    " #   plt.plot(x[i], mean1[i], 'o',markersize=3,color='orange') \n",
    "  #  plt.plot(x[i], mean2[i], 'gv',markersize=3) \n",
    "#plt.ylim(0, 100000)\n",
    "plt.yscale('log')\n",
    "plt.xscale('log')\n",
    "# Add a legend\n",
    "plt.legend()\n",
    "\n",
    "# Show the plot\n",
    "plt.show()"
   ]
  },
  {
   "cell_type": "code",
   "execution_count": 16,
   "metadata": {},
   "outputs": [
    {
     "data": {
      "image/png": "[encoded data removed]",
      "text/plain": [
       "<Figure size 432x288 with 1 Axes>"
      ]
     },
     "metadata": {
      "needs_background": "light"
     },
     "output_type": "display_data"
    }
   ],
   "source": [
    "plt.plot([x for x in range(1,5000)], df_1['gap_primal_dual'].values[1:], label='50vehicules,100 iterations,50 pre-iterations')\n",
    "# Add a title and axis labels\n",
    "plt.title('Score evolution with different n_pre')\n",
    "plt.xlabel('number of iterations')\n",
    "#plt.ylabel('y')\n",
    "\n",
    "#for i in range(len(x)):\n",
    "#    #plt.plot(x[i], mean0[i], 'b.')\n",
    " #   plt.plot(x[i], mean1[i], 'o',markersize=3,color='orange') \n",
    "  #  plt.plot(x[i], mean2[i], 'gv',markersize=3) \n",
    "#plt.ylim(0, 100000)\n",
    "plt.yscale('log')\n",
    "plt.xscale('log')\n",
    "# Add a legend\n",
    "plt.legend()\n",
    "\n",
    "# Show the plot\n",
    "plt.show()"
   ]
  },
  {
   "cell_type": "code",
   "execution_count": 17,
   "metadata": {},
   "outputs": [
    {
     "name": "stdout",
     "output_type": "stream",
     "text": [
      "alpha: 0.01 Beta_min: 10000 Beta_max: 10000 Gamma: 100\n",
      "------------------------------------------------------\n",
      "t\t charge net bl\t charge net up\t y_t^up/N \t Ecart de Service\n",
      "0 \t 8221.0 \t -11779.0 \t 20000.0 \t 0.0\n",
      "1 \t 8266.0 \t -11734.0 \t 20000.0 \t 0.0\n",
      "2 \t 8254.0 \t -11746.0 \t 20000.0 \t 0.0\n",
      "3 \t 8049.0 \t -11948.0 \t 20000.0 \t -3.0\n",
      "4 \t 8047.0 \t -11948.0 \t 20000.0 \t -5.0\n",
      "5 \t 8048.0 \t -11952.0 \t 20000.0 \t 0.0\n",
      "6 \t 8204.0 \t -11796.0 \t 20000.0 \t 0.0\n",
      "7 \t 8502.0 \t -11495.0 \t 20000.0 \t -3.0\n",
      "8 \t 8505.0 \t -11496.0 \t 20000.0 \t 0.0\n",
      "9 \t 9104.0 \t -10897.0 \t 20000.0 \t 1.0\n",
      "------------------------------------------------------\n",
      "f_val: 0.4072500347769287 neg_pos_part: 0.0 cost_electricity: 2080.0196962356536 soc: 2521.7783461746126\n",
      "value of the objective function: 4602.205292445044\n",
      "------------------------------------------------------\n",
      "t\t s_i_min\t s_i_T\t s_i_max\n",
      "------------------------------------------------------\n",
      "Vehicle  0 \t S_i_T: 29999.999999829233 \t\n",
      "S_i_min: [    0.             0.             0.             0.\n",
      "     0.          1288.42222042  5038.42222042  8788.42222042\n",
      " 12538.42222042 16288.42222042]\n",
      "S_i_max: 30000.0\n",
      "------------------------------------------------------\n",
      "Vehicle  1 \t S_i_T: 28611.127950748643 \t\n",
      "S_i_min: [    0.             0.             0.             0.\n",
      "     0.           178.10990626  3928.10990626  7678.10990626\n",
      " 11428.10990626 15178.10990626]\n",
      "S_i_max: 30000.0\n",
      "------------------------------------------------------\n",
      "Vehicle  2 \t S_i_T: 29999.69444291922 \t\n",
      "S_i_min: [    0.             0.             0.             0.\n",
      "     0.           624.06443181  4374.06443181  8124.06443181\n",
      " 11874.06443181 15624.06443181]\n",
      "S_i_max: 30000.0\n",
      "------------------------------------------------------\n",
      "Vehicle  3 \t S_i_T: 29999.99999982154 \t\n",
      "S_i_min: [    0.             0.             0.             0.\n",
      "     0.          1149.76334418  4899.76334418  8649.76334418\n",
      " 12399.76334418 16149.76334418]\n",
      "S_i_max: 30000.0\n",
      "------------------------------------------------------\n",
      "Vehicle  4 \t S_i_T: 28603.59502792748 \t\n",
      "S_i_min: [    0.             0.             0.             0.\n",
      "     0.            96.59143153  3846.59143153  7596.59143153\n",
      " 11346.59143153 15096.59143153]\n",
      "S_i_max: 30000.0\n",
      "------------------------------------------------------\n",
      "Vehicle  5 \t S_i_T: 29999.64515638496 \t\n",
      "S_i_min: [    0.             0.             0.             0.\n",
      "     0.           776.75858104  4526.75858104  8276.75858104\n",
      " 12026.75858104 15776.75858104]\n",
      "S_i_max: 30000.0\n",
      "------------------------------------------------------\n",
      "Vehicle  6 \t S_i_T: 29999.89900341169 \t\n",
      "S_i_min: [    0.             0.             0.             0.\n",
      "     0.             0.          3689.58706286  7439.58706286\n",
      " 11189.58706286 14939.58706286]\n",
      "S_i_max: 30000.0\n",
      "------------------------------------------------------\n",
      "Vehicle  7 \t S_i_T: 29999.99999983749 \t\n",
      "S_i_min: [    0.             0.             0.             0.\n",
      "     0.             0.          3017.63674602  6767.63674602\n",
      " 10517.63674602 14267.63674602]\n",
      "S_i_max: 30000.0\n",
      "------------------------------------------------------\n",
      "Vehicle  8 \t S_i_T: 29999.985364041644 \t\n",
      "S_i_min: [    0.             0.             0.             0.\n",
      "     0.             0.          2263.69408145  6013.69408145\n",
      "  9763.69408145 13513.69408145]\n",
      "S_i_max: 30000.0\n",
      "------------------------------------------------------\n",
      "Vehicle  9 \t S_i_T: 29999.999999811273 \t\n",
      "S_i_min: [    0.             0.             0.             0.\n",
      "     0.          1351.56136502  5101.56136502  8851.56136502\n",
      " 12601.56136502 16351.56136502]\n",
      "S_i_max: 30000.0\n",
      "------------------------------------------------------\n",
      "Vehicle  10 \t S_i_T: 28591.354453407657 \t\n",
      "S_i_min: [    0.             0.             0.             0.\n",
      "     0.             0.          3715.96306707  7465.96306707\n",
      " 11215.96306707 14965.96306707]\n",
      "S_i_max: 30000.0\n",
      "------------------------------------------------------\n",
      "Vehicle  11 \t S_i_T: 29999.999999823158 \t\n",
      "S_i_min: [    0.            0.            0.            0.            0.\n",
      "   300.0430282  4050.0430282  7800.0430282 11550.0430282 15300.0430282]\n",
      "S_i_max: 30000.0\n",
      "------------------------------------------------------\n",
      "Vehicle  12 \t S_i_T: 29999.809517977705 \t\n",
      "S_i_min: [    0.             0.             0.             0.\n",
      "     0.          1488.57575518  5238.57575518  8988.57575518\n",
      " 12738.57575518 16488.57575518]\n",
      "S_i_max: 30000.0\n",
      "------------------------------------------------------\n",
      "Vehicle  13 \t S_i_T: 29999.99999953467 \t\n",
      "S_i_min: [    0.             0.             0.             0.\n",
      "     0.          1183.78963289  4933.78963289  8683.78963289\n",
      " 12433.78963289 16183.78963289]\n",
      "S_i_max: 30000.0\n",
      "------------------------------------------------------\n",
      "Vehicle  14 \t S_i_T: 29999.999999792482 \t\n",
      "S_i_min: [    0.             0.             0.             0.\n",
      "     0.             0.          3091.07637981  6841.07637981\n",
      " 10591.07637981 14341.07637981]\n",
      "S_i_max: 30000.0\n",
      "------------------------------------------------------\n",
      "Vehicle  15 \t S_i_T: 29910.32856677844 \t\n",
      "S_i_min: [    0.             0.             0.             0.\n",
      "     0.           747.21373654  4497.21373654  8247.21373654\n",
      " 11997.21373654 15747.21373654]\n",
      "S_i_max: 30000.0\n",
      "------------------------------------------------------\n",
      "Vehicle  16 \t S_i_T: 29999.999999815238 \t\n",
      "S_i_min: [    0.             0.             0.             0.\n",
      "     0.           690.53598225  4440.53598225  8190.53598225\n",
      " 11940.53598225 15690.53598225]\n",
      "S_i_max: 30000.0\n",
      "------------------------------------------------------\n",
      "Vehicle  17 \t S_i_T: 29999.999999827964 \t\n",
      "S_i_min: [    0.             0.             0.             0.\n",
      "     0.           214.63552562  3964.63552562  7714.63552562\n",
      " 11464.63552562 15214.63552562]\n",
      "S_i_max: 30000.0\n",
      "------------------------------------------------------\n",
      "Vehicle  18 \t S_i_T: 29999.999999795917 \t\n",
      "S_i_min: [    0.             0.             0.             0.\n",
      "     0.          1206.43934112  4956.43934112  8706.43934112\n",
      " 12456.43934112 16206.43934112]\n",
      "S_i_max: 30000.0\n",
      "------------------------------------------------------\n",
      "Vehicle  19 \t S_i_T: 29999.687655719517 \t\n",
      "S_i_min: [    0.             0.             0.             0.\n",
      "     0.             0.          3165.04911509  6915.04911509\n",
      " 10665.04911509 14415.04911509]\n",
      "S_i_max: 30000.0\n",
      "------------------------------------------------------\n",
      "Vehicle  20 \t S_i_T: 29999.7205417926 \t\n",
      "S_i_min: [    0.             0.             0.             0.\n",
      "     0.           675.12604782  4425.12604782  8175.12604782\n",
      " 11925.12604782 15675.12604782]\n",
      "S_i_max: 30000.0\n",
      "------------------------------------------------------\n",
      "Vehicle  21 \t S_i_T: 28529.306659524864 \t\n",
      "S_i_min: [    0.             0.             0.             0.\n",
      "     0.             0.          3053.74569303  6803.74569303\n",
      " 10553.74569303 14303.74569303]\n",
      "S_i_max: 30000.0\n",
      "------------------------------------------------------\n",
      "Vehicle  22 \t S_i_T: 29999.999999817483 \t\n",
      "S_i_min: [0.00000000e+00 0.00000000e+00 0.00000000e+00 0.00000000e+00\n",
      " 0.00000000e+00 7.07171364e+00 3.75707171e+03 7.50707171e+03\n",
      " 1.12570717e+04 1.50070717e+04]\n",
      "S_i_max: 30000.0\n",
      "------------------------------------------------------\n",
      "Vehicle  23 \t S_i_T: 29999.999999790696 \t\n",
      "S_i_min: [    0.             0.             0.             0.\n",
      "     0.             0.          3493.97358243  7243.97358243\n",
      " 10993.97358243 14743.97358243]\n",
      "S_i_max: 30000.0\n",
      "------------------------------------------------------\n",
      "Vehicle  24 \t S_i_T: 29914.70387240646 \t\n",
      "S_i_min: [    0.             0.             0.             0.\n",
      "     0.           628.17296306  4378.17296306  8128.17296306\n",
      " 11878.17296306 15628.17296306]\n",
      "S_i_max: 30000.0\n",
      "------------------------------------------------------\n",
      "Vehicle  25 \t S_i_T: 28684.924180148504 \t\n",
      "S_i_min: [    0.             0.             0.             0.\n",
      "     0.           964.60498195  4714.60498195  8464.60498195\n",
      " 12214.60498195 15964.60498195]\n",
      "S_i_max: 30000.0\n",
      "------------------------------------------------------\n",
      "Vehicle  26 \t S_i_T: 29272.03207615429 \t\n",
      "S_i_min: [    0.             0.             0.             0.\n",
      "     0.           698.56359861  4448.56359861  8198.56359861\n",
      " 11948.56359861 15698.56359861]\n",
      "S_i_max: 30000.0\n",
      "------------------------------------------------------\n",
      "Vehicle  27 \t S_i_T: 29999.999999833715 \t\n",
      "S_i_min: [    0.             0.             0.             0.\n",
      "     0.           848.40166227  4598.40166227  8348.40166227\n",
      " 12098.40166227 15848.40166227]\n",
      "S_i_max: 30000.0\n",
      "------------------------------------------------------\n",
      "Vehicle  28 \t S_i_T: 29999.999999811353 \t\n",
      "S_i_min: [    0.             0.             0.             0.\n",
      "     0.             0.          2678.62532033  6428.62532033\n",
      " 10178.62532033 13928.62532033]\n",
      "S_i_max: 30000.0\n",
      "------------------------------------------------------\n",
      "Vehicle  29 \t S_i_T: 29999.999999814507 \t\n",
      "S_i_min: [    0.             0.             0.             0.\n",
      "     0.             0.          3301.34208394  7051.34208394\n",
      " 10801.34208394 14551.34208394]\n",
      "S_i_max: 30000.0\n",
      "------------------------------------------------------\n",
      "Vehicle  30 \t S_i_T: 29999.999999834483 \t\n",
      "S_i_min: [    0.             0.             0.             0.\n",
      "     0.            69.61126267  3819.61126267  7569.61126267\n",
      " 11319.61126267 15069.61126267]\n",
      "S_i_max: 30000.0\n",
      "------------------------------------------------------\n",
      "Vehicle  31 \t S_i_T: 29999.87142525586 \t\n",
      "S_i_min: [    0.             0.             0.             0.\n",
      "     0.           268.35733628  4018.35733628  7768.35733628\n",
      " 11518.35733628 15268.35733628]\n",
      "S_i_max: 30000.0\n",
      "------------------------------------------------------\n",
      "Vehicle  32 \t S_i_T: 29999.701597537918 \t\n",
      "S_i_min: [    0.             0.             0.             0.\n",
      "     0.             0.          2565.22789913  6315.22789913\n",
      " 10065.22789913 13815.22789913]\n",
      "S_i_max: 30000.0\n",
      "------------------------------------------------------\n",
      "Vehicle  33 \t S_i_T: 29305.31540479641 \t\n",
      "S_i_min: [    0.            0.            0.            0.            0.\n",
      "   936.3461556  4686.3461556  8436.3461556 12186.3461556 15936.3461556]\n",
      "S_i_max: 30000.0\n",
      "------------------------------------------------------\n",
      "Vehicle  34 \t S_i_T: 28927.968971953014 \t\n",
      "S_i_min: [    0.             0.             0.             0.\n",
      "     0.             0.          3481.87691669  7231.87691669\n",
      " 10981.87691669 14731.87691669]\n",
      "S_i_max: 30000.0\n",
      "------------------------------------------------------\n",
      "Vehicle  35 \t S_i_T: 29999.9999998176 \t\n",
      "S_i_min: [    0.             0.             0.             0.\n",
      "     0.             0.          3358.34239639  7108.34239639\n",
      " 10858.34239639 14608.34239639]\n",
      "S_i_max: 30000.0\n",
      "------------------------------------------------------\n",
      "Vehicle  36 \t S_i_T: 29078.86896570072 \t\n",
      "S_i_min: [    0.             0.             0.             0.\n",
      "     0.             0.          2320.37568703  6070.37568703\n",
      "  9820.37568703 13570.37568703]\n",
      "S_i_max: 30000.0\n",
      "------------------------------------------------------\n",
      "Vehicle  37 \t S_i_T: 28731.180411519133 \t\n",
      "S_i_min: [    0.             0.             0.             0.\n",
      "     0.          1458.27373271  5208.27373271  8958.27373271\n",
      " 12708.27373271 16458.27373271]\n",
      "S_i_max: 30000.0\n",
      "------------------------------------------------------\n",
      "Vehicle  38 \t S_i_T: 29999.999999826454 \t\n",
      "S_i_min: [    0.             0.             0.             0.\n",
      "     0.          1228.22147492  4978.22147492  8728.22147492\n",
      " 12478.22147492 16228.22147492]\n",
      "S_i_max: 30000.0\n",
      "------------------------------------------------------\n",
      "Vehicle  39 \t S_i_T: 29277.273093474334 \t\n",
      "S_i_min: [    0.             0.             0.             0.\n",
      "     0.             0.          2432.18385227  6182.18385227\n",
      "  9932.18385227 13682.18385227]\n",
      "S_i_max: 30000.0\n",
      "------------------------------------------------------\n",
      "Vehicle  40 \t S_i_T: 29999.792415298398 \t\n",
      "S_i_min: [    0.             0.             0.             0.\n",
      "     0.             0.          3269.48365831  7019.48365831\n",
      " 10769.48365831 14519.48365831]\n",
      "S_i_max: 30000.0\n",
      "------------------------------------------------------\n",
      "Vehicle  41 \t S_i_T: 29955.95192044189 \t\n",
      "S_i_min: [    0.             0.             0.             0.\n",
      "     0.             0.          3613.37368124  7363.37368124\n",
      " 11113.37368124 14863.37368124]\n",
      "S_i_max: 30000.0\n",
      "------------------------------------------------------\n",
      "Vehicle  42 \t S_i_T: 29999.999999832715 \t\n",
      "S_i_min: [    0.            0.            0.            0.            0.\n",
      "     0.         2513.8376609  6263.8376609 10013.8376609 13763.8376609]\n",
      "S_i_max: 30000.0\n",
      "------------------------------------------------------\n",
      "Vehicle  43 \t S_i_T: 29999.999999817803 \t\n",
      "S_i_min: [    0.             0.             0.             0.\n",
      "     0.           580.51319214  4330.51319214  8080.51319214\n",
      " 11830.51319214 15580.51319214]\n",
      "S_i_max: 30000.0\n",
      "------------------------------------------------------\n",
      "Vehicle  44 \t S_i_T: 29999.999999557993 \t\n",
      "S_i_min: [    0.             0.             0.             0.\n",
      "     0.             0.          2288.21893374  6038.21893374\n",
      "  9788.21893374 13538.21893374]\n",
      "S_i_max: 30000.0\n",
      "------------------------------------------------------\n",
      "Vehicle  45 \t S_i_T: 29999.770888352545 \t\n",
      "S_i_min: [    0.             0.             0.             0.\n",
      "     0.             0.          3155.74439452  6905.74439452\n",
      " 10655.74439452 14405.74439452]\n",
      "S_i_max: 30000.0\n",
      "------------------------------------------------------\n",
      "Vehicle  46 \t S_i_T: 29999.99999982506 \t\n",
      "S_i_min: [    0.             0.             0.             0.\n",
      "     0.             0.          2308.28452182  6058.28452182\n",
      "  9808.28452182 13558.28452182]\n",
      "S_i_max: 30000.0\n",
      "------------------------------------------------------\n",
      "Vehicle  47 \t S_i_T: 29999.999999726602 \t\n",
      "S_i_min: [    0.             0.             0.             0.\n",
      "     0.             0.          2652.32487217  6402.32487217\n",
      " 10152.32487217 13902.32487217]\n",
      "S_i_max: 30000.0\n",
      "------------------------------------------------------\n",
      "Vehicle  48 \t S_i_T: 29999.686798894203 \t\n",
      "S_i_min: [    0.             0.             0.             0.\n",
      "     0.           859.27963941  4609.27963941  8359.27963941\n",
      " 12109.27963941 15859.27963941]\n",
      "S_i_max: 30000.0\n",
      "------------------------------------------------------\n",
      "Vehicle  49 \t S_i_T: 29999.911911363415 \t\n",
      "S_i_min: [    0.             0.             0.             0.\n",
      "     0.             0.          2274.54932278  6024.54932278\n",
      "  9774.54932278 13524.54932278]\n",
      "S_i_max: 30000.0\n"
     ]
    }
   ],
   "source": [
    "standard.affichage(x_bar_k_1)"
   ]
  },
  {
   "cell_type": "code",
   "execution_count": 19,
   "metadata": {},
   "outputs": [],
   "source": [
    "frontal=Frontal(my_instance,actual_time)"
   ]
  },
  {
   "cell_type": "code",
   "execution_count": 20,
   "metadata": {},
   "outputs": [
    {
     "name": "stdout",
     "output_type": "stream",
     "text": [
      "Minimize\n",
      "obj1: - 0.2 s_bl_0_10 + 0.0005 c_bl_0_1 + 0.0005 c_bl_0_2 + 0.0005 c_bl_0_3\n",
      "+ 0.0005 c_bl_0_4 + 0.0005 c_bl_0_5 + 0.0005 c_bl_0_6 + 0.0005 c_bl_0_7\n",
      "+ 0.0005 c_bl_0_8 + 0.0005 c_bl_0_9 + 0.0005 c_bl_0_10 - 0.0005 d_bl_0_1\n",
      "- 0.0005 d_bl_0_2 - 0.0005 d_bl_0_3 - 0.0005 d_bl_0_4 - 0.0005 d_bl_0_5\n",
      "- 0.0005 d_bl_0_6 - 0.0005 d_bl_0_7 - 0.0005 d_bl_0_8 - 0.0005 d_bl_0_9\n",
      "- 0.0005 d_bl_0_10 - 0.2 s_bl_1_10 + 0.0005 c_bl_1_1 + 0.0005 c_bl_1_2\n",
      "+ 0.0005 c_bl_1_3 + 0.0005 c_bl_1_4 + 0.0005 c_bl_1_5 + 0.0005 c_bl_1_6\n",
      "+ 0.0005 c_bl_1_7 + 0.0005 c_bl_1_8 + 0.0005 c_bl_1_9 + 0.0005 c_bl_1_10\n",
      "- 0.0005 d_bl_1_1 - 0.0005 d_bl_1_2 - 0.0005 d_bl_1_3 - 0.0005 d_bl_1_4\n",
      "- 0.0005 d_bl_1_5 - 0.0005 d_bl_1_6 - 0.0005 d_bl_1_7 - 0.0005 d_bl_1_8\n",
      "- 0.0005 d_bl_1_9 - 0.0005 d_bl_1_10 - 0.2 s_bl_2_10 + 0.0005 c_bl_2_1\n",
      "+ 0.0005 c_bl_2_2 + 0.0005 c_bl_2_3 + 0.0005 c_bl_2_4 + 0.0005 c_bl_2_5\n",
      "+ 0.0005 c_bl_2_6 + 0.0005 c_bl_2_7 + 0.0005 c_bl_2_8 + 0.0005 c_bl_2_9\n",
      "+ 0.0005 c_bl_2_10 - 0.0005 d_bl_2_1 - 0.0005 d_bl_2_2 - 0.0005 d_bl_2_3\n",
      "- 0.0005 d_bl_2_4 - 0.0005 d_bl_2_5 - 0.0005 d_bl_2_6 - 0.0005 d_bl_2_7\n",
      "- 0.0005 d_bl_2_8 - 0.0005 d_bl_2_9 - 0.0005 d_bl_2_10 - 0.2 s_bl_3_10\n",
      "+ 0.0005 c_bl_3_1 + 0.0005 c_bl_3_2 + 0.0005 c_bl_3_3 + 0.0005 c_bl_3_4\n",
      "+ 0.0005 c_bl_3_5 + 0.0005 c_bl_3_6 + 0.0005 c_bl_3_7 + 0.0005 c_bl_3_8\n",
      "+ 0.0005 c_bl_3_9 + 0.0005 c_bl_3_10 - 0.0005 d_bl_3_1 - 0.0005 d_bl_3_2\n",
      "- 0.0005 d_bl_3_3 - 0.0005 d_bl_3_4 - 0.0005 d_bl_3_5 - 0.0005 d_bl_3_6\n",
      "- 0.0005 d_bl_3_7 - 0.0005 d_bl_3_8 - 0.0005 d_bl_3_9 - 0.0005 d_bl_3_10\n",
      "- 0.2 s_bl_4_10 + 0.0005 c_bl_4_1 + 0.0005 c_bl_4_2 + 0.0005 c_bl_4_3\n",
      "+ 0.0005 c_bl_4_4 + 0.0005 c_bl_4_5 + 0.0005 c_bl_4_6 + 0.0005 c_bl_4_7\n",
      "+ 0.0005 c_bl_4_8 + 0.0005 c_bl_4_9 + 0.0005 c_bl_4_10 - 0.0005 d_bl_4_1\n",
      "- 0.0005 d_bl_4_2 - 0.0005 d_bl_4_3 - 0.0005 d_bl_4_4 - 0.0005 d_bl_4_5\n",
      "- 0.0005 d_bl_4_6 - 0.0005 d_bl_4_7 - 0.0005 d_bl_4_8 - 0.0005 d_bl_4_9\n",
      "- 0.0005 d_bl_4_10 - 0.2 s_bl_5_10 + 0.0005 c_bl_5_1 + 0.0005 c_bl_5_2\n",
      "+ 0.0005 c_bl_5_3 + 0.0005 c_bl_5_4 + 0.0005 c_bl_5_5 + 0.0005 c_bl_5_6\n",
      "+ 0.0005 c_bl_5_7 + 0.0005 c_bl_5_8 + 0.0005 c_bl_5_9 + 0.0005 c_bl_5_10\n",
      "- 0.0005 d_bl_5_1 - 0.0005 d_bl_5_2 - 0.0005 d_bl_5_3 - 0.0005 d_bl_5_4\n",
      "- 0.0005 d_bl_5_5 - 0.0005 d_bl_5_6 - 0.0005 d_bl_5_7 - 0.0005 d_bl_5_8\n",
      "- 0.0005 d_bl_5_9 - 0.0005 d_bl_5_10 - 0.2 s_bl_6_10 + 0.0005 c_bl_6_1\n",
      "+ 0.0005 c_bl_6_2 + 0.0005 c_bl_6_3 + 0.0005 c_bl_6_4 + 0.0005 c_bl_6_5\n",
      "+ 0.0005 c_bl_6_6 + 0.0005 c_bl_6_7 + 0.0005 c_bl_6_8 + 0.0005 c_bl_6_9\n",
      "+ 0.0005 c_bl_6_10 - 0.0005 d_bl_6_1 - 0.0005 d_bl_6_2 - 0.0005 d_bl_6_3\n",
      "- 0.0005 d_bl_6_4 - 0.0005 d_bl_6_5 - 0.0005 d_bl_6_6 - 0.0005 d_bl_6_7\n",
      "- 0.0005 d_bl_6_8 - 0.0005 d_bl_6_9 - 0.0005 d_bl_6_10 - 0.2 s_bl_7_10\n",
      "+ 0.0005 c_bl_7_1 + 0.0005 c_bl_7_2 + 0.0005 c_bl_7_3 + 0.0005 c_bl_7_4\n",
      "+ 0.0005 c_bl_7_5 + 0.0005 c_bl_7_6 + 0.0005 c_bl_7_7 + 0.0005 c_bl_7_8\n",
      "+ 0.0005 c_bl_7_9 + 0.0005 c_bl_7_10 - 0.0005 d_bl_7_1 - 0.0005 d_bl_7_2\n",
      "- 0.0005 d_bl_7_3 - 0.0005 d_bl_7_4 - 0.0005 d_bl_7_5 - 0.0005 d_bl_7_6\n",
      "- 0.0005 d_bl_7_7 - 0.0005 d_bl_7_8 - 0.0005 d_bl_7_9 - 0.0005 d_bl_7_10\n",
      "- 0.2 s_bl_8_10 + 0.0005 c_bl_8_1 + 0.0005 c_bl_8_2 + 0.0005 c_bl_8_3\n",
      "+ 0.0005 c_bl_8_4 + 0.0005 c_bl_8_5 + 0.0005 c_bl_8_6 + 0.0005 c_bl_8_7\n",
      "+ 0.0005 c_bl_8_8 + 0.0005 c_bl_8_9 + 0.0005 c_bl_8_10 - 0.0005 d_bl_8_1\n",
      "- 0.0005 d_bl_8_2 - 0.0005 d_bl_8_3 - 0.0005 d_bl_8_4 - 0.0005 d_bl_8_5\n",
      "- 0.0005 d_bl_8_6 - 0.0005 d_bl_8_7 - 0.0005 d_bl_8_8 - 0.0005 d_bl_8_9\n",
      "- 0.0005 d_bl_8_10 - 0.2 s_bl_9_10 + 0.0005 c_bl_9_1 + 0.0005 c_bl_9_2\n",
      "+ 0.0005 c_bl_9_3 + 0.0005 c_bl_9_4 + 0.0005 c_bl_9_5 + 0.0005 c_bl_9_6\n",
      "+ 0.0005 c_bl_9_7 + 0.0005 c_bl_9_8 + 0.0005 c_bl_9_9 + 0.0005 c_bl_9_10\n",
      "- 0.0005 d_bl_9_1 - 0.0005 d_bl_9_2 - 0.0005 d_bl_9_3 - 0.0005 d_bl_9_4\n",
      "- 0.0005 d_bl_9_5 - 0.0005 d_bl_9_6 - 0.0005 d_bl_9_7 - 0.0005 d_bl_9_8\n",
      "- 0.0005 d_bl_9_9 - 0.0005 d_bl_9_10 - 0.2 s_bl_10_10 + 0.0005 c_bl_10_1\n",
      "+ 0.0005 c_bl_10_2 + 0.0005 c_bl_10_3 + 0.0005 c_bl_10_4\n",
      "+ 0.0005 c_bl_10_5 + 0.0005 c_bl_10_6 + 0.0005 c_bl_10_7\n",
      "+ 0.0005 c_bl_10_8 + 0.0005 c_bl_10_9 + 0.0005 c_bl_10_10\n",
      "- 0.0005 d_bl_10_1 - 0.0005 d_bl_10_2 - 0.0005 d_bl_10_3\n",
      "- 0.0005 d_bl_10_4 - 0.0005 d_bl_10_5 - 0.0005 d_bl_10_6\n",
      "- 0.0005 d_bl_10_7 - 0.0005 d_bl_10_8 - 0.0005 d_bl_10_9\n",
      "- 0.0005 d_bl_10_10 - 0.2 s_bl_11_10 + 0.0005 c_bl_11_1\n",
      "+ 0.0005 c_bl_11_2 + 0.0005 c_bl_11_3 + 0.0005 c_bl_11_4\n",
      "+ 0.0005 c_bl_11_5 + 0.0005 c_bl_11_6 + 0.0005 c_bl_11_7\n",
      "+ 0.0005 c_bl_11_8 + 0.0005 c_bl_11_9 + 0.0005 c_bl_11_10\n",
      "- 0.0005 d_bl_11_1 - 0.0005 d_bl_11_2 - 0.0005 d_bl_11_3\n",
      "- 0.0005 d_bl_11_4 - 0.0005 d_bl_11_5 - 0.0005 d_bl_11_6\n",
      "- 0.0005 d_bl_11_7 - 0.0005 d_bl_11_8 - 0.0005 d_bl_11_9\n",
      "- 0.0005 d_bl_11_10 - 0.2 s_bl_12_10 + 0.0005 c_bl_12_1\n",
      "+ 0.0005 c_bl_12_2 + 0.0005 c_bl_12_3 + 0.0005 c_bl_12_4\n",
      "+ 0.0005 c_bl_12_5 + 0.0005 c_bl_12_6 + 0.0005 c_bl_12_7\n",
      "+ 0.0005 c_bl_12_8 + 0.0005 c_bl_12_9 + 0.0005 c_bl_12_10\n",
      "- 0.0005 d_bl_12_1 - 0.0005 d_bl_12_2 - 0.0005 d_bl_12_3\n",
      "- 0.0005 d_bl_12_4 - 0.0005 d_bl_12_5 - 0.0005 d_bl_12_6\n",
      "- 0.0005 d_bl_12_7 - 0.0005 d_bl_12_8 - 0.0005 d_bl_12_9\n",
      "- 0.0005 d_bl_12_10 - 0.2 s_bl_13_10 + 0.0005 c_bl_13_1\n",
      "+ 0.0005 c_bl_13_2 + 0.0005 c_bl_13_3 + 0.0005 c_bl_13_4\n",
      "+ 0.0005 c_bl_13_5 + 0.0005 c_bl_13_6 + 0.0005 c_bl_13_7\n",
      "+ 0.0005 c_bl_13_8 + 0.0005 c_bl_13_9 + 0.0005 c_bl_13_10\n",
      "- 0.0005 d_bl_13_1 - 0.0005 d_bl_13_2 - 0.0005 d_bl_13_3\n",
      "- 0.0005 d_bl_13_4 - 0.0005 d_bl_13_5 - 0.0005 d_bl_13_6\n",
      "- 0.0005 d_bl_13_7 - 0.0005 d_bl_13_8 - 0.0005 d_bl_13_9\n",
      "- 0.0005 d_bl_13_10 - 0.2 s_bl_14_10 + 0.0005 c_bl_14_1\n",
      "+ 0.0005 c_bl_14_2 + 0.0005 c_bl_14_3 + 0.0005 c_bl_14_4\n",
      "+ 0.0005 c_bl_14_5 + 0.0005 c_bl_14_6 + 0.0005 c_bl_14_7\n",
      "+ 0.0005 c_bl_14_8 + 0.0005 c_bl_14_9 + 0.0005 c_bl_14_10\n",
      "- 0.0005 d_bl_14_1 - 0.0005 d_bl_14_2 - 0.0005 d_bl_14_3\n",
      "- 0.0005 d_bl_14_4 - 0.0005 d_bl_14_5 - 0.0005 d_bl_14_6\n",
      "- 0.0005 d_bl_14_7 - 0.0005 d_bl_14_8 - 0.0005 d_bl_14_9\n",
      "- 0.0005 d_bl_14_10 - 0.2 s_bl_15_10 + 0.0005 c_bl_15_1\n",
      "+ 0.0005 c_bl_15_2 + 0.0005 c_bl_15_3 + 0.0005 c_bl_15_4\n",
      "+ 0.0005 c_bl_15_5 + 0.0005 c_bl_15_6 + 0.0005 c_bl_15_7\n",
      "+ 0.0005 c_bl_15_8 + 0.0005 c_bl_15_9 + 0.0005 c_bl_15_10\n",
      "- 0.0005 d_bl_15_1 - 0.0005 d_bl_15_2 - 0.0005 d_bl_15_3\n",
      "- 0.0005 d_bl_15_4 - 0.0005 d_bl_15_5 - 0.0005 d_bl_15_6\n",
      "- 0.0005 d_bl_15_7 - 0.0005 d_bl_15_8 - 0.0005 d_bl_15_9\n",
      "- 0.0005 d_bl_15_10 - 0.2 s_bl_16_10 + 0.0005 c_bl_16_1\n",
      "+ 0.0005 c_bl_16_2 + 0.0005 c_bl_16_3 + 0.0005 c_bl_16_4\n",
      "+ 0.0005 c_bl_16_5 + 0.0005 c_bl_16_6 + 0.0005 c_bl_16_7\n",
      "+ 0.0005 c_bl_16_8 + 0.0005 c_bl_16_9 + 0.0005 c_bl_16_10\n",
      "- 0.0005 d_bl_16_1 - 0.0005 d_bl_16_2 - 0.0005 d_bl_16_3\n",
      "- 0.0005 d_bl_16_4 - 0.0005 d_bl_16_5 - 0.0005 d_bl_16_6\n",
      "- 0.0005 d_bl_16_7 - 0.0005 d_bl_16_8 - 0.0005 d_bl_16_9\n",
      "- 0.0005 d_bl_16_10 - 0.2 s_bl_17_10 + 0.0005 c_bl_17_1\n",
      "+ 0.0005 c_bl_17_2 + 0.0005 c_bl_17_3 + 0.0005 c_bl_17_4\n",
      "+ 0.0005 c_bl_17_5 + 0.0005 c_bl_17_6 + 0.0005 c_bl_17_7\n",
      "+ 0.0005 c_bl_17_8 + 0.0005 c_bl_17_9 + 0.0005 c_bl_17_10\n",
      "- 0.0005 d_bl_17_1 - 0.0005 d_bl_17_2 - 0.0005 d_bl_17_3\n",
      "- 0.0005 d_bl_17_4 - 0.0005 d_bl_17_5 - 0.0005 d_bl_17_6\n",
      "- 0.0005 d_bl_17_7 - 0.0005 d_bl_17_8 - 0.0005 d_bl_17_9\n",
      "- 0.0005 d_bl_17_10 - 0.2 s_bl_18_10 + 0.0005 c_bl_18_1\n",
      "+ 0.0005 c_bl_18_2 + 0.0005 c_bl_18_3 + 0.0005 c_bl_18_4\n",
      "+ 0.0005 c_bl_18_5 + 0.0005 c_bl_18_6 + 0.0005 c_bl_18_7\n",
      "+ 0.0005 c_bl_18_8 + 0.0005 c_bl_18_9 + 0.0005 c_bl_18_10\n",
      "- 0.0005 d_bl_18_1 - 0.0005 d_bl_18_2 - 0.0005 d_bl_18_3\n",
      "- 0.0005 d_bl_18_4 - 0.0005 d_bl_18_5 - 0.0005 d_bl_18_6\n",
      "- 0.0005 d_bl_18_7 - 0.0005 d_bl_18_8 - 0.0005 d_bl_18_9\n",
      "- 0.0005 d_bl_18_10 - 0.2 s_bl_19_10 + 0.0005 c_bl_19_1\n",
      "+ 0.0005 c_bl_19_2 + 0.0005 c_bl_19_3 + 0.0005 c_bl_19_4\n",
      "+ 0.0005 c_bl_19_5 + 0.0005 c_bl_19_6 + 0.0005 c_bl_19_7\n",
      "+ 0.0005 c_bl_19_8 + 0.0005 c_bl_19_9 + 0.0005 c_bl_19_10\n",
      "- 0.0005 d_bl_19_1 - 0.0005 d_bl_19_2 - 0.0005 d_bl_19_3\n",
      "- 0.0005 d_bl_19_4 - 0.0005 d_bl_19_5 - 0.0005 d_bl_19_6\n",
      "- 0.0005 d_bl_19_7 - 0.0005 d_bl_19_8 - 0.0005 d_bl_19_9\n",
      "- 0.0005 d_bl_19_10 - 0.2 s_bl_20_10 + 0.0005 c_bl_20_1\n",
      "+ 0.0005 c_bl_20_2 + 0.0005 c_bl_20_3 + 0.0005 c_bl_20_4\n",
      "+ 0.0005 c_bl_20_5 + 0.0005 c_bl_20_6 + 0.0005 c_bl_20_7\n",
      "+ 0.0005 c_bl_20_8 + 0.0005 c_bl_20_9 + 0.0005 c_bl_20_10\n",
      "- 0.0005 d_bl_20_1 - 0.0005 d_bl_20_2 - 0.0005 d_bl_20_3\n",
      "- 0.0005 d_bl_20_4 - 0.0005 d_bl_20_5 - 0.0005 d_bl_20_6\n",
      "- 0.0005 d_bl_20_7 - 0.0005 d_bl_20_8 - 0.0005 d_bl_20_9\n",
      "- 0.0005 d_bl_20_10 - 0.2 s_bl_21_10 + 0.0005 c_bl_21_1\n",
      "+ 0.0005 c_bl_21_2 + 0.0005 c_bl_21_3 + 0.0005 c_bl_21_4\n",
      "+ 0.0005 c_bl_21_5 + 0.0005 c_bl_21_6 + 0.0005 c_bl_21_7\n",
      "+ 0.0005 c_bl_21_8 + 0.0005 c_bl_21_9 + 0.0005 c_bl_21_10\n",
      "- 0.0005 d_bl_21_1 - 0.0005 d_bl_21_2 - 0.0005 d_bl_21_3\n",
      "- 0.0005 d_bl_21_4 - 0.0005 d_bl_21_5 - 0.0005 d_bl_21_6\n",
      "- 0.0005 d_bl_21_7 - 0.0005 d_bl_21_8 - 0.0005 d_bl_21_9\n",
      "- 0.0005 d_bl_21_10 - 0.2 s_bl_22_10 + 0.0005 c_bl_22_1\n",
      "+ 0.0005 c_bl_22_2 + 0.0005 c_bl_22_3 + 0.0005 c_bl_22_4\n",
      "+ 0.0005 c_bl_22_5 + 0.0005 c_bl_22_6 + 0.0005 c_bl_22_7\n",
      "+ 0.0005 c_bl_22_8 + 0.0005 c_bl_22_9 + 0.0005 c_bl_22_10\n",
      "- 0.0005 d_bl_22_1 - 0.0005 d_bl_22_2 - 0.0005 d_bl_22_3\n",
      "- 0.0005 d_bl_22_4 - 0.0005 d_bl_22_5 - 0.0005 d_bl_22_6\n",
      "- 0.0005 d_bl_22_7 - 0.0005 d_bl_22_8 - 0.0005 d_bl_22_9\n",
      "- 0.0005 d_bl_22_10 - 0.2 s_bl_23_10 + 0.0005 c_bl_23_1\n",
      "+ 0.0005 c_bl_23_2 + 0.0005 c_bl_23_3 + 0.0005 c_bl_23_4\n",
      "+ 0.0005 c_bl_23_5 + 0.0005 c_bl_23_6 + 0.0005 c_bl_23_7\n",
      "+ 0.0005 c_bl_23_8 + 0.0005 c_bl_23_9 + 0.0005 c_bl_23_10\n",
      "- 0.0005 d_bl_23_1 - 0.0005 d_bl_23_2 - 0.0005 d_bl_23_3\n",
      "- 0.0005 d_bl_23_4 - 0.0005 d_bl_23_5 - 0.0005 d_bl_23_6\n",
      "- 0.0005 d_bl_23_7 - 0.0005 d_bl_23_8 - 0.0005 d_bl_23_9\n",
      "- 0.0005 d_bl_23_10 - 0.2 s_bl_24_10 + 0.0005 c_bl_24_1\n",
      "+ 0.0005 c_bl_24_2 + 0.0005 c_bl_24_3 + 0.0005 c_bl_24_4\n",
      "+ 0.0005 c_bl_24_5 + 0.0005 c_bl_24_6 + 0.0005 c_bl_24_7\n",
      "+ 0.0005 c_bl_24_8 + 0.0005 c_bl_24_9 + 0.0005 c_bl_24_10\n",
      "- 0.0005 d_bl_24_1 - 0.0005 d_bl_24_2 - 0.0005 d_bl_24_3\n",
      "- 0.0005 d_bl_24_4 - 0.0005 d_bl_24_5 - 0.0005 d_bl_24_6\n",
      "- 0.0005 d_bl_24_7 - 0.0005 d_bl_24_8 - 0.0005 d_bl_24_9\n",
      "- 0.0005 d_bl_24_10 - 0.2 s_bl_25_10 + 0.0005 c_bl_25_1\n",
      "+ 0.0005 c_bl_25_2 + 0.0005 c_bl_25_3 + 0.0005 c_bl_25_4\n",
      "+ 0.0005 c_bl_25_5 + 0.0005 c_bl_25_6 + 0.0005 c_bl_25_7\n",
      "+ 0.0005 c_bl_25_8 + 0.0005 c_bl_25_9 + 0.0005 c_bl_25_10\n",
      "- 0.0005 d_bl_25_1 - 0.0005 d_bl_25_2 - 0.0005 d_bl_25_3\n",
      "- 0.0005 d_bl_25_4 - 0.0005 d_bl_25_5 - 0.0005 d_bl_25_6\n",
      "- 0.0005 d_bl_25_7 - 0.0005 d_bl_25_8 - 0.0005 d_bl_25_9\n",
      "- 0.0005 d_bl_25_10 - 0.2 s_bl_26_10 + 0.0005 c_bl_26_1\n",
      "+ 0.0005 c_bl_26_2 + 0.0005 c_bl_26_3 + 0.0005 c_bl_26_4\n",
      "+ 0.0005 c_bl_26_5 + 0.0005 c_bl_26_6 + 0.0005 c_bl_26_7\n",
      "+ 0.0005 c_bl_26_8 + 0.0005 c_bl_26_9 + 0.0005 c_bl_26_10\n",
      "- 0.0005 d_bl_26_1 - 0.0005 d_bl_26_2 - 0.0005 d_bl_26_3\n",
      "- 0.0005 d_bl_26_4 - 0.0005 d_bl_26_5 - 0.0005 d_bl_26_6\n",
      "- 0.0005 d_bl_26_7 - 0.0005 d_bl_26_8 - 0.0005 d_bl_26_9\n",
      "- 0.0005 d_bl_26_10 - 0.2 s_bl_27_10 + 0.0005 c_bl_27_1\n",
      "+ 0.0005 c_bl_27_2 + 0.0005 c_bl_27_3 + 0.0005 c_bl_27_4\n",
      "+ 0.0005 c_bl_27_5 + 0.0005 c_bl_27_6 + 0.0005 c_bl_27_7\n",
      "+ 0.0005 c_bl_27_8 + 0.0005 c_bl_27_9 + 0.0005 c_bl_27_10\n",
      "- 0.0005 d_bl_27_1 - 0.0005 d_bl_27_2 - 0.0005 d_bl_27_3\n",
      "- 0.0005 d_bl_27_4 - 0.0005 d_bl_27_5 - 0.0005 d_bl_27_6\n",
      "- 0.0005 d_bl_27_7 - 0.0005 d_bl_27_8 - 0.0005 d_bl_27_9\n",
      "- 0.0005 d_bl_27_10 - 0.2 s_bl_28_10 + 0.0005 c_bl_28_1\n",
      "+ 0.0005 c_bl_28_2 + 0.0005 c_bl_28_3 + 0.0005 c_bl_28_4\n",
      "+ 0.0005 c_bl_28_5 + 0.0005 c_bl_28_6 + 0.0005 c_bl_28_7\n",
      "+ 0.0005 c_bl_28_8 + 0.0005 c_bl_28_9 + 0.0005 c_bl_28_10\n",
      "- 0.0005 d_bl_28_1 - 0.0005 d_bl_28_2 - 0.0005 d_bl_28_3\n",
      "- 0.0005 d_bl_28_4 - 0.0005 d_bl_28_5 - 0.0005 d_bl_28_6\n",
      "- 0.0005 d_bl_28_7 - 0.0005 d_bl_28_8 - 0.0005 d_bl_28_9\n",
      "- 0.0005 d_bl_28_10 - 0.2 s_bl_29_10 + 0.0005 c_bl_29_1\n",
      "+ 0.0005 c_bl_29_2 + 0.0005 c_bl_29_3 + 0.0005 c_bl_29_4\n",
      "+ 0.0005 c_bl_29_5 + 0.0005 c_bl_29_6 + 0.0005 c_bl_29_7\n",
      "+ 0.0005 c_bl_29_8 + 0.0005 c_bl_29_9 + 0.0005 c_bl_29_10\n",
      "- 0.0005 d_bl_29_1 - 0.0005 d_bl_29_2 - 0.0005 d_bl_29_3\n",
      "- 0.0005 d_bl_29_4 - 0.0005 d_bl_29_5 - 0.0005 d_bl_29_6\n",
      "- 0.0005 d_bl_29_7 - 0.0005 d_bl_29_8 - 0.0005 d_bl_29_9\n",
      "- 0.0005 d_bl_29_10 - 0.2 s_bl_30_10 + 0.0005 c_bl_30_1\n",
      "+ 0.0005 c_bl_30_2 + 0.0005 c_bl_30_3 + 0.0005 c_bl_30_4\n",
      "+ 0.0005 c_bl_30_5 + 0.0005 c_bl_30_6 + 0.0005 c_bl_30_7\n",
      "+ 0.0005 c_bl_30_8 + 0.0005 c_bl_30_9 + 0.0005 c_bl_30_10\n",
      "- 0.0005 d_bl_30_1 - 0.0005 d_bl_30_2 - 0.0005 d_bl_30_3\n",
      "- 0.0005 d_bl_30_4 - 0.0005 d_bl_30_5 - 0.0005 d_bl_30_6\n",
      "- 0.0005 d_bl_30_7 - 0.0005 d_bl_30_8 - 0.0005 d_bl_30_9\n",
      "- 0.0005 d_bl_30_10 - 0.2 s_bl_31_10 + 0.0005 c_bl_31_1\n",
      "+ 0.0005 c_bl_31_2 + 0.0005 c_bl_31_3 + 0.0005 c_bl_31_4\n",
      "+ 0.0005 c_bl_31_5 + 0.0005 c_bl_31_6 + 0.0005 c_bl_31_7\n",
      "+ 0.0005 c_bl_31_8 + 0.0005 c_bl_31_9 + 0.0005 c_bl_31_10\n",
      "- 0.0005 d_bl_31_1 - 0.0005 d_bl_31_2 - 0.0005 d_bl_31_3\n",
      "- 0.0005 d_bl_31_4 - 0.0005 d_bl_31_5 - 0.0005 d_bl_31_6\n",
      "- 0.0005 d_bl_31_7 - 0.0005 d_bl_31_8 - 0.0005 d_bl_31_9\n",
      "- 0.0005 d_bl_31_10 - 0.2 s_bl_32_10 + 0.0005 c_bl_32_1\n",
      "+ 0.0005 c_bl_32_2 + 0.0005 c_bl_32_3 + 0.0005 c_bl_32_4\n",
      "+ 0.0005 c_bl_32_5 + 0.0005 c_bl_32_6 + 0.0005 c_bl_32_7\n",
      "+ 0.0005 c_bl_32_8 + 0.0005 c_bl_32_9 + 0.0005 c_bl_32_10\n",
      "- 0.0005 d_bl_32_1 - 0.0005 d_bl_32_2 - 0.0005 d_bl_32_3\n",
      "- 0.0005 d_bl_32_4 - 0.0005 d_bl_32_5 - 0.0005 d_bl_32_6\n",
      "- 0.0005 d_bl_32_7 - 0.0005 d_bl_32_8 - 0.0005 d_bl_32_9\n",
      "- 0.0005 d_bl_32_10 - 0.2 s_bl_33_10 + 0.0005 c_bl_33_1\n",
      "+ 0.0005 c_bl_33_2 + 0.0005 c_bl_33_3 + 0.0005 c_bl_33_4\n",
      "+ 0.0005 c_bl_33_5 + 0.0005 c_bl_33_6 + 0.0005 c_bl_33_7\n",
      "+ 0.0005 c_bl_33_8 + 0.0005 c_bl_33_9 + 0.0005 c_bl_33_10\n",
      "- 0.0005 d_bl_33_1 - 0.0005 d_bl_33_2 - 0.0005 d_bl_33_3\n",
      "- 0.0005 d_bl_33_4 - 0.0005 d_bl_33_5 - 0.0005 d_bl_33_6\n",
      "- 0.0005 d_bl_33_7 - 0.0005 d_bl_33_8 - 0.0005 d_bl_33_9\n",
      "- 0.0005 d_bl_33_10 - 0.2 s_bl_34_10 + 0.0005 c_bl_34_1\n",
      "+ 0.0005 c_bl_34_2 + 0.0005 c_bl_34_3 + 0.0005 c_bl_34_4\n",
      "+ 0.0005 c_bl_34_5 + 0.0005 c_bl_34_6 + 0.0005 c_bl_34_7\n",
      "+ 0.0005 c_bl_34_8 + 0.0005 c_bl_34_9 + 0.0005 c_bl_34_10\n",
      "- 0.0005 d_bl_34_1 - 0.0005 d_bl_34_2 - 0.0005 d_bl_34_3\n",
      "- 0.0005 d_bl_34_4 - 0.0005 d_bl_34_5 - 0.0005 d_bl_34_6\n",
      "- 0.0005 d_bl_34_7 - 0.0005 d_bl_34_8 - 0.0005 d_bl_34_9\n",
      "- 0.0005 d_bl_34_10 - 0.2 s_bl_35_10 + 0.0005 c_bl_35_1\n",
      "+ 0.0005 c_bl_35_2 + 0.0005 c_bl_35_3 + 0.0005 c_bl_35_4\n",
      "+ 0.0005 c_bl_35_5 + 0.0005 c_bl_35_6 + 0.0005 c_bl_35_7\n",
      "+ 0.0005 c_bl_35_8 + 0.0005 c_bl_35_9 + 0.0005 c_bl_35_10\n",
      "- 0.0005 d_bl_35_1 - 0.0005 d_bl_35_2 - 0.0005 d_bl_35_3\n",
      "- 0.0005 d_bl_35_4 - 0.0005 d_bl_35_5 - 0.0005 d_bl_35_6\n",
      "- 0.0005 d_bl_35_7 - 0.0005 d_bl_35_8 - 0.0005 d_bl_35_9\n",
      "- 0.0005 d_bl_35_10 - 0.2 s_bl_36_10 + 0.0005 c_bl_36_1\n",
      "+ 0.0005 c_bl_36_2 + 0.0005 c_bl_36_3 + 0.0005 c_bl_36_4\n",
      "+ 0.0005 c_bl_36_5 + 0.0005 c_bl_36_6 + 0.0005 c_bl_36_7\n",
      "+ 0.0005 c_bl_36_8 + 0.0005 c_bl_36_9 + 0.0005 c_bl_36_10\n",
      "- 0.0005 d_bl_36_1 - 0.0005 d_bl_36_2 - 0.0005 d_bl_36_3\n",
      "- 0.0005 d_bl_36_4 - 0.0005 d_bl_36_5 - 0.0005 d_bl_36_6\n",
      "- 0.0005 d_bl_36_7 - 0.0005 d_bl_36_8 - 0.0005 d_bl_36_9\n",
      "- 0.0005 d_bl_36_10 - 0.2 s_bl_37_10 + 0.0005 c_bl_37_1\n",
      "+ 0.0005 c_bl_37_2 + 0.0005 c_bl_37_3 + 0.0005 c_bl_37_4\n",
      "+ 0.0005 c_bl_37_5 + 0.0005 c_bl_37_6 + 0.0005 c_bl_37_7\n",
      "+ 0.0005 c_bl_37_8 + 0.0005 c_bl_37_9 + 0.0005 c_bl_37_10\n",
      "- 0.0005 d_bl_37_1 - 0.0005 d_bl_37_2 - 0.0005 d_bl_37_3\n",
      "- 0.0005 d_bl_37_4 - 0.0005 d_bl_37_5 - 0.0005 d_bl_37_6\n",
      "- 0.0005 d_bl_37_7 - 0.0005 d_bl_37_8 - 0.0005 d_bl_37_9\n",
      "- 0.0005 d_bl_37_10 - 0.2 s_bl_38_10 + 0.0005 c_bl_38_1\n",
      "+ 0.0005 c_bl_38_2 + 0.0005 c_bl_38_3 + 0.0005 c_bl_38_4\n",
      "+ 0.0005 c_bl_38_5 + 0.0005 c_bl_38_6 + 0.0005 c_bl_38_7\n",
      "+ 0.0005 c_bl_38_8 + 0.0005 c_bl_38_9 + 0.0005 c_bl_38_10\n",
      "- 0.0005 d_bl_38_1 - 0.0005 d_bl_38_2 - 0.0005 d_bl_38_3\n",
      "- 0.0005 d_bl_38_4 - 0.0005 d_bl_38_5 - 0.0005 d_bl_38_6\n",
      "- 0.0005 d_bl_38_7 - 0.0005 d_bl_38_8 - 0.0005 d_bl_38_9\n",
      "- 0.0005 d_bl_38_10 - 0.2 s_bl_39_10 + 0.0005 c_bl_39_1\n",
      "+ 0.0005 c_bl_39_2 + 0.0005 c_bl_39_3 + 0.0005 c_bl_39_4\n",
      "+ 0.0005 c_bl_39_5 + 0.0005 c_bl_39_6 + 0.0005 c_bl_39_7\n",
      "+ 0.0005 c_bl_39_8 + 0.0005 c_bl_39_9 + 0.0005 c_bl_39_10\n",
      "- 0.0005 d_bl_39_1 - 0.0005 d_bl_39_2 - 0.0005 d_bl_39_3\n",
      "- 0.0005 d_bl_39_4 - 0.0005 d_bl_39_5 - 0.0005 d_bl_39_6\n",
      "- 0.0005 d_bl_39_7 - 0.0005 d_bl_39_8 - 0.0005 d_bl_39_9\n",
      "- 0.0005 d_bl_39_10 - 0.2 s_bl_40_10 + 0.0005 c_bl_40_1\n",
      "+ 0.0005 c_bl_40_2 + 0.0005 c_bl_40_3 + 0.0005 c_bl_40_4\n",
      "+ 0.0005 c_bl_40_5 + 0.0005 c_bl_40_6 + 0.0005 c_bl_40_7\n",
      "+ 0.0005 c_bl_40_8 + 0.0005 c_bl_40_9 + 0.0005 c_bl_40_10\n",
      "- 0.0005 d_bl_40_1 - 0.0005 d_bl_40_2 - 0.0005 d_bl_40_3\n",
      "- 0.0005 d_bl_40_4 - 0.0005 d_bl_40_5 - 0.0005 d_bl_40_6\n",
      "- 0.0005 d_bl_40_7 - 0.0005 d_bl_40_8 - 0.0005 d_bl_40_9\n",
      "- 0.0005 d_bl_40_10 - 0.2 s_bl_41_10 + 0.0005 c_bl_41_1\n",
      "+ 0.0005 c_bl_41_2 + 0.0005 c_bl_41_3 + 0.0005 c_bl_41_4\n",
      "+ 0.0005 c_bl_41_5 + 0.0005 c_bl_41_6 + 0.0005 c_bl_41_7\n",
      "+ 0.0005 c_bl_41_8 + 0.0005 c_bl_41_9 + 0.0005 c_bl_41_10\n",
      "- 0.0005 d_bl_41_1 - 0.0005 d_bl_41_2 - 0.0005 d_bl_41_3\n",
      "- 0.0005 d_bl_41_4 - 0.0005 d_bl_41_5 - 0.0005 d_bl_41_6\n",
      "- 0.0005 d_bl_41_7 - 0.0005 d_bl_41_8 - 0.0005 d_bl_41_9\n",
      "- 0.0005 d_bl_41_10 - 0.2 s_bl_42_10 + 0.0005 c_bl_42_1\n",
      "+ 0.0005 c_bl_42_2 + 0.0005 c_bl_42_3 + 0.0005 c_bl_42_4\n",
      "+ 0.0005 c_bl_42_5 + 0.0005 c_bl_42_6 + 0.0005 c_bl_42_7\n",
      "+ 0.0005 c_bl_42_8 + 0.0005 c_bl_42_9 + 0.0005 c_bl_42_10\n",
      "- 0.0005 d_bl_42_1 - 0.0005 d_bl_42_2 - 0.0005 d_bl_42_3\n",
      "- 0.0005 d_bl_42_4 - 0.0005 d_bl_42_5 - 0.0005 d_bl_42_6\n",
      "- 0.0005 d_bl_42_7 - 0.0005 d_bl_42_8 - 0.0005 d_bl_42_9\n",
      "- 0.0005 d_bl_42_10 - 0.2 s_bl_43_10 + 0.0005 c_bl_43_1\n",
      "+ 0.0005 c_bl_43_2 + 0.0005 c_bl_43_3 + 0.0005 c_bl_43_4\n",
      "+ 0.0005 c_bl_43_5 + 0.0005 c_bl_43_6 + 0.0005 c_bl_43_7\n",
      "+ 0.0005 c_bl_43_8 + 0.0005 c_bl_43_9 + 0.0005 c_bl_43_10\n",
      "- 0.0005 d_bl_43_1 - 0.0005 d_bl_43_2 - 0.0005 d_bl_43_3\n",
      "- 0.0005 d_bl_43_4 - 0.0005 d_bl_43_5 - 0.0005 d_bl_43_6\n",
      "- 0.0005 d_bl_43_7 - 0.0005 d_bl_43_8 - 0.0005 d_bl_43_9\n",
      "- 0.0005 d_bl_43_10 - 0.2 s_bl_44_10 + 0.0005 c_bl_44_1\n",
      "+ 0.0005 c_bl_44_2 + 0.0005 c_bl_44_3 + 0.0005 c_bl_44_4\n",
      "+ 0.0005 c_bl_44_5 + 0.0005 c_bl_44_6 + 0.0005 c_bl_44_7\n",
      "+ 0.0005 c_bl_44_8 + 0.0005 c_bl_44_9 + 0.0005 c_bl_44_10\n",
      "- 0.0005 d_bl_44_1 - 0.0005 d_bl_44_2 - 0.0005 d_bl_44_3\n",
      "- 0.0005 d_bl_44_4 - 0.0005 d_bl_44_5 - 0.0005 d_bl_44_6\n",
      "- 0.0005 d_bl_44_7 - 0.0005 d_bl_44_8 - 0.0005 d_bl_44_9\n",
      "- 0.0005 d_bl_44_10 - 0.2 s_bl_45_10 + 0.0005 c_bl_45_1\n",
      "+ 0.0005 c_bl_45_2 + 0.0005 c_bl_45_3 + 0.0005 c_bl_45_4\n",
      "+ 0.0005 c_bl_45_5 + 0.0005 c_bl_45_6 + 0.0005 c_bl_45_7\n",
      "+ 0.0005 c_bl_45_8 + 0.0005 c_bl_45_9 + 0.0005 c_bl_45_10\n",
      "- 0.0005 d_bl_45_1 - 0.0005 d_bl_45_2 - 0.0005 d_bl_45_3\n",
      "- 0.0005 d_bl_45_4 - 0.0005 d_bl_45_5 - 0.0005 d_bl_45_6\n",
      "- 0.0005 d_bl_45_7 - 0.0005 d_bl_45_8 - 0.0005 d_bl_45_9\n",
      "- 0.0005 d_bl_45_10 - 0.2 s_bl_46_10 + 0.0005 c_bl_46_1\n",
      "+ 0.0005 c_bl_46_2 + 0.0005 c_bl_46_3 + 0.0005 c_bl_46_4\n",
      "+ 0.0005 c_bl_46_5 + 0.0005 c_bl_46_6 + 0.0005 c_bl_46_7\n",
      "+ 0.0005 c_bl_46_8 + 0.0005 c_bl_46_9 + 0.0005 c_bl_46_10\n",
      "- 0.0005 d_bl_46_1 - 0.0005 d_bl_46_2 - 0.0005 d_bl_46_3\n",
      "- 0.0005 d_bl_46_4 - 0.0005 d_bl_46_5 - 0.0005 d_bl_46_6\n",
      "- 0.0005 d_bl_46_7 - 0.0005 d_bl_46_8 - 0.0005 d_bl_46_9\n",
      "- 0.0005 d_bl_46_10 - 0.2 s_bl_47_10 + 0.0005 c_bl_47_1\n",
      "+ 0.0005 c_bl_47_2 + 0.0005 c_bl_47_3 + 0.0005 c_bl_47_4\n",
      "+ 0.0005 c_bl_47_5 + 0.0005 c_bl_47_6 + 0.0005 c_bl_47_7\n",
      "+ 0.0005 c_bl_47_8 + 0.0005 c_bl_47_9 + 0.0005 c_bl_47_10\n",
      "- 0.0005 d_bl_47_1 - 0.0005 d_bl_47_2 - 0.0005 d_bl_47_3\n",
      "- 0.0005 d_bl_47_4 - 0.0005 d_bl_47_5 - 0.0005 d_bl_47_6\n",
      "- 0.0005 d_bl_47_7 - 0.0005 d_bl_47_8 - 0.0005 d_bl_47_9\n",
      "- 0.0005 d_bl_47_10 - 0.2 s_bl_48_10 + 0.0005 c_bl_48_1\n",
      "+ 0.0005 c_bl_48_2 + 0.0005 c_bl_48_3 + 0.0005 c_bl_48_4\n",
      "+ 0.0005 c_bl_48_5 + 0.0005 c_bl_48_6 + 0.0005 c_bl_48_7\n",
      "+ 0.0005 c_bl_48_8 + 0.0005 c_bl_48_9 + 0.0005 c_bl_48_10\n",
      "- 0.0005 d_bl_48_1 - 0.0005 d_bl_48_2 - 0.0005 d_bl_48_3\n",
      "- 0.0005 d_bl_48_4 - 0.0005 d_bl_48_5 - 0.0005 d_bl_48_6\n",
      "- 0.0005 d_bl_48_7 - 0.0005 d_bl_48_8 - 0.0005 d_bl_48_9\n",
      "- 0.0005 d_bl_48_10 - 0.2 s_bl_49_10 + 0.0005 c_bl_49_1\n",
      "+ 0.0005 c_bl_49_2 + 0.0005 c_bl_49_3 + 0.0005 c_bl_49_4\n",
      "+ 0.0005 c_bl_49_5 + 0.0005 c_bl_49_6 + 0.0005 c_bl_49_7\n",
      "+ 0.0005 c_bl_49_8 + 0.0005 c_bl_49_9 + 0.0005 c_bl_49_10\n",
      "- 0.0005 d_bl_49_1 - 0.0005 d_bl_49_2 - 0.0005 d_bl_49_3\n",
      "- 0.0005 d_bl_49_4 - 0.0005 d_bl_49_5 - 0.0005 d_bl_49_6\n",
      "- 0.0005 d_bl_49_7 - 0.0005 d_bl_49_8 - 0.0005 d_bl_49_9\n",
      "- 0.0005 d_bl_49_10 + [ 0.02 y_1 ^2 + 0.02 y_2 ^2 + 0.02 y_3 ^2\n",
      "+ 0.02 y_4 ^2 + 0.02 y_5 ^2 + 0.02 y_6 ^2 + 0.02 y_7 ^2 + 0.02 y_8 ^2\n",
      "+ 0.02 y_9 ^2 + 0.02 y_10 ^2 + 400 n_bl_0_1 ^2 + 400 n_bl_0_2 ^2\n",
      "+ 400 n_bl_0_3 ^2 + 400 n_bl_0_4 ^2 + 400 n_bl_0_5 ^2 + 400 n_bl_0_6 ^2\n",
      "+ 400 n_bl_0_7 ^2 + 400 n_bl_0_8 ^2 + 400 n_bl_0_9 ^2 + 400 n_bl_0_10 ^2\n",
      "+ 400 n_up_0_1 ^2 + 400 n_up_0_2 ^2 + 400 n_up_0_3 ^2 + 400 n_up_0_4 ^2\n",
      "+ 400 n_up_0_5 ^2 + 400 n_up_0_6 ^2 + 400 n_up_0_7 ^2 + 400 n_up_0_8 ^2\n",
      "+ 400 n_up_0_9 ^2 + 400 n_up_0_10 ^2 + 400 p_bl_0_1 ^2 + 400 p_bl_0_2 ^2\n",
      "+ 400 p_bl_0_3 ^2 + 400 p_bl_0_4 ^2 + 400 p_bl_0_5 ^2 + 400 p_bl_0_6 ^2\n",
      "+ 400 p_bl_0_7 ^2 + 400 p_bl_0_8 ^2 + 400 p_bl_0_9 ^2 + 400 p_bl_0_10 ^2\n",
      "+ 400 p_up_0_1 ^2 + 400 p_up_0_2 ^2 + 400 p_up_0_3 ^2 + 400 p_up_0_4 ^2\n",
      "+ 400 p_up_0_5 ^2 + 400 p_up_0_6 ^2 + 400 p_up_0_7 ^2 + 400 p_up_0_8 ^2\n",
      "+ 400 p_up_0_9 ^2 + 400 p_up_0_10 ^2 + 400 n_bl_1_1 ^2 + 400 n_bl_1_2 ^2\n",
      "+ 400 n_bl_1_3 ^2 + 400 n_bl_1_4 ^2 + 400 n_bl_1_5 ^2 + 400 n_bl_1_6 ^2\n",
      "+ 400 n_bl_1_7 ^2 + 400 n_bl_1_8 ^2 + 400 n_bl_1_9 ^2 + 400 n_bl_1_10 ^2\n",
      "+ 400 n_up_1_1 ^2 + 400 n_up_1_2 ^2 + 400 n_up_1_3 ^2 + 400 n_up_1_4 ^2\n",
      "+ 400 n_up_1_5 ^2 + 400 n_up_1_6 ^2 + 400 n_up_1_7 ^2 + 400 n_up_1_8 ^2\n",
      "+ 400 n_up_1_9 ^2 + 400 n_up_1_10 ^2 + 400 p_bl_1_1 ^2 + 400 p_bl_1_2 ^2\n",
      "+ 400 p_bl_1_3 ^2 + 400 p_bl_1_4 ^2 + 400 p_bl_1_5 ^2 + 400 p_bl_1_6 ^2\n",
      "+ 400 p_bl_1_7 ^2 + 400 p_bl_1_8 ^2 + 400 p_bl_1_9 ^2 + 400 p_bl_1_10 ^2\n",
      "+ 400 p_up_1_1 ^2 + 400 p_up_1_2 ^2 + 400 p_up_1_3 ^2 + 400 p_up_1_4 ^2\n",
      "+ 400 p_up_1_5 ^2 + 400 p_up_1_6 ^2 + 400 p_up_1_7 ^2 + 400 p_up_1_8 ^2\n",
      "+ 400 p_up_1_9 ^2 + 400 p_up_1_10 ^2 + 400 n_bl_2_1 ^2 + 400 n_bl_2_2 ^2\n",
      "+ 400 n_bl_2_3 ^2 + 400 n_bl_2_4 ^2 + 400 n_bl_2_5 ^2 + 400 n_bl_2_6 ^2\n",
      "+ 400 n_bl_2_7 ^2 + 400 n_bl_2_8 ^2 + 400 n_bl_2_9 ^2 + 400 n_bl_2_10 ^2\n",
      "+ 400 n_up_2_1 ^2 + 400 n_up_2_2 ^2 + 400 n_up_2_3 ^2 + 400 n_up_2_4 ^2\n",
      "+ 400 n_up_2_5 ^2 + 400 n_up_2_6 ^2 + 400 n_up_2_7 ^2 + 400 n_up_2_8 ^2\n",
      "+ 400 n_up_2_9 ^2 + 400 n_up_2_10 ^2 + 400 p_bl_2_1 ^2 + 400 p_bl_2_2 ^2\n",
      "+ 400 p_bl_2_3 ^2 + 400 p_bl_2_4 ^2 + 400 p_bl_2_5 ^2 + 400 p_bl_2_6 ^2\n",
      "+ 400 p_bl_2_7 ^2 + 400 p_bl_2_8 ^2 + 400 p_bl_2_9 ^2 + 400 p_bl_2_10 ^2\n",
      "+ 400 p_up_2_1 ^2 + 400 p_up_2_2 ^2 + 400 p_up_2_3 ^2 + 400 p_up_2_4 ^2\n",
      "+ 400 p_up_2_5 ^2 + 400 p_up_2_6 ^2 + 400 p_up_2_7 ^2 + 400 p_up_2_8 ^2\n",
      "+ 400 p_up_2_9 ^2 + 400 p_up_2_10 ^2 + 400 n_bl_3_1 ^2 + 400 n_bl_3_2 ^2\n",
      "+ 400 n_bl_3_3 ^2 + 400 n_bl_3_4 ^2 + 400 n_bl_3_5 ^2 + 400 n_bl_3_6 ^2\n",
      "+ 400 n_bl_3_7 ^2 + 400 n_bl_3_8 ^2 + 400 n_bl_3_9 ^2 + 400 n_bl_3_10 ^2\n",
      "+ 400 n_up_3_1 ^2 + 400 n_up_3_2 ^2 + 400 n_up_3_3 ^2 + 400 n_up_3_4 ^2\n",
      "+ 400 n_up_3_5 ^2 + 400 n_up_3_6 ^2 + 400 n_up_3_7 ^2 + 400 n_up_3_8 ^2\n",
      "+ 400 n_up_3_9 ^2 + 400 n_up_3_10 ^2 + 400 p_bl_3_1 ^2 + 400 p_bl_3_2 ^2\n",
      "+ 400 p_bl_3_3 ^2 + 400 p_bl_3_4 ^2 + 400 p_bl_3_5 ^2 + 400 p_bl_3_6 ^2\n",
      "+ 400 p_bl_3_7 ^2 + 400 p_bl_3_8 ^2 + 400 p_bl_3_9 ^2 + 400 p_bl_3_10 ^2\n",
      "+ 400 p_up_3_1 ^2 + 400 p_up_3_2 ^2 + 400 p_up_3_3 ^2 + 400 p_up_3_4 ^2\n",
      "+ 400 p_up_3_5 ^2 + 400 p_up_3_6 ^2 + 400 p_up_3_7 ^2 + 400 p_up_3_8 ^2\n",
      "+ 400 p_up_3_9 ^2 + 400 p_up_3_10 ^2 + 400 n_bl_4_1 ^2 + 400 n_bl_4_2 ^2\n",
      "+ 400 n_bl_4_3 ^2 + 400 n_bl_4_4 ^2 + 400 n_bl_4_5 ^2 + 400 n_bl_4_6 ^2\n",
      "+ 400 n_bl_4_7 ^2 + 400 n_bl_4_8 ^2 + 400 n_bl_4_9 ^2 + 400 n_bl_4_10 ^2\n",
      "+ 400 n_up_4_1 ^2 + 400 n_up_4_2 ^2 + 400 n_up_4_3 ^2 + 400 n_up_4_4 ^2\n",
      "+ 400 n_up_4_5 ^2 + 400 n_up_4_6 ^2 + 400 n_up_4_7 ^2 + 400 n_up_4_8 ^2\n",
      "+ 400 n_up_4_9 ^2 + 400 n_up_4_10 ^2 + 400 p_bl_4_1 ^2 + 400 p_bl_4_2 ^2\n",
      "+ 400 p_bl_4_3 ^2 + 400 p_bl_4_4 ^2 + 400 p_bl_4_5 ^2 + 400 p_bl_4_6 ^2\n",
      "+ 400 p_bl_4_7 ^2 + 400 p_bl_4_8 ^2 + 400 p_bl_4_9 ^2 + 400 p_bl_4_10 ^2\n",
      "+ 400 p_up_4_1 ^2 + 400 p_up_4_2 ^2 + 400 p_up_4_3 ^2 + 400 p_up_4_4 ^2\n",
      "+ 400 p_up_4_5 ^2 + 400 p_up_4_6 ^2 + 400 p_up_4_7 ^2 + 400 p_up_4_8 ^2\n",
      "+ 400 p_up_4_9 ^2 + 400 p_up_4_10 ^2 + 400 n_bl_5_1 ^2 + 400 n_bl_5_2 ^2\n",
      "+ 400 n_bl_5_3 ^2 + 400 n_bl_5_4 ^2 + 400 n_bl_5_5 ^2 + 400 n_bl_5_6 ^2\n",
      "+ 400 n_bl_5_7 ^2 + 400 n_bl_5_8 ^2 + 400 n_bl_5_9 ^2 + 400 n_bl_5_10 ^2\n",
      "+ 400 n_up_5_1 ^2 + 400 n_up_5_2 ^2 + 400 n_up_5_3 ^2 + 400 n_up_5_4 ^2\n",
      "+ 400 n_up_5_5 ^2 + 400 n_up_5_6 ^2 + 400 n_up_5_7 ^2 + 400 n_up_5_8 ^2\n",
      "+ 400 n_up_5_9 ^2 + 400 n_up_5_10 ^2 + 400 p_bl_5_1 ^2 + 400 p_bl_5_2 ^2\n",
      "+ 400 p_bl_5_3 ^2 + 400 p_bl_5_4 ^2 + 400 p_bl_5_5 ^2 + 400 p_bl_5_6 ^2\n",
      "+ 400 p_bl_5_7 ^2 + 400 p_bl_5_8 ^2 + 400 p_bl_5_9 ^2 + 400 p_bl_5_10 ^2\n",
      "+ 400 p_up_5_1 ^2 + 400 p_up_5_2 ^2 + 400 p_up_5_3 ^2 + 400 p_up_5_4 ^2\n",
      "+ 400 p_up_5_5 ^2 + 400 p_up_5_6 ^2 + 400 p_up_5_7 ^2 + 400 p_up_5_8 ^2\n",
      "+ 400 p_up_5_9 ^2 + 400 p_up_5_10 ^2 + 400 n_bl_6_1 ^2 + 400 n_bl_6_2 ^2\n",
      "+ 400 n_bl_6_3 ^2 + 400 n_bl_6_4 ^2 + 400 n_bl_6_5 ^2 + 400 n_bl_6_6 ^2\n",
      "+ 400 n_bl_6_7 ^2 + 400 n_bl_6_8 ^2 + 400 n_bl_6_9 ^2 + 400 n_bl_6_10 ^2\n",
      "+ 400 n_up_6_1 ^2 + 400 n_up_6_2 ^2 + 400 n_up_6_3 ^2 + 400 n_up_6_4 ^2\n",
      "+ 400 n_up_6_5 ^2 + 400 n_up_6_6 ^2 + 400 n_up_6_7 ^2 + 400 n_up_6_8 ^2\n",
      "+ 400 n_up_6_9 ^2 + 400 n_up_6_10 ^2 + 400 p_bl_6_1 ^2 + 400 p_bl_6_2 ^2\n",
      "+ 400 p_bl_6_3 ^2 + 400 p_bl_6_4 ^2 + 400 p_bl_6_5 ^2 + 400 p_bl_6_6 ^2\n",
      "+ 400 p_bl_6_7 ^2 + 400 p_bl_6_8 ^2 + 400 p_bl_6_9 ^2 + 400 p_bl_6_10 ^2\n",
      "+ 400 p_up_6_1 ^2 + 400 p_up_6_2 ^2 + 400 p_up_6_3 ^2 + 400 p_up_6_4 ^2\n",
      "+ 400 p_up_6_5 ^2 + 400 p_up_6_6 ^2 + 400 p_up_6_7 ^2 + 400 p_up_6_8 ^2\n",
      "+ 400 p_up_6_9 ^2 + 400 p_up_6_10 ^2 + 400 n_bl_7_1 ^2 + 400 n_bl_7_2 ^2\n",
      "+ 400 n_bl_7_3 ^2 + 400 n_bl_7_4 ^2 + 400 n_bl_7_5 ^2 + 400 n_bl_7_6 ^2\n",
      "+ 400 n_bl_7_7 ^2 + 400 n_bl_7_8 ^2 + 400 n_bl_7_9 ^2 + 400 n_bl_7_10 ^2\n",
      "+ 400 n_up_7_1 ^2 + 400 n_up_7_2 ^2 + 400 n_up_7_3 ^2 + 400 n_up_7_4 ^2\n",
      "+ 400 n_up_7_5 ^2 + 400 n_up_7_6 ^2 + 400 n_up_7_7 ^2 + 400 n_up_7_8 ^2\n",
      "+ 400 n_up_7_9 ^2 + 400 n_up_7_10 ^2 + 400 p_bl_7_1 ^2 + 400 p_bl_7_2 ^2\n",
      "+ 400 p_bl_7_3 ^2 + 400 p_bl_7_4 ^2 + 400 p_bl_7_5 ^2 + 400 p_bl_7_6 ^2\n",
      "+ 400 p_bl_7_7 ^2 + 400 p_bl_7_8 ^2 + 400 p_bl_7_9 ^2 + 400 p_bl_7_10 ^2\n",
      "+ 400 p_up_7_1 ^2 + 400 p_up_7_2 ^2 + 400 p_up_7_3 ^2 + 400 p_up_7_4 ^2\n",
      "+ 400 p_up_7_5 ^2 + 400 p_up_7_6 ^2 + 400 p_up_7_7 ^2 + 400 p_up_7_8 ^2\n",
      "+ 400 p_up_7_9 ^2 + 400 p_up_7_10 ^2 + 400 n_bl_8_1 ^2 + 400 n_bl_8_2 ^2\n",
      "+ 400 n_bl_8_3 ^2 + 400 n_bl_8_4 ^2 + 400 n_bl_8_5 ^2 + 400 n_bl_8_6 ^2\n",
      "+ 400 n_bl_8_7 ^2 + 400 n_bl_8_8 ^2 + 400 n_bl_8_9 ^2 + 400 n_bl_8_10 ^2\n",
      "+ 400 n_up_8_1 ^2 + 400 n_up_8_2 ^2 + 400 n_up_8_3 ^2 + 400 n_up_8_4 ^2\n",
      "+ 400 n_up_8_5 ^2 + 400 n_up_8_6 ^2 + 400 n_up_8_7 ^2 + 400 n_up_8_8 ^2\n",
      "+ 400 n_up_8_9 ^2 + 400 n_up_8_10 ^2 + 400 p_bl_8_1 ^2 + 400 p_bl_8_2 ^2\n",
      "+ 400 p_bl_8_3 ^2 + 400 p_bl_8_4 ^2 + 400 p_bl_8_5 ^2 + 400 p_bl_8_6 ^2\n",
      "+ 400 p_bl_8_7 ^2 + 400 p_bl_8_8 ^2 + 400 p_bl_8_9 ^2 + 400 p_bl_8_10 ^2\n",
      "+ 400 p_up_8_1 ^2 + 400 p_up_8_2 ^2 + 400 p_up_8_3 ^2 + 400 p_up_8_4 ^2\n",
      "+ 400 p_up_8_5 ^2 + 400 p_up_8_6 ^2 + 400 p_up_8_7 ^2 + 400 p_up_8_8 ^2\n",
      "+ 400 p_up_8_9 ^2 + 400 p_up_8_10 ^2 + 400 n_bl_9_1 ^2 + 400 n_bl_9_2 ^2\n",
      "+ 400 n_bl_9_3 ^2 + 400 n_bl_9_4 ^2 + 400 n_bl_9_5 ^2 + 400 n_bl_9_6 ^2\n",
      "+ 400 n_bl_9_7 ^2 + 400 n_bl_9_8 ^2 + 400 n_bl_9_9 ^2 + 400 n_bl_9_10 ^2\n",
      "+ 400 n_up_9_1 ^2 + 400 n_up_9_2 ^2 + 400 n_up_9_3 ^2 + 400 n_up_9_4 ^2\n",
      "+ 400 n_up_9_5 ^2 + 400 n_up_9_6 ^2 + 400 n_up_9_7 ^2 + 400 n_up_9_8 ^2\n",
      "+ 400 n_up_9_9 ^2 + 400 n_up_9_10 ^2 + 400 p_bl_9_1 ^2 + 400 p_bl_9_2 ^2\n",
      "+ 400 p_bl_9_3 ^2 + 400 p_bl_9_4 ^2 + 400 p_bl_9_5 ^2 + 400 p_bl_9_6 ^2\n",
      "+ 400 p_bl_9_7 ^2 + 400 p_bl_9_8 ^2 + 400 p_bl_9_9 ^2 + 400 p_bl_9_10 ^2\n",
      "+ 400 p_up_9_1 ^2 + 400 p_up_9_2 ^2 + 400 p_up_9_3 ^2 + 400 p_up_9_4 ^2\n",
      "+ 400 p_up_9_5 ^2 + 400 p_up_9_6 ^2 + 400 p_up_9_7 ^2 + 400 p_up_9_8 ^2\n",
      "+ 400 p_up_9_9 ^2 + 400 p_up_9_10 ^2 + 400 n_bl_10_1 ^2\n",
      "+ 400 n_bl_10_2 ^2 + 400 n_bl_10_3 ^2 + 400 n_bl_10_4 ^2\n",
      "+ 400 n_bl_10_5 ^2 + 400 n_bl_10_6 ^2 + 400 n_bl_10_7 ^2\n",
      "+ 400 n_bl_10_8 ^2 + 400 n_bl_10_9 ^2 + 400 n_bl_10_10 ^2\n",
      "+ 400 n_up_10_1 ^2 + 400 n_up_10_2 ^2 + 400 n_up_10_3 ^2\n",
      "+ 400 n_up_10_4 ^2 + 400 n_up_10_5 ^2 + 400 n_up_10_6 ^2\n",
      "+ 400 n_up_10_7 ^2 + 400 n_up_10_8 ^2 + 400 n_up_10_9 ^2\n",
      "+ 400 n_up_10_10 ^2 + 400 p_bl_10_1 ^2 + 400 p_bl_10_2 ^2\n",
      "+ 400 p_bl_10_3 ^2 + 400 p_bl_10_4 ^2 + 400 p_bl_10_5 ^2\n",
      "+ 400 p_bl_10_6 ^2 + 400 p_bl_10_7 ^2 + 400 p_bl_10_8 ^2\n",
      "+ 400 p_bl_10_9 ^2 + 400 p_bl_10_10 ^2 + 400 p_up_10_1 ^2\n",
      "+ 400 p_up_10_2 ^2 + 400 p_up_10_3 ^2 + 400 p_up_10_4 ^2\n",
      "+ 400 p_up_10_5 ^2 + 400 p_up_10_6 ^2 + 400 p_up_10_7 ^2\n",
      "+ 400 p_up_10_8 ^2 + 400 p_up_10_9 ^2 + 400 p_up_10_10 ^2\n",
      "+ 400 n_bl_11_1 ^2 + 400 n_bl_11_2 ^2 + 400 n_bl_11_3 ^2\n",
      "+ 400 n_bl_11_4 ^2 + 400 n_bl_11_5 ^2 + 400 n_bl_11_6 ^2\n",
      "+ 400 n_bl_11_7 ^2 + 400 n_bl_11_8 ^2 + 400 n_bl_11_9 ^2\n",
      "+ 400 n_bl_11_10 ^2 + 400 n_up_11_1 ^2 + 400 n_up_11_2 ^2\n",
      "+ 400 n_up_11_3 ^2 + 400 n_up_11_4 ^2 + 400 n_up_11_5 ^2\n",
      "+ 400 n_up_11_6 ^2 + 400 n_up_11_7 ^2 + 400 n_up_11_8 ^2\n",
      "+ 400 n_up_11_9 ^2 + 400 n_up_11_10 ^2 + 400 p_bl_11_1 ^2\n",
      "+ 400 p_bl_11_2 ^2 + 400 p_bl_11_3 ^2 + 400 p_bl_11_4 ^2\n",
      "+ 400 p_bl_11_5 ^2 + 400 p_bl_11_6 ^2 + 400 p_bl_11_7 ^2\n",
      "+ 400 p_bl_11_8 ^2 + 400 p_bl_11_9 ^2 + 400 p_bl_11_10 ^2\n",
      "+ 400 p_up_11_1 ^2 + 400 p_up_11_2 ^2 + 400 p_up_11_3 ^2\n",
      "+ 400 p_up_11_4 ^2 + 400 p_up_11_5 ^2 + 400 p_up_11_6 ^2\n",
      "+ 400 p_up_11_7 ^2 + 400 p_up_11_8 ^2 + 400 p_up_11_9 ^2\n",
      "+ 400 p_up_11_10 ^2 + 400 n_bl_12_1 ^2 + 400 n_bl_12_2 ^2\n",
      "+ 400 n_bl_12_3 ^2 + 400 n_bl_12_4 ^2 + 400 n_bl_12_5 ^2\n",
      "+ 400 n_bl_12_6 ^2 + 400 n_bl_12_7 ^2 + 400 n_bl_12_8 ^2\n",
      "+ 400 n_bl_12_9 ^2 + 400 n_bl_12_10 ^2 + 400 n_up_12_1 ^2\n",
      "+ 400 n_up_12_2 ^2 + 400 n_up_12_3 ^2 + 400 n_up_12_4 ^2\n",
      "+ 400 n_up_12_5 ^2 + 400 n_up_12_6 ^2 + 400 n_up_12_7 ^2\n",
      "+ 400 n_up_12_8 ^2 + 400 n_up_12_9 ^2 + 400 n_up_12_10 ^2\n",
      "+ 400 p_bl_12_1 ^2 + 400 p_bl_12_2 ^2 + 400 p_bl_12_3 ^2\n",
      "+ 400 p_bl_12_4 ^2 + 400 p_bl_12_5 ^2 + 400 p_bl_12_6 ^2\n",
      "+ 400 p_bl_12_7 ^2 + 400 p_bl_12_8 ^2 + 400 p_bl_12_9 ^2\n",
      "+ 400 p_bl_12_10 ^2 + 400 p_up_12_1 ^2 + 400 p_up_12_2 ^2\n",
      "+ 400 p_up_12_3 ^2 + 400 p_up_12_4 ^2 + 400 p_up_12_5 ^2\n",
      "+ 400 p_up_12_6 ^2 + 400 p_up_12_7 ^2 + 400 p_up_12_8 ^2\n",
      "+ 400 p_up_12_9 ^2 + 400 p_up_12_10 ^2 + 400 n_bl_13_1 ^2\n",
      "+ 400 n_bl_13_2 ^2 + 400 n_bl_13_3 ^2 + 400 n_bl_13_4 ^2\n",
      "+ 400 n_bl_13_5 ^2 + 400 n_bl_13_6 ^2 + 400 n_bl_13_7 ^2\n",
      "+ 400 n_bl_13_8 ^2 + 400 n_bl_13_9 ^2 + 400 n_bl_13_10 ^2\n",
      "+ 400 n_up_13_1 ^2 + 400 n_up_13_2 ^2 + 400 n_up_13_3 ^2\n",
      "+ 400 n_up_13_4 ^2 + 400 n_up_13_5 ^2 + 400 n_up_13_6 ^2\n",
      "+ 400 n_up_13_7 ^2 + 400 n_up_13_8 ^2 + 400 n_up_13_9 ^2\n",
      "+ 400 n_up_13_10 ^2 + 400 p_bl_13_1 ^2 + 400 p_bl_13_2 ^2\n",
      "+ 400 p_bl_13_3 ^2 + 400 p_bl_13_4 ^2 + 400 p_bl_13_5 ^2\n",
      "+ 400 p_bl_13_6 ^2 + 400 p_bl_13_7 ^2 + 400 p_bl_13_8 ^2\n",
      "+ 400 p_bl_13_9 ^2 + 400 p_bl_13_10 ^2 + 400 p_up_13_1 ^2\n",
      "+ 400 p_up_13_2 ^2 + 400 p_up_13_3 ^2 + 400 p_up_13_4 ^2\n",
      "+ 400 p_up_13_5 ^2 + 400 p_up_13_6 ^2 + 400 p_up_13_7 ^2\n",
      "+ 400 p_up_13_8 ^2 + 400 p_up_13_9 ^2 + 400 p_up_13_10 ^2\n",
      "+ 400 n_bl_14_1 ^2 + 400 n_bl_14_2 ^2 + 400 n_bl_14_3 ^2\n",
      "+ 400 n_bl_14_4 ^2 + 400 n_bl_14_5 ^2 + 400 n_bl_14_6 ^2\n",
      "+ 400 n_bl_14_7 ^2 + 400 n_bl_14_8 ^2 + 400 n_bl_14_9 ^2\n",
      "+ 400 n_bl_14_10 ^2 + 400 n_up_14_1 ^2 + 400 n_up_14_2 ^2\n",
      "+ 400 n_up_14_3 ^2 + 400 n_up_14_4 ^2 + 400 n_up_14_5 ^2\n",
      "+ 400 n_up_14_6 ^2 + 400 n_up_14_7 ^2 + 400 n_up_14_8 ^2\n",
      "+ 400 n_up_14_9 ^2 + 400 n_up_14_10 ^2 + 400 p_bl_14_1 ^2\n",
      "+ 400 p_bl_14_2 ^2 + 400 p_bl_14_3 ^2 + 400 p_bl_14_4 ^2\n",
      "+ 400 p_bl_14_5 ^2 + 400 p_bl_14_6 ^2 + 400 p_bl_14_7 ^2\n",
      "+ 400 p_bl_14_8 ^2 + 400 p_bl_14_9 ^2 + 400 p_bl_14_10 ^2\n",
      "+ 400 p_up_14_1 ^2 + 400 p_up_14_2 ^2 + 400 p_up_14_3 ^2\n",
      "+ 400 p_up_14_4 ^2 + 400 p_up_14_5 ^2 + 400 p_up_14_6 ^2\n",
      "+ 400 p_up_14_7 ^2 + 400 p_up_14_8 ^2 + 400 p_up_14_9 ^2\n",
      "+ 400 p_up_14_10 ^2 + 400 n_bl_15_1 ^2 + 400 n_bl_15_2 ^2\n",
      "+ 400 n_bl_15_3 ^2 + 400 n_bl_15_4 ^2 + 400 n_bl_15_5 ^2\n",
      "+ 400 n_bl_15_6 ^2 + 400 n_bl_15_7 ^2 + 400 n_bl_15_8 ^2\n",
      "+ 400 n_bl_15_9 ^2 + 400 n_bl_15_10 ^2 + 400 n_up_15_1 ^2\n",
      "+ 400 n_up_15_2 ^2 + 400 n_up_15_3 ^2 + 400 n_up_15_4 ^2\n",
      "+ 400 n_up_15_5 ^2 + 400 n_up_15_6 ^2 + 400 n_up_15_7 ^2\n",
      "+ 400 n_up_15_8 ^2 + 400 n_up_15_9 ^2 + 400 n_up_15_10 ^2\n",
      "+ 400 p_bl_15_1 ^2 + 400 p_bl_15_2 ^2 + 400 p_bl_15_3 ^2\n",
      "+ 400 p_bl_15_4 ^2 + 400 p_bl_15_5 ^2 + 400 p_bl_15_6 ^2\n",
      "+ 400 p_bl_15_7 ^2 + 400 p_bl_15_8 ^2 + 400 p_bl_15_9 ^2\n",
      "+ 400 p_bl_15_10 ^2 + 400 p_up_15_1 ^2 + 400 p_up_15_2 ^2\n",
      "+ 400 p_up_15_3 ^2 + 400 p_up_15_4 ^2 + 400 p_up_15_5 ^2\n",
      "+ 400 p_up_15_6 ^2 + 400 p_up_15_7 ^2 + 400 p_up_15_8 ^2\n",
      "+ 400 p_up_15_9 ^2 + 400 p_up_15_10 ^2 + 400 n_bl_16_1 ^2\n",
      "+ 400 n_bl_16_2 ^2 + 400 n_bl_16_3 ^2 + 400 n_bl_16_4 ^2\n",
      "+ 400 n_bl_16_5 ^2 + 400 n_bl_16_6 ^2 + 400 n_bl_16_7 ^2\n",
      "+ 400 n_bl_16_8 ^2 + 400 n_bl_16_9 ^2 + 400 n_bl_16_10 ^2\n",
      "+ 400 n_up_16_1 ^2 + 400 n_up_16_2 ^2 + 400 n_up_16_3 ^2\n",
      "+ 400 n_up_16_4 ^2 + 400 n_up_16_5 ^2 + 400 n_up_16_6 ^2\n",
      "+ 400 n_up_16_7 ^2 + 400 n_up_16_8 ^2 + 400 n_up_16_9 ^2\n",
      "+ 400 n_up_16_10 ^2 + 400 p_bl_16_1 ^2 + 400 p_bl_16_2 ^2\n",
      "+ 400 p_bl_16_3 ^2 + 400 p_bl_16_4 ^2 + 400 p_bl_16_5 ^2\n",
      "+ 400 p_bl_16_6 ^2 + 400 p_bl_16_7 ^2 + 400 p_bl_16_8 ^2\n",
      "+ 400 p_bl_16_9 ^2 + 400 p_bl_16_10 ^2 + 400 p_up_16_1 ^2\n",
      "+ 400 p_up_16_2 ^2 + 400 p_up_16_3 ^2 + 400 p_up_16_4 ^2\n",
      "+ 400 p_up_16_5 ^2 + 400 p_up_16_6 ^2 + 400 p_up_16_7 ^2\n",
      "+ 400 p_up_16_8 ^2 + 400 p_up_16_9 ^2 + 400 p_up_16_10 ^2\n",
      "+ 400 n_bl_17_1 ^2 + 400 n_bl_17_2 ^2 + 400 n_bl_17_3 ^2\n",
      "+ 400 n_bl_17_4 ^2 + 400 n_bl_17_5 ^2 + 400 n_bl_17_6 ^2\n",
      "+ 400 n_bl_17_7 ^2 + 400 n_bl_17_8 ^2 + 400 n_bl_17_9 ^2\n",
      "+ 400 n_bl_17_10 ^2 + 400 n_up_17_1 ^2 + 400 n_up_17_2 ^2\n",
      "+ 400 n_up_17_3 ^2 + 400 n_up_17_4 ^2 + 400 n_up_17_5 ^2\n",
      "+ 400 n_up_17_6 ^2 + 400 n_up_17_7 ^2 + 400 n_up_17_8 ^2\n",
      "+ 400 n_up_17_9 ^2 + 400 n_up_17_10 ^2 + 400 p_bl_17_1 ^2\n",
      "+ 400 p_bl_17_2 ^2 + 400 p_bl_17_3 ^2 + 400 p_bl_17_4 ^2\n",
      "+ 400 p_bl_17_5 ^2 + 400 p_bl_17_6 ^2 + 400 p_bl_17_7 ^2\n",
      "+ 400 p_bl_17_8 ^2 + 400 p_bl_17_9 ^2 + 400 p_bl_17_10 ^2\n",
      "+ 400 p_up_17_1 ^2 + 400 p_up_17_2 ^2 + 400 p_up_17_3 ^2\n",
      "+ 400 p_up_17_4 ^2 + 400 p_up_17_5 ^2 + 400 p_up_17_6 ^2\n",
      "+ 400 p_up_17_7 ^2 + 400 p_up_17_8 ^2 + 400 p_up_17_9 ^2\n",
      "+ 400 p_up_17_10 ^2 + 400 n_bl_18_1 ^2 + 400 n_bl_18_2 ^2\n",
      "+ 400 n_bl_18_3 ^2 + 400 n_bl_18_4 ^2 + 400 n_bl_18_5 ^2\n",
      "+ 400 n_bl_18_6 ^2 + 400 n_bl_18_7 ^2 + 400 n_bl_18_8 ^2\n",
      "+ 400 n_bl_18_9 ^2 + 400 n_bl_18_10 ^2 + 400 n_up_18_1 ^2\n",
      "+ 400 n_up_18_2 ^2 + 400 n_up_18_3 ^2 + 400 n_up_18_4 ^2\n",
      "+ 400 n_up_18_5 ^2 + 400 n_up_18_6 ^2 + 400 n_up_18_7 ^2\n",
      "+ 400 n_up_18_8 ^2 + 400 n_up_18_9 ^2 + 400 n_up_18_10 ^2\n",
      "+ 400 p_bl_18_1 ^2 + 400 p_bl_18_2 ^2 + 400 p_bl_18_3 ^2\n",
      "+ 400 p_bl_18_4 ^2 + 400 p_bl_18_5 ^2 + 400 p_bl_18_6 ^2\n",
      "+ 400 p_bl_18_7 ^2 + 400 p_bl_18_8 ^2 + 400 p_bl_18_9 ^2\n",
      "+ 400 p_bl_18_10 ^2 + 400 p_up_18_1 ^2 + 400 p_up_18_2 ^2\n",
      "+ 400 p_up_18_3 ^2 + 400 p_up_18_4 ^2 + 400 p_up_18_5 ^2\n",
      "+ 400 p_up_18_6 ^2 + 400 p_up_18_7 ^2 + 400 p_up_18_8 ^2\n",
      "+ 400 p_up_18_9 ^2 + 400 p_up_18_10 ^2 + 400 n_bl_19_1 ^2\n",
      "+ 400 n_bl_19_2 ^2 + 400 n_bl_19_3 ^2 + 400 n_bl_19_4 ^2\n",
      "+ 400 n_bl_19_5 ^2 + 400 n_bl_19_6 ^2 + 400 n_bl_19_7 ^2\n",
      "+ 400 n_bl_19_8 ^2 + 400 n_bl_19_9 ^2 + 400 n_bl_19_10 ^2\n",
      "+ 400 n_up_19_1 ^2 + 400 n_up_19_2 ^2 + 400 n_up_19_3 ^2\n",
      "+ 400 n_up_19_4 ^2 + 400 n_up_19_5 ^2 + 400 n_up_19_6 ^2\n",
      "+ 400 n_up_19_7 ^2 + 400 n_up_19_8 ^2 + 400 n_up_19_9 ^2\n",
      "+ 400 n_up_19_10 ^2 + 400 p_bl_19_1 ^2 + 400 p_bl_19_2 ^2\n",
      "+ 400 p_bl_19_3 ^2 + 400 p_bl_19_4 ^2 + 400 p_bl_19_5 ^2\n",
      "+ 400 p_bl_19_6 ^2 + 400 p_bl_19_7 ^2 + 400 p_bl_19_8 ^2\n",
      "+ 400 p_bl_19_9 ^2 + 400 p_bl_19_10 ^2 + 400 p_up_19_1 ^2\n",
      "+ 400 p_up_19_2 ^2 + 400 p_up_19_3 ^2 + 400 p_up_19_4 ^2\n",
      "+ 400 p_up_19_5 ^2 + 400 p_up_19_6 ^2 + 400 p_up_19_7 ^2\n",
      "+ 400 p_up_19_8 ^2 + 400 p_up_19_9 ^2 + 400 p_up_19_10 ^2\n",
      "+ 400 n_bl_20_1 ^2 + 400 n_bl_20_2 ^2 + 400 n_bl_20_3 ^2\n",
      "+ 400 n_bl_20_4 ^2 + 400 n_bl_20_5 ^2 + 400 n_bl_20_6 ^2\n",
      "+ 400 n_bl_20_7 ^2 + 400 n_bl_20_8 ^2 + 400 n_bl_20_9 ^2\n",
      "+ 400 n_bl_20_10 ^2 + 400 n_up_20_1 ^2 + 400 n_up_20_2 ^2\n",
      "+ 400 n_up_20_3 ^2 + 400 n_up_20_4 ^2 + 400 n_up_20_5 ^2\n",
      "+ 400 n_up_20_6 ^2 + 400 n_up_20_7 ^2 + 400 n_up_20_8 ^2\n",
      "+ 400 n_up_20_9 ^2 + 400 n_up_20_10 ^2 + 400 p_bl_20_1 ^2\n",
      "+ 400 p_bl_20_2 ^2 + 400 p_bl_20_3 ^2 + 400 p_bl_20_4 ^2\n",
      "+ 400 p_bl_20_5 ^2 + 400 p_bl_20_6 ^2 + 400 p_bl_20_7 ^2\n",
      "+ 400 p_bl_20_8 ^2 + 400 p_bl_20_9 ^2 + 400 p_bl_20_10 ^2\n",
      "+ 400 p_up_20_1 ^2 + 400 p_up_20_2 ^2 + 400 p_up_20_3 ^2\n",
      "+ 400 p_up_20_4 ^2 + 400 p_up_20_5 ^2 + 400 p_up_20_6 ^2\n",
      "+ 400 p_up_20_7 ^2 + 400 p_up_20_8 ^2 + 400 p_up_20_9 ^2\n",
      "+ 400 p_up_20_10 ^2 + 400 n_bl_21_1 ^2 + 400 n_bl_21_2 ^2\n",
      "+ 400 n_bl_21_3 ^2 + 400 n_bl_21_4 ^2 + 400 n_bl_21_5 ^2\n",
      "+ 400 n_bl_21_6 ^2 + 400 n_bl_21_7 ^2 + 400 n_bl_21_8 ^2\n",
      "+ 400 n_bl_21_9 ^2 + 400 n_bl_21_10 ^2 + 400 n_up_21_1 ^2\n",
      "+ 400 n_up_21_2 ^2 + 400 n_up_21_3 ^2 + 400 n_up_21_4 ^2\n",
      "+ 400 n_up_21_5 ^2 + 400 n_up_21_6 ^2 + 400 n_up_21_7 ^2\n",
      "+ 400 n_up_21_8 ^2 + 400 n_up_21_9 ^2 + 400 n_up_21_10 ^2\n",
      "+ 400 p_bl_21_1 ^2 + 400 p_bl_21_2 ^2 + 400 p_bl_21_3 ^2\n",
      "+ 400 p_bl_21_4 ^2 + 400 p_bl_21_5 ^2 + 400 p_bl_21_6 ^2\n",
      "+ 400 p_bl_21_7 ^2 + 400 p_bl_21_8 ^2 + 400 p_bl_21_9 ^2\n",
      "+ 400 p_bl_21_10 ^2 + 400 p_up_21_1 ^2 + 400 p_up_21_2 ^2\n",
      "+ 400 p_up_21_3 ^2 + 400 p_up_21_4 ^2 + 400 p_up_21_5 ^2\n",
      "+ 400 p_up_21_6 ^2 + 400 p_up_21_7 ^2 + 400 p_up_21_8 ^2\n",
      "+ 400 p_up_21_9 ^2 + 400 p_up_21_10 ^2 + 400 n_bl_22_1 ^2\n",
      "+ 400 n_bl_22_2 ^2 + 400 n_bl_22_3 ^2 + 400 n_bl_22_4 ^2\n",
      "+ 400 n_bl_22_5 ^2 + 400 n_bl_22_6 ^2 + 400 n_bl_22_7 ^2\n",
      "+ 400 n_bl_22_8 ^2 + 400 n_bl_22_9 ^2 + 400 n_bl_22_10 ^2\n",
      "+ 400 n_up_22_1 ^2 + 400 n_up_22_2 ^2 + 400 n_up_22_3 ^2\n",
      "+ 400 n_up_22_4 ^2 + 400 n_up_22_5 ^2 + 400 n_up_22_6 ^2\n",
      "+ 400 n_up_22_7 ^2 + 400 n_up_22_8 ^2 + 400 n_up_22_9 ^2\n",
      "+ 400 n_up_22_10 ^2 + 400 p_bl_22_1 ^2 + 400 p_bl_22_2 ^2\n",
      "+ 400 p_bl_22_3 ^2 + 400 p_bl_22_4 ^2 + 400 p_bl_22_5 ^2\n",
      "+ 400 p_bl_22_6 ^2 + 400 p_bl_22_7 ^2 + 400 p_bl_22_8 ^2\n",
      "+ 400 p_bl_22_9 ^2 + 400 p_bl_22_10 ^2 + 400 p_up_22_1 ^2\n",
      "+ 400 p_up_22_2 ^2 + 400 p_up_22_3 ^2 + 400 p_up_22_4 ^2\n",
      "+ 400 p_up_22_5 ^2 + 400 p_up_22_6 ^2 + 400 p_up_22_7 ^2\n",
      "+ 400 p_up_22_8 ^2 + 400 p_up_22_9 ^2 + 400 p_up_22_10 ^2\n",
      "+ 400 n_bl_23_1 ^2 + 400 n_bl_23_2 ^2 + 400 n_bl_23_3 ^2\n",
      "+ 400 n_bl_23_4 ^2 + 400 n_bl_23_5 ^2 + 400 n_bl_23_6 ^2\n",
      "+ 400 n_bl_23_7 ^2 + 400 n_bl_23_8 ^2 + 400 n_bl_23_9 ^2\n",
      "+ 400 n_bl_23_10 ^2 + 400 n_up_23_1 ^2 + 400 n_up_23_2 ^2\n",
      "+ 400 n_up_23_3 ^2 + 400 n_up_23_4 ^2 + 400 n_up_23_5 ^2\n",
      "+ 400 n_up_23_6 ^2 + 400 n_up_23_7 ^2 + 400 n_up_23_8 ^2\n",
      "+ 400 n_up_23_9 ^2 + 400 n_up_23_10 ^2 + 400 p_bl_23_1 ^2\n",
      "+ 400 p_bl_23_2 ^2 + 400 p_bl_23_3 ^2 + 400 p_bl_23_4 ^2\n",
      "+ 400 p_bl_23_5 ^2 + 400 p_bl_23_6 ^2 + 400 p_bl_23_7 ^2\n",
      "+ 400 p_bl_23_8 ^2 + 400 p_bl_23_9 ^2 + 400 p_bl_23_10 ^2\n",
      "+ 400 p_up_23_1 ^2 + 400 p_up_23_2 ^2 + 400 p_up_23_3 ^2\n",
      "+ 400 p_up_23_4 ^2 + 400 p_up_23_5 ^2 + 400 p_up_23_6 ^2\n",
      "+ 400 p_up_23_7 ^2 + 400 p_up_23_8 ^2 + 400 p_up_23_9 ^2\n",
      "+ 400 p_up_23_10 ^2 + 400 n_bl_24_1 ^2 + 400 n_bl_24_2 ^2\n",
      "+ 400 n_bl_24_3 ^2 + 400 n_bl_24_4 ^2 + 400 n_bl_24_5 ^2\n",
      "+ 400 n_bl_24_6 ^2 + 400 n_bl_24_7 ^2 + 400 n_bl_24_8 ^2\n",
      "+ 400 n_bl_24_9 ^2 + 400 n_bl_24_10 ^2 + 400 n_up_24_1 ^2\n",
      "+ 400 n_up_24_2 ^2 + 400 n_up_24_3 ^2 + 400 n_up_24_4 ^2\n",
      "+ 400 n_up_24_5 ^2 + 400 n_up_24_6 ^2 + 400 n_up_24_7 ^2\n",
      "+ 400 n_up_24_8 ^2 + 400 n_up_24_9 ^2 + 400 n_up_24_10 ^2\n",
      "+ 400 p_bl_24_1 ^2 + 400 p_bl_24_2 ^2 + 400 p_bl_24_3 ^2\n",
      "+ 400 p_bl_24_4 ^2 + 400 p_bl_24_5 ^2 + 400 p_bl_24_6 ^2\n",
      "+ 400 p_bl_24_7 ^2 + 400 p_bl_24_8 ^2 + 400 p_bl_24_9 ^2\n",
      "+ 400 p_bl_24_10 ^2 + 400 p_up_24_1 ^2 + 400 p_up_24_2 ^2\n",
      "+ 400 p_up_24_3 ^2 + 400 p_up_24_4 ^2 + 400 p_up_24_5 ^2\n",
      "+ 400 p_up_24_6 ^2 + 400 p_up_24_7 ^2 + 400 p_up_24_8 ^2\n",
      "+ 400 p_up_24_9 ^2 + 400 p_up_24_10 ^2 + 400 n_bl_25_1 ^2\n",
      "+ 400 n_bl_25_2 ^2 + 400 n_bl_25_3 ^2 + 400 n_bl_25_4 ^2\n",
      "+ 400 n_bl_25_5 ^2 + 400 n_bl_25_6 ^2 + 400 n_bl_25_7 ^2\n",
      "+ 400 n_bl_25_8 ^2 + 400 n_bl_25_9 ^2 + 400 n_bl_25_10 ^2\n",
      "+ 400 n_up_25_1 ^2 + 400 n_up_25_2 ^2 + 400 n_up_25_3 ^2\n",
      "+ 400 n_up_25_4 ^2 + 400 n_up_25_5 ^2 + 400 n_up_25_6 ^2\n",
      "+ 400 n_up_25_7 ^2 + 400 n_up_25_8 ^2 + 400 n_up_25_9 ^2\n",
      "+ 400 n_up_25_10 ^2 + 400 p_bl_25_1 ^2 + 400 p_bl_25_2 ^2\n",
      "+ 400 p_bl_25_3 ^2 + 400 p_bl_25_4 ^2 + 400 p_bl_25_5 ^2\n",
      "+ 400 p_bl_25_6 ^2 + 400 p_bl_25_7 ^2 + 400 p_bl_25_8 ^2\n",
      "+ 400 p_bl_25_9 ^2 + 400 p_bl_25_10 ^2 + 400 p_up_25_1 ^2\n",
      "+ 400 p_up_25_2 ^2 + 400 p_up_25_3 ^2 + 400 p_up_25_4 ^2\n",
      "+ 400 p_up_25_5 ^2 + 400 p_up_25_6 ^2 + 400 p_up_25_7 ^2\n",
      "+ 400 p_up_25_8 ^2 + 400 p_up_25_9 ^2 + 400 p_up_25_10 ^2\n",
      "+ 400 n_bl_26_1 ^2 + 400 n_bl_26_2 ^2 + 400 n_bl_26_3 ^2\n",
      "+ 400 n_bl_26_4 ^2 + 400 n_bl_26_5 ^2 + 400 n_bl_26_6 ^2\n",
      "+ 400 n_bl_26_7 ^2 + 400 n_bl_26_8 ^2 + 400 n_bl_26_9 ^2\n",
      "+ 400 n_bl_26_10 ^2 + 400 n_up_26_1 ^2 + 400 n_up_26_2 ^2\n",
      "+ 400 n_up_26_3 ^2 + 400 n_up_26_4 ^2 + 400 n_up_26_5 ^2\n",
      "+ 400 n_up_26_6 ^2 + 400 n_up_26_7 ^2 + 400 n_up_26_8 ^2\n",
      "+ 400 n_up_26_9 ^2 + 400 n_up_26_10 ^2 + 400 p_bl_26_1 ^2\n",
      "+ 400 p_bl_26_2 ^2 + 400 p_bl_26_3 ^2 + 400 p_bl_26_4 ^2\n",
      "+ 400 p_bl_26_5 ^2 + 400 p_bl_26_6 ^2 + 400 p_bl_26_7 ^2\n",
      "+ 400 p_bl_26_8 ^2 + 400 p_bl_26_9 ^2 + 400 p_bl_26_10 ^2\n",
      "+ 400 p_up_26_1 ^2 + 400 p_up_26_2 ^2 + 400 p_up_26_3 ^2\n",
      "+ 400 p_up_26_4 ^2 + 400 p_up_26_5 ^2 + 400 p_up_26_6 ^2\n",
      "+ 400 p_up_26_7 ^2 + 400 p_up_26_8 ^2 + 400 p_up_26_9 ^2\n",
      "+ 400 p_up_26_10 ^2 + 400 n_bl_27_1 ^2 + 400 n_bl_27_2 ^2\n",
      "+ 400 n_bl_27_3 ^2 + 400 n_bl_27_4 ^2 + 400 n_bl_27_5 ^2\n",
      "+ 400 n_bl_27_6 ^2 + 400 n_bl_27_7 ^2 + 400 n_bl_27_8 ^2\n",
      "+ 400 n_bl_27_9 ^2 + 400 n_bl_27_10 ^2 + 400 n_up_27_1 ^2\n",
      "+ 400 n_up_27_2 ^2 + 400 n_up_27_3 ^2 + 400 n_up_27_4 ^2\n",
      "+ 400 n_up_27_5 ^2 + 400 n_up_27_6 ^2 + 400 n_up_27_7 ^2\n",
      "+ 400 n_up_27_8 ^2 + 400 n_up_27_9 ^2 + 400 n_up_27_10 ^2\n",
      "+ 400 p_bl_27_1 ^2 + 400 p_bl_27_2 ^2 + 400 p_bl_27_3 ^2\n",
      "+ 400 p_bl_27_4 ^2 + 400 p_bl_27_5 ^2 + 400 p_bl_27_6 ^2\n",
      "+ 400 p_bl_27_7 ^2 + 400 p_bl_27_8 ^2 + 400 p_bl_27_9 ^2\n",
      "+ 400 p_bl_27_10 ^2 + 400 p_up_27_1 ^2 + 400 p_up_27_2 ^2\n",
      "+ 400 p_up_27_3 ^2 + 400 p_up_27_4 ^2 + 400 p_up_27_5 ^2\n",
      "+ 400 p_up_27_6 ^2 + 400 p_up_27_7 ^2 + 400 p_up_27_8 ^2\n",
      "+ 400 p_up_27_9 ^2 + 400 p_up_27_10 ^2 + 400 n_bl_28_1 ^2\n",
      "+ 400 n_bl_28_2 ^2 + 400 n_bl_28_3 ^2 + 400 n_bl_28_4 ^2\n",
      "+ 400 n_bl_28_5 ^2 + 400 n_bl_28_6 ^2 + 400 n_bl_28_7 ^2\n",
      "+ 400 n_bl_28_8 ^2 + 400 n_bl_28_9 ^2 + 400 n_bl_28_10 ^2\n",
      "+ 400 n_up_28_1 ^2 + 400 n_up_28_2 ^2 + 400 n_up_28_3 ^2\n",
      "+ 400 n_up_28_4 ^2 + 400 n_up_28_5 ^2 + 400 n_up_28_6 ^2\n",
      "+ 400 n_up_28_7 ^2 + 400 n_up_28_8 ^2 + 400 n_up_28_9 ^2\n",
      "+ 400 n_up_28_10 ^2 + 400 p_bl_28_1 ^2 + 400 p_bl_28_2 ^2\n",
      "+ 400 p_bl_28_3 ^2 + 400 p_bl_28_4 ^2 + 400 p_bl_28_5 ^2\n",
      "+ 400 p_bl_28_6 ^2 + 400 p_bl_28_7 ^2 + 400 p_bl_28_8 ^2\n",
      "+ 400 p_bl_28_9 ^2 + 400 p_bl_28_10 ^2 + 400 p_up_28_1 ^2\n",
      "+ 400 p_up_28_2 ^2 + 400 p_up_28_3 ^2 + 400 p_up_28_4 ^2\n",
      "+ 400 p_up_28_5 ^2 + 400 p_up_28_6 ^2 + 400 p_up_28_7 ^2\n",
      "+ 400 p_up_28_8 ^2 + 400 p_up_28_9 ^2 + 400 p_up_28_10 ^2\n",
      "+ 400 n_bl_29_1 ^2 + 400 n_bl_29_2 ^2 + 400 n_bl_29_3 ^2\n",
      "+ 400 n_bl_29_4 ^2 + 400 n_bl_29_5 ^2 + 400 n_bl_29_6 ^2\n",
      "+ 400 n_bl_29_7 ^2 + 400 n_bl_29_8 ^2 + 400 n_bl_29_9 ^2\n",
      "+ 400 n_bl_29_10 ^2 + 400 n_up_29_1 ^2 + 400 n_up_29_2 ^2\n",
      "+ 400 n_up_29_3 ^2 + 400 n_up_29_4 ^2 + 400 n_up_29_5 ^2\n",
      "+ 400 n_up_29_6 ^2 + 400 n_up_29_7 ^2 + 400 n_up_29_8 ^2\n",
      "+ 400 n_up_29_9 ^2 + 400 n_up_29_10 ^2 + 400 p_bl_29_1 ^2\n",
      "+ 400 p_bl_29_2 ^2 + 400 p_bl_29_3 ^2 + 400 p_bl_29_4 ^2\n",
      "+ 400 p_bl_29_5 ^2 + 400 p_bl_29_6 ^2 + 400 p_bl_29_7 ^2\n",
      "+ 400 p_bl_29_8 ^2 + 400 p_bl_29_9 ^2 + 400 p_bl_29_10 ^2\n",
      "+ 400 p_up_29_1 ^2 + 400 p_up_29_2 ^2 + 400 p_up_29_3 ^2\n",
      "+ 400 p_up_29_4 ^2 + 400 p_up_29_5 ^2 + 400 p_up_29_6 ^2\n",
      "+ 400 p_up_29_7 ^2 + 400 p_up_29_8 ^2 + 400 p_up_29_9 ^2\n",
      "+ 400 p_up_29_10 ^2 + 400 n_bl_30_1 ^2 + 400 n_bl_30_2 ^2\n",
      "+ 400 n_bl_30_3 ^2 + 400 n_bl_30_4 ^2 + 400 n_bl_30_5 ^2\n",
      "+ 400 n_bl_30_6 ^2 + 400 n_bl_30_7 ^2 + 400 n_bl_30_8 ^2\n",
      "+ 400 n_bl_30_9 ^2 + 400 n_bl_30_10 ^2 + 400 n_up_30_1 ^2\n",
      "+ 400 n_up_30_2 ^2 + 400 n_up_30_3 ^2 + 400 n_up_30_4 ^2\n",
      "+ 400 n_up_30_5 ^2 + 400 n_up_30_6 ^2 + 400 n_up_30_7 ^2\n",
      "+ 400 n_up_30_8 ^2 + 400 n_up_30_9 ^2 + 400 n_up_30_10 ^2\n",
      "+ 400 p_bl_30_1 ^2 + 400 p_bl_30_2 ^2 + 400 p_bl_30_3 ^2\n",
      "+ 400 p_bl_30_4 ^2 + 400 p_bl_30_5 ^2 + 400 p_bl_30_6 ^2\n",
      "+ 400 p_bl_30_7 ^2 + 400 p_bl_30_8 ^2 + 400 p_bl_30_9 ^2\n",
      "+ 400 p_bl_30_10 ^2 + 400 p_up_30_1 ^2 + 400 p_up_30_2 ^2\n",
      "+ 400 p_up_30_3 ^2 + 400 p_up_30_4 ^2 + 400 p_up_30_5 ^2\n",
      "+ 400 p_up_30_6 ^2 + 400 p_up_30_7 ^2 + 400 p_up_30_8 ^2\n",
      "+ 400 p_up_30_9 ^2 + 400 p_up_30_10 ^2 + 400 n_bl_31_1 ^2\n",
      "+ 400 n_bl_31_2 ^2 + 400 n_bl_31_3 ^2 + 400 n_bl_31_4 ^2\n",
      "+ 400 n_bl_31_5 ^2 + 400 n_bl_31_6 ^2 + 400 n_bl_31_7 ^2\n",
      "+ 400 n_bl_31_8 ^2 + 400 n_bl_31_9 ^2 + 400 n_bl_31_10 ^2\n",
      "+ 400 n_up_31_1 ^2 + 400 n_up_31_2 ^2 + 400 n_up_31_3 ^2\n",
      "+ 400 n_up_31_4 ^2 + 400 n_up_31_5 ^2 + 400 n_up_31_6 ^2\n",
      "+ 400 n_up_31_7 ^2 + 400 n_up_31_8 ^2 + 400 n_up_31_9 ^2\n",
      "+ 400 n_up_31_10 ^2 + 400 p_bl_31_1 ^2 + 400 p_bl_31_2 ^2\n",
      "+ 400 p_bl_31_3 ^2 + 400 p_bl_31_4 ^2 + 400 p_bl_31_5 ^2\n",
      "+ 400 p_bl_31_6 ^2 + 400 p_bl_31_7 ^2 + 400 p_bl_31_8 ^2\n",
      "+ 400 p_bl_31_9 ^2 + 400 p_bl_31_10 ^2 + 400 p_up_31_1 ^2\n",
      "+ 400 p_up_31_2 ^2 + 400 p_up_31_3 ^2 + 400 p_up_31_4 ^2\n",
      "+ 400 p_up_31_5 ^2 + 400 p_up_31_6 ^2 + 400 p_up_31_7 ^2\n",
      "+ 400 p_up_31_8 ^2 + 400 p_up_31_9 ^2 + 400 p_up_31_10 ^2\n",
      "+ 400 n_bl_32_1 ^2 + 400 n_bl_32_2 ^2 + 400 n_bl_32_3 ^2\n",
      "+ 400 n_bl_32_4 ^2 + 400 n_bl_32_5 ^2 + 400 n_bl_32_6 ^2\n",
      "+ 400 n_bl_32_7 ^2 + 400 n_bl_32_8 ^2 + 400 n_bl_32_9 ^2\n",
      "+ 400 n_bl_32_10 ^2 + 400 n_up_32_1 ^2 + 400 n_up_32_2 ^2\n",
      "+ 400 n_up_32_3 ^2 + 400 n_up_32_4 ^2 + 400 n_up_32_5 ^2\n",
      "+ 400 n_up_32_6 ^2 + 400 n_up_32_7 ^2 + 400 n_up_32_8 ^2\n",
      "+ 400 n_up_32_9 ^2 + 400 n_up_32_10 ^2 + 400 p_bl_32_1 ^2\n",
      "+ 400 p_bl_32_2 ^2 + 400 p_bl_32_3 ^2 + 400 p_bl_32_4 ^2\n",
      "+ 400 p_bl_32_5 ^2 + 400 p_bl_32_6 ^2 + 400 p_bl_32_7 ^2\n",
      "+ 400 p_bl_32_8 ^2 + 400 p_bl_32_9 ^2 + 400 p_bl_32_10 ^2\n",
      "+ 400 p_up_32_1 ^2 + 400 p_up_32_2 ^2 + 400 p_up_32_3 ^2\n",
      "+ 400 p_up_32_4 ^2 + 400 p_up_32_5 ^2 + 400 p_up_32_6 ^2\n",
      "+ 400 p_up_32_7 ^2 + 400 p_up_32_8 ^2 + 400 p_up_32_9 ^2\n",
      "+ 400 p_up_32_10 ^2 + 400 n_bl_33_1 ^2 + 400 n_bl_33_2 ^2\n",
      "+ 400 n_bl_33_3 ^2 + 400 n_bl_33_4 ^2 + 400 n_bl_33_5 ^2\n",
      "+ 400 n_bl_33_6 ^2 + 400 n_bl_33_7 ^2 + 400 n_bl_33_8 ^2\n",
      "+ 400 n_bl_33_9 ^2 + 400 n_bl_33_10 ^2 + 400 n_up_33_1 ^2\n",
      "+ 400 n_up_33_2 ^2 + 400 n_up_33_3 ^2 + 400 n_up_33_4 ^2\n",
      "+ 400 n_up_33_5 ^2 + 400 n_up_33_6 ^2 + 400 n_up_33_7 ^2\n",
      "+ 400 n_up_33_8 ^2 + 400 n_up_33_9 ^2 + 400 n_up_33_10 ^2\n",
      "+ 400 p_bl_33_1 ^2 + 400 p_bl_33_2 ^2 + 400 p_bl_33_3 ^2\n",
      "+ 400 p_bl_33_4 ^2 + 400 p_bl_33_5 ^2 + 400 p_bl_33_6 ^2\n",
      "+ 400 p_bl_33_7 ^2 + 400 p_bl_33_8 ^2 + 400 p_bl_33_9 ^2\n",
      "+ 400 p_bl_33_10 ^2 + 400 p_up_33_1 ^2 + 400 p_up_33_2 ^2\n",
      "+ 400 p_up_33_3 ^2 + 400 p_up_33_4 ^2 + 400 p_up_33_5 ^2\n",
      "+ 400 p_up_33_6 ^2 + 400 p_up_33_7 ^2 + 400 p_up_33_8 ^2\n",
      "+ 400 p_up_33_9 ^2 + 400 p_up_33_10 ^2 + 400 n_bl_34_1 ^2\n",
      "+ 400 n_bl_34_2 ^2 + 400 n_bl_34_3 ^2 + 400 n_bl_34_4 ^2\n",
      "+ 400 n_bl_34_5 ^2 + 400 n_bl_34_6 ^2 + 400 n_bl_34_7 ^2\n",
      "+ 400 n_bl_34_8 ^2 + 400 n_bl_34_9 ^2 + 400 n_bl_34_10 ^2\n",
      "+ 400 n_up_34_1 ^2 + 400 n_up_34_2 ^2 + 400 n_up_34_3 ^2\n",
      "+ 400 n_up_34_4 ^2 + 400 n_up_34_5 ^2 + 400 n_up_34_6 ^2\n",
      "+ 400 n_up_34_7 ^2 + 400 n_up_34_8 ^2 + 400 n_up_34_9 ^2\n",
      "+ 400 n_up_34_10 ^2 + 400 p_bl_34_1 ^2 + 400 p_bl_34_2 ^2\n",
      "+ 400 p_bl_34_3 ^2 + 400 p_bl_34_4 ^2 + 400 p_bl_34_5 ^2\n",
      "+ 400 p_bl_34_6 ^2 + 400 p_bl_34_7 ^2 + 400 p_bl_34_8 ^2\n",
      "+ 400 p_bl_34_9 ^2 + 400 p_bl_34_10 ^2 + 400 p_up_34_1 ^2\n",
      "+ 400 p_up_34_2 ^2 + 400 p_up_34_3 ^2 + 400 p_up_34_4 ^2\n",
      "+ 400 p_up_34_5 ^2 + 400 p_up_34_6 ^2 + 400 p_up_34_7 ^2\n",
      "+ 400 p_up_34_8 ^2 + 400 p_up_34_9 ^2 + 400 p_up_34_10 ^2\n",
      "+ 400 n_bl_35_1 ^2 + 400 n_bl_35_2 ^2 + 400 n_bl_35_3 ^2\n",
      "+ 400 n_bl_35_4 ^2 + 400 n_bl_35_5 ^2 + 400 n_bl_35_6 ^2\n",
      "+ 400 n_bl_35_7 ^2 + 400 n_bl_35_8 ^2 + 400 n_bl_35_9 ^2\n",
      "+ 400 n_bl_35_10 ^2 + 400 n_up_35_1 ^2 + 400 n_up_35_2 ^2\n",
      "+ 400 n_up_35_3 ^2 + 400 n_up_35_4 ^2 + 400 n_up_35_5 ^2\n",
      "+ 400 n_up_35_6 ^2 + 400 n_up_35_7 ^2 + 400 n_up_35_8 ^2\n",
      "+ 400 n_up_35_9 ^2 + 400 n_up_35_10 ^2 + 400 p_bl_35_1 ^2\n",
      "+ 400 p_bl_35_2 ^2 + 400 p_bl_35_3 ^2 + 400 p_bl_35_4 ^2\n",
      "+ 400 p_bl_35_5 ^2 + 400 p_bl_35_6 ^2 + 400 p_bl_35_7 ^2\n",
      "+ 400 p_bl_35_8 ^2 + 400 p_bl_35_9 ^2 + 400 p_bl_35_10 ^2\n",
      "+ 400 p_up_35_1 ^2 + 400 p_up_35_2 ^2 + 400 p_up_35_3 ^2\n",
      "+ 400 p_up_35_4 ^2 + 400 p_up_35_5 ^2 + 400 p_up_35_6 ^2\n",
      "+ 400 p_up_35_7 ^2 + 400 p_up_35_8 ^2 + 400 p_up_35_9 ^2\n",
      "+ 400 p_up_35_10 ^2 + 400 n_bl_36_1 ^2 + 400 n_bl_36_2 ^2\n",
      "+ 400 n_bl_36_3 ^2 + 400 n_bl_36_4 ^2 + 400 n_bl_36_5 ^2\n",
      "+ 400 n_bl_36_6 ^2 + 400 n_bl_36_7 ^2 + 400 n_bl_36_8 ^2\n",
      "+ 400 n_bl_36_9 ^2 + 400 n_bl_36_10 ^2 + 400 n_up_36_1 ^2\n",
      "+ 400 n_up_36_2 ^2 + 400 n_up_36_3 ^2 + 400 n_up_36_4 ^2\n",
      "+ 400 n_up_36_5 ^2 + 400 n_up_36_6 ^2 + 400 n_up_36_7 ^2\n",
      "+ 400 n_up_36_8 ^2 + 400 n_up_36_9 ^2 + 400 n_up_36_10 ^2\n",
      "+ 400 p_bl_36_1 ^2 + 400 p_bl_36_2 ^2 + 400 p_bl_36_3 ^2\n",
      "+ 400 p_bl_36_4 ^2 + 400 p_bl_36_5 ^2 + 400 p_bl_36_6 ^2\n",
      "+ 400 p_bl_36_7 ^2 + 400 p_bl_36_8 ^2 + 400 p_bl_36_9 ^2\n",
      "+ 400 p_bl_36_10 ^2 + 400 p_up_36_1 ^2 + 400 p_up_36_2 ^2\n",
      "+ 400 p_up_36_3 ^2 + 400 p_up_36_4 ^2 + 400 p_up_36_5 ^2\n",
      "+ 400 p_up_36_6 ^2 + 400 p_up_36_7 ^2 + 400 p_up_36_8 ^2\n",
      "+ 400 p_up_36_9 ^2 + 400 p_up_36_10 ^2 + 400 n_bl_37_1 ^2\n",
      "+ 400 n_bl_37_2 ^2 + 400 n_bl_37_3 ^2 + 400 n_bl_37_4 ^2\n",
      "+ 400 n_bl_37_5 ^2 + 400 n_bl_37_6 ^2 + 400 n_bl_37_7 ^2\n",
      "+ 400 n_bl_37_8 ^2 + 400 n_bl_37_9 ^2 + 400 n_bl_37_10 ^2\n",
      "+ 400 n_up_37_1 ^2 + 400 n_up_37_2 ^2 + 400 n_up_37_3 ^2\n",
      "+ 400 n_up_37_4 ^2 + 400 n_up_37_5 ^2 + 400 n_up_37_6 ^2\n",
      "+ 400 n_up_37_7 ^2 + 400 n_up_37_8 ^2 + 400 n_up_37_9 ^2\n",
      "+ 400 n_up_37_10 ^2 + 400 p_bl_37_1 ^2 + 400 p_bl_37_2 ^2\n",
      "+ 400 p_bl_37_3 ^2 + 400 p_bl_37_4 ^2 + 400 p_bl_37_5 ^2\n",
      "+ 400 p_bl_37_6 ^2 + 400 p_bl_37_7 ^2 + 400 p_bl_37_8 ^2\n",
      "+ 400 p_bl_37_9 ^2 + 400 p_bl_37_10 ^2 + 400 p_up_37_1 ^2\n",
      "+ 400 p_up_37_2 ^2 + 400 p_up_37_3 ^2 + 400 p_up_37_4 ^2\n",
      "+ 400 p_up_37_5 ^2 + 400 p_up_37_6 ^2 + 400 p_up_37_7 ^2\n",
      "+ 400 p_up_37_8 ^2 + 400 p_up_37_9 ^2 + 400 p_up_37_10 ^2\n",
      "+ 400 n_bl_38_1 ^2 + 400 n_bl_38_2 ^2 + 400 n_bl_38_3 ^2\n",
      "+ 400 n_bl_38_4 ^2 + 400 n_bl_38_5 ^2 + 400 n_bl_38_6 ^2\n",
      "+ 400 n_bl_38_7 ^2 + 400 n_bl_38_8 ^2 + 400 n_bl_38_9 ^2\n",
      "+ 400 n_bl_38_10 ^2 + 400 n_up_38_1 ^2 + 400 n_up_38_2 ^2\n",
      "+ 400 n_up_38_3 ^2 + 400 n_up_38_4 ^2 + 400 n_up_38_5 ^2\n",
      "+ 400 n_up_38_6 ^2 + 400 n_up_38_7 ^2 + 400 n_up_38_8 ^2\n",
      "+ 400 n_up_38_9 ^2 + 400 n_up_38_10 ^2 + 400 p_bl_38_1 ^2\n",
      "+ 400 p_bl_38_2 ^2 + 400 p_bl_38_3 ^2 + 400 p_bl_38_4 ^2\n",
      "+ 400 p_bl_38_5 ^2 + 400 p_bl_38_6 ^2 + 400 p_bl_38_7 ^2\n",
      "+ 400 p_bl_38_8 ^2 + 400 p_bl_38_9 ^2 + 400 p_bl_38_10 ^2\n",
      "+ 400 p_up_38_1 ^2 + 400 p_up_38_2 ^2 + 400 p_up_38_3 ^2\n",
      "+ 400 p_up_38_4 ^2 + 400 p_up_38_5 ^2 + 400 p_up_38_6 ^2\n",
      "+ 400 p_up_38_7 ^2 + 400 p_up_38_8 ^2 + 400 p_up_38_9 ^2\n",
      "+ 400 p_up_38_10 ^2 + 400 n_bl_39_1 ^2 + 400 n_bl_39_2 ^2\n",
      "+ 400 n_bl_39_3 ^2 + 400 n_bl_39_4 ^2 + 400 n_bl_39_5 ^2\n",
      "+ 400 n_bl_39_6 ^2 + 400 n_bl_39_7 ^2 + 400 n_bl_39_8 ^2\n",
      "+ 400 n_bl_39_9 ^2 + 400 n_bl_39_10 ^2 + 400 n_up_39_1 ^2\n",
      "+ 400 n_up_39_2 ^2 + 400 n_up_39_3 ^2 + 400 n_up_39_4 ^2\n",
      "+ 400 n_up_39_5 ^2 + 400 n_up_39_6 ^2 + 400 n_up_39_7 ^2\n",
      "+ 400 n_up_39_8 ^2 + 400 n_up_39_9 ^2 + 400 n_up_39_10 ^2\n",
      "+ 400 p_bl_39_1 ^2 + 400 p_bl_39_2 ^2 + 400 p_bl_39_3 ^2\n",
      "+ 400 p_bl_39_4 ^2 + 400 p_bl_39_5 ^2 + 400 p_bl_39_6 ^2\n",
      "+ 400 p_bl_39_7 ^2 + 400 p_bl_39_8 ^2 + 400 p_bl_39_9 ^2\n",
      "+ 400 p_bl_39_10 ^2 + 400 p_up_39_1 ^2 + 400 p_up_39_2 ^2\n",
      "+ 400 p_up_39_3 ^2 + 400 p_up_39_4 ^2 + 400 p_up_39_5 ^2\n",
      "+ 400 p_up_39_6 ^2 + 400 p_up_39_7 ^2 + 400 p_up_39_8 ^2\n",
      "+ 400 p_up_39_9 ^2 + 400 p_up_39_10 ^2 + 400 n_bl_40_1 ^2\n",
      "+ 400 n_bl_40_2 ^2 + 400 n_bl_40_3 ^2 + 400 n_bl_40_4 ^2\n",
      "+ 400 n_bl_40_5 ^2 + 400 n_bl_40_6 ^2 + 400 n_bl_40_7 ^2\n",
      "+ 400 n_bl_40_8 ^2 + 400 n_bl_40_9 ^2 + 400 n_bl_40_10 ^2\n",
      "+ 400 n_up_40_1 ^2 + 400 n_up_40_2 ^2 + 400 n_up_40_3 ^2\n",
      "+ 400 n_up_40_4 ^2 + 400 n_up_40_5 ^2 + 400 n_up_40_6 ^2\n",
      "+ 400 n_up_40_7 ^2 + 400 n_up_40_8 ^2 + 400 n_up_40_9 ^2\n",
      "+ 400 n_up_40_10 ^2 + 400 p_bl_40_1 ^2 + 400 p_bl_40_2 ^2\n",
      "+ 400 p_bl_40_3 ^2 + 400 p_bl_40_4 ^2 + 400 p_bl_40_5 ^2\n",
      "+ 400 p_bl_40_6 ^2 + 400 p_bl_40_7 ^2 + 400 p_bl_40_8 ^2\n",
      "+ 400 p_bl_40_9 ^2 + 400 p_bl_40_10 ^2 + 400 p_up_40_1 ^2\n",
      "+ 400 p_up_40_2 ^2 + 400 p_up_40_3 ^2 + 400 p_up_40_4 ^2\n",
      "+ 400 p_up_40_5 ^2 + 400 p_up_40_6 ^2 + 400 p_up_40_7 ^2\n",
      "+ 400 p_up_40_8 ^2 + 400 p_up_40_9 ^2 + 400 p_up_40_10 ^2\n",
      "+ 400 n_bl_41_1 ^2 + 400 n_bl_41_2 ^2 + 400 n_bl_41_3 ^2\n",
      "+ 400 n_bl_41_4 ^2 + 400 n_bl_41_5 ^2 + 400 n_bl_41_6 ^2\n",
      "+ 400 n_bl_41_7 ^2 + 400 n_bl_41_8 ^2 + 400 n_bl_41_9 ^2\n",
      "+ 400 n_bl_41_10 ^2 + 400 n_up_41_1 ^2 + 400 n_up_41_2 ^2\n",
      "+ 400 n_up_41_3 ^2 + 400 n_up_41_4 ^2 + 400 n_up_41_5 ^2\n",
      "+ 400 n_up_41_6 ^2 + 400 n_up_41_7 ^2 + 400 n_up_41_8 ^2\n",
      "+ 400 n_up_41_9 ^2 + 400 n_up_41_10 ^2 + 400 p_bl_41_1 ^2\n",
      "+ 400 p_bl_41_2 ^2 + 400 p_bl_41_3 ^2 + 400 p_bl_41_4 ^2\n",
      "+ 400 p_bl_41_5 ^2 + 400 p_bl_41_6 ^2 + 400 p_bl_41_7 ^2\n",
      "+ 400 p_bl_41_8 ^2 + 400 p_bl_41_9 ^2 + 400 p_bl_41_10 ^2\n",
      "+ 400 p_up_41_1 ^2 + 400 p_up_41_2 ^2 + 400 p_up_41_3 ^2\n",
      "+ 400 p_up_41_4 ^2 + 400 p_up_41_5 ^2 + 400 p_up_41_6 ^2\n",
      "+ 400 p_up_41_7 ^2 + 400 p_up_41_8 ^2 + 400 p_up_41_9 ^2\n",
      "+ 400 p_up_41_10 ^2 + 400 n_bl_42_1 ^2 + 400 n_bl_42_2 ^2\n",
      "+ 400 n_bl_42_3 ^2 + 400 n_bl_42_4 ^2 + 400 n_bl_42_5 ^2\n",
      "+ 400 n_bl_42_6 ^2 + 400 n_bl_42_7 ^2 + 400 n_bl_42_8 ^2\n",
      "+ 400 n_bl_42_9 ^2 + 400 n_bl_42_10 ^2 + 400 n_up_42_1 ^2\n",
      "+ 400 n_up_42_2 ^2 + 400 n_up_42_3 ^2 + 400 n_up_42_4 ^2\n",
      "+ 400 n_up_42_5 ^2 + 400 n_up_42_6 ^2 + 400 n_up_42_7 ^2\n",
      "+ 400 n_up_42_8 ^2 + 400 n_up_42_9 ^2 + 400 n_up_42_10 ^2\n",
      "+ 400 p_bl_42_1 ^2 + 400 p_bl_42_2 ^2 + 400 p_bl_42_3 ^2\n",
      "+ 400 p_bl_42_4 ^2 + 400 p_bl_42_5 ^2 + 400 p_bl_42_6 ^2\n",
      "+ 400 p_bl_42_7 ^2 + 400 p_bl_42_8 ^2 + 400 p_bl_42_9 ^2\n",
      "+ 400 p_bl_42_10 ^2 + 400 p_up_42_1 ^2 + 400 p_up_42_2 ^2\n",
      "+ 400 p_up_42_3 ^2 + 400 p_up_42_4 ^2 + 400 p_up_42_5 ^2\n",
      "+ 400 p_up_42_6 ^2 + 400 p_up_42_7 ^2 + 400 p_up_42_8 ^2\n",
      "+ 400 p_up_42_9 ^2 + 400 p_up_42_10 ^2 + 400 n_bl_43_1 ^2\n",
      "+ 400 n_bl_43_2 ^2 + 400 n_bl_43_3 ^2 + 400 n_bl_43_4 ^2\n",
      "+ 400 n_bl_43_5 ^2 + 400 n_bl_43_6 ^2 + 400 n_bl_43_7 ^2\n",
      "+ 400 n_bl_43_8 ^2 + 400 n_bl_43_9 ^2 + 400 n_bl_43_10 ^2\n",
      "+ 400 n_up_43_1 ^2 + 400 n_up_43_2 ^2 + 400 n_up_43_3 ^2\n",
      "+ 400 n_up_43_4 ^2 + 400 n_up_43_5 ^2 + 400 n_up_43_6 ^2\n",
      "+ 400 n_up_43_7 ^2 + 400 n_up_43_8 ^2 + 400 n_up_43_9 ^2\n",
      "+ 400 n_up_43_10 ^2 + 400 p_bl_43_1 ^2 + 400 p_bl_43_2 ^2\n",
      "+ 400 p_bl_43_3 ^2 + 400 p_bl_43_4 ^2 + 400 p_bl_43_5 ^2\n",
      "+ 400 p_bl_43_6 ^2 + 400 p_bl_43_7 ^2 + 400 p_bl_43_8 ^2\n",
      "+ 400 p_bl_43_9 ^2 + 400 p_bl_43_10 ^2 + 400 p_up_43_1 ^2\n",
      "+ 400 p_up_43_2 ^2 + 400 p_up_43_3 ^2 + 400 p_up_43_4 ^2\n",
      "+ 400 p_up_43_5 ^2 + 400 p_up_43_6 ^2 + 400 p_up_43_7 ^2\n",
      "+ 400 p_up_43_8 ^2 + 400 p_up_43_9 ^2 + 400 p_up_43_10 ^2\n",
      "+ 400 n_bl_44_1 ^2 + 400 n_bl_44_2 ^2 + 400 n_bl_44_3 ^2\n",
      "+ 400 n_bl_44_4 ^2 + 400 n_bl_44_5 ^2 + 400 n_bl_44_6 ^2\n",
      "+ 400 n_bl_44_7 ^2 + 400 n_bl_44_8 ^2 + 400 n_bl_44_9 ^2\n",
      "+ 400 n_bl_44_10 ^2 + 400 n_up_44_1 ^2 + 400 n_up_44_2 ^2\n",
      "+ 400 n_up_44_3 ^2 + 400 n_up_44_4 ^2 + 400 n_up_44_5 ^2\n",
      "+ 400 n_up_44_6 ^2 + 400 n_up_44_7 ^2 + 400 n_up_44_8 ^2\n",
      "+ 400 n_up_44_9 ^2 + 400 n_up_44_10 ^2 + 400 p_bl_44_1 ^2\n",
      "+ 400 p_bl_44_2 ^2 + 400 p_bl_44_3 ^2 + 400 p_bl_44_4 ^2\n",
      "+ 400 p_bl_44_5 ^2 + 400 p_bl_44_6 ^2 + 400 p_bl_44_7 ^2\n",
      "+ 400 p_bl_44_8 ^2 + 400 p_bl_44_9 ^2 + 400 p_bl_44_10 ^2\n",
      "+ 400 p_up_44_1 ^2 + 400 p_up_44_2 ^2 + 400 p_up_44_3 ^2\n",
      "+ 400 p_up_44_4 ^2 + 400 p_up_44_5 ^2 + 400 p_up_44_6 ^2\n",
      "+ 400 p_up_44_7 ^2 + 400 p_up_44_8 ^2 + 400 p_up_44_9 ^2\n",
      "+ 400 p_up_44_10 ^2 + 400 n_bl_45_1 ^2 + 400 n_bl_45_2 ^2\n",
      "+ 400 n_bl_45_3 ^2 + 400 n_bl_45_4 ^2 + 400 n_bl_45_5 ^2\n",
      "+ 400 n_bl_45_6 ^2 + 400 n_bl_45_7 ^2 + 400 n_bl_45_8 ^2\n",
      "+ 400 n_bl_45_9 ^2 + 400 n_bl_45_10 ^2 + 400 n_up_45_1 ^2\n",
      "+ 400 n_up_45_2 ^2 + 400 n_up_45_3 ^2 + 400 n_up_45_4 ^2\n",
      "+ 400 n_up_45_5 ^2 + 400 n_up_45_6 ^2 + 400 n_up_45_7 ^2\n",
      "+ 400 n_up_45_8 ^2 + 400 n_up_45_9 ^2 + 400 n_up_45_10 ^2\n",
      "+ 400 p_bl_45_1 ^2 + 400 p_bl_45_2 ^2 + 400 p_bl_45_3 ^2\n",
      "+ 400 p_bl_45_4 ^2 + 400 p_bl_45_5 ^2 + 400 p_bl_45_6 ^2\n",
      "+ 400 p_bl_45_7 ^2 + 400 p_bl_45_8 ^2 + 400 p_bl_45_9 ^2\n",
      "+ 400 p_bl_45_10 ^2 + 400 p_up_45_1 ^2 + 400 p_up_45_2 ^2\n",
      "+ 400 p_up_45_3 ^2 + 400 p_up_45_4 ^2 + 400 p_up_45_5 ^2\n",
      "+ 400 p_up_45_6 ^2 + 400 p_up_45_7 ^2 + 400 p_up_45_8 ^2\n",
      "+ 400 p_up_45_9 ^2 + 400 p_up_45_10 ^2 + 400 n_bl_46_1 ^2\n",
      "+ 400 n_bl_46_2 ^2 + 400 n_bl_46_3 ^2 + 400 n_bl_46_4 ^2\n",
      "+ 400 n_bl_46_5 ^2 + 400 n_bl_46_6 ^2 + 400 n_bl_46_7 ^2\n",
      "+ 400 n_bl_46_8 ^2 + 400 n_bl_46_9 ^2 + 400 n_bl_46_10 ^2\n",
      "+ 400 n_up_46_1 ^2 + 400 n_up_46_2 ^2 + 400 n_up_46_3 ^2\n",
      "+ 400 n_up_46_4 ^2 + 400 n_up_46_5 ^2 + 400 n_up_46_6 ^2\n",
      "+ 400 n_up_46_7 ^2 + 400 n_up_46_8 ^2 + 400 n_up_46_9 ^2\n",
      "+ 400 n_up_46_10 ^2 + 400 p_bl_46_1 ^2 + 400 p_bl_46_2 ^2\n",
      "+ 400 p_bl_46_3 ^2 + 400 p_bl_46_4 ^2 + 400 p_bl_46_5 ^2\n",
      "+ 400 p_bl_46_6 ^2 + 400 p_bl_46_7 ^2 + 400 p_bl_46_8 ^2\n",
      "+ 400 p_bl_46_9 ^2 + 400 p_bl_46_10 ^2 + 400 p_up_46_1 ^2\n",
      "+ 400 p_up_46_2 ^2 + 400 p_up_46_3 ^2 + 400 p_up_46_4 ^2\n",
      "+ 400 p_up_46_5 ^2 + 400 p_up_46_6 ^2 + 400 p_up_46_7 ^2\n",
      "+ 400 p_up_46_8 ^2 + 400 p_up_46_9 ^2 + 400 p_up_46_10 ^2\n",
      "+ 400 n_bl_47_1 ^2 + 400 n_bl_47_2 ^2 + 400 n_bl_47_3 ^2\n",
      "+ 400 n_bl_47_4 ^2 + 400 n_bl_47_5 ^2 + 400 n_bl_47_6 ^2\n",
      "+ 400 n_bl_47_7 ^2 + 400 n_bl_47_8 ^2 + 400 n_bl_47_9 ^2\n",
      "+ 400 n_bl_47_10 ^2 + 400 n_up_47_1 ^2 + 400 n_up_47_2 ^2\n",
      "+ 400 n_up_47_3 ^2 + 400 n_up_47_4 ^2 + 400 n_up_47_5 ^2\n",
      "+ 400 n_up_47_6 ^2 + 400 n_up_47_7 ^2 + 400 n_up_47_8 ^2\n",
      "+ 400 n_up_47_9 ^2 + 400 n_up_47_10 ^2 + 400 p_bl_47_1 ^2\n",
      "+ 400 p_bl_47_2 ^2 + 400 p_bl_47_3 ^2 + 400 p_bl_47_4 ^2\n",
      "+ 400 p_bl_47_5 ^2 + 400 p_bl_47_6 ^2 + 400 p_bl_47_7 ^2\n",
      "+ 400 p_bl_47_8 ^2 + 400 p_bl_47_9 ^2 + 400 p_bl_47_10 ^2\n",
      "+ 400 p_up_47_1 ^2 + 400 p_up_47_2 ^2 + 400 p_up_47_3 ^2\n",
      "+ 400 p_up_47_4 ^2 + 400 p_up_47_5 ^2 + 400 p_up_47_6 ^2\n",
      "+ 400 p_up_47_7 ^2 + 400 p_up_47_8 ^2 + 400 p_up_47_9 ^2\n",
      "+ 400 p_up_47_10 ^2 + 400 n_bl_48_1 ^2 + 400 n_bl_48_2 ^2\n",
      "+ 400 n_bl_48_3 ^2 + 400 n_bl_48_4 ^2 + 400 n_bl_48_5 ^2\n",
      "+ 400 n_bl_48_6 ^2 + 400 n_bl_48_7 ^2 + 400 n_bl_48_8 ^2\n",
      "+ 400 n_bl_48_9 ^2 + 400 n_bl_48_10 ^2 + 400 n_up_48_1 ^2\n",
      "+ 400 n_up_48_2 ^2 + 400 n_up_48_3 ^2 + 400 n_up_48_4 ^2\n",
      "+ 400 n_up_48_5 ^2 + 400 n_up_48_6 ^2 + 400 n_up_48_7 ^2\n",
      "+ 400 n_up_48_8 ^2 + 400 n_up_48_9 ^2 + 400 n_up_48_10 ^2\n",
      "+ 400 p_bl_48_1 ^2 + 400 p_bl_48_2 ^2 + 400 p_bl_48_3 ^2\n",
      "+ 400 p_bl_48_4 ^2 + 400 p_bl_48_5 ^2 + 400 p_bl_48_6 ^2\n",
      "+ 400 p_bl_48_7 ^2 + 400 p_bl_48_8 ^2 + 400 p_bl_48_9 ^2\n",
      "+ 400 p_bl_48_10 ^2 + 400 p_up_48_1 ^2 + 400 p_up_48_2 ^2\n",
      "+ 400 p_up_48_3 ^2 + 400 p_up_48_4 ^2 + 400 p_up_48_5 ^2\n",
      "+ 400 p_up_48_6 ^2 + 400 p_up_48_7 ^2 + 400 p_up_48_8 ^2\n",
      "+ 400 p_up_48_9 ^2 + 400 p_up_48_10 ^2 + 400 n_bl_49_1 ^2\n",
      "+ 400 n_bl_49_2 ^2 + 400 n_bl_49_3 ^2 + 400 n_bl_49_4 ^2\n",
      "+ 400 n_bl_49_5 ^2 + 400 n_bl_49_6 ^2 + 400 n_bl_49_7 ^2\n",
      "+ 400 n_bl_49_8 ^2 + 400 n_bl_49_9 ^2 + 400 n_bl_49_10 ^2\n",
      "+ 400 n_up_49_1 ^2 + 400 n_up_49_2 ^2 + 400 n_up_49_3 ^2\n",
      "+ 400 n_up_49_4 ^2 + 400 n_up_49_5 ^2 + 400 n_up_49_6 ^2\n",
      "+ 400 n_up_49_7 ^2 + 400 n_up_49_8 ^2 + 400 n_up_49_9 ^2\n",
      "+ 400 n_up_49_10 ^2 + 400 p_bl_49_1 ^2 + 400 p_bl_49_2 ^2\n",
      "+ 400 p_bl_49_3 ^2 + 400 p_bl_49_4 ^2 + 400 p_bl_49_5 ^2\n",
      "+ 400 p_bl_49_6 ^2 + 400 p_bl_49_7 ^2 + 400 p_bl_49_8 ^2\n",
      "+ 400 p_bl_49_9 ^2 + 400 p_bl_49_10 ^2 + 400 p_up_49_1 ^2\n",
      "+ 400 p_up_49_2 ^2 + 400 p_up_49_3 ^2 + 400 p_up_49_4 ^2\n",
      "+ 400 p_up_49_5 ^2 + 400 p_up_49_6 ^2 + 400 p_up_49_7 ^2\n",
      "+ 400 p_up_49_8 ^2 + 400 p_up_49_9 ^2 + 400 p_up_49_10 ^2 ] / 2\n",
      "valeur optimal par function objective: 2105.2374796973318\n"
     ]
    }
   ],
   "source": [
    "K=200\n",
    "n_pre=100\n",
    "np.random.seed(0)\n",
    "result,s_t_min,soc_max = frontal.Frontal_solve(actual_time)"
   ]
  },
  {
   "cell_type": "code",
   "execution_count": 21,
   "metadata": {},
   "outputs": [
    {
     "name": "stdout",
     "output_type": "stream",
     "text": [
      "alpha: 0.01 Beta_min: 10000 Beta_max: 10000 Gamma: 100\n",
      "------------------------------------------------------\n",
      "t\t charge net bl\t charge net up\t y_t^up/N \t Ecart de Service\n",
      "0 \t 6970.0 \t -13030.0 \t 20000.0 \t 0.0\n",
      "1 \t 9276.0 \t -10724.0 \t 20000.0 \t 0.0\n",
      "2 \t 8969.0 \t -11031.0 \t 20000.0 \t 0.0\n",
      "3 \t 8309.0 \t -11691.0 \t 20000.0 \t 0.0\n",
      "4 \t 7400.0 \t -12600.0 \t 20000.0 \t 0.0\n",
      "5 \t 7391.0 \t -12609.0 \t 20000.0 \t 0.0\n",
      "6 \t 7304.0 \t -12696.0 \t 20000.0 \t 0.0\n",
      "7 \t 9500.0 \t -10500.0 \t 20000.0 \t 0.0\n",
      "8 \t 8292.0 \t -11708.0 \t 20000.0 \t 0.0\n",
      "9 \t 10800.0 \t -9200.0 \t 20000.0 \t 0.0\n",
      "30000.0 30000.0\n",
      "30000.0 30000.0\n",
      "30000.0 30000.0\n",
      "30000.0 30000.0\n",
      "30000.0 30000.0\n",
      "30000.0 30000.0\n",
      "30000.0 30000.0\n",
      "30000.0 30000.0\n",
      "30000.0 30000.0\n",
      "30000.0 30000.0\n",
      "30000.0 30000.0\n",
      "30000.0 30000.0\n",
      "30000.0 30000.0\n",
      "30000.0 30000.0\n",
      "30000.0 30000.0\n",
      "30000.0 30000.0\n",
      "30000.0 30000.0\n",
      "30000.0 30000.0\n",
      "30000.0 30000.0\n",
      "30000.0 30000.0\n",
      "30000.0 30000.0\n",
      "30000.0 30000.0\n",
      "30000.0 30000.0\n",
      "30000.0 30000.0\n",
      "30000.0 30000.0\n",
      "30000.0 30000.0\n",
      "30000.0 30000.0\n",
      "30000.0 30000.0\n",
      "30000.0 30000.0\n",
      "30000.0 30000.0\n",
      "30000.0 30000.0\n",
      "30000.0 30000.0\n",
      "30000.0 30000.0\n",
      "30000.0 30000.0\n",
      "30000.0 30000.0\n",
      "30000.0 30000.0\n",
      "30000.0 30000.0\n",
      "30000.0 30000.0\n",
      "30000.0 30000.0\n",
      "30000.0 30000.0\n",
      "30000.0 30000.0\n",
      "30000.0 30000.0\n",
      "30000.0 30000.0\n",
      "30000.0 30000.0\n",
      "30000.0 30000.0\n",
      "30000.0 30000.0\n",
      "30000.0 30000.0\n",
      "30000.0 30000.0\n",
      "30000.0 30000.0\n",
      "30000.0 30000.0\n",
      "------------------------------------------------------\n",
      "f_val: 7.014491594449674e-23 neg_pos_part: 0.0 cost_electricity: 2105.2374796973318 soc: 0.0\n",
      "value of the objective function: 2105.2374796973318\n",
      "------------------------------------------------------\n",
      "t\t s_i_min\t s_i_T\t s_i_max\n",
      "------------------------------------------------------\n",
      "Vehicle  0 \t S_i_T: 30000.0 \t\n",
      "S_i_min: [0.0, 0.0, 0.0, 0.0, 0.0, 1288.4222204227462, 5038.422220422746, 8788.422220422746, 12538.422220422746, 16288.422220422746]\n",
      "S_i_max: 30000.0\n",
      "------------------------------------------------------\n",
      "Vehicle  1 \t S_i_T: 30000.0 \t\n",
      "S_i_min: [0.0, 0.0, 0.0, 0.0, 0.0, 178.109906257303, 3928.109906257303, 7678.109906257303, 11428.109906257303, 15178.109906257303]\n",
      "S_i_max: 30000.0\n",
      "------------------------------------------------------\n",
      "Vehicle  2 \t S_i_T: 30000.0 \t\n",
      "S_i_min: [0.0, 0.0, 0.0, 0.0, 0.0, 624.0644318142222, 4374.064431814222, 8124.064431814222, 11874.064431814222, 15624.064431814222]\n",
      "S_i_max: 30000.0\n",
      "------------------------------------------------------\n",
      "Vehicle  3 \t S_i_T: 30000.0 \t\n",
      "S_i_min: [0.0, 0.0, 0.0, 0.0, 0.0, 1149.7633441848884, 4899.763344184888, 8649.763344184888, 12399.763344184888, 16149.763344184888]\n",
      "S_i_max: 30000.0\n",
      "------------------------------------------------------\n",
      "Vehicle  4 \t S_i_T: 30000.0 \t\n",
      "S_i_min: [0.0, 0.0, 0.0, 0.0, 0.0, 96.59143153084551, 3846.5914315308455, 7596.5914315308455, 11346.591431530846, 15096.591431530846]\n",
      "S_i_max: 30000.0\n",
      "------------------------------------------------------\n",
      "Vehicle  5 \t S_i_T: 30000.0 \t\n",
      "S_i_min: [0.0, 0.0, 0.0, 0.0, 0.0, 776.7585810364271, 4526.758581036427, 8276.758581036427, 12026.758581036427, 15776.758581036427]\n",
      "S_i_max: 30000.0\n",
      "------------------------------------------------------\n",
      "Vehicle  6 \t S_i_T: 30000.0 \t\n",
      "S_i_min: [0.0, 0.0, 0.0, 0.0, 0.0, 0.0, 3689.587062856179, 7439.587062856179, 11189.587062856179, 14939.587062856179]\n",
      "S_i_max: 30000.0\n",
      "------------------------------------------------------\n",
      "Vehicle  7 \t S_i_T: 30000.0 \t\n",
      "S_i_min: [0.0, 0.0, 0.0, 0.0, 0.0, 0.0, 3017.6367460171077, 6767.636746017108, 10517.636746017108, 14267.636746017108]\n",
      "S_i_max: 30000.0\n",
      "------------------------------------------------------\n",
      "Vehicle  8 \t S_i_T: 30000.0 \t\n",
      "S_i_min: [0.0, 0.0, 0.0, 0.0, 0.0, 0.0, 2263.694081449734, 6013.694081449734, 9763.694081449734, 13513.694081449734]\n",
      "S_i_max: 30000.0\n",
      "------------------------------------------------------\n",
      "Vehicle  9 \t S_i_T: 30000.0 \t\n",
      "S_i_min: [0.0, 0.0, 0.0, 0.0, 0.0, 1351.561365017771, 5101.561365017771, 8851.561365017771, 12601.561365017771, 16351.561365017771]\n",
      "S_i_max: 30000.0\n",
      "------------------------------------------------------\n",
      "Vehicle  10 \t S_i_T: 30000.0 \t\n",
      "S_i_min: [0.0, 0.0, 0.0, 0.0, 0.0, 0.0, 3715.963067073406, 7465.963067073406, 11215.963067073406, 14965.963067073406]\n",
      "S_i_max: 30000.0\n",
      "------------------------------------------------------\n",
      "Vehicle  11 \t S_i_T: 30000.0 \t\n",
      "S_i_min: [0.0, 0.0, 0.0, 0.0, 0.0, 300.04302819658915, 4050.043028196589, 7800.043028196589, 11550.04302819659, 15300.04302819659]\n",
      "S_i_max: 30000.0\n",
      "------------------------------------------------------\n",
      "Vehicle  12 \t S_i_T: 30000.0 \t\n",
      "S_i_min: [0.0, 0.0, 0.0, 0.0, 0.0, 1488.5757551799143, 5238.575755179914, 8988.575755179914, 12738.575755179914, 16488.575755179914]\n",
      "S_i_max: 30000.0\n",
      "------------------------------------------------------\n",
      "Vehicle  13 \t S_i_T: 30000.0 \t\n",
      "S_i_min: [0.0, 0.0, 0.0, 0.0, 0.0, 1183.7896328928819, 4933.789632892882, 8683.789632892882, 12433.789632892882, 16183.789632892882]\n",
      "S_i_max: 30000.0\n",
      "------------------------------------------------------\n",
      "Vehicle  14 \t S_i_T: 30000.0 \t\n",
      "S_i_min: [0.0, 0.0, 0.0, 0.0, 0.0, 0.0, 3091.0763798108455, 6841.0763798108455, 10591.076379810846, 14341.076379810846]\n",
      "S_i_max: 30000.0\n",
      "------------------------------------------------------\n",
      "Vehicle  15 \t S_i_T: 30000.0 \t\n",
      "S_i_min: [0.0, 0.0, 0.0, 0.0, 0.0, 747.2137365441704, 4497.21373654417, 8247.21373654417, 11997.21373654417, 15747.21373654417]\n",
      "S_i_max: 30000.0\n",
      "------------------------------------------------------\n",
      "Vehicle  16 \t S_i_T: 30000.0 \t\n",
      "S_i_min: [0.0, 0.0, 0.0, 0.0, 0.0, 690.5359822535975, 4440.5359822535975, 8190.5359822535975, 11940.535982253597, 15690.535982253597]\n",
      "S_i_max: 30000.0\n",
      "------------------------------------------------------\n",
      "Vehicle  17 \t S_i_T: 30000.0 \t\n",
      "S_i_min: [0.0, 0.0, 0.0, 0.0, 0.0, 214.63552562294717, 3964.635525622947, 7714.635525622947, 11464.635525622947, 15214.635525622947]\n",
      "S_i_max: 30000.0\n",
      "------------------------------------------------------\n",
      "Vehicle  18 \t S_i_T: 30000.0 \t\n",
      "S_i_min: [0.0, 0.0, 0.0, 0.0, 0.0, 1206.4393411196143, 4956.439341119614, 8706.439341119614, 12456.439341119614, 16206.439341119614]\n",
      "S_i_max: 30000.0\n",
      "------------------------------------------------------\n",
      "Vehicle  19 \t S_i_T: 30000.0 \t\n",
      "S_i_min: [0.0, 0.0, 0.0, 0.0, 0.0, 0.0, 3165.049115094218, 6915.049115094218, 10665.049115094218, 14415.049115094218]\n",
      "S_i_max: 30000.0\n",
      "------------------------------------------------------\n",
      "Vehicle  20 \t S_i_T: 30000.0 \t\n",
      "S_i_min: [0.0, 0.0, 0.0, 0.0, 0.0, 675.1260478166532, 4425.126047816653, 8175.126047816653, 11925.126047816653, 15675.126047816653]\n",
      "S_i_max: 30000.0\n",
      "------------------------------------------------------\n",
      "Vehicle  21 \t S_i_T: 30000.0 \t\n",
      "S_i_min: [0.0, 0.0, 0.0, 0.0, 0.0, 0.0, 3053.745693025974, 6803.745693025974, 10553.745693025974, 14303.745693025974]\n",
      "S_i_max: 30000.0\n",
      "------------------------------------------------------\n",
      "Vehicle  22 \t S_i_T: 30000.0 \t\n",
      "S_i_min: [0.0, 0.0, 0.0, 0.0, 0.0, 7.0717136426337674, 3757.0717136426338, 7507.071713642634, 11257.071713642634, 15007.071713642634]\n",
      "S_i_max: 30000.0\n",
      "------------------------------------------------------\n",
      "Vehicle  23 \t S_i_T: 30000.0 \t\n",
      "S_i_min: [0.0, 0.0, 0.0, 0.0, 0.0, 0.0, 3493.9735824348118, 7243.973582434812, 10993.973582434812, 14743.973582434812]\n",
      "S_i_max: 30000.0\n",
      "------------------------------------------------------\n",
      "Vehicle  24 \t S_i_T: 30000.0 \t\n",
      "S_i_min: [0.0, 0.0, 0.0, 0.0, 0.0, 628.1729630614846, 4378.172963061485, 8128.172963061485, 11878.172963061485, 15628.172963061485]\n",
      "S_i_max: 30000.0\n",
      "------------------------------------------------------\n",
      "Vehicle  25 \t S_i_T: 30000.0 \t\n",
      "S_i_min: [0.0, 0.0, 0.0, 0.0, 0.0, 964.6049819504424, 4714.604981950442, 8464.604981950442, 12214.604981950442, 15964.604981950442]\n",
      "S_i_max: 30000.0\n",
      "------------------------------------------------------\n",
      "Vehicle  26 \t S_i_T: 30000.0 \t\n",
      "S_i_min: [0.0, 0.0, 0.0, 0.0, 0.0, 698.5635986136276, 4448.563598613628, 8198.563598613628, 11948.563598613628, 15698.563598613628]\n",
      "S_i_max: 30000.0\n",
      "------------------------------------------------------\n",
      "Vehicle  27 \t S_i_T: 30000.0 \t\n",
      "S_i_min: [0.0, 0.0, 0.0, 0.0, 0.0, 848.4016622702766, 4598.401662270277, 8348.401662270277, 12098.401662270277, 15848.401662270277]\n",
      "S_i_max: 30000.0\n",
      "------------------------------------------------------\n",
      "Vehicle  28 \t S_i_T: 30000.0 \t\n",
      "S_i_min: [0.0, 0.0, 0.0, 0.0, 0.0, 0.0, 2678.6253203289707, 6428.625320328971, 10178.62532032897, 13928.62532032897]\n",
      "S_i_max: 30000.0\n",
      "------------------------------------------------------\n",
      "Vehicle  29 \t S_i_T: 30000.0 \t\n",
      "S_i_min: [0.0, 0.0, 0.0, 0.0, 0.0, 0.0, 3301.3420839377413, 7051.342083937741, 10801.342083937741, 14551.342083937741]\n",
      "S_i_max: 30000.0\n",
      "------------------------------------------------------\n",
      "Vehicle  30 \t S_i_T: 30000.0 \t\n",
      "S_i_min: [0.0, 0.0, 0.0, 0.0, 0.0, 69.61126267265354, 3819.6112626726535, 7569.6112626726535, 11319.611262672654, 15069.611262672654]\n",
      "S_i_max: 30000.0\n",
      "------------------------------------------------------\n",
      "Vehicle  31 \t S_i_T: 30000.0 \t\n",
      "S_i_min: [0.0, 0.0, 0.0, 0.0, 0.0, 268.35733628357593, 4018.357336283576, 7768.357336283576, 11518.357336283576, 15268.357336283576]\n",
      "S_i_max: 30000.0\n",
      "------------------------------------------------------\n",
      "Vehicle  32 \t S_i_T: 30000.0 \t\n",
      "S_i_min: [0.0, 0.0, 0.0, 0.0, 0.0, 0.0, 2565.22789913262, 6315.22789913262, 10065.22789913262, 13815.22789913262]\n",
      "S_i_max: 30000.0\n",
      "------------------------------------------------------\n",
      "Vehicle  33 \t S_i_T: 30000.0 \t\n",
      "S_i_min: [0.0, 0.0, 0.0, 0.0, 0.0, 936.346155602203, 4686.346155602203, 8436.346155602203, 12186.346155602203, 15936.346155602203]\n",
      "S_i_max: 30000.0\n",
      "------------------------------------------------------\n",
      "Vehicle  34 \t S_i_T: 30000.0 \t\n",
      "S_i_min: [0.0, 0.0, 0.0, 0.0, 0.0, 0.0, 3481.8769166930615, 7231.8769166930615, 10981.876916693062, 14731.876916693062]\n",
      "S_i_max: 30000.0\n",
      "------------------------------------------------------\n",
      "Vehicle  35 \t S_i_T: 30000.0 \t\n",
      "S_i_min: [0.0, 0.0, 0.0, 0.0, 0.0, 0.0, 3358.342396389049, 7108.342396389049, 10858.34239638905, 14608.34239638905]\n",
      "S_i_max: 30000.0\n",
      "------------------------------------------------------\n",
      "Vehicle  36 \t S_i_T: 30000.0 \t\n",
      "S_i_min: [0.0, 0.0, 0.0, 0.0, 0.0, 0.0, 2320.3756870252146, 6070.375687025215, 9820.375687025215, 13570.375687025215]\n",
      "S_i_max: 30000.0\n",
      "------------------------------------------------------\n",
      "Vehicle  37 \t S_i_T: 30000.0 \t\n",
      "S_i_min: [0.0, 0.0, 0.0, 0.0, 0.0, 1458.273732706195, 5208.273732706195, 8958.273732706195, 12708.273732706195, 16458.273732706195]\n",
      "S_i_max: 30000.0\n",
      "------------------------------------------------------\n",
      "Vehicle  38 \t S_i_T: 30000.0 \t\n",
      "S_i_min: [0.0, 0.0, 0.0, 0.0, 0.0, 1228.2214749180657, 4978.221474918066, 8728.221474918066, 12478.221474918066, 16228.221474918066]\n",
      "S_i_max: 30000.0\n",
      "------------------------------------------------------\n",
      "Vehicle  39 \t S_i_T: 30000.0 \t\n",
      "S_i_min: [0.0, 0.0, 0.0, 0.0, 0.0, 0.0, 2432.183852269918, 6182.183852269918, 9932.183852269918, 13682.183852269918]\n",
      "S_i_max: 30000.0\n",
      "------------------------------------------------------\n",
      "Vehicle  40 \t S_i_T: 30000.0 \t\n",
      "S_i_min: [0.0, 0.0, 0.0, 0.0, 0.0, 0.0, 3269.483658308982, 7019.483658308982, 10769.483658308982, 14519.483658308982]\n",
      "S_i_max: 30000.0\n",
      "------------------------------------------------------\n",
      "Vehicle  41 \t S_i_T: 30000.0 \t\n",
      "S_i_min: [0.0, 0.0, 0.0, 0.0, 0.0, 0.0, 3613.373681239864, 7363.373681239864, 11113.373681239864, 14863.373681239864]\n",
      "S_i_max: 30000.0\n",
      "------------------------------------------------------\n",
      "Vehicle  42 \t S_i_T: 30000.0 \t\n",
      "S_i_min: [0.0, 0.0, 0.0, 0.0, 0.0, 0.0, 2513.837660902229, 6263.837660902229, 10013.837660902229, 13763.837660902229]\n",
      "S_i_max: 30000.0\n",
      "------------------------------------------------------\n",
      "Vehicle  43 \t S_i_T: 30000.0 \t\n",
      "S_i_min: [0.0, 0.0, 0.0, 0.0, 0.0, 580.5131921357861, 4330.513192135786, 8080.513192135786, 11830.513192135786, 15580.513192135786]\n",
      "S_i_max: 30000.0\n",
      "------------------------------------------------------\n",
      "Vehicle  44 \t S_i_T: 30000.0 \t\n",
      "S_i_min: [0.0, 0.0, 0.0, 0.0, 0.0, 0.0, 2288.218933735845, 6038.218933735845, 9788.218933735845, 13538.218933735845]\n",
      "S_i_max: 30000.0\n",
      "------------------------------------------------------\n",
      "Vehicle  45 \t S_i_T: 30000.0 \t\n",
      "S_i_min: [0.0, 0.0, 0.0, 0.0, 0.0, 0.0, 3155.744394521049, 6905.744394521049, 10655.744394521049, 14405.744394521049]\n",
      "S_i_max: 30000.0\n",
      "------------------------------------------------------\n",
      "Vehicle  46 \t S_i_T: 30000.0 \t\n",
      "S_i_min: [0.0, 0.0, 0.0, 0.0, 0.0, 0.0, 2308.2845218171387, 6058.284521817139, 9808.284521817139, 13558.284521817139]\n",
      "S_i_max: 30000.0\n",
      "------------------------------------------------------\n",
      "Vehicle  47 \t S_i_T: 30000.0 \t\n",
      "S_i_min: [0.0, 0.0, 0.0, 0.0, 0.0, 0.0, 2652.3248721671916, 6402.324872167192, 10152.324872167192, 13902.324872167192]\n",
      "S_i_max: 30000.0\n",
      "------------------------------------------------------\n",
      "Vehicle  48 \t S_i_T: 30000.0 \t\n",
      "S_i_min: [0.0, 0.0, 0.0, 0.0, 0.0, 859.2796394101806, 4609.279639410181, 8359.27963941018, 12109.27963941018, 15859.27963941018]\n",
      "S_i_max: 30000.0\n",
      "------------------------------------------------------\n",
      "Vehicle  49 \t S_i_T: 30000.0 \t\n",
      "S_i_min: [0.0, 0.0, 0.0, 0.0, 0.0, 0.0, 2274.549322779916, 6024.549322779916, 9774.549322779916, 13524.549322779916]\n",
      "S_i_max: 30000.0\n"
     ]
    }
   ],
   "source": [
    "frontal.affichage(result)"
   ]
  },
  {
   "cell_type": "code",
   "execution_count": null,
   "metadata": {},
   "outputs": [],
   "source": []
  }
 ],
 "metadata": {
  "kernelspec": {
   "display_name": "base",
   "language": "python",
   "name": "python3"
  },
  "language_info": {
   "codemirror_mode": {
    "name": "ipython",
    "version": 3
   },
   "file_extension": ".py",
   "mimetype": "text/x-python",
   "name": "python",
   "nbconvert_exporter": "python",
   "pygments_lexer": "ipython3",
   "version": "3.7.4 (default, Aug 13 2019, 15:17:50) \n[Clang 4.0.1 (tags/RELEASE_401/final)]"
  },
  "orig_nbformat": 4,
  "vscode": {
   "interpreter": {
    "hash": "61b7b18d34c3fa69719dbff512ad23fff8bc59ee7052faf1d64f93f10792958b"
   }
  }
 },
 "nbformat": 4,
 "nbformat_minor": 2
}
